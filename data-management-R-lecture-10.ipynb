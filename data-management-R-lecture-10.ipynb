{
 "cells": [
  {
   "cell_type": "markdown",
   "metadata": {},
   "source": [
    "# Data Management\n",
    "\n",
    "Contents\n",
    "\n",
    "    Appending Data\n",
    "    Applying Functions Across Data Elements\n",
    "\n",
    "Here we look at some common tasks that come up when dealing with data. These tasks range from assembling different data sets into more convenient forms and ways to apply functions to different parts of the data sets. The topics in this section demonstrate some of the power of R, but it may not be clear at first. The functions are commonly used in a wide variety of circumstances for a number of different reasons. These tools have saved me a great deal of time and effort in circumstances that I would not have predicted in advance.\n",
    "\n",
    "The important thing to note, though, is that this section is called “Data Management.” It is not called “Data Manipulation.” Politicians “manipulate” data, we “manage” them."
   ]
  },
  {
   "cell_type": "markdown",
   "metadata": {},
   "source": [
    "# Appending Data\n",
    "\n",
    "When you have more than one set of data you may want to bring them together. You can bring different data sets together by appending as rows (rbind) or by appending as columns (cbind). The first example shows how this done with two data frames. The arguments to the functions can take any number of objects. We only use two here to keep the demonstration simpler, but additional data frames can be appended in the same call. It is important to note that when you bring things together as rows the names of the objects within the data frame must be the same."
   ]
  },
  {
   "cell_type": "code",
   "execution_count": 1,
   "metadata": {
    "collapsed": true
   },
   "outputs": [],
   "source": [
    "a <- data.frame(one=c( 0, 1, 2),two=c(\"a\",\"a\",\"b\"))\n",
    "b <- data.frame(one=c(10,11,12),two=c(\"c\",\"c\",\"d\"))"
   ]
  },
  {
   "cell_type": "code",
   "execution_count": 2,
   "metadata": {},
   "outputs": [
    {
     "data": {
      "text/html": [
       "<table>\n",
       "<thead><tr><th scope=col>one</th><th scope=col>two</th></tr></thead>\n",
       "<tbody>\n",
       "\t<tr><td>0</td><td>a</td></tr>\n",
       "\t<tr><td>1</td><td>a</td></tr>\n",
       "\t<tr><td>2</td><td>b</td></tr>\n",
       "</tbody>\n",
       "</table>\n"
      ],
      "text/latex": [
       "\\begin{tabular}{r|ll}\n",
       " one & two\\\\\n",
       "\\hline\n",
       "\t 0 & a\\\\\n",
       "\t 1 & a\\\\\n",
       "\t 2 & b\\\\\n",
       "\\end{tabular}\n"
      ],
      "text/markdown": [
       "\n",
       "one | two | \n",
       "|---|---|---|\n",
       "| 0 | a | \n",
       "| 1 | a | \n",
       "| 2 | b | \n",
       "\n",
       "\n"
      ],
      "text/plain": [
       "  one two\n",
       "1 0   a  \n",
       "2 1   a  \n",
       "3 2   b  "
      ]
     },
     "metadata": {},
     "output_type": "display_data"
    },
    {
     "data": {
      "text/html": [
       "<table>\n",
       "<thead><tr><th scope=col>one</th><th scope=col>two</th></tr></thead>\n",
       "<tbody>\n",
       "\t<tr><td>10</td><td>c </td></tr>\n",
       "\t<tr><td>11</td><td>c </td></tr>\n",
       "\t<tr><td>12</td><td>d </td></tr>\n",
       "</tbody>\n",
       "</table>\n"
      ],
      "text/latex": [
       "\\begin{tabular}{r|ll}\n",
       " one & two\\\\\n",
       "\\hline\n",
       "\t 10 & c \\\\\n",
       "\t 11 & c \\\\\n",
       "\t 12 & d \\\\\n",
       "\\end{tabular}\n"
      ],
      "text/markdown": [
       "\n",
       "one | two | \n",
       "|---|---|---|\n",
       "| 10 | c  | \n",
       "| 11 | c  | \n",
       "| 12 | d  | \n",
       "\n",
       "\n"
      ],
      "text/plain": [
       "  one two\n",
       "1 10  c  \n",
       "2 11  c  \n",
       "3 12  d  "
      ]
     },
     "metadata": {},
     "output_type": "display_data"
    }
   ],
   "source": [
    "a\n",
    "b"
   ]
  },
  {
   "cell_type": "code",
   "execution_count": 6,
   "metadata": {},
   "outputs": [
    {
     "data": {
      "text/html": [
       "'list'"
      ],
      "text/latex": [
       "'list'"
      ],
      "text/markdown": [
       "'list'"
      ],
      "text/plain": [
       "[1] \"list\""
      ]
     },
     "metadata": {},
     "output_type": "display_data"
    },
    {
     "data": {
      "text/html": [
       "'list'"
      ],
      "text/latex": [
       "'list'"
      ],
      "text/markdown": [
       "'list'"
      ],
      "text/plain": [
       "[1] \"list\""
      ]
     },
     "metadata": {},
     "output_type": "display_data"
    },
    {
     "data": {
      "text/html": [
       "<table>\n",
       "<thead><tr><th scope=col>one</th><th scope=col>two</th></tr></thead>\n",
       "<tbody>\n",
       "\t<tr><td> 0</td><td>a </td></tr>\n",
       "\t<tr><td> 1</td><td>a </td></tr>\n",
       "\t<tr><td> 2</td><td>b </td></tr>\n",
       "\t<tr><td>10</td><td>c </td></tr>\n",
       "\t<tr><td>11</td><td>c </td></tr>\n",
       "\t<tr><td>12</td><td>d </td></tr>\n",
       "</tbody>\n",
       "</table>\n"
      ],
      "text/latex": [
       "\\begin{tabular}{r|ll}\n",
       " one & two\\\\\n",
       "\\hline\n",
       "\t  0 & a \\\\\n",
       "\t  1 & a \\\\\n",
       "\t  2 & b \\\\\n",
       "\t 10 & c \\\\\n",
       "\t 11 & c \\\\\n",
       "\t 12 & d \\\\\n",
       "\\end{tabular}\n"
      ],
      "text/markdown": [
       "\n",
       "one | two | \n",
       "|---|---|---|---|---|---|\n",
       "|  0 | a  | \n",
       "|  1 | a  | \n",
       "|  2 | b  | \n",
       "| 10 | c  | \n",
       "| 11 | c  | \n",
       "| 12 | d  | \n",
       "\n",
       "\n"
      ],
      "text/plain": [
       "  one two\n",
       "1  0  a  \n",
       "2  1  a  \n",
       "3  2  b  \n",
       "4 10  c  \n",
       "5 11  c  \n",
       "6 12  d  "
      ]
     },
     "metadata": {},
     "output_type": "display_data"
    },
    {
     "data": {
      "text/html": [
       "<table>\n",
       "<thead><tr><th scope=col>one</th><th scope=col>two</th><th scope=col>one</th><th scope=col>two</th></tr></thead>\n",
       "<tbody>\n",
       "\t<tr><td>0 </td><td>a </td><td>10</td><td>c </td></tr>\n",
       "\t<tr><td>1 </td><td>a </td><td>11</td><td>c </td></tr>\n",
       "\t<tr><td>2 </td><td>b </td><td>12</td><td>d </td></tr>\n",
       "</tbody>\n",
       "</table>\n"
      ],
      "text/latex": [
       "\\begin{tabular}{r|llll}\n",
       " one & two & one & two\\\\\n",
       "\\hline\n",
       "\t 0  & a  & 10 & c \\\\\n",
       "\t 1  & a  & 11 & c \\\\\n",
       "\t 2  & b  & 12 & d \\\\\n",
       "\\end{tabular}\n"
      ],
      "text/markdown": [
       "\n",
       "one | two | one | two | \n",
       "|---|---|---|\n",
       "| 0  | a  | 10 | c  | \n",
       "| 1  | a  | 11 | c  | \n",
       "| 2  | b  | 12 | d  | \n",
       "\n",
       "\n"
      ],
      "text/plain": [
       "  one two one two\n",
       "1 0   a   10  c  \n",
       "2 1   a   11  c  \n",
       "3 2   b   12  d  "
      ]
     },
     "metadata": {},
     "output_type": "display_data"
    }
   ],
   "source": [
    "v <- rbind(a,b)\n",
    "w <- cbind(a,b)\n",
    "typeof(v)\n",
    "typeof(w)\n",
    "v\n",
    "w"
   ]
  },
  {
   "cell_type": "code",
   "execution_count": 7,
   "metadata": {},
   "outputs": [
    {
     "data": {
      "text/html": [
       "<table>\n",
       "<thead><tr><th scope=col>one</th><th scope=col>two</th><th scope=col>three</th><th scope=col>four</th></tr></thead>\n",
       "<tbody>\n",
       "\t<tr><td>0 </td><td>a </td><td>10</td><td>c </td></tr>\n",
       "\t<tr><td>1 </td><td>a </td><td>11</td><td>c </td></tr>\n",
       "\t<tr><td>2 </td><td>b </td><td>12</td><td>d </td></tr>\n",
       "</tbody>\n",
       "</table>\n"
      ],
      "text/latex": [
       "\\begin{tabular}{r|llll}\n",
       " one & two & three & four\\\\\n",
       "\\hline\n",
       "\t 0  & a  & 10 & c \\\\\n",
       "\t 1  & a  & 11 & c \\\\\n",
       "\t 2  & b  & 12 & d \\\\\n",
       "\\end{tabular}\n"
      ],
      "text/markdown": [
       "\n",
       "one | two | three | four | \n",
       "|---|---|---|\n",
       "| 0  | a  | 10 | c  | \n",
       "| 1  | a  | 11 | c  | \n",
       "| 2  | b  | 12 | d  | \n",
       "\n",
       "\n"
      ],
      "text/plain": [
       "  one two three four\n",
       "1 0   a   10    c   \n",
       "2 1   a   11    c   \n",
       "3 2   b   12    d   "
      ]
     },
     "metadata": {},
     "output_type": "display_data"
    }
   ],
   "source": [
    "names(w) = c(\"one\",\"two\",\"three\",\"four\")\n",
    "w"
   ]
  },
  {
   "cell_type": "markdown",
   "metadata": {},
   "source": [
    "The same commands also work with vectors and matrices and behave in a similar manner."
   ]
  },
  {
   "cell_type": "code",
   "execution_count": 8,
   "metadata": {},
   "outputs": [
    {
     "data": {
      "text/html": [
       "<table>\n",
       "<tbody>\n",
       "\t<tr><td>1</td><td>2</td><td>3</td></tr>\n",
       "\t<tr><td>4</td><td>5</td><td>6</td></tr>\n",
       "</tbody>\n",
       "</table>\n"
      ],
      "text/latex": [
       "\\begin{tabular}{lll}\n",
       "\t 1 & 2 & 3\\\\\n",
       "\t 4 & 5 & 6\\\\\n",
       "\\end{tabular}\n"
      ],
      "text/markdown": [
       "\n",
       "| 1 | 2 | 3 | \n",
       "| 4 | 5 | 6 | \n",
       "\n",
       "\n"
      ],
      "text/plain": [
       "     [,1] [,2] [,3]\n",
       "[1,] 1    2    3   \n",
       "[2,] 4    5    6   "
      ]
     },
     "metadata": {},
     "output_type": "display_data"
    }
   ],
   "source": [
    "A = matrix(c( 1, 2, 3, 4, 5, 6),ncol=3,byrow=TRUE)\n",
    "A"
   ]
  },
  {
   "cell_type": "code",
   "execution_count": 9,
   "metadata": {},
   "outputs": [
    {
     "data": {
      "text/html": [
       "<table>\n",
       "<tbody>\n",
       "\t<tr><td>10</td><td>20</td><td>30</td></tr>\n",
       "\t<tr><td>40</td><td>50</td><td>60</td></tr>\n",
       "</tbody>\n",
       "</table>\n"
      ],
      "text/latex": [
       "\\begin{tabular}{lll}\n",
       "\t 10 & 20 & 30\\\\\n",
       "\t 40 & 50 & 60\\\\\n",
       "\\end{tabular}\n"
      ],
      "text/markdown": [
       "\n",
       "| 10 | 20 | 30 | \n",
       "| 40 | 50 | 60 | \n",
       "\n",
       "\n"
      ],
      "text/plain": [
       "     [,1] [,2] [,3]\n",
       "[1,] 10   20   30  \n",
       "[2,] 40   50   60  "
      ]
     },
     "metadata": {},
     "output_type": "display_data"
    }
   ],
   "source": [
    "B = matrix(c(10,20,30,40,50,60),ncol=3,byrow=TRUE)\n",
    "B"
   ]
  },
  {
   "cell_type": "code",
   "execution_count": 11,
   "metadata": {},
   "outputs": [
    {
     "data": {
      "text/html": [
       "'double'"
      ],
      "text/latex": [
       "'double'"
      ],
      "text/markdown": [
       "'double'"
      ],
      "text/plain": [
       "[1] \"double\""
      ]
     },
     "metadata": {},
     "output_type": "display_data"
    },
    {
     "data": {
      "text/html": [
       "<table>\n",
       "<tbody>\n",
       "\t<tr><td> 1</td><td> 2</td><td> 3</td></tr>\n",
       "\t<tr><td> 4</td><td> 5</td><td> 6</td></tr>\n",
       "\t<tr><td>10</td><td>20</td><td>30</td></tr>\n",
       "\t<tr><td>40</td><td>50</td><td>60</td></tr>\n",
       "</tbody>\n",
       "</table>\n"
      ],
      "text/latex": [
       "\\begin{tabular}{lll}\n",
       "\t  1 &  2 &  3\\\\\n",
       "\t  4 &  5 &  6\\\\\n",
       "\t 10 & 20 & 30\\\\\n",
       "\t 40 & 50 & 60\\\\\n",
       "\\end{tabular}\n"
      ],
      "text/markdown": [
       "\n",
       "|  1 |  2 |  3 | \n",
       "|  4 |  5 |  6 | \n",
       "| 10 | 20 | 30 | \n",
       "| 40 | 50 | 60 | \n",
       "\n",
       "\n"
      ],
      "text/plain": [
       "     [,1] [,2] [,3]\n",
       "[1,]  1    2    3  \n",
       "[2,]  4    5    6  \n",
       "[3,] 10   20   30  \n",
       "[4,] 40   50   60  "
      ]
     },
     "metadata": {},
     "output_type": "display_data"
    }
   ],
   "source": [
    "V <- rbind(A,B)\n",
    "typeof(V)\n",
    "V"
   ]
  },
  {
   "cell_type": "code",
   "execution_count": 12,
   "metadata": {},
   "outputs": [
    {
     "data": {
      "text/html": [
       "'double'"
      ],
      "text/latex": [
       "'double'"
      ],
      "text/markdown": [
       "'double'"
      ],
      "text/plain": [
       "[1] \"double\""
      ]
     },
     "metadata": {},
     "output_type": "display_data"
    },
    {
     "data": {
      "text/html": [
       "<table>\n",
       "<tbody>\n",
       "\t<tr><td>1 </td><td>2 </td><td>3 </td><td>10</td><td>20</td><td>30</td></tr>\n",
       "\t<tr><td>4 </td><td>5 </td><td>6 </td><td>40</td><td>50</td><td>60</td></tr>\n",
       "</tbody>\n",
       "</table>\n"
      ],
      "text/latex": [
       "\\begin{tabular}{llllll}\n",
       "\t 1  & 2  & 3  & 10 & 20 & 30\\\\\n",
       "\t 4  & 5  & 6  & 40 & 50 & 60\\\\\n",
       "\\end{tabular}\n"
      ],
      "text/markdown": [
       "\n",
       "| 1  | 2  | 3  | 10 | 20 | 30 | \n",
       "| 4  | 5  | 6  | 40 | 50 | 60 | \n",
       "\n",
       "\n"
      ],
      "text/plain": [
       "     [,1] [,2] [,3] [,4] [,5] [,6]\n",
       "[1,] 1    2    3    10   20   30  \n",
       "[2,] 4    5    6    40   50   60  "
      ]
     },
     "metadata": {},
     "output_type": "display_data"
    }
   ],
   "source": [
    "W <- cbind(A,B)\n",
    "typeof(W)\n",
    "W"
   ]
  },
  {
   "cell_type": "markdown",
   "metadata": {},
   "source": [
    "## Applying Functions Across Data Elements\n",
    "\n",
    "The various apply functions can be an invaluable tool when trying to work with subsets within a data set. The different versions of the apply commands are used to take a function and have the function perform an operation on each part of the data. There are a wide variety of these commands, but we only look at two sets of them. The first set, lapply and sapply, is used to apply a function to every element in a list. The second one, tapply, is used to apply a function on each set broken up by a given set of factors.\n",
    "### Operations on Lists and Vectors\n",
    "\n",
    "First, the lapply command is used to take a list of items and perform some function on each member of the list. That is, the list includes a number of different objects. You want to perform some operation on every object within the list. You can use lapply to tell R to go through each item in the list and perform the desired action on each item.\n",
    "\n",
    "In the following example a list is created with three elements. The first is a randomly generated set of numbers with a normal distribution. The second is a randomly generated set of numbers with an exponential distribution. The last is a set of factors. A summary is then performed on each element in the list."
   ]
  },
  {
   "cell_type": "code",
   "execution_count": 13,
   "metadata": {},
   "outputs": [
    {
     "data": {
      "text/plain": [
       "$a\n",
       "    Min.  1st Qu.   Median     Mean  3rd Qu.     Max. \n",
       "-26.0941  -6.0585   1.6341   0.9526   7.7410  25.0305 \n",
       "\n",
       "$b\n",
       "     Min.   1st Qu.    Median      Mean   3rd Qu.      Max. \n",
       "0.0009762 0.0279467 0.0728680 0.0965922 0.1358865 0.5708499 \n",
       "\n",
       "$c\n",
       "a b c \n",
       "1 3 2 \n"
      ]
     },
     "metadata": {},
     "output_type": "display_data"
    }
   ],
   "source": [
    "x <- list(a=rnorm(200,mean=1,sd=10),\n",
    "            b=rexp(300,10.0),\n",
    "            c=as.factor(c(\"a\",\"b\",\"b\",\"b\",\"c\",\"c\")))\n",
    "lapply(x,summary)"
   ]
  },
  {
   "cell_type": "markdown",
   "metadata": {},
   "source": [
    "The lapply command returns a list. The entries in the list have the same names as the entries in the list that is passed to it. The values of each entry are the results from applying the function. The sapply function is similar, but the difference is that it tries to turn the result into a vector or matrix if possible. If it does not make sense then it returns a list just like the lapply command."
   ]
  },
  {
   "cell_type": "code",
   "execution_count": 14,
   "metadata": {},
   "outputs": [
    {
     "data": {
      "text/html": [
       "<dl>\n",
       "\t<dt>$a</dt>\n",
       "\t\t<dd><ol class=list-inline>\n",
       "\t<li>1.5839805002138</li>\n",
       "\t<li>-10.7943014780125</li>\n",
       "\t<li>2.02379661184413</li>\n",
       "\t<li>-0.514131777113872</li>\n",
       "\t<li>0.536804088810922</li>\n",
       "\t<li>15.5906332174035</li>\n",
       "\t<li>11.0231893193703</li>\n",
       "\t<li>2.038866590676</li>\n",
       "</ol>\n",
       "</dd>\n",
       "\t<dt>$b</dt>\n",
       "\t\t<dd><ol class=list-inline>\n",
       "\t<li>0.0103450848641882</li>\n",
       "\t<li>0.112420039247246</li>\n",
       "\t<li>0.0152149726120347</li>\n",
       "\t<li>0.0194955801125616</li>\n",
       "\t<li>0.00488467421382666</li>\n",
       "\t<li>0.0897036804775608</li>\n",
       "\t<li>0.044977700477466</li>\n",
       "\t<li>0.0438588848803192</li>\n",
       "\t<li>0.328673537058716</li>\n",
       "\t<li>0.0616974974051118</li>\n",
       "</ol>\n",
       "</dd>\n",
       "</dl>\n"
      ],
      "text/latex": [
       "\\begin{description}\n",
       "\\item[\\$a] \\begin{enumerate*}\n",
       "\\item 1.5839805002138\n",
       "\\item -10.7943014780125\n",
       "\\item 2.02379661184413\n",
       "\\item -0.514131777113872\n",
       "\\item 0.536804088810922\n",
       "\\item 15.5906332174035\n",
       "\\item 11.0231893193703\n",
       "\\item 2.038866590676\n",
       "\\end{enumerate*}\n",
       "\n",
       "\\item[\\$b] \\begin{enumerate*}\n",
       "\\item 0.0103450848641882\n",
       "\\item 0.112420039247246\n",
       "\\item 0.0152149726120347\n",
       "\\item 0.0194955801125616\n",
       "\\item 0.00488467421382666\n",
       "\\item 0.0897036804775608\n",
       "\\item 0.044977700477466\n",
       "\\item 0.0438588848803192\n",
       "\\item 0.328673537058716\n",
       "\\item 0.0616974974051118\n",
       "\\end{enumerate*}\n",
       "\n",
       "\\end{description}\n"
      ],
      "text/markdown": [
       "$a\n",
       ":   1. 1.5839805002138\n",
       "2. -10.7943014780125\n",
       "3. 2.02379661184413\n",
       "4. -0.514131777113872\n",
       "5. 0.536804088810922\n",
       "6. 15.5906332174035\n",
       "7. 11.0231893193703\n",
       "8. 2.038866590676\n",
       "\n",
       "\n",
       "\n",
       "$b\n",
       ":   1. 0.0103450848641882\n",
       "2. 0.112420039247246\n",
       "3. 0.0152149726120347\n",
       "4. 0.0194955801125616\n",
       "5. 0.00488467421382666\n",
       "6. 0.0897036804775608\n",
       "7. 0.044977700477466\n",
       "8. 0.0438588848803192\n",
       "9. 0.328673537058716\n",
       "10. 0.0616974974051118\n",
       "\n",
       "\n",
       "\n",
       "\n",
       "\n"
      ],
      "text/plain": [
       "$a\n",
       "[1]   1.5839805 -10.7943015   2.0237966  -0.5141318   0.5368041  15.5906332\n",
       "[7]  11.0231893   2.0388666\n",
       "\n",
       "$b\n",
       " [1] 0.010345085 0.112420039 0.015214973 0.019495580 0.004884674 0.089703680\n",
       " [7] 0.044977700 0.043858885 0.328673537 0.061697497\n"
      ]
     },
     "metadata": {},
     "output_type": "display_data"
    }
   ],
   "source": [
    "x <- list(a=rnorm(8,mean=1,sd=10),b=rexp(10,10.0))\n",
    "x"
   ]
  },
  {
   "cell_type": "code",
   "execution_count": 15,
   "metadata": {},
   "outputs": [
    {
     "data": {
      "text/html": [
       "'list'"
      ],
      "text/latex": [
       "'list'"
      ],
      "text/markdown": [
       "'list'"
      ],
      "text/plain": [
       "[1] \"list\""
      ]
     },
     "metadata": {},
     "output_type": "display_data"
    },
    {
     "data": {
      "text/html": [
       "<dl>\n",
       "\t<dt>$a</dt>\n",
       "\t\t<dd>2.68610463414903</dd>\n",
       "\t<dt>$b</dt>\n",
       "\t\t<dd>0.0731271651349031</dd>\n",
       "</dl>\n"
      ],
      "text/latex": [
       "\\begin{description}\n",
       "\\item[\\$a] 2.68610463414903\n",
       "\\item[\\$b] 0.0731271651349031\n",
       "\\end{description}\n"
      ],
      "text/markdown": [
       "$a\n",
       ":   2.68610463414903\n",
       "$b\n",
       ":   0.0731271651349031\n",
       "\n",
       "\n"
      ],
      "text/plain": [
       "$a\n",
       "[1] 2.686105\n",
       "\n",
       "$b\n",
       "[1] 0.07312717\n"
      ]
     },
     "metadata": {},
     "output_type": "display_data"
    }
   ],
   "source": [
    "val <- lapply(x,mean)\n",
    "typeof(val)\n",
    "val"
   ]
  },
  {
   "cell_type": "code",
   "execution_count": 16,
   "metadata": {},
   "outputs": [
    {
     "data": {
      "text/html": [
       "2.68610463414903"
      ],
      "text/latex": [
       "2.68610463414903"
      ],
      "text/markdown": [
       "2.68610463414903"
      ],
      "text/plain": [
       "[1] 2.686105"
      ]
     },
     "metadata": {},
     "output_type": "display_data"
    }
   ],
   "source": [
    "val$a"
   ]
  },
  {
   "cell_type": "code",
   "execution_count": 17,
   "metadata": {},
   "outputs": [
    {
     "data": {
      "text/html": [
       "0.0731271651349031"
      ],
      "text/latex": [
       "0.0731271651349031"
      ],
      "text/markdown": [
       "0.0731271651349031"
      ],
      "text/plain": [
       "[1] 0.07312717"
      ]
     },
     "metadata": {},
     "output_type": "display_data"
    }
   ],
   "source": [
    "val$b"
   ]
  },
  {
   "cell_type": "code",
   "execution_count": 18,
   "metadata": {},
   "outputs": [
    {
     "data": {
      "text/html": [
       "'double'"
      ],
      "text/latex": [
       "'double'"
      ],
      "text/markdown": [
       "'double'"
      ],
      "text/plain": [
       "[1] \"double\""
      ]
     },
     "metadata": {},
     "output_type": "display_data"
    }
   ],
   "source": [
    "other <- sapply(x,mean)\n",
    "typeof(other)"
   ]
  },
  {
   "cell_type": "code",
   "execution_count": 19,
   "metadata": {},
   "outputs": [
    {
     "data": {
      "text/html": [
       "<dl class=dl-horizontal>\n",
       "\t<dt>a</dt>\n",
       "\t\t<dd>2.68610463414903</dd>\n",
       "\t<dt>b</dt>\n",
       "\t\t<dd>0.0731271651349031</dd>\n",
       "</dl>\n"
      ],
      "text/latex": [
       "\\begin{description*}\n",
       "\\item[a] 2.68610463414903\n",
       "\\item[b] 0.0731271651349031\n",
       "\\end{description*}\n"
      ],
      "text/markdown": [
       "a\n",
       ":   2.68610463414903b\n",
       ":   0.0731271651349031\n",
       "\n"
      ],
      "text/plain": [
       "         a          b \n",
       "2.68610463 0.07312717 "
      ]
     },
     "metadata": {},
     "output_type": "display_data"
    },
    {
     "data": {
      "text/html": [
       "<strong>a:</strong> 2.68610463414903"
      ],
      "text/latex": [
       "\\textbf{a:} 2.68610463414903"
      ],
      "text/markdown": [
       "**a:** 2.68610463414903"
      ],
      "text/plain": [
       "       a \n",
       "2.686105 "
      ]
     },
     "metadata": {},
     "output_type": "display_data"
    },
    {
     "data": {
      "text/html": [
       "<strong>b:</strong> 0.0731271651349031"
      ],
      "text/latex": [
       "\\textbf{b:} 0.0731271651349031"
      ],
      "text/markdown": [
       "**b:** 0.0731271651349031"
      ],
      "text/plain": [
       "         b \n",
       "0.07312717 "
      ]
     },
     "metadata": {},
     "output_type": "display_data"
    }
   ],
   "source": [
    "other\n",
    "other[1]\n",
    "other[2]"
   ]
  },
  {
   "cell_type": "markdown",
   "metadata": {},
   "source": [
    "### Operations By Factors\n",
    "\n",
    "Another widely used variant of the apply functions is the tapply function. The tapply function will take a list of data, usually a vector, a list of factors of the same list, and a function. It will then apply the function to each subset of the data that matches each of the factors."
   ]
  },
  {
   "cell_type": "code",
   "execution_count": 20,
   "metadata": {},
   "outputs": [
    {
     "data": {
      "text/html": [
       "<table>\n",
       "<thead><tr><th scope=col>a</th><th scope=col>b</th></tr></thead>\n",
       "<tbody>\n",
       "\t<tr><td> 1</td><td>a </td></tr>\n",
       "\t<tr><td> 2</td><td>a </td></tr>\n",
       "\t<tr><td>10</td><td>b </td></tr>\n",
       "\t<tr><td>20</td><td>b </td></tr>\n",
       "\t<tr><td> 5</td><td>a </td></tr>\n",
       "\t<tr><td>50</td><td>b </td></tr>\n",
       "</tbody>\n",
       "</table>\n"
      ],
      "text/latex": [
       "\\begin{tabular}{r|ll}\n",
       " a & b\\\\\n",
       "\\hline\n",
       "\t  1 & a \\\\\n",
       "\t  2 & a \\\\\n",
       "\t 10 & b \\\\\n",
       "\t 20 & b \\\\\n",
       "\t  5 & a \\\\\n",
       "\t 50 & b \\\\\n",
       "\\end{tabular}\n"
      ],
      "text/markdown": [
       "\n",
       "a | b | \n",
       "|---|---|---|---|---|---|\n",
       "|  1 | a  | \n",
       "|  2 | a  | \n",
       "| 10 | b  | \n",
       "| 20 | b  | \n",
       "|  5 | a  | \n",
       "| 50 | b  | \n",
       "\n",
       "\n"
      ],
      "text/plain": [
       "  a  b\n",
       "1  1 a\n",
       "2  2 a\n",
       "3 10 b\n",
       "4 20 b\n",
       "5  5 a\n",
       "6 50 b"
      ]
     },
     "metadata": {},
     "output_type": "display_data"
    }
   ],
   "source": [
    "val <- data.frame(a=c(1,2,10,20,5,50),\n",
    "                    b=as.factor(c(\"a\",\"a\",\"b\",\"b\",\"a\",\"b\")))\n",
    "val"
   ]
  },
  {
   "cell_type": "code",
   "execution_count": 21,
   "metadata": {},
   "outputs": [
    {
     "data": {
      "text/html": [
       "'double'"
      ],
      "text/latex": [
       "'double'"
      ],
      "text/markdown": [
       "'double'"
      ],
      "text/plain": [
       "[1] \"double\""
      ]
     },
     "metadata": {},
     "output_type": "display_data"
    },
    {
     "data": {
      "text/html": [
       "<dl class=dl-horizontal>\n",
       "\t<dt>a</dt>\n",
       "\t\t<dd>2.66666666666667</dd>\n",
       "\t<dt>b</dt>\n",
       "\t\t<dd>26.6666666666667</dd>\n",
       "</dl>\n"
      ],
      "text/plain": [
       "        a         b \n",
       " 2.666667 26.666667 "
      ]
     },
     "metadata": {},
     "output_type": "display_data"
    }
   ],
   "source": [
    "result <- tapply(val$a,val$b,mean)\n",
    "typeof(result)\n",
    "result"
   ]
  },
  {
   "cell_type": "code",
   "execution_count": 22,
   "metadata": {},
   "outputs": [
    {
     "data": {
      "text/html": [
       "<strong>a:</strong> 2.66666666666667"
      ],
      "text/latex": [
       "\\textbf{a:} 2.66666666666667"
      ],
      "text/markdown": [
       "**a:** 2.66666666666667"
      ],
      "text/plain": [
       "       a \n",
       "2.666667 "
      ]
     },
     "metadata": {},
     "output_type": "display_data"
    },
    {
     "data": {
      "text/html": [
       "<strong>b:</strong> 26.6666666666667"
      ],
      "text/latex": [
       "\\textbf{b:} 26.6666666666667"
      ],
      "text/markdown": [
       "**b:** 26.6666666666667"
      ],
      "text/plain": [
       "       b \n",
       "26.66667 "
      ]
     },
     "metadata": {},
     "output_type": "display_data"
    }
   ],
   "source": [
    "result[1]\n",
    "result[2]"
   ]
  },
  {
   "cell_type": "code",
   "execution_count": 23,
   "metadata": {},
   "outputs": [
    {
     "data": {
      "text/html": [
       "'list'"
      ],
      "text/latex": [
       "'list'"
      ],
      "text/markdown": [
       "'list'"
      ],
      "text/plain": [
       "[1] \"list\""
      ]
     },
     "metadata": {},
     "output_type": "display_data"
    },
    {
     "data": {
      "text/plain": [
       "$a\n",
       "   Min. 1st Qu.  Median    Mean 3rd Qu.    Max. \n",
       "  1.000   1.500   2.000   2.667   3.500   5.000 \n",
       "\n",
       "$b\n",
       "   Min. 1st Qu.  Median    Mean 3rd Qu.    Max. \n",
       "  10.00   15.00   20.00   26.67   35.00   50.00 \n"
      ]
     },
     "metadata": {},
     "output_type": "display_data"
    }
   ],
   "source": [
    "result <- tapply(val$a,val$b,summary)\n",
    "typeof(result)\n",
    "result"
   ]
  },
  {
   "cell_type": "code",
   "execution_count": 24,
   "metadata": {},
   "outputs": [
    {
     "data": {
      "text/plain": [
       "   Min. 1st Qu.  Median    Mean 3rd Qu.    Max. \n",
       "  1.000   1.500   2.000   2.667   3.500   5.000 "
      ]
     },
     "metadata": {},
     "output_type": "display_data"
    }
   ],
   "source": [
    "result$a"
   ]
  },
  {
   "cell_type": "code",
   "execution_count": 25,
   "metadata": {},
   "outputs": [
    {
     "data": {
      "text/plain": [
       "   Min. 1st Qu.  Median    Mean 3rd Qu.    Max. \n",
       "  10.00   15.00   20.00   26.67   35.00   50.00 "
      ]
     },
     "metadata": {},
     "output_type": "display_data"
    }
   ],
   "source": [
    "result$b"
   ]
  },
  {
   "cell_type": "code",
   "execution_count": null,
   "metadata": {
    "collapsed": true
   },
   "outputs": [],
   "source": []
  }
 ],
 "metadata": {
  "kernelspec": {
   "display_name": "R",
   "language": "R",
   "name": "ir"
  },
  "language_info": {
   "codemirror_mode": "r",
   "file_extension": ".r",
   "mimetype": "text/x-r-source",
   "name": "R",
   "pygments_lexer": "r",
   "version": "3.4.1"
  }
 },
 "nbformat": 4,
 "nbformat_minor": 1
}
