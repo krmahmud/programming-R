{
 "cells": [
  {
   "cell_type": "markdown",
   "metadata": {},
   "source": [
    "# Case Study II: A JAMA Paper on Cholesterol\n",
    "We look at a paper that appeared in the Journal of the American Medical Association and explore how to use R to confirm the results. "
   ]
  },
  {
   "cell_type": "markdown",
   "metadata": {},
   "source": [
    "\n",
    "## Overview of the Paper\n",
    "\n",
    "The paper we examine is by Carroll et al. [Carroll2005] The goal is to confirm the results and explore some of the other results not explicitly addressed in the paper. This paper received a great deal of attention in the media. A partial list of some of the articles is given below, but many of them are now defunct:\n",
    "    \n",
    "    FOX News\n",
    "    www.medpagetoday.com\n",
    "    Argus Leader\n",
    "    The Globe and Mail\n",
    "\n",
    "The authors examine the trends of several studies of cholesterol levels of Americans. The studies have been conducted in 1960-1962, 1988-1994, 1976-1980, 1988-1994, and 1999-2002. Studies of the studies previous to 1999 have indicated that overall cholesterol levels are declining. The authors of this paper focus on the changes between the two latest studies, 1988-1994 and 1999-2002. They concluded that between certain populations cholesterol levels have decreased over this time.\n",
    "\n",
    "One of the things that received a great deal of attention is the linkage the authors drew between lowered cholesterol levels and increased use of new drugs to lower cholesterol. Here is a quote from their conclusions:\n",
    "\n",
    "The increase in the proportion of adults using lipid-lowering medication, particularly in older age groups, likely contributed to the decreases in total and LDL cholesterol levels observed.\n",
    "\n",
    "Here we focus on the confirming the results listed in Tables 3 and 4 of the paper. We confirm the p-values given in the paper and then calculate the power of the test to detect a prescribed difference in cholesterol levels.\n"
   ]
  },
  {
   "cell_type": "markdown",
   "metadata": {},
   "source": [
    "## The Tables\n",
    "\n",
    "Links to the tables in the paper are given below. Links are given to verbatim copies of the tables. For each table there are two links. The first is to a text file displaying the table. The second is to a csv file to be loaded into R. It is assumed that you have downloaded each of the csv files and made them available.\n",
    "\n",
    "Links to the Tables in the paper:\n",
    "\n",
    "    Table 1 \ttext 1 \tcsv 1\n",
    "    Table 2 \ttext 2 \tcsv 2\n",
    "    Table 3 \ttext 3 \tcsv 3\n",
    "    Table 4 \ttext 4 \tcsv 4\n",
    "    Table 5 \ttext 5 \tcsv 5\n",
    "    Table 6 \ttext 6 \tcsv 6\n"
   ]
  },
  {
   "cell_type": "markdown",
   "metadata": {},
   "source": [
    "## Confirming the p-values in Table 3\n",
    "\n",
    "The first thing we do is confirm the p-values. The paper does not explicitly state the hypothesis test, but they use a two-sided test as we shall soon see. We will explicitly define the hypothesis test that the authors are using but first need to define some terms. We need the means for the 1988-1994 and the 1999-2002 studies and will denote them M88 and M99 respectively. We also need the standard errors and will denote them SE88 and SE99 respectively.\n",
    "\n",
    "In this situation we are trying to compare the means of two experiments and do not have matched pairs. With this in mind we can define our hypothesis test:\n",
    "\n",
    "\\begin{split}H_0: M_{88} - M_{99} & = & 0,\\end{split}\n",
    "\\begin{split}H_a: M_{88} - M_{99} & \\neq & 0,\\end{split}\n",
    "\n",
    "When we assume that the hypothesis test we calculate the p-values using the following values:\n",
    "\n",
    "\\begin{split}Sample Mean = M_{88} - M_{99}\\end{split},\n",
    "\n",
    "\\begin{split}SE = \\sqrt{SE_{88}^2 + SE_{99}^2}\\end{split}.\n",
    "\n",
    "Note that the standard errors are given in the data, and we do not have to use the number of observations to calculate the standard error. However, we do need the number of observations in calculating the p-value. The authors used a t test. There are complicated formulas used to calculate the degrees of freedom for the comparison of two means, but here we will simply find the minimum of the set of observations and subtract one.\n",
    "\n",
    "We first need to read in the data from table3.csv and will call the new variable t3. Note that we use a new option, row.names=”group”. This option tells R to use the entries in the “group” column as the row names. Once the table has been read we will need to make use of the means in the 1988-1994 study (t3\\$M.88) and the sample means in the 1999-2002 study (t3\\$M.99). We will also have to make use of the corresponding standard errors (t3\\$SE.88 and t3\\$SE.99) and the number of observations (t3\\$N.88 and t3\\$N.99).\n",
    "\n"
   ]
  },
  {
   "cell_type": "code",
   "execution_count": 1,
   "metadata": {},
   "outputs": [
    {
     "data": {
      "text/html": [
       "<ol class=list-inline>\n",
       "\t<li>'all'</li>\n",
       "\t<li>'g20'</li>\n",
       "\t<li>'men'</li>\n",
       "\t<li>'mg20'</li>\n",
       "\t<li>'m20-29'</li>\n",
       "\t<li>'m30-39'</li>\n",
       "\t<li>'m40-49'</li>\n",
       "\t<li>'m50-59'</li>\n",
       "\t<li>'m60-74'</li>\n",
       "\t<li>'m75'</li>\n",
       "\t<li>'women'</li>\n",
       "\t<li>'wg20'</li>\n",
       "\t<li>'w20-29'</li>\n",
       "\t<li>'w30-39'</li>\n",
       "\t<li>'w40-49'</li>\n",
       "\t<li>'w50-59'</li>\n",
       "\t<li>'w60-74'</li>\n",
       "\t<li>'w75'</li>\n",
       "</ol>\n"
      ],
      "text/latex": [
       "\\begin{enumerate*}\n",
       "\\item 'all'\n",
       "\\item 'g20'\n",
       "\\item 'men'\n",
       "\\item 'mg20'\n",
       "\\item 'm20-29'\n",
       "\\item 'm30-39'\n",
       "\\item 'm40-49'\n",
       "\\item 'm50-59'\n",
       "\\item 'm60-74'\n",
       "\\item 'm75'\n",
       "\\item 'women'\n",
       "\\item 'wg20'\n",
       "\\item 'w20-29'\n",
       "\\item 'w30-39'\n",
       "\\item 'w40-49'\n",
       "\\item 'w50-59'\n",
       "\\item 'w60-74'\n",
       "\\item 'w75'\n",
       "\\end{enumerate*}\n"
      ],
      "text/markdown": [
       "1. 'all'\n",
       "2. 'g20'\n",
       "3. 'men'\n",
       "4. 'mg20'\n",
       "5. 'm20-29'\n",
       "6. 'm30-39'\n",
       "7. 'm40-49'\n",
       "8. 'm50-59'\n",
       "9. 'm60-74'\n",
       "10. 'm75'\n",
       "11. 'women'\n",
       "12. 'wg20'\n",
       "13. 'w20-29'\n",
       "14. 'w30-39'\n",
       "15. 'w40-49'\n",
       "16. 'w50-59'\n",
       "17. 'w60-74'\n",
       "18. 'w75'\n",
       "\n",
       "\n"
      ],
      "text/plain": [
       " [1] \"all\"    \"g20\"    \"men\"    \"mg20\"   \"m20-29\" \"m30-39\" \"m40-49\" \"m50-59\"\n",
       " [9] \"m60-74\" \"m75\"    \"women\"  \"wg20\"   \"w20-29\" \"w30-39\" \"w40-49\" \"w50-59\"\n",
       "[17] \"w60-74\" \"w75\"   "
      ]
     },
     "metadata": {},
     "output_type": "display_data"
    }
   ],
   "source": [
    "t3 <- read.csv(file=\"table3.csv\",header=TRUE,sep=\",\",row.names=\"group\")\n",
    "row.names(t3)"
   ]
  },
  {
   "cell_type": "code",
   "execution_count": 2,
   "metadata": {},
   "outputs": [
    {
     "data": {
      "text/html": [
       "<ol class=list-inline>\n",
       "\t<li>'N.60'</li>\n",
       "\t<li>'M.60'</li>\n",
       "\t<li>'SE.60'</li>\n",
       "\t<li>'N.71'</li>\n",
       "\t<li>'M.71'</li>\n",
       "\t<li>'SE.71'</li>\n",
       "\t<li>'N.76'</li>\n",
       "\t<li>'M.76'</li>\n",
       "\t<li>'SE.76'</li>\n",
       "\t<li>'N.88'</li>\n",
       "\t<li>'M.88'</li>\n",
       "\t<li>'SE.88'</li>\n",
       "\t<li>'N.99'</li>\n",
       "\t<li>'M.99'</li>\n",
       "\t<li>'SE.99'</li>\n",
       "\t<li>'p'</li>\n",
       "</ol>\n"
      ],
      "text/latex": [
       "\\begin{enumerate*}\n",
       "\\item 'N.60'\n",
       "\\item 'M.60'\n",
       "\\item 'SE.60'\n",
       "\\item 'N.71'\n",
       "\\item 'M.71'\n",
       "\\item 'SE.71'\n",
       "\\item 'N.76'\n",
       "\\item 'M.76'\n",
       "\\item 'SE.76'\n",
       "\\item 'N.88'\n",
       "\\item 'M.88'\n",
       "\\item 'SE.88'\n",
       "\\item 'N.99'\n",
       "\\item 'M.99'\n",
       "\\item 'SE.99'\n",
       "\\item 'p'\n",
       "\\end{enumerate*}\n"
      ],
      "text/markdown": [
       "1. 'N.60'\n",
       "2. 'M.60'\n",
       "3. 'SE.60'\n",
       "4. 'N.71'\n",
       "5. 'M.71'\n",
       "6. 'SE.71'\n",
       "7. 'N.76'\n",
       "8. 'M.76'\n",
       "9. 'SE.76'\n",
       "10. 'N.88'\n",
       "11. 'M.88'\n",
       "12. 'SE.88'\n",
       "13. 'N.99'\n",
       "14. 'M.99'\n",
       "15. 'SE.99'\n",
       "16. 'p'\n",
       "\n",
       "\n"
      ],
      "text/plain": [
       " [1] \"N.60\"  \"M.60\"  \"SE.60\" \"N.71\"  \"M.71\"  \"SE.71\" \"N.76\"  \"M.76\"  \"SE.76\"\n",
       "[10] \"N.88\"  \"M.88\"  \"SE.88\" \"N.99\"  \"M.99\"  \"SE.99\" \"p\"    "
      ]
     },
     "metadata": {},
     "output_type": "display_data"
    }
   ],
   "source": [
    "names(t3)"
   ]
  },
  {
   "cell_type": "code",
   "execution_count": 3,
   "metadata": {},
   "outputs": [
    {
     "data": {
      "text/html": [
       "<ol class=list-inline>\n",
       "\t<li>204</li>\n",
       "\t<li>206</li>\n",
       "\t<li>204</li>\n",
       "\t<li>204</li>\n",
       "\t<li>180</li>\n",
       "\t<li>201</li>\n",
       "\t<li>211</li>\n",
       "\t<li>216</li>\n",
       "\t<li>214</li>\n",
       "\t<li>205</li>\n",
       "\t<li>205</li>\n",
       "\t<li>207</li>\n",
       "\t<li>183</li>\n",
       "\t<li>189</li>\n",
       "\t<li>204</li>\n",
       "\t<li>228</li>\n",
       "\t<li>235</li>\n",
       "\t<li>231</li>\n",
       "</ol>\n"
      ],
      "text/latex": [
       "\\begin{enumerate*}\n",
       "\\item 204\n",
       "\\item 206\n",
       "\\item 204\n",
       "\\item 204\n",
       "\\item 180\n",
       "\\item 201\n",
       "\\item 211\n",
       "\\item 216\n",
       "\\item 214\n",
       "\\item 205\n",
       "\\item 205\n",
       "\\item 207\n",
       "\\item 183\n",
       "\\item 189\n",
       "\\item 204\n",
       "\\item 228\n",
       "\\item 235\n",
       "\\item 231\n",
       "\\end{enumerate*}\n"
      ],
      "text/markdown": [
       "1. 204\n",
       "2. 206\n",
       "3. 204\n",
       "4. 204\n",
       "5. 180\n",
       "6. 201\n",
       "7. 211\n",
       "8. 216\n",
       "9. 214\n",
       "10. 205\n",
       "11. 205\n",
       "12. 207\n",
       "13. 183\n",
       "14. 189\n",
       "15. 204\n",
       "16. 228\n",
       "17. 235\n",
       "18. 231\n",
       "\n",
       "\n"
      ],
      "text/plain": [
       " [1] 204 206 204 204 180 201 211 216 214 205 205 207 183 189 204 228 235 231"
      ]
     },
     "metadata": {},
     "output_type": "display_data"
    }
   ],
   "source": [
    "t3$M.88"
   ]
  },
  {
   "cell_type": "code",
   "execution_count": 4,
   "metadata": {},
   "outputs": [
    {
     "data": {
      "text/html": [
       "<ol class=list-inline>\n",
       "\t<li>203</li>\n",
       "\t<li>203</li>\n",
       "\t<li>203</li>\n",
       "\t<li>202</li>\n",
       "\t<li>183</li>\n",
       "\t<li>200</li>\n",
       "\t<li>212</li>\n",
       "\t<li>215</li>\n",
       "\t<li>204</li>\n",
       "\t<li>195</li>\n",
       "\t<li>202</li>\n",
       "\t<li>204</li>\n",
       "\t<li>183</li>\n",
       "\t<li>194</li>\n",
       "\t<li>203</li>\n",
       "\t<li>216</li>\n",
       "\t<li>223</li>\n",
       "\t<li>217</li>\n",
       "</ol>\n"
      ],
      "text/latex": [
       "\\begin{enumerate*}\n",
       "\\item 203\n",
       "\\item 203\n",
       "\\item 203\n",
       "\\item 202\n",
       "\\item 183\n",
       "\\item 200\n",
       "\\item 212\n",
       "\\item 215\n",
       "\\item 204\n",
       "\\item 195\n",
       "\\item 202\n",
       "\\item 204\n",
       "\\item 183\n",
       "\\item 194\n",
       "\\item 203\n",
       "\\item 216\n",
       "\\item 223\n",
       "\\item 217\n",
       "\\end{enumerate*}\n"
      ],
      "text/markdown": [
       "1. 203\n",
       "2. 203\n",
       "3. 203\n",
       "4. 202\n",
       "5. 183\n",
       "6. 200\n",
       "7. 212\n",
       "8. 215\n",
       "9. 204\n",
       "10. 195\n",
       "11. 202\n",
       "12. 204\n",
       "13. 183\n",
       "14. 194\n",
       "15. 203\n",
       "16. 216\n",
       "17. 223\n",
       "18. 217\n",
       "\n",
       "\n"
      ],
      "text/plain": [
       " [1] 203 203 203 202 183 200 212 215 204 195 202 204 183 194 203 216 223 217"
      ]
     },
     "metadata": {},
     "output_type": "display_data"
    }
   ],
   "source": [
    "t3$M.99"
   ]
  },
  {
   "cell_type": "code",
   "execution_count": 5,
   "metadata": {},
   "outputs": [
    {
     "data": {
      "text/html": [
       "<ol class=list-inline>\n",
       "\t<li>1</li>\n",
       "\t<li>3</li>\n",
       "\t<li>1</li>\n",
       "\t<li>2</li>\n",
       "\t<li>-3</li>\n",
       "\t<li>1</li>\n",
       "\t<li>-1</li>\n",
       "\t<li>1</li>\n",
       "\t<li>10</li>\n",
       "\t<li>10</li>\n",
       "\t<li>3</li>\n",
       "\t<li>3</li>\n",
       "\t<li>0</li>\n",
       "\t<li>-5</li>\n",
       "\t<li>1</li>\n",
       "\t<li>12</li>\n",
       "\t<li>12</li>\n",
       "\t<li>14</li>\n",
       "</ol>\n"
      ],
      "text/latex": [
       "\\begin{enumerate*}\n",
       "\\item 1\n",
       "\\item 3\n",
       "\\item 1\n",
       "\\item 2\n",
       "\\item -3\n",
       "\\item 1\n",
       "\\item -1\n",
       "\\item 1\n",
       "\\item 10\n",
       "\\item 10\n",
       "\\item 3\n",
       "\\item 3\n",
       "\\item 0\n",
       "\\item -5\n",
       "\\item 1\n",
       "\\item 12\n",
       "\\item 12\n",
       "\\item 14\n",
       "\\end{enumerate*}\n"
      ],
      "text/markdown": [
       "1. 1\n",
       "2. 3\n",
       "3. 1\n",
       "4. 2\n",
       "5. -3\n",
       "6. 1\n",
       "7. -1\n",
       "8. 1\n",
       "9. 10\n",
       "10. 10\n",
       "11. 3\n",
       "12. 3\n",
       "13. 0\n",
       "14. -5\n",
       "15. 1\n",
       "16. 12\n",
       "17. 12\n",
       "18. 14\n",
       "\n",
       "\n"
      ],
      "text/plain": [
       " [1]  1  3  1  2 -3  1 -1  1 10 10  3  3  0 -5  1 12 12 14"
      ]
     },
     "metadata": {},
     "output_type": "display_data"
    }
   ],
   "source": [
    "diff <- t3$M.88-t3$M.99\n",
    "diff"
   ]
  },
  {
   "cell_type": "code",
   "execution_count": 6,
   "metadata": {},
   "outputs": [
    {
     "data": {
      "text/html": [
       "<ol class=list-inline>\n",
       "\t<li>1.14017542509914</li>\n",
       "\t<li>1.06301458127347</li>\n",
       "\t<li>1.5</li>\n",
       "\t<li>1.5</li>\n",
       "\t<li>2.19544984001001</li>\n",
       "\t<li>2.19317121994613</li>\n",
       "\t<li>3.36154726279432</li>\n",
       "\t<li>3.04138126514911</li>\n",
       "\t<li>2.19317121994613</li>\n",
       "\t<li>3.32866339541865</li>\n",
       "\t<li>1.13137084989848</li>\n",
       "\t<li>1.06301458127347</li>\n",
       "\t<li>2.14009345590327</li>\n",
       "\t<li>1.98494332412792</li>\n",
       "\t<li>2.12602916254693</li>\n",
       "\t<li>2.48394846967484</li>\n",
       "\t<li>2.12602916254693</li>\n",
       "\t<li>2.86006992921502</li>\n",
       "</ol>\n"
      ],
      "text/latex": [
       "\\begin{enumerate*}\n",
       "\\item 1.14017542509914\n",
       "\\item 1.06301458127347\n",
       "\\item 1.5\n",
       "\\item 1.5\n",
       "\\item 2.19544984001001\n",
       "\\item 2.19317121994613\n",
       "\\item 3.36154726279432\n",
       "\\item 3.04138126514911\n",
       "\\item 2.19317121994613\n",
       "\\item 3.32866339541865\n",
       "\\item 1.13137084989848\n",
       "\\item 1.06301458127347\n",
       "\\item 2.14009345590327\n",
       "\\item 1.98494332412792\n",
       "\\item 2.12602916254693\n",
       "\\item 2.48394846967484\n",
       "\\item 2.12602916254693\n",
       "\\item 2.86006992921502\n",
       "\\end{enumerate*}\n"
      ],
      "text/markdown": [
       "1. 1.14017542509914\n",
       "2. 1.06301458127347\n",
       "3. 1.5\n",
       "4. 1.5\n",
       "5. 2.19544984001001\n",
       "6. 2.19317121994613\n",
       "7. 3.36154726279432\n",
       "8. 3.04138126514911\n",
       "9. 2.19317121994613\n",
       "10. 3.32866339541865\n",
       "11. 1.13137084989848\n",
       "12. 1.06301458127347\n",
       "13. 2.14009345590327\n",
       "14. 1.98494332412792\n",
       "15. 2.12602916254693\n",
       "16. 2.48394846967484\n",
       "17. 2.12602916254693\n",
       "18. 2.86006992921502\n",
       "\n",
       "\n"
      ],
      "text/plain": [
       " [1] 1.140175 1.063015 1.500000 1.500000 2.195450 2.193171 3.361547 3.041381\n",
       " [9] 2.193171 3.328663 1.131371 1.063015 2.140093 1.984943 2.126029 2.483948\n",
       "[17] 2.126029 2.860070"
      ]
     },
     "metadata": {},
     "output_type": "display_data"
    }
   ],
   "source": [
    "se <- sqrt(t3$SE.88^2+t3$SE.99^2)\n",
    "se"
   ]
  },
  {
   "cell_type": "code",
   "execution_count": 7,
   "metadata": {},
   "outputs": [
    {
     "data": {
      "text/html": [
       "<ol class=list-inline>\n",
       "\t<li>7739</li>\n",
       "\t<li>8808</li>\n",
       "\t<li>3648</li>\n",
       "\t<li>4164</li>\n",
       "\t<li>673</li>\n",
       "\t<li>672</li>\n",
       "\t<li>759</li>\n",
       "\t<li>570</li>\n",
       "\t<li>970</li>\n",
       "\t<li>515</li>\n",
       "\t<li>4090</li>\n",
       "\t<li>4643</li>\n",
       "\t<li>960</li>\n",
       "\t<li>860</li>\n",
       "\t<li>753</li>\n",
       "\t<li>568</li>\n",
       "\t<li>945</li>\n",
       "\t<li>552</li>\n",
       "</ol>\n"
      ],
      "text/latex": [
       "\\begin{enumerate*}\n",
       "\\item 7739\n",
       "\\item 8808\n",
       "\\item 3648\n",
       "\\item 4164\n",
       "\\item 673\n",
       "\\item 672\n",
       "\\item 759\n",
       "\\item 570\n",
       "\\item 970\n",
       "\\item 515\n",
       "\\item 4090\n",
       "\\item 4643\n",
       "\\item 960\n",
       "\\item 860\n",
       "\\item 753\n",
       "\\item 568\n",
       "\\item 945\n",
       "\\item 552\n",
       "\\end{enumerate*}\n"
      ],
      "text/markdown": [
       "1. 7739\n",
       "2. 8808\n",
       "3. 3648\n",
       "4. 4164\n",
       "5. 673\n",
       "6. 672\n",
       "7. 759\n",
       "8. 570\n",
       "9. 970\n",
       "10. 515\n",
       "11. 4090\n",
       "12. 4643\n",
       "13. 960\n",
       "14. 860\n",
       "15. 753\n",
       "16. 568\n",
       "17. 945\n",
       "18. 552\n",
       "\n",
       "\n"
      ],
      "text/plain": [
       " [1] 7739 8808 3648 4164  673  672  759  570  970  515 4090 4643  960  860  753\n",
       "[16]  568  945  552"
      ]
     },
     "metadata": {},
     "output_type": "display_data"
    }
   ],
   "source": [
    "deg <- pmin(t3$N.88,t3$N.99)-1\n",
    "deg"
   ]
  },
  {
   "cell_type": "markdown",
   "metadata": {},
   "source": [
    "We can now calculate the t statistic. From the null hypothesis, the assumed mean of the difference is zero. We can then use the pt command to get the p-values."
   ]
  },
  {
   "cell_type": "code",
   "execution_count": 9,
   "metadata": {},
   "outputs": [
    {
     "data": {
      "text/html": [
       "<ol class=list-inline>\n",
       "\t<li>0.877058019307029</li>\n",
       "\t<li>2.82216260515079</li>\n",
       "\t<li>0.666666666666667</li>\n",
       "\t<li>1.33333333333333</li>\n",
       "\t<li>-1.36646255602283</li>\n",
       "\t<li>0.455960752587553</li>\n",
       "\t<li>-0.297482058654365</li>\n",
       "\t<li>0.328797974610715</li>\n",
       "\t<li>4.55960752587553</li>\n",
       "\t<li>3.00420884063055</li>\n",
       "\t<li>2.65165042944955</li>\n",
       "\t<li>2.82216260515079</li>\n",
       "\t<li>0</li>\n",
       "\t<li>-2.51896360929939</li>\n",
       "\t<li>0.470360434191799</li>\n",
       "\t<li>4.83101809337085</li>\n",
       "\t<li>5.64432521030158</li>\n",
       "\t<li>4.89498520892546</li>\n",
       "</ol>\n"
      ],
      "text/latex": [
       "\\begin{enumerate*}\n",
       "\\item 0.877058019307029\n",
       "\\item 2.82216260515079\n",
       "\\item 0.666666666666667\n",
       "\\item 1.33333333333333\n",
       "\\item -1.36646255602283\n",
       "\\item 0.455960752587553\n",
       "\\item -0.297482058654365\n",
       "\\item 0.328797974610715\n",
       "\\item 4.55960752587553\n",
       "\\item 3.00420884063055\n",
       "\\item 2.65165042944955\n",
       "\\item 2.82216260515079\n",
       "\\item 0\n",
       "\\item -2.51896360929939\n",
       "\\item 0.470360434191799\n",
       "\\item 4.83101809337085\n",
       "\\item 5.64432521030158\n",
       "\\item 4.89498520892546\n",
       "\\end{enumerate*}\n"
      ],
      "text/markdown": [
       "1. 0.877058019307029\n",
       "2. 2.82216260515079\n",
       "3. 0.666666666666667\n",
       "4. 1.33333333333333\n",
       "5. -1.36646255602283\n",
       "6. 0.455960752587553\n",
       "7. -0.297482058654365\n",
       "8. 0.328797974610715\n",
       "9. 4.55960752587553\n",
       "10. 3.00420884063055\n",
       "11. 2.65165042944955\n",
       "12. 2.82216260515079\n",
       "13. 0\n",
       "14. -2.51896360929939\n",
       "15. 0.470360434191799\n",
       "16. 4.83101809337085\n",
       "17. 5.64432521030158\n",
       "18. 4.89498520892546\n",
       "\n",
       "\n"
      ],
      "text/plain": [
       " [1]  0.8770580  2.8221626  0.6666667  1.3333333 -1.3664626  0.4559608\n",
       " [7] -0.2974821  0.3287980  4.5596075  3.0042088  2.6516504  2.8221626\n",
       "[13]  0.0000000 -2.5189636  0.4703604  4.8310181  5.6443252  4.8949852"
      ]
     },
     "metadata": {},
     "output_type": "display_data"
    }
   ],
   "source": [
    "t <- diff/se\n",
    "t"
   ]
  },
  {
   "cell_type": "code",
   "execution_count": 10,
   "metadata": {},
   "outputs": [
    {
     "data": {
      "text/html": [
       "<ol class=list-inline>\n",
       "\t<li>0.809758825154223</li>\n",
       "\t<li>0.997609607213372</li>\n",
       "\t<li>0.747486382329035</li>\n",
       "\t<li>0.908752312504111</li>\n",
       "\t<li>0.086125089218549</li>\n",
       "\t<li>0.675717245135696</li>\n",
       "\t<li>0.383089952496262</li>\n",
       "\t<li>0.628785421000245</li>\n",
       "\t<li>0.999997110106173</li>\n",
       "\t<li>0.998603836883441</li>\n",
       "\t<li>0.995979577281016</li>\n",
       "\t<li>0.997604808849732</li>\n",
       "\t<li>0.5</li>\n",
       "\t<li>0.00597520262972536</li>\n",
       "\t<li>0.680883134809825</li>\n",
       "\t<li>0.999999125134409</li>\n",
       "\t<li>0.999999989040336</li>\n",
       "\t<li>0.999999353718577</li>\n",
       "</ol>\n"
      ],
      "text/latex": [
       "\\begin{enumerate*}\n",
       "\\item 0.809758825154223\n",
       "\\item 0.997609607213372\n",
       "\\item 0.747486382329035\n",
       "\\item 0.908752312504111\n",
       "\\item 0.086125089218549\n",
       "\\item 0.675717245135696\n",
       "\\item 0.383089952496262\n",
       "\\item 0.628785421000245\n",
       "\\item 0.999997110106173\n",
       "\\item 0.998603836883441\n",
       "\\item 0.995979577281016\n",
       "\\item 0.997604808849732\n",
       "\\item 0.5\n",
       "\\item 0.00597520262972536\n",
       "\\item 0.680883134809825\n",
       "\\item 0.999999125134409\n",
       "\\item 0.999999989040336\n",
       "\\item 0.999999353718577\n",
       "\\end{enumerate*}\n"
      ],
      "text/markdown": [
       "1. 0.809758825154223\n",
       "2. 0.997609607213372\n",
       "3. 0.747486382329035\n",
       "4. 0.908752312504111\n",
       "5. 0.086125089218549\n",
       "6. 0.675717245135696\n",
       "7. 0.383089952496262\n",
       "8. 0.628785421000245\n",
       "9. 0.999997110106173\n",
       "10. 0.998603836883441\n",
       "11. 0.995979577281016\n",
       "12. 0.997604808849732\n",
       "13. 0.5\n",
       "14. 0.00597520262972536\n",
       "15. 0.680883134809825\n",
       "16. 0.999999125134409\n",
       "17. 0.999999989040336\n",
       "18. 0.999999353718577\n",
       "\n",
       "\n"
      ],
      "text/plain": [
       " [1] 0.809758825 0.997609607 0.747486382 0.908752313 0.086125089 0.675717245\n",
       " [7] 0.383089952 0.628785421 0.999997110 0.998603837 0.995979577 0.997604809\n",
       "[13] 0.500000000 0.005975203 0.680883135 0.999999125 0.999999989 0.999999354"
      ]
     },
     "metadata": {},
     "output_type": "display_data"
    }
   ],
   "source": [
    "pt(t,df=deg)"
   ]
  },
  {
   "cell_type": "markdown",
   "metadata": {},
   "source": [
    "There are two problems with the calculation above. First, some of the t-values are positive, and for positive values we need the area under the curve to the right. There are a couple of ways to fix this, and here we will insure that the t scores are negative by taking the negative of the absolute value. The second problem is that this is a two-sided test, and we have to multiply the probability by two:"
   ]
  },
  {
   "cell_type": "code",
   "execution_count": 11,
   "metadata": {},
   "outputs": [
    {
     "data": {
      "text/html": [
       "<ol class=list-inline>\n",
       "\t<li>0.190241174845777</li>\n",
       "\t<li>0.00239039278662848</li>\n",
       "\t<li>0.252513617670965</li>\n",
       "\t<li>0.0912476874958885</li>\n",
       "\t<li>0.086125089218549</li>\n",
       "\t<li>0.324282754864304</li>\n",
       "\t<li>0.383089952496262</li>\n",
       "\t<li>0.371214578999755</li>\n",
       "\t<li>2.88989382718199e-06</li>\n",
       "\t<li>0.00139616311655902</li>\n",
       "\t<li>0.00402042271898389</li>\n",
       "\t<li>0.00239519115026814</li>\n",
       "\t<li>0.5</li>\n",
       "\t<li>0.00597520262972536</li>\n",
       "\t<li>0.319116865190175</li>\n",
       "\t<li>8.74865590917901e-07</li>\n",
       "\t<li>1.09596643881027e-08</li>\n",
       "\t<li>6.46281423562597e-07</li>\n",
       "</ol>\n"
      ],
      "text/latex": [
       "\\begin{enumerate*}\n",
       "\\item 0.190241174845777\n",
       "\\item 0.00239039278662848\n",
       "\\item 0.252513617670965\n",
       "\\item 0.0912476874958885\n",
       "\\item 0.086125089218549\n",
       "\\item 0.324282754864304\n",
       "\\item 0.383089952496262\n",
       "\\item 0.371214578999755\n",
       "\\item 2.88989382718199e-06\n",
       "\\item 0.00139616311655902\n",
       "\\item 0.00402042271898389\n",
       "\\item 0.00239519115026814\n",
       "\\item 0.5\n",
       "\\item 0.00597520262972536\n",
       "\\item 0.319116865190175\n",
       "\\item 8.74865590917901e-07\n",
       "\\item 1.09596643881027e-08\n",
       "\\item 6.46281423562597e-07\n",
       "\\end{enumerate*}\n"
      ],
      "text/markdown": [
       "1. 0.190241174845777\n",
       "2. 0.00239039278662848\n",
       "3. 0.252513617670965\n",
       "4. 0.0912476874958885\n",
       "5. 0.086125089218549\n",
       "6. 0.324282754864304\n",
       "7. 0.383089952496262\n",
       "8. 0.371214578999755\n",
       "9. 2.88989382718199e-06\n",
       "10. 0.00139616311655902\n",
       "11. 0.00402042271898389\n",
       "12. 0.00239519115026814\n",
       "13. 0.5\n",
       "14. 0.00597520262972536\n",
       "15. 0.319116865190175\n",
       "16. 8.74865590917901e-07\n",
       "17. 1.09596643881027e-08\n",
       "18. 6.46281423562597e-07\n",
       "\n",
       "\n"
      ],
      "text/plain": [
       " [1] 1.902412e-01 2.390393e-03 2.525136e-01 9.124769e-02 8.612509e-02\n",
       " [6] 3.242828e-01 3.830900e-01 3.712146e-01 2.889894e-06 1.396163e-03\n",
       "[11] 4.020423e-03 2.395191e-03 5.000000e-01 5.975203e-03 3.191169e-01\n",
       "[16] 8.748656e-07 1.095966e-08 6.462814e-07"
      ]
     },
     "metadata": {},
     "output_type": "display_data"
    }
   ],
   "source": [
    "pt(-abs(t),df=deg)"
   ]
  },
  {
   "cell_type": "code",
   "execution_count": 12,
   "metadata": {},
   "outputs": [
    {
     "data": {
      "text/html": [
       "<ol class=list-inline>\n",
       "\t<li>0.380482349691554</li>\n",
       "\t<li>0.00478078557325695</li>\n",
       "\t<li>0.50502723534193</li>\n",
       "\t<li>0.182495374991777</li>\n",
       "\t<li>0.172250178437098</li>\n",
       "\t<li>0.648565509728609</li>\n",
       "\t<li>0.766179904992524</li>\n",
       "\t<li>0.74242915799951</li>\n",
       "\t<li>5.77978765436397e-06</li>\n",
       "\t<li>0.00279232623311805</li>\n",
       "\t<li>0.00804084543796777</li>\n",
       "\t<li>0.00479038230053629</li>\n",
       "\t<li>1</li>\n",
       "\t<li>0.0119504052594507</li>\n",
       "\t<li>0.63823373038035</li>\n",
       "\t<li>1.7497311818358e-06</li>\n",
       "\t<li>2.19193287762053e-08</li>\n",
       "\t<li>1.29256284712519e-06</li>\n",
       "</ol>\n"
      ],
      "text/latex": [
       "\\begin{enumerate*}\n",
       "\\item 0.380482349691554\n",
       "\\item 0.00478078557325695\n",
       "\\item 0.50502723534193\n",
       "\\item 0.182495374991777\n",
       "\\item 0.172250178437098\n",
       "\\item 0.648565509728609\n",
       "\\item 0.766179904992524\n",
       "\\item 0.74242915799951\n",
       "\\item 5.77978765436397e-06\n",
       "\\item 0.00279232623311805\n",
       "\\item 0.00804084543796777\n",
       "\\item 0.00479038230053629\n",
       "\\item 1\n",
       "\\item 0.0119504052594507\n",
       "\\item 0.63823373038035\n",
       "\\item 1.7497311818358e-06\n",
       "\\item 2.19193287762053e-08\n",
       "\\item 1.29256284712519e-06\n",
       "\\end{enumerate*}\n"
      ],
      "text/markdown": [
       "1. 0.380482349691554\n",
       "2. 0.00478078557325695\n",
       "3. 0.50502723534193\n",
       "4. 0.182495374991777\n",
       "5. 0.172250178437098\n",
       "6. 0.648565509728609\n",
       "7. 0.766179904992524\n",
       "8. 0.74242915799951\n",
       "9. 5.77978765436397e-06\n",
       "10. 0.00279232623311805\n",
       "11. 0.00804084543796777\n",
       "12. 0.00479038230053629\n",
       "13. 1\n",
       "14. 0.0119504052594507\n",
       "15. 0.63823373038035\n",
       "16. 1.7497311818358e-06\n",
       "17. 2.19193287762053e-08\n",
       "18. 1.29256284712519e-06\n",
       "\n",
       "\n"
      ],
      "text/plain": [
       " [1] 3.804823e-01 4.780786e-03 5.050272e-01 1.824954e-01 1.722502e-01\n",
       " [6] 6.485655e-01 7.661799e-01 7.424292e-01 5.779788e-06 2.792326e-03\n",
       "[11] 8.040845e-03 4.790382e-03 1.000000e+00 1.195041e-02 6.382337e-01\n",
       "[16] 1.749731e-06 2.191933e-08 1.292563e-06"
      ]
     },
     "metadata": {},
     "output_type": "display_data"
    }
   ],
   "source": [
    "2*pt(-abs(t),df=deg)"
   ]
  },
  {
   "cell_type": "markdown",
   "metadata": {},
   "source": [
    "These numbers are a close match to the values given in the paper, but the output above is hard to read. We introduce a new command to loop through and print out the results in a format that is easier to read. The for loop allows you to repeat a command a specified number of times. Here we want to go from 1, 2, 3, ..., to the end of the list of p-values and print out the group and associated p-value:"
   ]
  },
  {
   "cell_type": "code",
   "execution_count": 13,
   "metadata": {},
   "outputs": [
    {
     "name": "stdout",
     "output_type": "stream",
     "text": [
      "p-value for  all   0.3804823 \n",
      "p-value for  g20   0.004780786 \n",
      "p-value for  men   0.5050272 \n",
      "p-value for  mg20   0.1824954 \n",
      "p-value for  m20-29   0.1722502 \n",
      "p-value for  m30-39   0.6485655 \n",
      "p-value for  m40-49   0.7661799 \n",
      "p-value for  m50-59   0.7424292 \n",
      "p-value for  m60-74   5.779788e-06 \n",
      "p-value for  m75   0.002792326 \n",
      "p-value for  women   0.008040845 \n",
      "p-value for  wg20   0.004790382 \n",
      "p-value for  w20-29   1 \n",
      "p-value for  w30-39   0.01195041 \n",
      "p-value for  w40-49   0.6382337 \n",
      "p-value for  w50-59   1.749731e-06 \n",
      "p-value for  w60-74   2.191933e-08 \n",
      "p-value for  w75   1.292563e-06 \n"
     ]
    }
   ],
   "source": [
    "p <- 2*pt(-abs(t),df=deg)\n",
    "for (j in 1:length(p)) {\n",
    "     cat(\"p-value for \",row.names(t3)[j],\" \",p[j],\"\\n\");\n",
    "}"
   ]
  },
  {
   "cell_type": "markdown",
   "metadata": {},
   "source": [
    "We can now compare this to Table 3 and see that we have good agreement. The differences come from a round off errors from using the truncated data in the article as well as using a different method to calculate the degrees of freedom. Note that for p-values close to zero the percent errors are very large.\n",
    "\n",
    "It is interesting to note that among the categories (rows) given in the table, only a small number of the differences have a p-value small enough to reject the null hypothesis at the 95% level. The differences with a p-value less than 5% are the group of all people, men from 60 to 74, men greater than 74, women from 20-74, all women, and women from the age groups of 30-39, 50-59, 60-74, and greater than 74.\n",
    "\n",
    "The p-values for nine out of the eighteen categories are low enough to allow us to reject the associated null hypothesis. One of those categories is for all people in the study, but very few of the male categories have significant differences at the 95% level. The majority of the differences are in the female categories especially the older age brackets."
   ]
  },
  {
   "cell_type": "markdown",
   "metadata": {},
   "source": [
    "## Confirming the p-values in Table 4\n",
    "\n",
    "We now confirm the p-values given in Table 4. The level of detail in the previous section is not given, rather the commands are briefly given below:"
   ]
  },
  {
   "cell_type": "code",
   "execution_count": 14,
   "metadata": {},
   "outputs": [
    {
     "data": {
      "text/html": [
       "<ol class=list-inline>\n",
       "\t<li>'S88N'</li>\n",
       "\t<li>'S88M'</li>\n",
       "\t<li>'S88SE'</li>\n",
       "\t<li>'S99N'</li>\n",
       "\t<li>'S99M'</li>\n",
       "\t<li>'S99SE'</li>\n",
       "\t<li>'p'</li>\n",
       "</ol>\n"
      ],
      "text/latex": [
       "\\begin{enumerate*}\n",
       "\\item 'S88N'\n",
       "\\item 'S88M'\n",
       "\\item 'S88SE'\n",
       "\\item 'S99N'\n",
       "\\item 'S99M'\n",
       "\\item 'S99SE'\n",
       "\\item 'p'\n",
       "\\end{enumerate*}\n"
      ],
      "text/markdown": [
       "1. 'S88N'\n",
       "2. 'S88M'\n",
       "3. 'S88SE'\n",
       "4. 'S99N'\n",
       "5. 'S99M'\n",
       "6. 'S99SE'\n",
       "7. 'p'\n",
       "\n",
       "\n"
      ],
      "text/plain": [
       "[1] \"S88N\"  \"S88M\"  \"S88SE\" \"S99N\"  \"S99M\"  \"S99SE\" \"p\"    "
      ]
     },
     "metadata": {},
     "output_type": "display_data"
    }
   ],
   "source": [
    "t4 <- read.csv(file=\"table4.csv\",header=TRUE,sep=\",\",row.names=\"group\")\n",
    "names(t4)"
   ]
  },
  {
   "cell_type": "code",
   "execution_count": 15,
   "metadata": {},
   "outputs": [
    {
     "name": "stdout",
     "output_type": "stream",
     "text": [
      "p-values for  MA   0.07724362 \n",
      "p-values for  MAM   0.6592499 \n",
      "p-values for  MAW   0.002497728 \n",
      "p-values for  NHW   0.1184228 \n",
      "p-values for  NHWM   0.2673851 \n",
      "p-values for  NHWW   0.02585374 \n",
      "p-values for  NHB   0.001963195 \n",
      "p-values for  NHBM   0.003442551 \n",
      "p-values for  NHBW   0.007932079 \n"
     ]
    }
   ],
   "source": [
    "diff <- t4$S88M - t4$S99M\n",
    "se <- sqrt(t4$S88SE^2+t4$S99SE^2)\n",
    "deg <- pmin(t4$S88N,t4$S99N)-1\n",
    "t <- diff/se\n",
    "p <- 2*pt(-abs(t),df=deg)\n",
    "for (j in 1:length(p)) {\n",
    "     cat(\"p-values for \",row.names(t4)[j],\" \",p[j],\"\\n\");\n",
    "}"
   ]
  },
  {
   "cell_type": "markdown",
   "metadata": {},
   "source": [
    "Again, the p-values are close to those given in Table 4. The numbers are off due to truncation errors from the true data as well as a simplified calculation of the degrees of freedom. As in the previous section the p-values that are close to zero have the greatest percent errors.\n",
    "## Finding the Power of the Test in Table 3\n",
    "\n",
    "We now will find the power of the test to detect a difference. Here we arbitrarily choose to find the power to detect a difference of 4 points and then do the same for a difference of 6 points. The first step is to assume that the null hypothesis is true and find the 95% confidence interval around a difference of zero:"
   ]
  },
  {
   "cell_type": "code",
   "execution_count": 16,
   "metadata": {},
   "outputs": [
    {
     "data": {
      "text/html": [
       "<ol class=list-inline>\n",
       "\t<li>1.96027056626689</li>\n",
       "\t<li>1.96023335235459</li>\n",
       "\t<li>1.96061449033326</li>\n",
       "\t<li>1.96053385706916</li>\n",
       "\t<li>1.96349514469499</li>\n",
       "\t<li>1.96350040870975</li>\n",
       "\t<li>1.96309441191496</li>\n",
       "\t<li>1.96413456499167</li>\n",
       "\t<li>1.96241262757182</li>\n",
       "\t<li>1.96458099708047</li>\n",
       "\t<li>1.96054417072112</li>\n",
       "\t<li>1.9604750505002</li>\n",
       "\t<li>1.96243816590265</li>\n",
       "\t<li>1.96272625973035</li>\n",
       "\t<li>1.96311939500454</li>\n",
       "\t<li>1.9641492809287</li>\n",
       "\t<li>1.96247748810113</li>\n",
       "\t<li>1.96427085564488</li>\n",
       "</ol>\n"
      ],
      "text/latex": [
       "\\begin{enumerate*}\n",
       "\\item 1.96027056626689\n",
       "\\item 1.96023335235459\n",
       "\\item 1.96061449033326\n",
       "\\item 1.96053385706916\n",
       "\\item 1.96349514469499\n",
       "\\item 1.96350040870975\n",
       "\\item 1.96309441191496\n",
       "\\item 1.96413456499167\n",
       "\\item 1.96241262757182\n",
       "\\item 1.96458099708047\n",
       "\\item 1.96054417072112\n",
       "\\item 1.9604750505002\n",
       "\\item 1.96243816590265\n",
       "\\item 1.96272625973035\n",
       "\\item 1.96311939500454\n",
       "\\item 1.9641492809287\n",
       "\\item 1.96247748810113\n",
       "\\item 1.96427085564488\n",
       "\\end{enumerate*}\n"
      ],
      "text/markdown": [
       "1. 1.96027056626689\n",
       "2. 1.96023335235459\n",
       "3. 1.96061449033326\n",
       "4. 1.96053385706916\n",
       "5. 1.96349514469499\n",
       "6. 1.96350040870975\n",
       "7. 1.96309441191496\n",
       "8. 1.96413456499167\n",
       "9. 1.96241262757182\n",
       "10. 1.96458099708047\n",
       "11. 1.96054417072112\n",
       "12. 1.9604750505002\n",
       "13. 1.96243816590265\n",
       "14. 1.96272625973035\n",
       "15. 1.96311939500454\n",
       "16. 1.9641492809287\n",
       "17. 1.96247748810113\n",
       "18. 1.96427085564488\n",
       "\n",
       "\n"
      ],
      "text/plain": [
       " [1] 1.960271 1.960233 1.960614 1.960534 1.963495 1.963500 1.963094 1.964135\n",
       " [9] 1.962413 1.964581 1.960544 1.960475 1.962438 1.962726 1.963119 1.964149\n",
       "[17] 1.962477 1.964271"
      ]
     },
     "metadata": {},
     "output_type": "display_data"
    }
   ],
   "source": [
    "t3 <- read.csv(file=\"table3.csv\",header=TRUE,sep=\",\",row.names=\"group\")\n",
    "se <- sqrt(t3$SE.88^2+t3$SE.99^2)\n",
    "deg <- pmin(t3$N.88,t3$N.99)-1\n",
    "tcut <- qt(0.975,df=deg)\n",
    "tcut"
   ]
  },
  {
   "cell_type": "markdown",
   "metadata": {},
   "source": [
    "Now that the cutoff t-scores for the 95% confidence interval have been established we want to find the probability of making a type II error. We find the probability of making a type II error if the difference is a positive 4."
   ]
  },
  {
   "cell_type": "code",
   "execution_count": 17,
   "metadata": {},
   "outputs": [
    {
     "data": {
      "text/html": [
       "<ol class=list-inline>\n",
       "\t<li>0.0608312669102905</li>\n",
       "\t<li>0.0357326607572946</li>\n",
       "\t<li>0.240092017711255</li>\n",
       "\t<li>0.240064965010524</li>\n",
       "\t<li>0.555833920551907</li>\n",
       "\t<li>0.555089270665176</li>\n",
       "\t<li>0.778985981978188</li>\n",
       "\t<li>0.740647819282896</li>\n",
       "\t<li>0.554773073033254</li>\n",
       "\t<li>0.775737838512669</li>\n",
       "\t<li>0.0576582588982012</li>\n",
       "\t<li>0.0357616026505025</li>\n",
       "\t<li>0.536886736434667</li>\n",
       "\t<li>0.478847869594258</li>\n",
       "\t<li>0.532186246582937</li>\n",
       "\t<li>0.637530921616082</li>\n",
       "\t<li>0.531992475407891</li>\n",
       "\t<li>0.713169693652749</li>\n",
       "</ol>\n"
      ],
      "text/latex": [
       "\\begin{enumerate*}\n",
       "\\item 0.0608312669102905\n",
       "\\item 0.0357326607572946\n",
       "\\item 0.240092017711255\n",
       "\\item 0.240064965010524\n",
       "\\item 0.555833920551907\n",
       "\\item 0.555089270665176\n",
       "\\item 0.778985981978188\n",
       "\\item 0.740647819282896\n",
       "\\item 0.554773073033254\n",
       "\\item 0.775737838512669\n",
       "\\item 0.0576582588982012\n",
       "\\item 0.0357616026505025\n",
       "\\item 0.536886736434667\n",
       "\\item 0.478847869594258\n",
       "\\item 0.532186246582937\n",
       "\\item 0.637530921616082\n",
       "\\item 0.531992475407891\n",
       "\\item 0.713169693652749\n",
       "\\end{enumerate*}\n"
      ],
      "text/markdown": [
       "1. 0.0608312669102905\n",
       "2. 0.0357326607572946\n",
       "3. 0.240092017711255\n",
       "4. 0.240064965010524\n",
       "5. 0.555833920551907\n",
       "6. 0.555089270665176\n",
       "7. 0.778985981978188\n",
       "8. 0.740647819282896\n",
       "9. 0.554773073033254\n",
       "10. 0.775737838512669\n",
       "11. 0.0576582588982012\n",
       "12. 0.0357616026505025\n",
       "13. 0.536886736434667\n",
       "14. 0.478847869594258\n",
       "15. 0.532186246582937\n",
       "16. 0.637530921616082\n",
       "17. 0.531992475407891\n",
       "18. 0.713169693652749\n",
       "\n",
       "\n"
      ],
      "text/plain": [
       " [1] 0.06083127 0.03573266 0.24009202 0.24006497 0.55583392 0.55508927\n",
       " [7] 0.77898598 0.74064782 0.55477307 0.77573784 0.05765826 0.03576160\n",
       "[13] 0.53688674 0.47884787 0.53218625 0.63753092 0.53199248 0.71316969"
      ]
     },
     "metadata": {},
     "output_type": "display_data"
    },
    {
     "data": {
      "text/html": [
       "<ol class=list-inline>\n",
       "\t<li>0.939168733089709</li>\n",
       "\t<li>0.964267339242705</li>\n",
       "\t<li>0.759907982288745</li>\n",
       "\t<li>0.759935034989476</li>\n",
       "\t<li>0.444166079448093</li>\n",
       "\t<li>0.444910729334824</li>\n",
       "\t<li>0.221014018021812</li>\n",
       "\t<li>0.259352180717104</li>\n",
       "\t<li>0.445226926966746</li>\n",
       "\t<li>0.224262161487331</li>\n",
       "\t<li>0.942341741101799</li>\n",
       "\t<li>0.964238397349498</li>\n",
       "\t<li>0.463113263565333</li>\n",
       "\t<li>0.521152130405742</li>\n",
       "\t<li>0.467813753417063</li>\n",
       "\t<li>0.362469078383918</li>\n",
       "\t<li>0.468007524592109</li>\n",
       "\t<li>0.286830306347251</li>\n",
       "</ol>\n"
      ],
      "text/latex": [
       "\\begin{enumerate*}\n",
       "\\item 0.939168733089709\n",
       "\\item 0.964267339242705\n",
       "\\item 0.759907982288745\n",
       "\\item 0.759935034989476\n",
       "\\item 0.444166079448093\n",
       "\\item 0.444910729334824\n",
       "\\item 0.221014018021812\n",
       "\\item 0.259352180717104\n",
       "\\item 0.445226926966746\n",
       "\\item 0.224262161487331\n",
       "\\item 0.942341741101799\n",
       "\\item 0.964238397349498\n",
       "\\item 0.463113263565333\n",
       "\\item 0.521152130405742\n",
       "\\item 0.467813753417063\n",
       "\\item 0.362469078383918\n",
       "\\item 0.468007524592109\n",
       "\\item 0.286830306347251\n",
       "\\end{enumerate*}\n"
      ],
      "text/markdown": [
       "1. 0.939168733089709\n",
       "2. 0.964267339242705\n",
       "3. 0.759907982288745\n",
       "4. 0.759935034989476\n",
       "5. 0.444166079448093\n",
       "6. 0.444910729334824\n",
       "7. 0.221014018021812\n",
       "8. 0.259352180717104\n",
       "9. 0.445226926966746\n",
       "10. 0.224262161487331\n",
       "11. 0.942341741101799\n",
       "12. 0.964238397349498\n",
       "13. 0.463113263565333\n",
       "14. 0.521152130405742\n",
       "15. 0.467813753417063\n",
       "16. 0.362469078383918\n",
       "17. 0.468007524592109\n",
       "18. 0.286830306347251\n",
       "\n",
       "\n"
      ],
      "text/plain": [
       " [1] 0.9391687 0.9642673 0.7599080 0.7599350 0.4441661 0.4449107 0.2210140\n",
       " [8] 0.2593522 0.4452269 0.2242622 0.9423417 0.9642384 0.4631133 0.5211521\n",
       "[15] 0.4678138 0.3624691 0.4680075 0.2868303"
      ]
     },
     "metadata": {},
     "output_type": "display_data"
    }
   ],
   "source": [
    "typeII <- pt(tcut,df=deg,ncp=4/se)-pt(-tcut,df=deg,ncp=4/se)\n",
    "typeII\n",
    "1-typeII"
   ]
  },
  {
   "cell_type": "markdown",
   "metadata": {},
   "source": [
    "It looks like there is a mix here. Some of the tests have a very high power while others are poor. Six of the categories have very high power and four have powers less than 30% . One problem is that this is hard to read. We now show how to use the for loop to create a nicer output:"
   ]
  },
  {
   "cell_type": "code",
   "execution_count": 18,
   "metadata": {},
   "outputs": [
    {
     "name": "stdout",
     "output_type": "stream",
     "text": [
      "power for  all   0.9391687 \n",
      "power for  g20   0.9642673 \n",
      "power for  men   0.759908 \n",
      "power for  mg20   0.759935 \n",
      "power for  m20-29   0.4441661 \n",
      "power for  m30-39   0.4449107 \n",
      "power for  m40-49   0.221014 \n",
      "power for  m50-59   0.2593522 \n",
      "power for  m60-74   0.4452269 \n",
      "power for  m75   0.2242622 \n",
      "power for  women   0.9423417 \n",
      "power for  wg20   0.9642384 \n",
      "power for  w20-29   0.4631133 \n",
      "power for  w30-39   0.5211521 \n",
      "power for  w40-49   0.4678138 \n",
      "power for  w50-59   0.3624691 \n",
      "power for  w60-74   0.4680075 \n",
      "power for  w75   0.2868303 \n"
     ]
    }
   ],
   "source": [
    "power <- 1-typeII\n",
    "for (j in 1:length(power)) {\n",
    "     cat(\"power for \",row.names(t3)[j],\" \",power[j],\"\\n\");\n",
    " }"
   ]
  },
  {
   "cell_type": "markdown",
   "metadata": {},
   "source": [
    "We see that the composite groups, groups made up of larger age groups, have much higher powers than the age stratified groups. It also appears that the groups composed of women seem to have higher powers as well.\n",
    "## Differences by Race in Table 2\n",
    "\n",
    "We now look at the differences in the rows of LDL cholesterol in Table 2. Table 2 lists the cholesterol levels broken down by race. Here the p-values are calculated for the means for the totals rather than for every entry in the table. We will use the same two-sided hypothesis test as above, the null hypothesis is that there is no difference between the means.\n",
    "\n",
    "Since we are comparing means from a subset of the entries and across rows we cannot simply copy the commands from above. We will first read the data from the files and then separate the first, fourth, seventh, and tenth rows:"
   ]
  },
  {
   "cell_type": "code",
   "execution_count": 19,
   "metadata": {},
   "outputs": [
    {
     "data": {
      "text/html": [
       "<table>\n",
       "<thead><tr><th></th><th scope=col>Total</th><th scope=col>HDL</th><th scope=col>LDL</th><th scope=col>STG</th></tr></thead>\n",
       "<tbody>\n",
       "\t<tr><th scope=row>AllG20</th><td>8809</td><td>8808</td><td>3867</td><td>3982</td></tr>\n",
       "\t<tr><th scope=row>MG20</th><td>4165</td><td>4164</td><td>1815</td><td>1893</td></tr>\n",
       "\t<tr><th scope=row>WG20</th><td>4644</td><td>4644</td><td>2052</td><td>2089</td></tr>\n",
       "\t<tr><th scope=row>AMA</th><td>2122</td><td>2122</td><td> 950</td><td> 994</td></tr>\n",
       "\t<tr><th scope=row>AMA-M</th><td> 998</td><td> 998</td><td> 439</td><td> 467</td></tr>\n",
       "\t<tr><th scope=row>AMA-F</th><td>1124</td><td>1124</td><td> 511</td><td> 527</td></tr>\n",
       "\t<tr><th scope=row>ANHW</th><td>4338</td><td>4337</td><td>1938</td><td>1997</td></tr>\n",
       "\t<tr><th scope=row>ANHW-M</th><td>2091</td><td>2090</td><td> 924</td><td> 965</td></tr>\n",
       "\t<tr><th scope=row>ANHW-F</th><td>2247</td><td>2247</td><td>1014</td><td>1032</td></tr>\n",
       "\t<tr><th scope=row>ANHB</th><td>1602</td><td>1602</td><td> 670</td><td> 674</td></tr>\n",
       "\t<tr><th scope=row>ANHB-M</th><td> 749</td><td> 749</td><td> 309</td><td> 312</td></tr>\n",
       "\t<tr><th scope=row>ANHB-W</th><td> 853</td><td> 853</td><td> 361</td><td> 362</td></tr>\n",
       "\t<tr><th scope=row>M20-29</th><td> 674</td><td> 674</td><td> 304</td><td> 311</td></tr>\n",
       "\t<tr><th scope=row>M30-39</th><td> 673</td><td> 673</td><td> 316</td><td> 323</td></tr>\n",
       "\t<tr><th scope=row>M40-49</th><td> 760</td><td> 760</td><td> 318</td><td> 342</td></tr>\n",
       "\t<tr><th scope=row>M50-59</th><td> 571</td><td> 571</td><td> 245</td><td> 262</td></tr>\n",
       "\t<tr><th scope=row>M60-69</th><td> 671</td><td> 670</td><td> 287</td><td> 301</td></tr>\n",
       "\t<tr><th scope=row>M70</th><td> 816</td><td> 816</td><td> 345</td><td> 354</td></tr>\n",
       "\t<tr><th scope=row>W20-29</th><td> 961</td><td> 961</td><td> 415</td><td> 419</td></tr>\n",
       "\t<tr><th scope=row>W30-39</th><td> 861</td><td> 861</td><td> 374</td><td> 377</td></tr>\n",
       "\t<tr><th scope=row>W40-49</th><td> 754</td><td> 755</td><td> 347</td><td> 352</td></tr>\n",
       "\t<tr><th scope=row>W50-59</th><td> 569</td><td> 569</td><td> 256</td><td> 263</td></tr>\n",
       "\t<tr><th scope=row>W60-69</th><td> 672</td><td> 671</td><td> 315</td><td> 324</td></tr>\n",
       "\t<tr><th scope=row>W70</th><td> 827</td><td> 827</td><td> 345</td><td> 354</td></tr>\n",
       "</tbody>\n",
       "</table>\n"
      ],
      "text/latex": [
       "\\begin{tabular}{r|llll}\n",
       "  & Total & HDL & LDL & STG\\\\\n",
       "\\hline\n",
       "\tAllG20 & 8809 & 8808 & 3867 & 3982\\\\\n",
       "\tMG20 & 4165 & 4164 & 1815 & 1893\\\\\n",
       "\tWG20 & 4644 & 4644 & 2052 & 2089\\\\\n",
       "\tAMA & 2122 & 2122 &  950 &  994\\\\\n",
       "\tAMA-M &  998 &  998 &  439 &  467\\\\\n",
       "\tAMA-F & 1124 & 1124 &  511 &  527\\\\\n",
       "\tANHW & 4338 & 4337 & 1938 & 1997\\\\\n",
       "\tANHW-M & 2091 & 2090 &  924 &  965\\\\\n",
       "\tANHW-F & 2247 & 2247 & 1014 & 1032\\\\\n",
       "\tANHB & 1602 & 1602 &  670 &  674\\\\\n",
       "\tANHB-M &  749 &  749 &  309 &  312\\\\\n",
       "\tANHB-W &  853 &  853 &  361 &  362\\\\\n",
       "\tM20-29 &  674 &  674 &  304 &  311\\\\\n",
       "\tM30-39 &  673 &  673 &  316 &  323\\\\\n",
       "\tM40-49 &  760 &  760 &  318 &  342\\\\\n",
       "\tM50-59 &  571 &  571 &  245 &  262\\\\\n",
       "\tM60-69 &  671 &  670 &  287 &  301\\\\\n",
       "\tM70 &  816 &  816 &  345 &  354\\\\\n",
       "\tW20-29 &  961 &  961 &  415 &  419\\\\\n",
       "\tW30-39 &  861 &  861 &  374 &  377\\\\\n",
       "\tW40-49 &  754 &  755 &  347 &  352\\\\\n",
       "\tW50-59 &  569 &  569 &  256 &  263\\\\\n",
       "\tW60-69 &  672 &  671 &  315 &  324\\\\\n",
       "\tW70 &  827 &  827 &  345 &  354\\\\\n",
       "\\end{tabular}\n"
      ],
      "text/markdown": [
       "\n",
       "| <!--/--> | Total | HDL | LDL | STG | \n",
       "|---|---|---|---|---|---|---|---|---|---|---|---|---|---|---|---|---|---|---|---|---|---|---|---|\n",
       "| AllG20 | 8809 | 8808 | 3867 | 3982 | \n",
       "| MG20 | 4165 | 4164 | 1815 | 1893 | \n",
       "| WG20 | 4644 | 4644 | 2052 | 2089 | \n",
       "| AMA | 2122 | 2122 |  950 |  994 | \n",
       "| AMA-M |  998 |  998 |  439 |  467 | \n",
       "| AMA-F | 1124 | 1124 |  511 |  527 | \n",
       "| ANHW | 4338 | 4337 | 1938 | 1997 | \n",
       "| ANHW-M | 2091 | 2090 |  924 |  965 | \n",
       "| ANHW-F | 2247 | 2247 | 1014 | 1032 | \n",
       "| ANHB | 1602 | 1602 |  670 |  674 | \n",
       "| ANHB-M |  749 |  749 |  309 |  312 | \n",
       "| ANHB-W |  853 |  853 |  361 |  362 | \n",
       "| M20-29 |  674 |  674 |  304 |  311 | \n",
       "| M30-39 |  673 |  673 |  316 |  323 | \n",
       "| M40-49 |  760 |  760 |  318 |  342 | \n",
       "| M50-59 |  571 |  571 |  245 |  262 | \n",
       "| M60-69 |  671 |  670 |  287 |  301 | \n",
       "| M70 |  816 |  816 |  345 |  354 | \n",
       "| W20-29 |  961 |  961 |  415 |  419 | \n",
       "| W30-39 |  861 |  861 |  374 |  377 | \n",
       "| W40-49 |  754 |  755 |  347 |  352 | \n",
       "| W50-59 |  569 |  569 |  256 |  263 | \n",
       "| W60-69 |  672 |  671 |  315 |  324 | \n",
       "| W70 |  827 |  827 |  345 |  354 | \n",
       "\n",
       "\n"
      ],
      "text/plain": [
       "       Total HDL  LDL  STG \n",
       "AllG20 8809  8808 3867 3982\n",
       "MG20   4165  4164 1815 1893\n",
       "WG20   4644  4644 2052 2089\n",
       "AMA    2122  2122  950  994\n",
       "AMA-M   998   998  439  467\n",
       "AMA-F  1124  1124  511  527\n",
       "ANHW   4338  4337 1938 1997\n",
       "ANHW-M 2091  2090  924  965\n",
       "ANHW-F 2247  2247 1014 1032\n",
       "ANHB   1602  1602  670  674\n",
       "ANHB-M  749   749  309  312\n",
       "ANHB-W  853   853  361  362\n",
       "M20-29  674   674  304  311\n",
       "M30-39  673   673  316  323\n",
       "M40-49  760   760  318  342\n",
       "M50-59  571   571  245  262\n",
       "M60-69  671   670  287  301\n",
       "M70     816   816  345  354\n",
       "W20-29  961   961  415  419\n",
       "W30-39  861   861  374  377\n",
       "W40-49  754   755  347  352\n",
       "W50-59  569   569  256  263\n",
       "W60-69  672   671  315  324\n",
       "W70     827   827  345  354"
      ]
     },
     "metadata": {},
     "output_type": "display_data"
    }
   ],
   "source": [
    "t1 <- read.csv(file='table1.csv',head=TRUE,sep=',',row.name=\"Group\")\n",
    "t1"
   ]
  },
  {
   "cell_type": "code",
   "execution_count": 20,
   "metadata": {},
   "outputs": [
    {
     "data": {
      "text/html": [
       "<ol class=list-inline>\n",
       "\t<li>123</li>\n",
       "\t<li>121</li>\n",
       "\t<li>124</li>\n",
       "\t<li>121</li>\n",
       "</ol>\n"
      ],
      "text/latex": [
       "\\begin{enumerate*}\n",
       "\\item 123\n",
       "\\item 121\n",
       "\\item 124\n",
       "\\item 121\n",
       "\\end{enumerate*}\n"
      ],
      "text/markdown": [
       "1. 123\n",
       "2. 121\n",
       "3. 124\n",
       "4. 121\n",
       "\n",
       "\n"
      ],
      "text/plain": [
       "[1] 123 121 124 121"
      ]
     },
     "metadata": {},
     "output_type": "display_data"
    },
    {
     "data": {
      "text/html": [
       "<ol class=list-inline>\n",
       "\t<li>1</li>\n",
       "\t<li>1.3</li>\n",
       "\t<li>1.2</li>\n",
       "\t<li>1.6</li>\n",
       "</ol>\n"
      ],
      "text/latex": [
       "\\begin{enumerate*}\n",
       "\\item 1\n",
       "\\item 1.3\n",
       "\\item 1.2\n",
       "\\item 1.6\n",
       "\\end{enumerate*}\n"
      ],
      "text/markdown": [
       "1. 1\n",
       "2. 1.3\n",
       "3. 1.2\n",
       "4. 1.6\n",
       "\n",
       "\n"
      ],
      "text/plain": [
       "[1] 1.0 1.3 1.2 1.6"
      ]
     },
     "metadata": {},
     "output_type": "display_data"
    },
    {
     "data": {
      "text/html": [
       "<ol class=list-inline>\n",
       "\t<li>3867</li>\n",
       "\t<li>950</li>\n",
       "\t<li>1938</li>\n",
       "\t<li>670</li>\n",
       "</ol>\n"
      ],
      "text/latex": [
       "\\begin{enumerate*}\n",
       "\\item 3867\n",
       "\\item 950\n",
       "\\item 1938\n",
       "\\item 670\n",
       "\\end{enumerate*}\n"
      ],
      "text/markdown": [
       "1. 3867\n",
       "2. 950\n",
       "3. 1938\n",
       "4. 670\n",
       "\n",
       "\n"
      ],
      "text/plain": [
       "[1] 3867  950 1938  670"
      ]
     },
     "metadata": {},
     "output_type": "display_data"
    },
    {
     "data": {
      "text/html": [
       "<ol class=list-inline>\n",
       "\t<li>'AllG20'</li>\n",
       "\t<li>'AMA'</li>\n",
       "\t<li>'ANHW'</li>\n",
       "\t<li>'ANHB'</li>\n",
       "</ol>\n"
      ],
      "text/latex": [
       "\\begin{enumerate*}\n",
       "\\item 'AllG20'\n",
       "\\item 'AMA'\n",
       "\\item 'ANHW'\n",
       "\\item 'ANHB'\n",
       "\\end{enumerate*}\n"
      ],
      "text/markdown": [
       "1. 'AllG20'\n",
       "2. 'AMA'\n",
       "3. 'ANHW'\n",
       "4. 'ANHB'\n",
       "\n",
       "\n"
      ],
      "text/plain": [
       "[1] \"AllG20\" \"AMA\"    \"ANHW\"   \"ANHB\"  "
      ]
     },
     "metadata": {},
     "output_type": "display_data"
    }
   ],
   "source": [
    "t2 <- read.csv(file='table2.csv',head=T,sep=',',row.name=\"group\")\n",
    "ldlM  <- c(t2$LDL[1],t2$LDL[4],t2$LDL[7],t2$LDL[10])\n",
    "ldlSE <- c(t2$LDLSE[1],t2$LDLSE[4],t2$LDLSE[7],t2$LDLSE[10])\n",
    "ldlN  <- c(t1$LDL[1],t1$LDL[4],t1$LDL[7],t1$LDL[10])\n",
    "ldlNames  <- c(row.names(t1)[1],row.names(t1)[4],row.names(t1)[7],row.names(t1)[10])\n",
    "ldlM\n",
    "ldlSE\n",
    "\n",
    "ldlN\n",
    "\n",
    "ldlNames"
   ]
  },
  {
   "cell_type": "markdown",
   "metadata": {},
   "source": [
    "We can now find the approximate p-values. This is not the same as the previous examples because the means are not being compared across matching values of different lists but down the rows of a single list. We will make use of two for loops. The idea is that we will loop though each row except the last row. Then for each of these rows we make a comparison for every row beneath:"
   ]
  },
  {
   "cell_type": "code",
   "execution_count": 21,
   "metadata": {},
   "outputs": [
    {
     "name": "stdout",
     "output_type": "stream",
     "text": [
      "( 1 , 2 ) -  AllG20  vs  AMA  p:  0.2229872 \n",
      "( 1 , 3 ) -  AllG20  vs  ANHW  p:  0.5221284 \n",
      "( 1 , 4 ) -  AllG20  vs  ANHB  p:  0.2895281 \n",
      "( 2 , 3 ) -  AMA  vs  ANHW  p:  0.09027066 \n",
      "( 2 , 4 ) -  AMA  vs  ANHB  p:  1 \n",
      "( 3 , 4 ) -  ANHW  vs  ANHB  p:  0.1340862 \n"
     ]
    }
   ],
   "source": [
    "for (j in 1:(length(ldlM)-1)) {\n",
    "    for (k in (j+1):length(ldlM)) {\n",
    "       diff <- ldlM[j]-ldlM[k]\n",
    "       se <- sqrt(ldlSE[j]^2+ldlSE[k]^2)\n",
    "       t <- diff/se\n",
    "       n <- min(ldlN[j],ldlN[k])-1\n",
    "       p <- 2*pt(-abs(t),df=n)\n",
    "       cat(\"(\",j,\",\",k,\") - \",ldlNames[j],\" vs \",ldlNames[k],\" p: \",p,\"\\n\")\n",
    "       }\n",
    "  }"
   ]
  },
  {
   "cell_type": "markdown",
   "metadata": {},
   "source": [
    "We cannot reject the null hypothesis at the 95% level for any of the differences. We cannot say that there is a significant difference between any of the groups in this comparison."
   ]
  },
  {
   "cell_type": "markdown",
   "metadata": {},
   "source": [
    "## Summary\n",
    "\n",
    "We examined some of the results stated in the paper Trends in Serum Lipids and Lipoproteins of Adults, 1960-2002 and confirmed the stated p-values for Tables 3 and 4. We also found the p-values for differences by some of the race categories in Table 2.\n",
    "\n",
    "When checking the p-values for Table 3 we found that nine of the eighteen differences are significant. When looking at the boxplot (below) for the means from Table 3 we see that two of those (the means for the two oldest categories for women) are outliers.\n",
    "\n"
   ]
  },
  {
   "cell_type": "code",
   "execution_count": 22,
   "metadata": {},
   "outputs": [
    {
     "data": {
      "image/png": "[encoded data removed]",
      "text/plain": [
       "Plot with title “Comparison of Serum Total Cholesterol By Study”"
      ]
     },
     "metadata": {},
     "output_type": "display_data"
    }
   ],
   "source": [
    "boxplot(t3$M.60,t3$M.71,t3$M.76,t3$M.88,t3$M.99,\n",
    "          names=c(\"60-62\",\"71-73\",\"76-80\",\"88-94\",\"99-02\"),\n",
    "          xlab=\"Studies\",ylab=\"Serum Total Cholesterol\",\n",
    "          main=\"Comparison of Serum Total Cholesterol By Study\")"
   ]
  },
  {
   "cell_type": "markdown",
   "metadata": {},
   "source": [
    "The boxplot helps demonstrate what was found in the comparisons of the previous studies. There has been long term declines in cholesterol levels over the whole term of these studies. The new wrinkle in this study is the association of the use of statins to reduce blood serum cholesterol levels. The results given in Table 6 show that every category of people has shown a significant increase in the use of statins.\n",
    "\n",
    "One question for discussion is whether or not the association demonstrates strong enough evidence to claim a causative link between the two. The news articles that were published in response to the article imply causation between the use of statins and lower cholesterol levels. However, the study only demonstrates a positive association, and the decline in cholesterol levels may be a long term phenomena with interactions between a wide range of factors."
   ]
  }
 ],
 "metadata": {
  "kernelspec": {
   "display_name": "R",
   "language": "R",
   "name": "ir"
  },
  "language_info": {
   "codemirror_mode": "r",
   "file_extension": ".r",
   "mimetype": "text/x-r-source",
   "name": "R",
   "pygments_lexer": "r",
   "version": "3.4.1"
  }
 },
 "nbformat": 4,
 "nbformat_minor": 1
}
