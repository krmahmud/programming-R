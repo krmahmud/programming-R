{
 "cells": [
  {
   "cell_type": "markdown",
   "metadata": {},
   "source": [
    "# Introduction to Programming"
   ]
  },
  {
   "cell_type": "markdown",
   "metadata": {},
   "source": [
    "## Executing the commands in a File"
   ]
  },
  {
   "cell_type": "markdown",
   "metadata": {},
   "source": [
    "A set of R commands can be saved in a file and then executed as if you had typed them in from the command line. The source command is used to read the file and execute the commands in the same sequence given in the file.\n",
    "\n",
    "\\> source('file.R')\n",
    "\n",
    "\\> help(source)\n",
    "\n",
    "\\>\n"
   ]
  },
  {
   "cell_type": "code",
   "execution_count": 6,
   "metadata": {},
   "outputs": [
    {
     "data": {
      "text/plain": [
       "   Min. 1st Qu.  Median    Mean 3rd Qu.    Max. \n",
       "-0.8062 -0.6667  0.2208  0.3305  1.0029  2.3632 "
      ]
     },
     "metadata": {},
     "output_type": "display_data"
    },
    {
     "name": "stdout",
     "output_type": "stream",
     "text": [
      "The summary of x is \n",
      " -0.8062084 -0.6666564 0.2208422 0.330463 1.002914 2.363238 \n",
      "   Min. 1st Qu.  Median    Mean 3rd Qu.    Max. \n",
      "-0.8062 -0.6667  0.2208  0.3305  1.0029  2.3632 \n"
     ]
    }
   ],
   "source": [
    "# Define a variable.\n",
    "x <- rnorm(10)\n",
    "\n",
    "# calculate the mean of x and print out the results.\n",
    "mux = mean(x)\n",
    "#cat(\"The mean of x is \",mux,\"\\n\")\n",
    "\n",
    "# print out a summary of the results\n",
    "summary(x)\n",
    "cat(\"The summary of x is \\n\",summary(x),\"\\n\")\n",
    "print(summary(x))"
   ]
  },
  {
   "cell_type": "markdown",
   "metadata": {},
   "source": [
    "Some examples are given assuming that a file, simpleEx.R, is in the current directory. "
   ]
  },
  {
   "cell_type": "code",
   "execution_count": 7,
   "metadata": {},
   "outputs": [
    {
     "name": "stdout",
     "output_type": "stream",
     "text": [
      "The mean of x is  -0.5490513 \n",
      "The summary of x is \n",
      " -2.318656 -1.557799 -1.062676 -0.5490513 0.8493697 1.384212 \n",
      "   Min. 1st Qu.  Median    Mean 3rd Qu.    Max. \n",
      "-2.3187 -1.5578 -1.0627 -0.5491  0.8494  1.3842 \n"
     ]
    }
   ],
   "source": [
    "source('simpleEx.R')"
   ]
  },
  {
   "cell_type": "markdown",
   "metadata": {},
   "source": [
    "\n",
    "The file also demonstrates the use of # to specify comments. Anything after the # is ignored. Also, the file demonstrates the use of cat and print to send results to the standard output. Note that the commands have options to send results to a file. Use help for more information.\n",
    "\n",
    "The output for the different options can be found below:"
   ]
  },
  {
   "cell_type": "code",
   "execution_count": 8,
   "metadata": {},
   "outputs": [
    {
     "name": "stdout",
     "output_type": "stream",
     "text": [
      "The mean of x is  0.2591133 \n",
      "The summary of x is \n",
      " -1.708577 -0.7353721 0.6607362 0.2591133 1.045939 1.877565 \n",
      "   Min. 1st Qu.  Median    Mean 3rd Qu.    Max. \n",
      "-1.7086 -0.7354  0.6607  0.2591  1.0459  1.8776 \n"
     ]
    }
   ],
   "source": [
    "source('simpleEx.R')"
   ]
  },
  {
   "cell_type": "code",
   "execution_count": 9,
   "metadata": {},
   "outputs": [
    {
     "name": "stdout",
     "output_type": "stream",
     "text": [
      "\n",
      "> x <- rnorm(10)\n",
      "\n",
      "> mux = mean(x)\n",
      "\n",
      "> cat(\"The mean of x is \", mean(x), \"\\n\")\n",
      "The mean of x is  0.05771005 \n",
      "\n",
      "> summary(x)\n",
      "    Min.  1st Qu.   Median     Mean  3rd Qu.     Max. \n",
      "-1.21062 -0.72977 -0.26571  0.05771  0.32697  2.27370 \n",
      "\n",
      "> cat(\"The summary of x is \\n\", summary(x), \"\\n\")\n",
      "The summary of x is \n",
      " -1.210617 -0.7297702 -0.2657094 0.05771005 0.3269658 2.273703 \n",
      "\n",
      "> print(summary(x))\n",
      "    Min.  1st Qu.   Median     Mean  3rd Qu.     Max. \n",
      "-1.21062 -0.72977 -0.26571  0.05771  0.32697  2.27370 \n"
     ]
    }
   ],
   "source": [
    "source('simpleEx.R',echo=TRUE)"
   ]
  },
  {
   "cell_type": "code",
   "execution_count": 10,
   "metadata": {},
   "outputs": [
    {
     "name": "stdout",
     "output_type": "stream",
     "text": [
      "The mean of x is  0.2588207 \n",
      "   Min. 1st Qu.  Median    Mean 3rd Qu.    Max. \n",
      "-1.0812 -0.0650  0.2341  0.2588  0.7490  1.4642 \n",
      "The summary of x is \n",
      " -1.081173 -0.06500179 0.2341496 0.2588207 0.7489819 1.464185 \n",
      "   Min. 1st Qu.  Median    Mean 3rd Qu.    Max. \n",
      "-1.0812 -0.0650  0.2341  0.2588  0.7490  1.4642 \n"
     ]
    }
   ],
   "source": [
    "source('simpleEx.R',print.eval=TRUE)"
   ]
  },
  {
   "cell_type": "code",
   "execution_count": 11,
   "metadata": {},
   "outputs": [
    {
     "name": "stdout",
     "output_type": "stream",
     "text": [
      "The mean of x is  -0.2705606 \n",
      "The summary of x is \n",
      " -2.199802 -0.916397 -0.1260679 -0.2705606 0.4279287 0.9248894 \n",
      "   Min. 1st Qu.  Median    Mean 3rd Qu.    Max. \n",
      "-2.1998 -0.9164 -0.1261 -0.2706  0.4279  0.9249 \n"
     ]
    }
   ],
   "source": [
    "source('simpleEx.R',print.eval=FALSE)"
   ]
  },
  {
   "cell_type": "code",
   "execution_count": 12,
   "metadata": {},
   "outputs": [
    {
     "name": "stdout",
     "output_type": "stream",
     "text": [
      "'envir' chosen:<environment: R_GlobalEnv>\n",
      "encoding = \"native.enc\" chosen\n",
      "--> parsed 6 expressions; now eval(.)ing them:\n",
      "\n",
      ">>>> eval(expression_nr. 1 )\n",
      "\t\t =================\n",
      "\n",
      "> x <- rnorm(10)\n",
      "curr.fun: symbol <-\n",
      " .. after ‘expression(x <- rnorm(10))’\n",
      "\n",
      ">>>> eval(expression_nr. 2 )\n",
      "\t\t =================\n",
      "\n",
      "> mux = mean(x)\n",
      "curr.fun: symbol =\n",
      " .. after ‘expression(mux = mean(x))’\n",
      "\n",
      ">>>> eval(expression_nr. 3 )\n",
      "\t\t =================\n",
      "\n",
      "> cat(\"The mean of x is \", mean(x), \"\\n\")\n",
      "The mean of x is  0.2019424 \n",
      "curr.fun: symbol cat\n",
      " .. after ‘expression(cat(\"The mean of x is \", mean(x), \"\\n\"))’\n",
      "\n",
      ">>>> eval(expression_nr. 4 )\n",
      "\t\t =================\n",
      "\n",
      "> summary(x)\n",
      "curr.fun: symbol summary\n",
      "   Min. 1st Qu.  Median    Mean 3rd Qu.    Max. \n",
      "-1.4809 -1.0519  0.1729  0.2019  0.7191  2.8315 \n",
      " .. after ‘expression(summary(x))’\n",
      "\n",
      ">>>> eval(expression_nr. 5 )\n",
      "\t\t =================\n",
      "\n",
      "> cat(\"The summary of x is \\n\", summary(x), \"\\n\")\n",
      "The summary of x is \n",
      " -1.480942 -1.051911 0.1728507 0.2019424 0.7190653 2.831464 \n",
      "curr.fun: symbol cat\n",
      " .. after ‘expression(cat(\"The summary of x is \\n\", summary(x), \"\\n\"))’\n",
      "\n",
      ">>>> eval(expression_nr. 6 )\n",
      "\t\t =================\n",
      "\n",
      "> print(summary(x))\n",
      "   Min. 1st Qu.  Median    Mean 3rd Qu.    Max. \n",
      "-1.4809 -1.0519  0.1729  0.2019  0.7191  2.8315 \n",
      "curr.fun: symbol print\n",
      " .. after ‘expression(print(summary(x)))’\n"
     ]
    }
   ],
   "source": [
    "source('simpleEx.R',verbose=TRUE)"
   ]
  },
  {
   "cell_type": "markdown",
   "metadata": {},
   "source": [
    "One common problem that occurs is that R may not know where to find a file."
   ]
  },
  {
   "cell_type": "code",
   "execution_count": 13,
   "metadata": {},
   "outputs": [
    {
     "name": "stderr",
     "output_type": "stream",
     "text": [
      "Warning message in file(filename, \"r\", encoding = encoding):\n",
      "“cannot open file 'notThere.R': No such file or directory”"
     ]
    },
    {
     "ename": "ERROR",
     "evalue": "Error in file(filename, \"r\", encoding = encoding): cannot open the connection\n",
     "output_type": "error",
     "traceback": [
      "Error in file(filename, \"r\", encoding = encoding): cannot open the connection\nTraceback:\n",
      "1. source(\"notThere.R\")",
      "2. file(filename, \"r\", encoding = encoding)"
     ]
    }
   ],
   "source": [
    "source('notThere.R')"
   ]
  },
  {
   "cell_type": "markdown",
   "metadata": {},
   "source": [
    "R will search the current working directory. You can see what files are in the directory using the dir command, and you can determine the current directory using the getwd command."
   ]
  },
  {
   "cell_type": "code",
   "execution_count": 14,
   "metadata": {},
   "outputs": [
    {
     "data": {
      "text/html": [
       "'/home/cse/Python_Lectures'"
      ],
      "text/latex": [
       "'/home/cse/Python\\_Lectures'"
      ],
      "text/markdown": [
       "'/home/cse/Python_Lectures'"
      ],
      "text/plain": [
       "[1] \"/home/cse/Python_Lectures\""
      ]
     },
     "metadata": {},
     "output_type": "display_data"
    }
   ],
   "source": [
    "getwd()"
   ]
  },
  {
   "cell_type": "code",
   "execution_count": 15,
   "metadata": {},
   "outputs": [
    {
     "data": {
      "text/html": [
       "<ol class=list-inline>\n",
       "\t<li>'anaconda-install-ubuntu-14.04-R.txt'</li>\n",
       "\t<li>'basic-plot-R-lecture-5.ipynb'</li>\n",
       "\t<li>'cities.txt'</li>\n",
       "\t<li>'clone_your_repository.txt'</li>\n",
       "\t<li>'data-management-R-lecture-10.ipynb'</li>\n",
       "\t<li>'data-types-R-lecture-2.ipynb'</li>\n",
       "\t<li>'example1.txt'</li>\n",
       "\t<li>'fixedWidth.dat'</li>\n",
       "\t<li>'hist.png'</li>\n",
       "\t<li>'hist1.png'</li>\n",
       "\t<li>'indexing-vectors-R-lecture-7.ipynb'</li>\n",
       "\t<li>'Input-R-lecture-1.ipynb'</li>\n",
       "\t<li>'intermediate-plotting-R-lecture-6.ipynb'</li>\n",
       "\t<li>'linear-regression-R-lecture-8.ipynb'</li>\n",
       "\t<li>'numberlist.txt'</li>\n",
       "\t<li>'numerical-desription-R-lecture-3.ipynb'</li>\n",
       "\t<li>'probability-distributions-R-lecture-4.ipynb'</li>\n",
       "\t<li>'Python_Lecture_1_PYTHON_BASICS.ipynb'</li>\n",
       "\t<li>'Python_Lecture_2_PYTHON_FUNCTIONS.ipynb'</li>\n",
       "\t<li>'Python_Lecture_3_PYTHON_STRINGS_LISTS.ipynb'</li>\n",
       "\t<li>'Python_Lecture_4_PYTHON_DICTIONARIES_TUPLES.ipynb'</li>\n",
       "\t<li>'Python_Lecture_5_PYTHON_FOR_LOOP_IF_STRUCTURE_WHILE_STRUCTURE.ipynb'</li>\n",
       "\t<li>'Python_Lecture_6_PYTHON_INPUT.ipynb'</li>\n",
       "\t<li>'simple.csv'</li>\n",
       "\t<li>'simpleEx.R'</li>\n",
       "\t<li>'smoker.csv'</li>\n",
       "\t<li>'time-data-types-R-lecture-11.ipynb'</li>\n",
       "\t<li>'trees91.csv'</li>\n",
       "\t<li>'two-way-tables-R-lecture-9.ipynb'</li>\n",
       "\t<li>'Untitled.ipynb'</li>\n",
       "\t<li>'w1.dat'</li>\n",
       "</ol>\n"
      ],
      "text/latex": [
       "\\begin{enumerate*}\n",
       "\\item 'anaconda-install-ubuntu-14.04-R.txt'\n",
       "\\item 'basic-plot-R-lecture-5.ipynb'\n",
       "\\item 'cities.txt'\n",
       "\\item 'clone\\_your\\_repository.txt'\n",
       "\\item 'data-management-R-lecture-10.ipynb'\n",
       "\\item 'data-types-R-lecture-2.ipynb'\n",
       "\\item 'example1.txt'\n",
       "\\item 'fixedWidth.dat'\n",
       "\\item 'hist.png'\n",
       "\\item 'hist1.png'\n",
       "\\item 'indexing-vectors-R-lecture-7.ipynb'\n",
       "\\item 'Input-R-lecture-1.ipynb'\n",
       "\\item 'intermediate-plotting-R-lecture-6.ipynb'\n",
       "\\item 'linear-regression-R-lecture-8.ipynb'\n",
       "\\item 'numberlist.txt'\n",
       "\\item 'numerical-desription-R-lecture-3.ipynb'\n",
       "\\item 'probability-distributions-R-lecture-4.ipynb'\n",
       "\\item 'Python\\_Lecture\\_1\\_PYTHON\\_BASICS.ipynb'\n",
       "\\item 'Python\\_Lecture\\_2\\_PYTHON\\_FUNCTIONS.ipynb'\n",
       "\\item 'Python\\_Lecture\\_3\\_PYTHON\\_STRINGS\\_LISTS.ipynb'\n",
       "\\item 'Python\\_Lecture\\_4\\_PYTHON\\_DICTIONARIES\\_TUPLES.ipynb'\n",
       "\\item 'Python\\_Lecture\\_5\\_PYTHON\\_FOR\\_LOOP\\_IF\\_STRUCTURE\\_WHILE\\_STRUCTURE.ipynb'\n",
       "\\item 'Python\\_Lecture\\_6\\_PYTHON\\_INPUT.ipynb'\n",
       "\\item 'simple.csv'\n",
       "\\item 'simpleEx.R'\n",
       "\\item 'smoker.csv'\n",
       "\\item 'time-data-types-R-lecture-11.ipynb'\n",
       "\\item 'trees91.csv'\n",
       "\\item 'two-way-tables-R-lecture-9.ipynb'\n",
       "\\item 'Untitled.ipynb'\n",
       "\\item 'w1.dat'\n",
       "\\end{enumerate*}\n"
      ],
      "text/markdown": [
       "1. 'anaconda-install-ubuntu-14.04-R.txt'\n",
       "2. 'basic-plot-R-lecture-5.ipynb'\n",
       "3. 'cities.txt'\n",
       "4. 'clone_your_repository.txt'\n",
       "5. 'data-management-R-lecture-10.ipynb'\n",
       "6. 'data-types-R-lecture-2.ipynb'\n",
       "7. 'example1.txt'\n",
       "8. 'fixedWidth.dat'\n",
       "9. 'hist.png'\n",
       "10. 'hist1.png'\n",
       "11. 'indexing-vectors-R-lecture-7.ipynb'\n",
       "12. 'Input-R-lecture-1.ipynb'\n",
       "13. 'intermediate-plotting-R-lecture-6.ipynb'\n",
       "14. 'linear-regression-R-lecture-8.ipynb'\n",
       "15. 'numberlist.txt'\n",
       "16. 'numerical-desription-R-lecture-3.ipynb'\n",
       "17. 'probability-distributions-R-lecture-4.ipynb'\n",
       "18. 'Python_Lecture_1_PYTHON_BASICS.ipynb'\n",
       "19. 'Python_Lecture_2_PYTHON_FUNCTIONS.ipynb'\n",
       "20. 'Python_Lecture_3_PYTHON_STRINGS_LISTS.ipynb'\n",
       "21. 'Python_Lecture_4_PYTHON_DICTIONARIES_TUPLES.ipynb'\n",
       "22. 'Python_Lecture_5_PYTHON_FOR_LOOP_IF_STRUCTURE_WHILE_STRUCTURE.ipynb'\n",
       "23. 'Python_Lecture_6_PYTHON_INPUT.ipynb'\n",
       "24. 'simple.csv'\n",
       "25. 'simpleEx.R'\n",
       "26. 'smoker.csv'\n",
       "27. 'time-data-types-R-lecture-11.ipynb'\n",
       "28. 'trees91.csv'\n",
       "29. 'two-way-tables-R-lecture-9.ipynb'\n",
       "30. 'Untitled.ipynb'\n",
       "31. 'w1.dat'\n",
       "\n",
       "\n"
      ],
      "text/plain": [
       " [1] \"anaconda-install-ubuntu-14.04-R.txt\"                                \n",
       " [2] \"basic-plot-R-lecture-5.ipynb\"                                       \n",
       " [3] \"cities.txt\"                                                         \n",
       " [4] \"clone_your_repository.txt\"                                          \n",
       " [5] \"data-management-R-lecture-10.ipynb\"                                 \n",
       " [6] \"data-types-R-lecture-2.ipynb\"                                       \n",
       " [7] \"example1.txt\"                                                       \n",
       " [8] \"fixedWidth.dat\"                                                     \n",
       " [9] \"hist.png\"                                                           \n",
       "[10] \"hist1.png\"                                                          \n",
       "[11] \"indexing-vectors-R-lecture-7.ipynb\"                                 \n",
       "[12] \"Input-R-lecture-1.ipynb\"                                            \n",
       "[13] \"intermediate-plotting-R-lecture-6.ipynb\"                            \n",
       "[14] \"linear-regression-R-lecture-8.ipynb\"                                \n",
       "[15] \"numberlist.txt\"                                                     \n",
       "[16] \"numerical-desription-R-lecture-3.ipynb\"                             \n",
       "[17] \"probability-distributions-R-lecture-4.ipynb\"                        \n",
       "[18] \"Python_Lecture_1_PYTHON_BASICS.ipynb\"                               \n",
       "[19] \"Python_Lecture_2_PYTHON_FUNCTIONS.ipynb\"                            \n",
       "[20] \"Python_Lecture_3_PYTHON_STRINGS_LISTS.ipynb\"                        \n",
       "[21] \"Python_Lecture_4_PYTHON_DICTIONARIES_TUPLES.ipynb\"                  \n",
       "[22] \"Python_Lecture_5_PYTHON_FOR_LOOP_IF_STRUCTURE_WHILE_STRUCTURE.ipynb\"\n",
       "[23] \"Python_Lecture_6_PYTHON_INPUT.ipynb\"                                \n",
       "[24] \"simple.csv\"                                                         \n",
       "[25] \"simpleEx.R\"                                                         \n",
       "[26] \"smoker.csv\"                                                         \n",
       "[27] \"time-data-types-R-lecture-11.ipynb\"                                 \n",
       "[28] \"trees91.csv\"                                                        \n",
       "[29] \"two-way-tables-R-lecture-9.ipynb\"                                   \n",
       "[30] \"Untitled.ipynb\"                                                     \n",
       "[31] \"w1.dat\"                                                             "
      ]
     },
     "metadata": {},
     "output_type": "display_data"
    }
   ],
   "source": [
    "dir()"
   ]
  },
  {
   "cell_type": "markdown",
   "metadata": {},
   "source": [
    "## if statements\n",
    "Conditional execution is available using the if statement and the corresponding else statement."
   ]
  },
  {
   "cell_type": "code",
   "execution_count": 16,
   "metadata": {},
   "outputs": [
    {
     "name": "stdout",
     "output_type": "stream",
     "text": [
      "increment that number!\n"
     ]
    },
    {
     "data": {
      "text/html": [
       "1.1"
      ],
      "text/latex": [
       "1.1"
      ],
      "text/markdown": [
       "1.1"
      ],
      "text/plain": [
       "[1] 1.1"
      ]
     },
     "metadata": {},
     "output_type": "display_data"
    }
   ],
   "source": [
    "x = 0.1\n",
    "if( x < 0.2)\n",
    "    {\n",
    "        x <- x + 1\n",
    "        cat(\"increment that number!\\n\")\n",
    "    }\n",
    "#increment that number!\n",
    "x"
   ]
  },
  {
   "cell_type": "markdown",
   "metadata": {},
   "source": [
    "The else statement can be used to specify an alternate option. In the example below note that the else statement must be on the same line as the ending brace for the previous if block."
   ]
  },
  {
   "cell_type": "code",
   "execution_count": 19,
   "metadata": {},
   "outputs": [
    {
     "name": "stdout",
     "output_type": "stream",
     "text": [
      "nah, make it smaller.\n"
     ]
    },
    {
     "data": {
      "text/html": [
       "1"
      ],
      "text/latex": [
       "1"
      ],
      "text/markdown": [
       "1"
      ],
      "text/plain": [
       "[1] 1"
      ]
     },
     "metadata": {},
     "output_type": "display_data"
    }
   ],
   "source": [
    "x = 2.0\n",
    "if ( x < 0.2)\n",
    "    {\n",
    "        x <- x + 1\n",
    "        cat(\"increment that number!\\n\")\n",
    "    }else\n",
    "    {\n",
    "        x <- x - 1\n",
    "        cat(\"nah, make it smaller.\\n\");\n",
    "    }\n",
    "x"
   ]
  },
  {
   "cell_type": "markdown",
   "metadata": {},
   "source": [
    "Finally, the if statements can be chained together for multiple options. The if statement is considered a single code block, so more if statements can be added after the else."
   ]
  },
  {
   "cell_type": "code",
   "execution_count": 20,
   "metadata": {},
   "outputs": [
    {
     "name": "stdout",
     "output_type": "stream",
     "text": [
      "not big enough!\n"
     ]
    },
    {
     "data": {
      "text/html": [
       "2"
      ],
      "text/latex": [
       "2"
      ],
      "text/markdown": [
       "2"
      ],
      "text/plain": [
       "[1] 2"
      ]
     },
     "metadata": {},
     "output_type": "display_data"
    }
   ],
   "source": [
    "x = 1.0\n",
    "if ( x < 0.2)\n",
    "    {\n",
    "        x <- x + 1\n",
    "        cat(\"increment that number!\\n\")\n",
    "    } else if ( x < 2.0)\n",
    "    {\n",
    "        x <- 2.0*x\n",
    "        cat(\"not big enough!\\n\")\n",
    "    } else\n",
    "    {\n",
    "        x <- x - 1\n",
    "        cat(\"nah, make it smaller.\\n\");\n",
    "    }\n",
    "x"
   ]
  },
  {
   "cell_type": "markdown",
   "metadata": {},
   "source": [
    "## for statements\n",
    "\n"
   ]
  },
  {
   "cell_type": "markdown",
   "metadata": {},
   "source": [
    "The for loop can be used to repeat a set of instructions, and it is used when you know in advance the values that the loop variable will have each time it goes through the loop. The basic format for the for loop is for(var in seq) expr\n",
    "\n",
    "\n",
    "An example is given below:"
   ]
  },
  {
   "cell_type": "code",
   "execution_count": 21,
   "metadata": {},
   "outputs": [
    {
     "name": "stdout",
     "output_type": "stream",
     "text": [
      "0 \n",
      "0.3 \n",
      "0.6 \n",
      "0.9 \n"
     ]
    }
   ],
   "source": [
    "for (lupe in seq(0,1,by=0.3))\n",
    "{\n",
    "        cat(lupe,\"\\n\");\n",
    "}"
   ]
  },
  {
   "cell_type": "code",
   "execution_count": 22,
   "metadata": {},
   "outputs": [
    {
     "name": "stdout",
     "output_type": "stream",
     "text": [
      "value of loop:  1 \n",
      "value of loop:  2 \n",
      "value of loop:  4 \n",
      "value of loop:  8 \n",
      "value of loop:  16 \n"
     ]
    }
   ],
   "source": [
    "x <- c(1,2,4,8,16)\n",
    "for (loop in x)\n",
    "{\n",
    "    cat(\"value of loop: \",loop,\"\\n\");\n",
    "}"
   ]
  },
  {
   "cell_type": "markdown",
   "metadata": {},
   "source": [
    "## while statements\n",
    "The while loop can be used to repeat a set of instructions, and it is often used when you do not know in advance how often the instructions will be executed. The basic format for a while loop is while(cond) expr"
   ]
  },
  {
   "cell_type": "code",
   "execution_count": 23,
   "metadata": {},
   "outputs": [
    {
     "name": "stdout",
     "output_type": "stream",
     "text": [
      "trying this value:  1.849869  ( 1  times in loop)\n",
      "trying this value:  2.291895  ( 2  times in loop)\n",
      "trying this value:  2.2037  ( 3  times in loop)\n",
      "trying this value:  7.675012  ( 4  times in loop)\n"
     ]
    }
   ],
   "source": [
    "lupe <- 1;\n",
    "x <- 1\n",
    "while(x < 4)\n",
    "{\n",
    "    x <- rnorm(1,mean=2,sd=3)\n",
    "    cat(\"trying this value: \",x,\" (\",lupe,\" times in loop)\\n\");\n",
    "    lupe <- lupe + 1\n",
    "}"
   ]
  },
  {
   "cell_type": "markdown",
   "metadata": {},
   "source": [
    "## repeat statements\n",
    "The repeat loop is similar to the while loop. The difference is that it will always begin the loop the first time. The while loop will only start the loop if the condition is true the first time it is evaluated. Another difference is that you have to explicitly specify when to stop the loop using the break command.\n",
    "\n",
    "That is you need to execute the break statement to get out of the loop."
   ]
  },
  {
   "cell_type": "code",
   "execution_count": 24,
   "metadata": {},
   "outputs": [
    {
     "data": {
      "text/html": [
       "-2.44784171584851"
      ],
      "text/latex": [
       "-2.44784171584851"
      ],
      "text/markdown": [
       "-2.44784171584851"
      ],
      "text/plain": [
       "[1] -2.447842"
      ]
     },
     "metadata": {},
     "output_type": "display_data"
    }
   ],
   "source": [
    "repeat\n",
    "{\n",
    "    x <- rnorm(1)\n",
    "    if(x < -2.0) break\n",
    "}\n",
    "x"
   ]
  },
  {
   "cell_type": "markdown",
   "metadata": {},
   "source": [
    "## break and next statements\n",
    "The break statement is used to stop the execution of the current loop. It will break out of the current loop. The next statement is used to skip the statements that follow and restart the current loop. If a for loop is used then the next statement will update the loop variable."
   ]
  },
  {
   "cell_type": "code",
   "execution_count": 25,
   "metadata": {},
   "outputs": [
    {
     "name": "stdout",
     "output_type": "stream",
     "text": [
      "The value of lupe is  -0.338553 \n",
      "The value of lupe is  -0.8899581 \n",
      "The value of lupe is  0.01398593 \n",
      "The value of lupe is  -0.8135413 \n",
      "The value of lupe is  -1.638293 \n"
     ]
    }
   ],
   "source": [
    "x <- rnorm(5)\n",
    "for(lupe in x)\n",
    "{\n",
    "    if (lupe > 2.0)\n",
    "        next\n",
    "    if( (lupe<0.6) && (lupe > 0.5))\n",
    "        break\n",
    "    cat(\"The value of lupe is \",lupe,\"\\n\");\n",
    "}"
   ]
  },
  {
   "cell_type": "markdown",
   "metadata": {},
   "source": [
    "## switch statement\n",
    "The switch takes an expression and returns a value in a list based on the value of the expression. How it does this depends on the data type of the expression. The basic syntax is switch(statement,item1,item2,item3,...,itemN).\n",
    "\n",
    "If the result of the expression is a number then it returns the item in the list with the same index. Note that the expression is cast as an integer if it is not an integer."
   ]
  },
  {
   "cell_type": "code",
   "execution_count": 27,
   "metadata": {},
   "outputs": [
    {
     "data": {
      "text/html": [
       "2"
      ],
      "text/latex": [
       "2"
      ],
      "text/markdown": [
       "2"
      ],
      "text/plain": [
       "[1] 2"
      ]
     },
     "metadata": {},
     "output_type": "display_data"
    },
    {
     "data": {
      "text/html": [
       "2"
      ],
      "text/latex": [
       "2"
      ],
      "text/markdown": [
       "2"
      ],
      "text/plain": [
       "[1] 2"
      ]
     },
     "metadata": {},
     "output_type": "display_data"
    },
    {
     "data": {
      "text/html": [
       "3.5"
      ],
      "text/latex": [
       "3.5"
      ],
      "text/markdown": [
       "3.5"
      ],
      "text/plain": [
       "[1] 3.5"
      ]
     },
     "metadata": {},
     "output_type": "display_data"
    },
    {
     "data": {
      "text/html": [
       "3"
      ],
      "text/latex": [
       "3"
      ],
      "text/markdown": [
       "3"
      ],
      "text/plain": [
       "[1] 3"
      ]
     },
     "metadata": {},
     "output_type": "display_data"
    }
   ],
   "source": [
    "x <- as.integer(2)\n",
    "x\n",
    "z = switch(x,1,2,3,4,5)\n",
    "z\n",
    "x <- 3.5\n",
    "x\n",
    "z = switch(x,1,2,3,4,5)\n",
    "z"
   ]
  },
  {
   "cell_type": "markdown",
   "metadata": {},
   "source": [
    "If the result of the expression is a string, then the list of items should be in the form “valueN”=resultN, and the statement will return the result that matches the value."
   ]
  },
  {
   "cell_type": "code",
   "execution_count": 28,
   "metadata": {},
   "outputs": [
    {
     "data": {
      "text/html": [
       "<ol class=list-inline>\n",
       "\t<li>-0.901286596367091</li>\n",
       "\t<li>0.009900381202545</li>\n",
       "\t<li>-0.588436370713637</li>\n",
       "\t<li>0.191878251390895</li>\n",
       "\t<li>1.99476690240008</li>\n",
       "</ol>\n"
      ],
      "text/latex": [
       "\\begin{enumerate*}\n",
       "\\item -0.901286596367091\n",
       "\\item 0.009900381202545\n",
       "\\item -0.588436370713637\n",
       "\\item 0.191878251390895\n",
       "\\item 1.99476690240008\n",
       "\\end{enumerate*}\n"
      ],
      "text/markdown": [
       "1. -0.901286596367091\n",
       "2. 0.009900381202545\n",
       "3. -0.588436370713637\n",
       "4. 0.191878251390895\n",
       "5. 1.99476690240008\n",
       "\n",
       "\n"
      ],
      "text/plain": [
       "[1] -0.901286596  0.009900381 -0.588436371  0.191878251  1.994766902"
      ]
     },
     "metadata": {},
     "output_type": "display_data"
    },
    {
     "data": {
      "text/html": [
       "1.12635091539926"
      ],
      "text/latex": [
       "1.12635091539926"
      ],
      "text/markdown": [
       "1.12635091539926"
      ],
      "text/plain": [
       "[1] 1.126351"
      ]
     },
     "metadata": {},
     "output_type": "display_data"
    },
    {
     "data": {
      "text/html": [
       "0.009900381202545"
      ],
      "text/latex": [
       "0.009900381202545"
      ],
      "text/markdown": [
       "0.009900381202545"
      ],
      "text/plain": [
       "[1] 0.009900381"
      ]
     },
     "metadata": {},
     "output_type": "display_data"
    }
   ],
   "source": [
    "y <- rnorm(5)\n",
    "y\n",
    "x <- \"sd\"\n",
    "z <- switch(x,\"mean\"=mean(y),\"median\"=median(y),\"variance\"=var(y),\"sd\"=sd(y))\n",
    "z\n",
    "x <- \"median\"\n",
    "z <- switch(x,\"mean\"=mean(y),\"median\"=median(y),\"variance\"=var(y),\"sd\"=sd(y))\n",
    "z"
   ]
  },
  {
   "cell_type": "markdown",
   "metadata": {},
   "source": [
    "## scan statement\n",
    "The command to read input from the keyboard is the scan statement. It has a wide variety of options and can be fine tuned to your specific needs. We only look at the basics here. The scan statement waits for input from a user, and it returns the value that was typed in.\n",
    "\n",
    "When using the command with no set number of lines the command will continue to read keyboard input until a blank line is entered.\n",
    "\n",
    "\\> help(scan)\n",
    "\n",
    "\\> a <- scan(what=double(0))\n",
    "\n",
    "1: 3.5\n",
    "\n",
    "2:\n",
    "\n",
    "Read 1 item\n",
    "\n",
    "\\> a\n",
    "\n",
    "[1] 3.5\n",
    "\n",
    "\\> typeof(a)\n",
    "\n",
    "[1] \"double\"\n",
    "\n",
    "\\>\n",
    "\n",
    "\\> a <- scan(what=double(0))\n",
    "\n",
    "1: yo!\n",
    "\n",
    "1:\n",
    "\n",
    "Error in scan(file, what, nmax, sep, dec, quote, skip, nlines, na.strings,  :\n",
    "scan() expected 'a real', got 'yo!'"
   ]
  },
  {
   "cell_type": "markdown",
   "metadata": {},
   "source": [
    "If you wish to only have it read from a fixed number of lines the nmax option can specify how many lines can be typed in, and the multi.line option can be used to turn off multi-line entry.\n",
    "\n",
    "\\> a <-  scan(what=double(0),nmax=1,multi.line = FALSE)\n",
    "\n",
    "1: 6.7\n",
    "\n",
    "Read 1 item\n",
    "\n",
    "\\> a\n",
    "\n",
    "[1] 6.7"
   ]
  },
  {
   "cell_type": "markdown",
   "metadata": {},
   "source": [
    "# Functions\n",
    "A shallow overview of defining functions is given here. A few subtleties will be noted, but R can be a little quirky with respect to defining functions. The first bit of oddness is that you can think of a function as an object where you define the function and assign it to a variable name.\n",
    "\n",
    "To define a function you assign it to a name, and the keyword function is used to denote the start of the function and its argument list."
   ]
  },
  {
   "cell_type": "code",
   "execution_count": 34,
   "metadata": {},
   "outputs": [
    {
     "data": {
      "text/html": [
       "-0.117094420129433"
      ],
      "text/latex": [
       "-0.117094420129433"
      ],
      "text/markdown": [
       "-0.117094420129433"
      ],
      "text/plain": [
       "[1] -0.1170944"
      ]
     },
     "metadata": {},
     "output_type": "display_data"
    },
    {
     "data": {
      "text/html": [
       "<pre class=language-r><code>function (a, b) \n",
       "{\n",
       "<span style=white-space:pre-wrap>    x = runif(10, a, b)</span>\n",
       "<span style=white-space:pre-wrap>    mean(x)</span>\n",
       "}</code></pre>"
      ],
      "text/latex": [
       "\\begin{minted}{r}\n",
       "function (a, b) \n",
       "\\{\n",
       "    x = runif(10, a, b)\n",
       "    mean(x)\n",
       "\\}\n",
       "\\end{minted}"
      ],
      "text/markdown": [
       "```r\n",
       "function (a, b) \n",
       "{\n",
       "    x = runif(10, a, b)\n",
       "    mean(x)\n",
       "}\n",
       "```"
      ],
      "text/plain": [
       "function(a,b)\n",
       "{\n",
       "    x = runif(10,a,b)\n",
       "    mean(x)\n",
       "}"
      ]
     },
     "metadata": {},
     "output_type": "display_data"
    }
   ],
   "source": [
    "newDef <- function(a,b)\n",
    "{\n",
    "    x = runif(10,a,b)\n",
    "    mean(x)\n",
    "}\n",
    "newDef(-1,1)\n",
    "newDef"
   ]
  },
  {
   "cell_type": "markdown",
   "metadata": {},
   "source": [
    "The last expression in the function is what is returned. So in the example above the sample mean of the numbers is returned."
   ]
  },
  {
   "cell_type": "code",
   "execution_count": 36,
   "metadata": {},
   "outputs": [
    {
     "data": {
      "text/html": [
       "0.333202007622458"
      ],
      "text/latex": [
       "0.333202007622458"
      ],
      "text/markdown": [
       "0.333202007622458"
      ],
      "text/plain": [
       "[1] 0.333202"
      ]
     },
     "metadata": {},
     "output_type": "display_data"
    }
   ],
   "source": [
    "x <- newDef(0,1)\n",
    "x"
   ]
  },
  {
   "cell_type": "markdown",
   "metadata": {},
   "source": [
    "The arguments that are passed are matched in order. They can be specified explicitly, though."
   ]
  },
  {
   "cell_type": "code",
   "execution_count": 39,
   "metadata": {},
   "outputs": [
    {
     "data": {
      "text/html": [
       "6.26729045948014"
      ],
      "text/latex": [
       "6.26729045948014"
      ],
      "text/markdown": [
       "6.26729045948014"
      ],
      "text/plain": [
       "[1] 6.26729"
      ]
     },
     "metadata": {},
     "output_type": "display_data"
    },
    {
     "name": "stderr",
     "output_type": "stream",
     "text": [
      "Warning message in runif(10, a, b):\n",
      "“NAs produced”"
     ]
    },
    {
     "data": {
      "text/html": [
       "NaN"
      ],
      "text/latex": [
       "NaN"
      ],
      "text/markdown": [
       "NaN"
      ],
      "text/plain": [
       "[1] NaN"
      ]
     },
     "metadata": {},
     "output_type": "display_data"
    }
   ],
   "source": [
    "newDef(b=10,a=1)\n",
    "newDef(10,1)"
   ]
  },
  {
   "cell_type": "markdown",
   "metadata": {},
   "source": [
    "You can mix this approach, and R will try to match up the named arguments and then match the rest going from left to right. Another bit of weirdness is that R will not evaluate an expression in the argument list until the moment it is needed in the function. This is a different kind of behavior than what most people are used to, so be very careful about this. The best rule of thumb is to not put in operations in an argument list if they matter after the function is called.\n",
    "\n",
    "Another common task is to have a function return multiple items. This can be accomplished by returning a list of items. The objects within a list can be accessed using the same $ notation that is used for data frames."
   ]
  },
  {
   "cell_type": "code",
   "execution_count": 40,
   "metadata": {},
   "outputs": [
    {
     "data": {
      "text/html": [
       "<dl>\n",
       "\t<dt>$stat</dt>\n",
       "\t\t<dd>3</dd>\n",
       "\t<dt>$number</dt>\n",
       "\t\t<dd>4</dd>\n",
       "</dl>\n"
      ],
      "text/latex": [
       "\\begin{description}\n",
       "\\item[\\$stat] 3\n",
       "\\item[\\$number] 4\n",
       "\\end{description}\n"
      ],
      "text/markdown": [
       "$stat\n",
       ":   3\n",
       "$number\n",
       ":   4\n",
       "\n",
       "\n"
      ],
      "text/plain": [
       "$stat\n",
       "[1] 3\n",
       "\n",
       "$number\n",
       "[1] 4\n"
      ]
     },
     "metadata": {},
     "output_type": "display_data"
    }
   ],
   "source": [
    "c = c(1,2,3,4,5)\n",
    "sample <- function(a,b)\n",
    "{\n",
    "    value = switch(a,\"median\"=median(b),\"mean\"=mean(b),\"variance\"=var(b))\n",
    "    largeVals = length(c[c>1])\n",
    "    list(stat=value,number=largeVals)\n",
    "}\n",
    "result <- sample(\"median\",c)\n",
    "result"
   ]
  },
  {
   "cell_type": "code",
   "execution_count": 41,
   "metadata": {},
   "outputs": [
    {
     "data": {
      "text/html": [
       "3"
      ],
      "text/latex": [
       "3"
      ],
      "text/markdown": [
       "3"
      ],
      "text/plain": [
       "[1] 3"
      ]
     },
     "metadata": {},
     "output_type": "display_data"
    }
   ],
   "source": [
    "result$stat"
   ]
  },
  {
   "cell_type": "code",
   "execution_count": 42,
   "metadata": {},
   "outputs": [
    {
     "data": {
      "text/html": [
       "4"
      ],
      "text/latex": [
       "4"
      ],
      "text/markdown": [
       "4"
      ],
      "text/plain": [
       "[1] 4"
      ]
     },
     "metadata": {},
     "output_type": "display_data"
    }
   ],
   "source": [
    "result$number"
   ]
  },
  {
   "cell_type": "code",
   "execution_count": null,
   "metadata": {
    "collapsed": true
   },
   "outputs": [],
   "source": []
  }
 ],
 "metadata": {
  "kernelspec": {
   "display_name": "R",
   "language": "R",
   "name": "ir"
  },
  "language_info": {
   "codemirror_mode": "r",
   "file_extension": ".r",
   "mimetype": "text/x-r-source",
   "name": "R",
   "pygments_lexer": "r",
   "version": "3.4.1"
  }
 },
 "nbformat": 4,
 "nbformat_minor": 1
}
