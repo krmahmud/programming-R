{
 "cells": [
  {
   "cell_type": "markdown",
   "metadata": {},
   "source": [
    "# Basic Probability Distributions"
   ]
  },
  {
   "cell_type": "code",
   "execution_count": 2,
   "metadata": {},
   "outputs": [
    {
     "data": {},
     "metadata": {},
     "output_type": "display_data"
    }
   ],
   "source": [
    "help.search(\"distribution\")"
   ]
  },
  {
   "cell_type": "code",
   "execution_count": 3,
   "metadata": {
    "collapsed": true
   },
   "outputs": [],
   "source": [
    "help(Distributions)"
   ]
  },
  {
   "cell_type": "markdown",
   "metadata": {},
   "source": [
    "For this chapter it is assumed that you know how to enter data which is covered in the previous chapters.\n",
    "\n",
    "For every distribution there are four commands. The commands for each distribution are prepended with a letter to indicate the functionality:\n",
    "\n",
    "“d” \treturns the height of the probability density function\n",
    "\n",
    "“p” \treturns the cumulative density function\n",
    "\n",
    "“q” \treturns the inverse cumulative density function (quantiles)\n",
    "\n",
    "“r” \treturns randomly generated numbers"
   ]
  },
  {
   "cell_type": "markdown",
   "metadata": {},
   "source": [
    "## The Normal Distribution\n",
    "There are four functions that can be used to generate the values associated with the normal distribution. You can get a full list of them and their options using the help command:"
   ]
  },
  {
   "cell_type": "code",
   "execution_count": 4,
   "metadata": {
    "collapsed": true
   },
   "outputs": [],
   "source": [
    "help(Normal)"
   ]
  },
  {
   "cell_type": "markdown",
   "metadata": {},
   "source": [
    "The first function we look at it is dnorm. Given a set of values it returns the height of the probability distribution at each point. If you only give the points it assumes you want to use a mean of zero and standard deviation of one. There are options to use different values for the mean and standard deviation, though:"
   ]
  },
  {
   "cell_type": "code",
   "execution_count": 5,
   "metadata": {},
   "outputs": [
    {
     "data": {
      "text/html": [
       "0.398942280401433"
      ],
      "text/latex": [
       "0.398942280401433"
      ],
      "text/markdown": [
       "0.398942280401433"
      ],
      "text/plain": [
       "[1] 0.3989423"
      ]
     },
     "metadata": {},
     "output_type": "display_data"
    }
   ],
   "source": [
    "dnorm(0)"
   ]
  },
  {
   "cell_type": "code",
   "execution_count": 6,
   "metadata": {},
   "outputs": [
    {
     "data": {
      "text/html": [
       "1"
      ],
      "text/latex": [
       "1"
      ],
      "text/markdown": [
       "1"
      ],
      "text/plain": [
       "[1] 1"
      ]
     },
     "metadata": {},
     "output_type": "display_data"
    }
   ],
   "source": [
    "dnorm(0)*sqrt(2*pi)"
   ]
  },
  {
   "cell_type": "code",
   "execution_count": 7,
   "metadata": {},
   "outputs": [
    {
     "data": {
      "text/html": [
       "0.000133830225764885"
      ],
      "text/latex": [
       "0.000133830225764885"
      ],
      "text/markdown": [
       "0.000133830225764885"
      ],
      "text/plain": [
       "[1] 0.0001338302"
      ]
     },
     "metadata": {},
     "output_type": "display_data"
    }
   ],
   "source": [
    "dnorm(0,mean=4)"
   ]
  },
  {
   "cell_type": "code",
   "execution_count": 8,
   "metadata": {},
   "outputs": [
    {
     "data": {
      "text/html": [
       "0.0368270140303323"
      ],
      "text/latex": [
       "0.0368270140303323"
      ],
      "text/markdown": [
       "0.0368270140303323"
      ],
      "text/plain": [
       "[1] 0.03682701"
      ]
     },
     "metadata": {},
     "output_type": "display_data"
    }
   ],
   "source": [
    "dnorm(0,mean=4,sd=10)"
   ]
  },
  {
   "cell_type": "code",
   "execution_count": 9,
   "metadata": {},
   "outputs": [
    {
     "data": {
      "text/html": [
       "<ol class=list-inline>\n",
       "\t<li>0.398942280401433</li>\n",
       "\t<li>0.241970724519143</li>\n",
       "\t<li>0.0539909665131881</li>\n",
       "</ol>\n"
      ],
      "text/latex": [
       "\\begin{enumerate*}\n",
       "\\item 0.398942280401433\n",
       "\\item 0.241970724519143\n",
       "\\item 0.0539909665131881\n",
       "\\end{enumerate*}\n"
      ],
      "text/markdown": [
       "1. 0.398942280401433\n",
       "2. 0.241970724519143\n",
       "3. 0.0539909665131881\n",
       "\n",
       "\n"
      ],
      "text/plain": [
       "[1] 0.39894228 0.24197072 0.05399097"
      ]
     },
     "metadata": {},
     "output_type": "display_data"
    }
   ],
   "source": [
    "v <- c(0,1,2)\n",
    "dnorm(v)"
   ]
  },
  {
   "cell_type": "code",
   "execution_count": 11,
   "metadata": {},
   "outputs": [
    {
     "data": {
      "image/png": "[encoded data removed]",
      "text/plain": [
       "plot without title"
      ]
     },
     "metadata": {},
     "output_type": "display_data"
    }
   ],
   "source": [
    "x <- seq(-20,20,by=.1)\n",
    "y <- dnorm(x)\n",
    "plot(x,y)"
   ]
  },
  {
   "cell_type": "code",
   "execution_count": 12,
   "metadata": {},
   "outputs": [
    {
     "data": {
      "image/png": "[encoded data removed]",
      "text/plain": [
       "plot without title"
      ]
     },
     "metadata": {},
     "output_type": "display_data"
    }
   ],
   "source": [
    "y <- dnorm(x,mean=2.5,sd=0.1)\n",
    "plot(x,y)"
   ]
  },
  {
   "cell_type": "markdown",
   "metadata": {},
   "source": [
    "The second function we examine is pnorm. Given a number or a list it computes the probability that a normally distributed random number will be less than that number. This function also goes by the rather ominous title of the “Cumulative Distribution Function.” It accepts the same options as dnorm:"
   ]
  },
  {
   "cell_type": "code",
   "execution_count": 13,
   "metadata": {},
   "outputs": [
    {
     "data": {
      "text/html": [
       "0.5"
      ],
      "text/latex": [
       "0.5"
      ],
      "text/markdown": [
       "0.5"
      ],
      "text/plain": [
       "[1] 0.5"
      ]
     },
     "metadata": {},
     "output_type": "display_data"
    },
    {
     "data": {
      "text/html": [
       "0.841344746068543"
      ],
      "text/latex": [
       "0.841344746068543"
      ],
      "text/markdown": [
       "0.841344746068543"
      ],
      "text/plain": [
       "[1] 0.8413447"
      ]
     },
     "metadata": {},
     "output_type": "display_data"
    },
    {
     "data": {
      "text/html": [
       "0.0227501319481792"
      ],
      "text/latex": [
       "0.0227501319481792"
      ],
      "text/markdown": [
       "0.0227501319481792"
      ],
      "text/plain": [
       "[1] 0.02275013"
      ]
     },
     "metadata": {},
     "output_type": "display_data"
    },
    {
     "data": {
      "text/html": [
       "0.252492537546923"
      ],
      "text/latex": [
       "0.252492537546923"
      ],
      "text/markdown": [
       "0.252492537546923"
      ],
      "text/plain": [
       "[1] 0.2524925"
      ]
     },
     "metadata": {},
     "output_type": "display_data"
    }
   ],
   "source": [
    "pnorm(0)\n",
    "pnorm(1)\n",
    "pnorm(0,mean=2)\n",
    "pnorm(0,mean=2,sd=3)"
   ]
  },
  {
   "cell_type": "code",
   "execution_count": 14,
   "metadata": {},
   "outputs": [
    {
     "data": {
      "text/html": [
       "<ol class=list-inline>\n",
       "\t<li>0.5</li>\n",
       "\t<li>0.841344746068543</li>\n",
       "\t<li>0.977249868051821</li>\n",
       "</ol>\n"
      ],
      "text/latex": [
       "\\begin{enumerate*}\n",
       "\\item 0.5\n",
       "\\item 0.841344746068543\n",
       "\\item 0.977249868051821\n",
       "\\end{enumerate*}\n"
      ],
      "text/markdown": [
       "1. 0.5\n",
       "2. 0.841344746068543\n",
       "3. 0.977249868051821\n",
       "\n",
       "\n"
      ],
      "text/plain": [
       "[1] 0.5000000 0.8413447 0.9772499"
      ]
     },
     "metadata": {},
     "output_type": "display_data"
    }
   ],
   "source": [
    "v <- c(0,1,2)\n",
    "pnorm(v)"
   ]
  },
  {
   "cell_type": "code",
   "execution_count": 15,
   "metadata": {},
   "outputs": [
    {
     "data": {
      "image/png": "[encoded data removed]",
      "text/plain": [
       "plot without title"
      ]
     },
     "metadata": {},
     "output_type": "display_data"
    }
   ],
   "source": [
    "x <- seq(-20,20,by=.1)\n",
    "y <- pnorm(x)\n",
    "plot(x,y)"
   ]
  },
  {
   "cell_type": "code",
   "execution_count": 16,
   "metadata": {},
   "outputs": [
    {
     "data": {
      "image/png": "[encoded data removed]",
      "text/plain": [
       "plot without title"
      ]
     },
     "metadata": {},
     "output_type": "display_data"
    }
   ],
   "source": [
    "y <- pnorm(x,mean=3,sd=4)\n",
    "plot(x,y)"
   ]
  },
  {
   "cell_type": "markdown",
   "metadata": {},
   "source": [
    "If you wish to find the probability that a number is larger than the given number you can use the lower.tail option:"
   ]
  },
  {
   "cell_type": "code",
   "execution_count": 17,
   "metadata": {},
   "outputs": [
    {
     "data": {
      "text/html": [
       "0.5"
      ],
      "text/latex": [
       "0.5"
      ],
      "text/markdown": [
       "0.5"
      ],
      "text/plain": [
       "[1] 0.5"
      ]
     },
     "metadata": {},
     "output_type": "display_data"
    },
    {
     "data": {
      "text/html": [
       "0.158655253931457"
      ],
      "text/latex": [
       "0.158655253931457"
      ],
      "text/markdown": [
       "0.158655253931457"
      ],
      "text/plain": [
       "[1] 0.1586553"
      ]
     },
     "metadata": {},
     "output_type": "display_data"
    },
    {
     "data": {
      "text/html": [
       "0.977249868051821"
      ],
      "text/latex": [
       "0.977249868051821"
      ],
      "text/markdown": [
       "0.977249868051821"
      ],
      "text/plain": [
       "[1] 0.9772499"
      ]
     },
     "metadata": {},
     "output_type": "display_data"
    }
   ],
   "source": [
    "pnorm(0,lower.tail=FALSE)\n",
    "pnorm(1,lower.tail=FALSE)\n",
    "pnorm(0,mean=2,lower.tail=FALSE)"
   ]
  },
  {
   "cell_type": "markdown",
   "metadata": {},
   "source": [
    "The next function we look at is qnorm which is the inverse of pnorm. The idea behind qnorm is that you give it a probability, and it returns the number whose cumulative distribution matches the probability. For example, if you have a normally distributed random variable with mean zero and standard deviation one, then if you give the function a probability it returns the associated Z-score:"
   ]
  },
  {
   "cell_type": "code",
   "execution_count": 18,
   "metadata": {},
   "outputs": [
    {
     "data": {
      "text/html": [
       "0"
      ],
      "text/latex": [
       "0"
      ],
      "text/markdown": [
       "0"
      ],
      "text/plain": [
       "[1] 0"
      ]
     },
     "metadata": {},
     "output_type": "display_data"
    },
    {
     "data": {
      "text/html": [
       "1"
      ],
      "text/latex": [
       "1"
      ],
      "text/markdown": [
       "1"
      ],
      "text/plain": [
       "[1] 1"
      ]
     },
     "metadata": {},
     "output_type": "display_data"
    },
    {
     "data": {
      "text/html": [
       "1"
      ],
      "text/latex": [
       "1"
      ],
      "text/markdown": [
       "1"
      ],
      "text/plain": [
       "[1] 1"
      ]
     },
     "metadata": {},
     "output_type": "display_data"
    },
    {
     "data": {
      "text/html": [
       "2"
      ],
      "text/latex": [
       "2"
      ],
      "text/markdown": [
       "2"
      ],
      "text/plain": [
       "[1] 2"
      ]
     },
     "metadata": {},
     "output_type": "display_data"
    },
    {
     "data": {
      "text/html": [
       "2"
      ],
      "text/latex": [
       "2"
      ],
      "text/markdown": [
       "2"
      ],
      "text/plain": [
       "[1] 2"
      ]
     },
     "metadata": {},
     "output_type": "display_data"
    },
    {
     "data": {
      "text/html": [
       "-0.431644239383956"
      ],
      "text/latex": [
       "-0.431644239383956"
      ],
      "text/markdown": [
       "-0.431644239383956"
      ],
      "text/plain": [
       "[1] -0.4316442"
      ]
     },
     "metadata": {},
     "output_type": "display_data"
    },
    {
     "data": {
      "text/html": [
       "0.651020499607837"
      ],
      "text/latex": [
       "0.651020499607837"
      ],
      "text/markdown": [
       "0.651020499607837"
      ],
      "text/plain": [
       "[1] 0.6510205"
      ]
     },
     "metadata": {},
     "output_type": "display_data"
    },
    {
     "data": {
      "text/html": [
       "-1.29493271815187"
      ],
      "text/latex": [
       "-1.29493271815187"
      ],
      "text/markdown": [
       "-1.29493271815187"
      ],
      "text/plain": [
       "[1] -1.294933"
      ]
     },
     "metadata": {},
     "output_type": "display_data"
    },
    {
     "data": {
      "text/html": [
       "6.34897950039216"
      ],
      "text/latex": [
       "6.34897950039216"
      ],
      "text/markdown": [
       "6.34897950039216"
      ],
      "text/plain": [
       "[1] 6.34898"
      ]
     },
     "metadata": {},
     "output_type": "display_data"
    }
   ],
   "source": [
    "qnorm(0.5)\n",
    "qnorm(0.5,mean=1)\n",
    "qnorm(0.5,mean=1,sd=2)\n",
    "qnorm(0.5,mean=2,sd=2)\n",
    "qnorm(0.5,mean=2,sd=4)\n",
    "qnorm(0.333)\n",
    "qnorm(0.25,mean=2,sd=2)\n",
    "qnorm(0.333,sd=3)\n",
    " qnorm(0.75,mean=5,sd=2)"
   ]
  },
  {
   "cell_type": "code",
   "execution_count": 19,
   "metadata": {},
   "outputs": [
    {
     "data": {
      "text/html": [
       "<ol class=list-inline>\n",
       "\t<li>-1.2815515655446</li>\n",
       "\t<li>-0.524400512708041</li>\n",
       "\t<li>0.674489750196082</li>\n",
       "</ol>\n"
      ],
      "text/latex": [
       "\\begin{enumerate*}\n",
       "\\item -1.2815515655446\n",
       "\\item -0.524400512708041\n",
       "\\item 0.674489750196082\n",
       "\\end{enumerate*}\n"
      ],
      "text/markdown": [
       "1. -1.2815515655446\n",
       "2. -0.524400512708041\n",
       "3. 0.674489750196082\n",
       "\n",
       "\n"
      ],
      "text/plain": [
       "[1] -1.2815516 -0.5244005  0.6744898"
      ]
     },
     "metadata": {},
     "output_type": "display_data"
    }
   ],
   "source": [
    "v = c(0.1,0.3,0.75)\n",
    "qnorm(v)"
   ]
  },
  {
   "cell_type": "code",
   "execution_count": 20,
   "metadata": {},
   "outputs": [
    {
     "data": {
      "image/png": "[encoded data removed]",
      "text/plain": [
       "plot without title"
      ]
     },
     "metadata": {},
     "output_type": "display_data"
    }
   ],
   "source": [
    "x <- seq(0,1,by=.05)\n",
    "y <- qnorm(x)\n",
    "plot(x,y)"
   ]
  },
  {
   "cell_type": "code",
   "execution_count": 21,
   "metadata": {},
   "outputs": [
    {
     "data": {
      "image/png": "[encoded data removed]",
      "text/plain": [
       "plot without title"
      ]
     },
     "metadata": {},
     "output_type": "display_data"
    }
   ],
   "source": [
    "y <- qnorm(x,mean=3,sd=2)\n",
    "plot(x,y)"
   ]
  },
  {
   "cell_type": "code",
   "execution_count": 22,
   "metadata": {},
   "outputs": [
    {
     "data": {
      "image/png": "[encoded data removed]",
      "text/plain": [
       "plot without title"
      ]
     },
     "metadata": {},
     "output_type": "display_data"
    }
   ],
   "source": [
    "y <- qnorm(x,mean=3,sd=0.1)\n",
    "plot(x,y)"
   ]
  },
  {
   "cell_type": "markdown",
   "metadata": {},
   "source": [
    "The last function we examine is the rnorm function which can generate random numbers whose distribution is normal. The argument that you give it is the number of random numbers that you want, and it has optional arguments to specify the mean and standard deviation:"
   ]
  },
  {
   "cell_type": "code",
   "execution_count": 23,
   "metadata": {},
   "outputs": [
    {
     "data": {
      "text/html": [
       "<ol class=list-inline>\n",
       "\t<li>0.0489096075638308</li>\n",
       "\t<li>-0.395162463297965</li>\n",
       "\t<li>0.747745091799229</li>\n",
       "\t<li>0.056813568310816</li>\n",
       "</ol>\n"
      ],
      "text/latex": [
       "\\begin{enumerate*}\n",
       "\\item 0.0489096075638308\n",
       "\\item -0.395162463297965\n",
       "\\item 0.747745091799229\n",
       "\\item 0.056813568310816\n",
       "\\end{enumerate*}\n"
      ],
      "text/markdown": [
       "1. 0.0489096075638308\n",
       "2. -0.395162463297965\n",
       "3. 0.747745091799229\n",
       "4. 0.056813568310816\n",
       "\n",
       "\n"
      ],
      "text/plain": [
       "[1]  0.04890961 -0.39516246  0.74774509  0.05681357"
      ]
     },
     "metadata": {},
     "output_type": "display_data"
    },
    {
     "data": {
      "text/html": [
       "<ol class=list-inline>\n",
       "\t<li>1.43082163897429</li>\n",
       "\t<li>2.95063527326309</li>\n",
       "\t<li>4.0805272827377</li>\n",
       "\t<li>3.12323257635053</li>\n",
       "</ol>\n"
      ],
      "text/latex": [
       "\\begin{enumerate*}\n",
       "\\item 1.43082163897429\n",
       "\\item 2.95063527326309\n",
       "\\item 4.0805272827377\n",
       "\\item 3.12323257635053\n",
       "\\end{enumerate*}\n"
      ],
      "text/markdown": [
       "1. 1.43082163897429\n",
       "2. 2.95063527326309\n",
       "3. 4.0805272827377\n",
       "4. 3.12323257635053\n",
       "\n",
       "\n"
      ],
      "text/plain": [
       "[1] 1.430822 2.950635 4.080527 3.123233"
      ]
     },
     "metadata": {},
     "output_type": "display_data"
    },
    {
     "data": {
      "text/html": [
       "<ol class=list-inline>\n",
       "\t<li>4.78061989725515</li>\n",
       "\t<li>-1.80818521271618</li>\n",
       "\t<li>1.59809863664138</li>\n",
       "\t<li>-0.65822384871102</li>\n",
       "</ol>\n"
      ],
      "text/latex": [
       "\\begin{enumerate*}\n",
       "\\item 4.78061989725515\n",
       "\\item -1.80818521271618\n",
       "\\item 1.59809863664138\n",
       "\\item -0.65822384871102\n",
       "\\end{enumerate*}\n"
      ],
      "text/markdown": [
       "1. 4.78061989725515\n",
       "2. -1.80818521271618\n",
       "3. 1.59809863664138\n",
       "4. -0.65822384871102\n",
       "\n",
       "\n"
      ],
      "text/plain": [
       "[1]  4.7806199 -1.8081852  1.5980986 -0.6582238"
      ]
     },
     "metadata": {},
     "output_type": "display_data"
    },
    {
     "data": {
      "text/html": [
       "<ol class=list-inline>\n",
       "\t<li>6.57241438560171</li>\n",
       "\t<li>4.96738155629782</li>\n",
       "\t<li>6.84788157893682</li>\n",
       "\t<li>1.34209497914671</li>\n",
       "</ol>\n"
      ],
      "text/latex": [
       "\\begin{enumerate*}\n",
       "\\item 6.57241438560171\n",
       "\\item 4.96738155629782\n",
       "\\item 6.84788157893682\n",
       "\\item 1.34209497914671\n",
       "\\end{enumerate*}\n"
      ],
      "text/markdown": [
       "1. 6.57241438560171\n",
       "2. 4.96738155629782\n",
       "3. 6.84788157893682\n",
       "4. 1.34209497914671\n",
       "\n",
       "\n"
      ],
      "text/plain": [
       "[1] 6.572414 4.967382 6.847882 1.342095"
      ]
     },
     "metadata": {},
     "output_type": "display_data"
    }
   ],
   "source": [
    "rnorm(4)\n",
    "rnorm(4,mean=3)\n",
    "rnorm(4,mean=3,sd=3)\n",
    "rnorm(4,mean=3,sd=3)"
   ]
  },
  {
   "cell_type": "code",
   "execution_count": 24,
   "metadata": {},
   "outputs": [
    {
     "data": {
      "image/png": "[encoded data removed]",
      "text/plain": [
       "Plot with title “Histogram of y”"
      ]
     },
     "metadata": {},
     "output_type": "display_data"
    },
    {
     "data": {
      "image/png": "[encoded data removed]",
      "text/plain": [
       "Plot with title “Histogram of y”"
      ]
     },
     "metadata": {},
     "output_type": "display_data"
    }
   ],
   "source": [
    "y <- rnorm(200)\n",
    "hist(y)\n",
    "y <- rnorm(200,mean=-2)\n",
    "hist(y)"
   ]
  },
  {
   "cell_type": "code",
   "execution_count": 25,
   "metadata": {},
   "outputs": [
    {
     "data": {
      "image/png": "[encoded data removed]",
      "text/plain": [
       "Plot with title “Histogram of y”"
      ]
     },
     "metadata": {},
     "output_type": "display_data"
    },
    {
     "data": {
      "image/png": "[encoded data removed]",
      "text/plain": [
       "Plot with title “Normal Q-Q Plot”"
      ]
     },
     "metadata": {},
     "output_type": "display_data"
    }
   ],
   "source": [
    "y <- rnorm(200,mean=-2,sd=4)\n",
    "hist(y)\n",
    "qqnorm(y)\n",
    "qqline(y)"
   ]
  },
  {
   "cell_type": "markdown",
   "metadata": {},
   "source": [
    "## The t Distribution"
   ]
  },
  {
   "cell_type": "markdown",
   "metadata": {},
   "source": [
    "There are four functions that can be used to generate the values associated with the t distribution. You can get a full list of them and their options using the help command:"
   ]
  },
  {
   "cell_type": "code",
   "execution_count": 26,
   "metadata": {
    "collapsed": true
   },
   "outputs": [],
   "source": [
    "help(TDist)"
   ]
  },
  {
   "cell_type": "markdown",
   "metadata": {},
   "source": [
    "These commands work just like the commands for the normal distribution. One difference is that the commands assume that the values are normalized to mean zero and standard deviation one, so you have to use a little algebra to use these functions in practice. The other difference is that you have to specify the number of degrees of freedom. The commands follow the same kind of naming convention, and the names of the commands are dt, pt, qt, and rt.\n"
   ]
  },
  {
   "cell_type": "code",
   "execution_count": 27,
   "metadata": {},
   "outputs": [
    {
     "data": {
      "image/png": "[encoded data removed]",
      "text/plain": [
       "plot without title"
      ]
     },
     "metadata": {},
     "output_type": "display_data"
    },
    {
     "data": {
      "image/png": "[encoded data removed]",
      "text/plain": [
       "plot without title"
      ]
     },
     "metadata": {},
     "output_type": "display_data"
    }
   ],
   "source": [
    "x <- seq(-20,20,by=.5)\n",
    "y <- dt(x,df=10)\n",
    "plot(x,y)\n",
    "y <- dt(x,df=50)\n",
    "plot(x,y)"
   ]
  },
  {
   "cell_type": "markdown",
   "metadata": {},
   "source": [
    "Next we have the cumulative probability distribution function:"
   ]
  },
  {
   "cell_type": "code",
   "execution_count": 28,
   "metadata": {},
   "outputs": [
    {
     "data": {
      "text/html": [
       "0.00667182751128479"
      ],
      "text/latex": [
       "0.00667182751128479"
      ],
      "text/markdown": [
       "0.00667182751128479"
      ],
      "text/plain": [
       "[1] 0.006671828"
      ]
     },
     "metadata": {},
     "output_type": "display_data"
    },
    {
     "data": {
      "text/html": [
       "0.993328172488715"
      ],
      "text/latex": [
       "0.993328172488715"
      ],
      "text/markdown": [
       "0.993328172488715"
      ],
      "text/plain": [
       "[1] 0.9933282"
      ]
     },
     "metadata": {},
     "output_type": "display_data"
    },
    {
     "data": {
      "text/html": [
       "0.00667182751128481"
      ],
      "text/latex": [
       "0.00667182751128481"
      ],
      "text/markdown": [
       "0.00667182751128481"
      ],
      "text/plain": [
       "[1] 0.006671828"
      ]
     },
     "metadata": {},
     "output_type": "display_data"
    },
    {
     "data": {
      "text/html": [
       "0.996462050604394"
      ],
      "text/latex": [
       "0.996462050604394"
      ],
      "text/markdown": [
       "0.996462050604394"
      ],
      "text/plain": [
       "[1] 0.9964621"
      ]
     },
     "metadata": {},
     "output_type": "display_data"
    },
    {
     "data": {
      "text/html": [
       "0.00116554803915942"
      ],
      "text/latex": [
       "0.00116554803915942"
      ],
      "text/markdown": [
       "0.00116554803915942"
      ],
      "text/plain": [
       "[1] 0.001165548"
      ]
     },
     "metadata": {},
     "output_type": "display_data"
    },
    {
     "data": {
      "text/html": [
       "0.00060306396656016"
      ],
      "text/latex": [
       "0.00060306396656016"
      ],
      "text/markdown": [
       "0.00060306396656016"
      ],
      "text/plain": [
       "[1] 0.000603064"
      ]
     },
     "metadata": {},
     "output_type": "display_data"
    }
   ],
   "source": [
    "pt(-3,df=10)\n",
    "\n",
    "pt(3,df=10)\n",
    "\n",
    "1-pt(3,df=10)\n",
    "\n",
    "pt(3,df=20)\n",
    "\n",
    "x = c(-3,-4,-2,-1)\n",
    "pt((mean(x)-2)/sd(x),df=20)\n",
    "\n",
    "pt((mean(x)-2)/sd(x),df=40)"
   ]
  },
  {
   "cell_type": "markdown",
   "metadata": {},
   "source": [
    "Next we have the inverse cumulative probability distribution function:"
   ]
  },
  {
   "cell_type": "code",
   "execution_count": 29,
   "metadata": {},
   "outputs": [
    {
     "data": {
      "text/html": [
       "-1.81246112281168"
      ],
      "text/latex": [
       "-1.81246112281168"
      ],
      "text/markdown": [
       "-1.81246112281168"
      ],
      "text/plain": [
       "[1] -1.812461"
      ]
     },
     "metadata": {},
     "output_type": "display_data"
    },
    {
     "data": {
      "text/html": [
       "1.81246112281168"
      ],
      "text/latex": [
       "1.81246112281168"
      ],
      "text/markdown": [
       "1.81246112281168"
      ],
      "text/plain": [
       "[1] 1.812461"
      ]
     },
     "metadata": {},
     "output_type": "display_data"
    },
    {
     "data": {
      "text/html": [
       "-1.72471824292079"
      ],
      "text/latex": [
       "-1.72471824292079"
      ],
      "text/markdown": [
       "-1.72471824292079"
      ],
      "text/plain": [
       "[1] -1.724718"
      ]
     },
     "metadata": {},
     "output_type": "display_data"
    },
    {
     "data": {
      "text/html": [
       "1.72471824292079"
      ],
      "text/latex": [
       "1.72471824292079"
      ],
      "text/markdown": [
       "1.72471824292079"
      ],
      "text/plain": [
       "[1] 1.724718"
      ]
     },
     "metadata": {},
     "output_type": "display_data"
    },
    {
     "data": {
      "text/html": [
       "<ol class=list-inline>\n",
       "\t<li>-2.59540107462087</li>\n",
       "\t<li>-1.9693848042206</li>\n",
       "\t<li>-1.65089867826442</li>\n",
       "</ol>\n"
      ],
      "text/latex": [
       "\\begin{enumerate*}\n",
       "\\item -2.59540107462087\n",
       "\\item -1.9693848042206\n",
       "\\item -1.65089867826442\n",
       "\\end{enumerate*}\n"
      ],
      "text/markdown": [
       "1. -2.59540107462087\n",
       "2. -1.9693848042206\n",
       "3. -1.65089867826442\n",
       "\n",
       "\n"
      ],
      "text/plain": [
       "[1] -2.595401 -1.969385 -1.650899"
      ]
     },
     "metadata": {},
     "output_type": "display_data"
    },
    {
     "data": {
      "text/html": [
       "<ol class=list-inline>\n",
       "\t<li>-2.78743581367697</li>\n",
       "\t<li>-2.0595385527533</li>\n",
       "\t<li>-1.7081407612519</li>\n",
       "</ol>\n"
      ],
      "text/latex": [
       "\\begin{enumerate*}\n",
       "\\item -2.78743581367697\n",
       "\\item -2.0595385527533\n",
       "\\item -1.7081407612519\n",
       "\\end{enumerate*}\n"
      ],
      "text/markdown": [
       "1. -2.78743581367697\n",
       "2. -2.0595385527533\n",
       "3. -1.7081407612519\n",
       "\n",
       "\n"
      ],
      "text/plain": [
       "[1] -2.787436 -2.059539 -1.708141"
      ]
     },
     "metadata": {},
     "output_type": "display_data"
    }
   ],
   "source": [
    "qt(0.05,df=10)\n",
    "\n",
    "qt(0.95,df=10)\n",
    "\n",
    "qt(0.05,df=20)\n",
    "\n",
    "qt(0.95,df=20)\n",
    "\n",
    "v <- c(0.005,.025,.05)\n",
    "qt(v,df=253)\n",
    "\n",
    "qt(v,df=25)\n"
   ]
  },
  {
   "cell_type": "markdown",
   "metadata": {},
   "source": [
    "Finally random numbers can be generated according to the t distribution:"
   ]
  },
  {
   "cell_type": "code",
   "execution_count": 31,
   "metadata": {},
   "outputs": [
    {
     "data": {
      "text/html": [
       "<ol class=list-inline>\n",
       "\t<li>1.70246319132183</li>\n",
       "\t<li>0.277187093382379</li>\n",
       "\t<li>2.02667237864759</li>\n",
       "</ol>\n"
      ],
      "text/latex": [
       "\\begin{enumerate*}\n",
       "\\item 1.70246319132183\n",
       "\\item 0.277187093382379\n",
       "\\item 2.02667237864759\n",
       "\\end{enumerate*}\n"
      ],
      "text/markdown": [
       "1. 1.70246319132183\n",
       "2. 0.277187093382379\n",
       "3. 2.02667237864759\n",
       "\n",
       "\n"
      ],
      "text/plain": [
       "[1] 1.7024632 0.2771871 2.0266724"
      ]
     },
     "metadata": {},
     "output_type": "display_data"
    },
    {
     "data": {
      "text/html": [
       "<ol class=list-inline>\n",
       "\t<li>0.671530172760503</li>\n",
       "\t<li>0.260501001485543</li>\n",
       "\t<li>1.59812929428753</li>\n",
       "</ol>\n"
      ],
      "text/latex": [
       "\\begin{enumerate*}\n",
       "\\item 0.671530172760503\n",
       "\\item 0.260501001485543\n",
       "\\item 1.59812929428753\n",
       "\\end{enumerate*}\n"
      ],
      "text/markdown": [
       "1. 0.671530172760503\n",
       "2. 0.260501001485543\n",
       "3. 1.59812929428753\n",
       "\n",
       "\n"
      ],
      "text/plain": [
       "[1] 0.6715302 0.2605010 1.5981293"
      ]
     },
     "metadata": {},
     "output_type": "display_data"
    },
    {
     "data": {
      "text/html": [
       "<ol class=list-inline>\n",
       "\t<li>0.0208398351226548</li>\n",
       "\t<li>0.358460811314101</li>\n",
       "\t<li>-1.00474736556672</li>\n",
       "</ol>\n"
      ],
      "text/latex": [
       "\\begin{enumerate*}\n",
       "\\item 0.0208398351226548\n",
       "\\item 0.358460811314101\n",
       "\\item -1.00474736556672\n",
       "\\end{enumerate*}\n"
      ],
      "text/markdown": [
       "1. 0.0208398351226548\n",
       "2. 0.358460811314101\n",
       "3. -1.00474736556672\n",
       "\n",
       "\n"
      ],
      "text/plain": [
       "[1]  0.02083984  0.35846081 -1.00474737"
      ]
     },
     "metadata": {},
     "output_type": "display_data"
    }
   ],
   "source": [
    "rt(3,df=10)\n",
    "rt(3,df=20)\n",
    "rt(3,df=20)"
   ]
  },
  {
   "cell_type": "markdown",
   "metadata": {},
   "source": [
    "## The Binomial Distribution"
   ]
  },
  {
   "cell_type": "markdown",
   "metadata": {},
   "source": [
    "There are four functions that can be used to generate the values associated with the binomial distribution. You can get a full list of them and their options using the help command:\n",
    "\n",
    "help(Binomial)"
   ]
  },
  {
   "cell_type": "markdown",
   "metadata": {},
   "source": [
    "These commands work just like the commands for the normal distribution. The binomial distribution requires two extra parameters, the number of trials and the probability of success for a single trial. The commands follow the same kind of naming convention, and the names of the commands are dbinom, pbinom, qbinom, and rbinom."
   ]
  },
  {
   "cell_type": "code",
   "execution_count": 32,
   "metadata": {},
   "outputs": [
    {
     "data": {
      "image/png": "[encoded data removed]",
      "text/plain": [
       "plot without title"
      ]
     },
     "metadata": {},
     "output_type": "display_data"
    },
    {
     "data": {
      "image/png": "[encoded data removed]",
      "text/plain": [
       "plot without title"
      ]
     },
     "metadata": {},
     "output_type": "display_data"
    },
    {
     "data": {
      "image/png": "[encoded data removed]",
      "text/plain": [
       "plot without title"
      ]
     },
     "metadata": {},
     "output_type": "display_data"
    }
   ],
   "source": [
    "x <- seq(0,50,by=1)\n",
    "y <- dbinom(x,50,0.2)\n",
    "plot(x,y)\n",
    "y <- dbinom(x,50,0.6)\n",
    "plot(x,y)\n",
    "x <- seq(0,100,by=1)\n",
    "y <- dbinom(x,100,0.6)\n",
    "plot(x,y)"
   ]
  },
  {
   "cell_type": "markdown",
   "metadata": {},
   "source": [
    "Next we have the cumulative probability distribution function:"
   ]
  },
  {
   "cell_type": "code",
   "execution_count": 33,
   "metadata": {},
   "outputs": [
    {
     "data": {
      "text/html": [
       "0.443862413670393"
      ],
      "text/latex": [
       "0.443862413670393"
      ],
      "text/markdown": [
       "0.443862413670393"
      ],
      "text/plain": [
       "[1] 0.4438624"
      ]
     },
     "metadata": {},
     "output_type": "display_data"
    },
    {
     "data": {
      "text/html": [
       "0.556137586329607"
      ],
      "text/latex": [
       "0.556137586329607"
      ],
      "text/markdown": [
       "0.556137586329607"
      ],
      "text/plain": [
       "[1] 0.5561376"
      ]
     },
     "metadata": {},
     "output_type": "display_data"
    },
    {
     "data": {
      "text/html": [
       "0.499999999999998"
      ],
      "text/latex": [
       "0.499999999999998"
      ],
      "text/markdown": [
       "0.499999999999998"
      ],
      "text/plain": [
       "[1] 0.5"
      ]
     },
     "metadata": {},
     "output_type": "display_data"
    },
    {
     "data": {
      "text/html": [
       "0.610116034723462"
      ],
      "text/latex": [
       "0.610116034723462"
      ],
      "text/markdown": [
       "0.610116034723462"
      ],
      "text/plain": [
       "[1] 0.610116"
      ]
     },
     "metadata": {},
     "output_type": "display_data"
    },
    {
     "data": {
      "text/html": [
       "0.556137586329607"
      ],
      "text/latex": [
       "0.556137586329607"
      ],
      "text/markdown": [
       "0.556137586329607"
      ],
      "text/plain": [
       "[1] 0.5561376"
      ]
     },
     "metadata": {},
     "output_type": "display_data"
    },
    {
     "data": {
      "text/html": [
       "0.999961978495049"
      ],
      "text/latex": [
       "0.999961978495049"
      ],
      "text/markdown": [
       "0.999961978495049"
      ],
      "text/plain": [
       "[1] 0.999962"
      ]
     },
     "metadata": {},
     "output_type": "display_data"
    },
    {
     "data": {
      "text/html": [
       "4.95565828184066e-33"
      ],
      "text/latex": [
       "4.95565828184066e-33"
      ],
      "text/markdown": [
       "4.95565828184066e-33"
      ],
      "text/plain": [
       "[1] 4.955658e-33"
      ]
     },
     "metadata": {},
     "output_type": "display_data"
    }
   ],
   "source": [
    "pbinom(24,50,0.5)\n",
    "\n",
    "pbinom(25,50,0.5)\n",
    "\n",
    "pbinom(25,51,0.5)\n",
    "\n",
    "pbinom(26,51,0.5)\n",
    "\n",
    "pbinom(25,50,0.5)\n",
    "\n",
    "pbinom(25,50,0.25)\n",
    "\n",
    "pbinom(25,500,0.25)"
   ]
  },
  {
   "cell_type": "markdown",
   "metadata": {},
   "source": [
    "Next we have the inverse cumulative probability distribution function:"
   ]
  },
  {
   "cell_type": "code",
   "execution_count": 34,
   "metadata": {},
   "outputs": [
    {
     "data": {
      "text/html": [
       "25"
      ],
      "text/latex": [
       "25"
      ],
      "text/markdown": [
       "25"
      ],
      "text/plain": [
       "[1] 25"
      ]
     },
     "metadata": {},
     "output_type": "display_data"
    },
    {
     "data": {
      "text/html": [
       "23"
      ],
      "text/latex": [
       "23"
      ],
      "text/markdown": [
       "23"
      ],
      "text/plain": [
       "[1] 23"
      ]
     },
     "metadata": {},
     "output_type": "display_data"
    },
    {
     "data": {
      "text/html": [
       "0.287924673865924"
      ],
      "text/latex": [
       "0.287924673865924"
      ],
      "text/markdown": [
       "0.287924673865924"
      ],
      "text/plain": [
       "[1] 0.2879247"
      ]
     },
     "metadata": {},
     "output_type": "display_data"
    },
    {
     "data": {
      "text/html": [
       "0.200530995513969"
      ],
      "text/latex": [
       "0.200530995513969"
      ],
      "text/markdown": [
       "0.200530995513969"
      ],
      "text/plain": [
       "[1] 0.200531"
      ]
     },
     "metadata": {},
     "output_type": "display_data"
    }
   ],
   "source": [
    "qbinom(0.5,51,1/2)\n",
    "\n",
    "qbinom(0.25,51,1/2)\n",
    "\n",
    "pbinom(23,51,1/2)\n",
    "\n",
    "pbinom(22,51,1/2)"
   ]
  },
  {
   "cell_type": "markdown",
   "metadata": {},
   "source": [
    "Finally random numbers can be generated according to the binomial distribution:"
   ]
  },
  {
   "cell_type": "code",
   "execution_count": 35,
   "metadata": {},
   "outputs": [
    {
     "data": {
      "text/html": [
       "<ol class=list-inline>\n",
       "\t<li>19</li>\n",
       "\t<li>13</li>\n",
       "\t<li>20</li>\n",
       "\t<li>18</li>\n",
       "\t<li>17</li>\n",
       "</ol>\n"
      ],
      "text/latex": [
       "\\begin{enumerate*}\n",
       "\\item 19\n",
       "\\item 13\n",
       "\\item 20\n",
       "\\item 18\n",
       "\\item 17\n",
       "\\end{enumerate*}\n"
      ],
      "text/markdown": [
       "1. 19\n",
       "2. 13\n",
       "3. 20\n",
       "4. 18\n",
       "5. 17\n",
       "\n",
       "\n"
      ],
      "text/plain": [
       "[1] 19 13 20 18 17"
      ]
     },
     "metadata": {},
     "output_type": "display_data"
    },
    {
     "data": {
      "text/html": [
       "<ol class=list-inline>\n",
       "\t<li>65</li>\n",
       "\t<li>73</li>\n",
       "\t<li>64</li>\n",
       "\t<li>65</li>\n",
       "\t<li>70</li>\n",
       "</ol>\n"
      ],
      "text/latex": [
       "\\begin{enumerate*}\n",
       "\\item 65\n",
       "\\item 73\n",
       "\\item 64\n",
       "\\item 65\n",
       "\\item 70\n",
       "\\end{enumerate*}\n"
      ],
      "text/markdown": [
       "1. 65\n",
       "2. 73\n",
       "3. 64\n",
       "4. 65\n",
       "5. 70\n",
       "\n",
       "\n"
      ],
      "text/plain": [
       "[1] 65 73 64 65 70"
      ]
     },
     "metadata": {},
     "output_type": "display_data"
    }
   ],
   "source": [
    "rbinom(5,100,.2)\n",
    "rbinom(5,100,.7)"
   ]
  },
  {
   "cell_type": "markdown",
   "metadata": {},
   "source": [
    "## The Chi-Squared Distribution"
   ]
  },
  {
   "cell_type": "markdown",
   "metadata": {},
   "source": [
    "There are four functions that can be used to generate the values associated with the Chi-Squared distribution. You can get a full list of them and their options using the help command:\n",
    "\n",
    "help(Chisquare)"
   ]
  },
  {
   "cell_type": "markdown",
   "metadata": {},
   "source": [
    "These commands work just like the commands for the normal distribution. The first difference is that it is assumed that you have normalized the value so no mean can be specified. The other difference is that you have to specify the number of degrees of freedom. The commands follow the same kind of naming convention, and the names of the commands are dchisq, pchisq, qchisq, and rchisq."
   ]
  },
  {
   "cell_type": "code",
   "execution_count": 36,
   "metadata": {},
   "outputs": [
    {
     "data": {
      "image/png": "[encoded data removed]",
      "text/plain": [
       "plot without title"
      ]
     },
     "metadata": {},
     "output_type": "display_data"
    },
    {
     "data": {
      "image/png": "[encoded data removed]",
      "text/plain": [
       "plot without title"
      ]
     },
     "metadata": {},
     "output_type": "display_data"
    }
   ],
   "source": [
    "x <- seq(-20,20,by=.5)\n",
    "y <- dchisq(x,df=10)\n",
    "plot(x,y)\n",
    "y <- dchisq(x,df=12)\n",
    "plot(x,y)"
   ]
  },
  {
   "cell_type": "markdown",
   "metadata": {},
   "source": [
    "Next we have the cumulative probability distribution function:"
   ]
  },
  {
   "cell_type": "code",
   "execution_count": 37,
   "metadata": {},
   "outputs": [
    {
     "data": {
      "text/html": [
       "0.00365984682734371"
      ],
      "text/latex": [
       "0.00365984682734371"
      ],
      "text/markdown": [
       "0.00365984682734371"
      ],
      "text/plain": [
       "[1] 0.003659847"
      ]
     },
     "metadata": {},
     "output_type": "display_data"
    },
    {
     "data": {
      "text/html": [
       "0.0185759362221407"
      ],
      "text/latex": [
       "0.0185759362221407"
      ],
      "text/markdown": [
       "0.0185759362221407"
      ],
      "text/plain": [
       "[1] 0.01857594"
      ]
     },
     "metadata": {},
     "output_type": "display_data"
    },
    {
     "data": {
      "text/html": [
       "0.981424063777859"
      ],
      "text/latex": [
       "0.981424063777859"
      ],
      "text/markdown": [
       "0.981424063777859"
      ],
      "text/plain": [
       "[1] 0.9814241"
      ]
     },
     "metadata": {},
     "output_type": "display_data"
    },
    {
     "data": {
      "text/html": [
       "4.09750097639485e-06"
      ],
      "text/latex": [
       "4.09750097639485e-06"
      ],
      "text/markdown": [
       "4.09750097639485e-06"
      ],
      "text/plain": [
       "[1] 4.097501e-06"
      ]
     },
     "metadata": {},
     "output_type": "display_data"
    },
    {
     "data": {
      "text/html": [
       "<ol class=list-inline>\n",
       "\t<li>1.11425478338721e-07</li>\n",
       "\t<li>4.64980750172637e-05</li>\n",
       "\t<li>0.000277352094620836</li>\n",
       "\t<li>0.00110248813011548</li>\n",
       "</ol>\n"
      ],
      "text/latex": [
       "\\begin{enumerate*}\n",
       "\\item 1.11425478338721e-07\n",
       "\\item 4.64980750172637e-05\n",
       "\\item 0.000277352094620836\n",
       "\\item 0.00110248813011548\n",
       "\\end{enumerate*}\n"
      ],
      "text/markdown": [
       "1. 1.11425478338721e-07\n",
       "2. 4.64980750172637e-05\n",
       "3. 0.000277352094620836\n",
       "4. 0.00110248813011548\n",
       "\n",
       "\n"
      ],
      "text/plain": [
       "[1] 1.114255e-07 4.649808e-05 2.773521e-04 1.102488e-03"
      ]
     },
     "metadata": {},
     "output_type": "display_data"
    }
   ],
   "source": [
    " pchisq(2,df=10)\n",
    "\n",
    "pchisq(3,df=10)\n",
    "\n",
    "1-pchisq(3,df=10)\n",
    "\n",
    "pchisq(3,df=20)\n",
    "\n",
    "x = c(2,4,5,6)\n",
    "pchisq(x,df=20)"
   ]
  },
  {
   "cell_type": "markdown",
   "metadata": {},
   "source": [
    "Next we have the inverse cumulative probability distribution function:"
   ]
  },
  {
   "cell_type": "code",
   "execution_count": 38,
   "metadata": {},
   "outputs": [
    {
     "data": {
      "text/html": [
       "3.94029913611906"
      ],
      "text/latex": [
       "3.94029913611906"
      ],
      "text/markdown": [
       "3.94029913611906"
      ],
      "text/plain": [
       "[1] 3.940299"
      ]
     },
     "metadata": {},
     "output_type": "display_data"
    },
    {
     "data": {
      "text/html": [
       "18.3070380532751"
      ],
      "text/latex": [
       "18.3070380532751"
      ],
      "text/markdown": [
       "18.3070380532751"
      ],
      "text/plain": [
       "[1] 18.30704"
      ]
     },
     "metadata": {},
     "output_type": "display_data"
    },
    {
     "data": {
      "text/html": [
       "10.8508113941826"
      ],
      "text/latex": [
       "10.8508113941826"
      ],
      "text/markdown": [
       "10.8508113941826"
      ],
      "text/plain": [
       "[1] 10.85081"
      ]
     },
     "metadata": {},
     "output_type": "display_data"
    },
    {
     "data": {
      "text/html": [
       "31.4104328442309"
      ],
      "text/latex": [
       "31.4104328442309"
      ],
      "text/markdown": [
       "31.4104328442309"
      ],
      "text/plain": [
       "[1] 31.41043"
      ]
     },
     "metadata": {},
     "output_type": "display_data"
    },
    {
     "data": {
      "text/html": [
       "<ol class=list-inline>\n",
       "\t<li>198.816061471847</li>\n",
       "\t<li>210.835456503866</li>\n",
       "\t<li>217.171345864265</li>\n",
       "</ol>\n"
      ],
      "text/latex": [
       "\\begin{enumerate*}\n",
       "\\item 198.816061471847\n",
       "\\item 210.835456503866\n",
       "\\item 217.171345864265\n",
       "\\end{enumerate*}\n"
      ],
      "text/markdown": [
       "1. 198.816061471847\n",
       "2. 210.835456503866\n",
       "3. 217.171345864265\n",
       "\n",
       "\n"
      ],
      "text/plain": [
       "[1] 198.8161 210.8355 217.1713"
      ]
     },
     "metadata": {},
     "output_type": "display_data"
    },
    {
     "data": {
      "text/html": [
       "<ol class=list-inline>\n",
       "\t<li>10.5196521120247</li>\n",
       "\t<li>13.1197200249378</li>\n",
       "\t<li>14.6114076394833</li>\n",
       "</ol>\n"
      ],
      "text/latex": [
       "\\begin{enumerate*}\n",
       "\\item 10.5196521120247\n",
       "\\item 13.1197200249378\n",
       "\\item 14.6114076394833\n",
       "\\end{enumerate*}\n"
      ],
      "text/markdown": [
       "1. 10.5196521120247\n",
       "2. 13.1197200249378\n",
       "3. 14.6114076394833\n",
       "\n",
       "\n"
      ],
      "text/plain": [
       "[1] 10.51965 13.11972 14.61141"
      ]
     },
     "metadata": {},
     "output_type": "display_data"
    }
   ],
   "source": [
    "qchisq(0.05,df=10)\n",
    "\n",
    "qchisq(0.95,df=10)\n",
    "\n",
    "qchisq(0.05,df=20)\n",
    "\n",
    "qchisq(0.95,df=20)\n",
    "\n",
    "v <- c(0.005,.025,.05)\n",
    "qchisq(v,df=253)\n",
    "\n",
    "qchisq(v,df=25)"
   ]
  },
  {
   "cell_type": "markdown",
   "metadata": {},
   "source": [
    "Finally random numbers can be generated according to the Chi-Squared distribution:"
   ]
  },
  {
   "cell_type": "code",
   "execution_count": 39,
   "metadata": {},
   "outputs": [
    {
     "data": {
      "text/html": [
       "<ol class=list-inline>\n",
       "\t<li>7.82488024681089</li>\n",
       "\t<li>12.5954116659266</li>\n",
       "\t<li>7.81216551837083</li>\n",
       "</ol>\n"
      ],
      "text/latex": [
       "\\begin{enumerate*}\n",
       "\\item 7.82488024681089\n",
       "\\item 12.5954116659266\n",
       "\\item 7.81216551837083\n",
       "\\end{enumerate*}\n"
      ],
      "text/markdown": [
       "1. 7.82488024681089\n",
       "2. 12.5954116659266\n",
       "3. 7.81216551837083\n",
       "\n",
       "\n"
      ],
      "text/plain": [
       "[1]  7.824880 12.595412  7.812166"
      ]
     },
     "metadata": {},
     "output_type": "display_data"
    },
    {
     "data": {
      "text/html": [
       "<ol class=list-inline>\n",
       "\t<li>22.1369528754533</li>\n",
       "\t<li>21.8432540226974</li>\n",
       "\t<li>21.8082333217898</li>\n",
       "</ol>\n"
      ],
      "text/latex": [
       "\\begin{enumerate*}\n",
       "\\item 22.1369528754533\n",
       "\\item 21.8432540226974\n",
       "\\item 21.8082333217898\n",
       "\\end{enumerate*}\n"
      ],
      "text/markdown": [
       "1. 22.1369528754533\n",
       "2. 21.8432540226974\n",
       "3. 21.8082333217898\n",
       "\n",
       "\n"
      ],
      "text/plain": [
       "[1] 22.13695 21.84325 21.80823"
      ]
     },
     "metadata": {},
     "output_type": "display_data"
    },
    {
     "data": {
      "text/html": [
       "<ol class=list-inline>\n",
       "\t<li>14.5974235308653</li>\n",
       "\t<li>19.8610127516774</li>\n",
       "\t<li>28.3693976591915</li>\n",
       "</ol>\n"
      ],
      "text/latex": [
       "\\begin{enumerate*}\n",
       "\\item 14.5974235308653\n",
       "\\item 19.8610127516774\n",
       "\\item 28.3693976591915\n",
       "\\end{enumerate*}\n"
      ],
      "text/markdown": [
       "1. 14.5974235308653\n",
       "2. 19.8610127516774\n",
       "3. 28.3693976591915\n",
       "\n",
       "\n"
      ],
      "text/plain": [
       "[1] 14.59742 19.86101 28.36940"
      ]
     },
     "metadata": {},
     "output_type": "display_data"
    }
   ],
   "source": [
    "rchisq(3,df=10)\n",
    "rchisq(3,df=20)\n",
    "rchisq(3,df=20)"
   ]
  },
  {
   "cell_type": "code",
   "execution_count": null,
   "metadata": {
    "collapsed": true
   },
   "outputs": [],
   "source": []
  }
 ],
 "metadata": {
  "kernelspec": {
   "display_name": "R",
   "language": "R",
   "name": "ir"
  },
  "language_info": {
   "codemirror_mode": "r",
   "file_extension": ".r",
   "mimetype": "text/x-r-source",
   "name": "R",
   "pygments_lexer": "r",
   "version": "3.4.1"
  }
 },
 "nbformat": 4,
 "nbformat_minor": 1
}
