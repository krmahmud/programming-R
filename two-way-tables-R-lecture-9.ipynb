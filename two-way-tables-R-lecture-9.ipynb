{
 "cells": [
  {
   "cell_type": "markdown",
   "metadata": {},
   "source": [
    "# Two Way Tables\n",
    "\n",
    "Contents\n",
    "\n",
    "    Creating a Table from Data\n",
    "    Creating a Table Directly\n",
    "    Tools For Working With Tables\n",
    "    Graphical Views of Tables\n",
    "\n",
    "Here we look at some examples of how to work with two way tables. We assume that you can enter data and understand the different data types."
   ]
  },
  {
   "cell_type": "markdown",
   "metadata": {},
   "source": [
    "## Creating a Table from Data\n",
    "\n",
    "We first look at how to create a table from raw data. Here we use a fictitious data set, smoker.csv. This data set was created only to be used as an example, and the numbers were created to match an example from a text book, p. 629 of the 4th edition of Moore and McCabe’s Introduction to the Practice of Statistics. You should look at the data set in a spreadsheet to see how it is entered. The information is ordered in a way to make it easier to figure out what information is in the data.\n",
    "\n",
    "The idea is that 356 people have been polled on their smoking status (Smoke) and their socioeconomic status (SES). For each person it was determined whether or not they are current smokers, former smokers, or have never smoked. Also, for each person their socioeconomic status was determined (low, middle, or high). The data file contains only two columns, and when read R interprets them both as factors:"
   ]
  },
  {
   "cell_type": "code",
   "execution_count": 1,
   "metadata": {},
   "outputs": [
    {
     "data": {
      "text/plain": [
       "     Smoke         SES     \n",
       " current:116   High  :211  \n",
       " former :141   Low   : 93  \n",
       " never  : 99   Middle: 52  "
      ]
     },
     "metadata": {},
     "output_type": "display_data"
    }
   ],
   "source": [
    "smokerData <- read.csv(file='smoker.csv',sep=',',header=T)\n",
    "summary(smokerData)"
   ]
  },
  {
   "cell_type": "markdown",
   "metadata": {},
   "source": [
    "You can create a two way table of occurrences using the table command and the two columns in the data frame:"
   ]
  },
  {
   "cell_type": "code",
   "execution_count": 2,
   "metadata": {},
   "outputs": [
    {
     "data": {
      "text/plain": [
       "         \n",
       "          High Low Middle\n",
       "  current   51  43     22\n",
       "  former    92  28     21\n",
       "  never     68  22      9"
      ]
     },
     "metadata": {},
     "output_type": "display_data"
    }
   ],
   "source": [
    "smoke <- table(smokerData$Smoke,smokerData$SES)\n",
    "smoke"
   ]
  },
  {
   "cell_type": "markdown",
   "metadata": {},
   "source": [
    "In this example, there are 51 people who are current smokers and are in the high SES. Note that it is assumed that the two lists given in the table command are both factors. "
   ]
  },
  {
   "cell_type": "markdown",
   "metadata": {},
   "source": [
    "##  Creating a Table Directly\n",
    "\n",
    "Sometimes you are given data in the form of a table and would like to create a table. Here we examine how to create the table directly. Unfortunately, this is not as direct a method as might be desired. Here we create an array of numbers, specify the row and column names, and then convert it to a table.\n",
    "\n",
    "In the example below we will create a table identical to the one given above. In that example we have 3 columns, and the numbers are specified by going across each row from top to bottom. We need to specify the data and the number of rows:"
   ]
  },
  {
   "cell_type": "code",
   "execution_count": 3,
   "metadata": {},
   "outputs": [
    {
     "data": {
      "text/plain": [
       "        High Low Middle\n",
       "current   51  43     22\n",
       "former    92  28     21\n",
       "never     68  22      9"
      ]
     },
     "metadata": {},
     "output_type": "display_data"
    }
   ],
   "source": [
    "smoke <- matrix(c(51,43,22,92,28,21,68,22,9),ncol=3,byrow=TRUE)\n",
    "colnames(smoke) <- c(\"High\",\"Low\",\"Middle\")\n",
    "rownames(smoke) <- c(\"current\",\"former\",\"never\")\n",
    "smoke <- as.table(smoke)\n",
    "smoke"
   ]
  },
  {
   "cell_type": "markdown",
   "metadata": {},
   "source": [
    "## Tools For Working With Tables\n",
    "\n",
    "Here we look at some of the commands available to help look at the information in a table in different ways. We assume that the data using one of the methods above, and the table is called “smoke.” First, there are a couple of ways to get graphical views of the data:"
   ]
  },
  {
   "cell_type": "code",
   "execution_count": 4,
   "metadata": {},
   "outputs": [
    {
     "data": {
      "image/png": "[encoded data removed]",
      "text/plain": [
       "Plot with title “Smoking Status by SES”"
      ]
     },
     "metadata": {},
     "output_type": "display_data"
    },
    {
     "data": {
      "image/png": "[encoded data removed]",
      "text/plain": [
       "Plot with title “Smoking Status By Socioeconomic Status”"
      ]
     },
     "metadata": {},
     "output_type": "display_data"
    }
   ],
   "source": [
    "barplot(smoke,legend=T,beside=T,main='Smoking Status by SES')\n",
    "plot(smoke,main=\"Smoking Status By Socioeconomic Status\")"
   ]
  },
  {
   "cell_type": "markdown",
   "metadata": {},
   "source": [
    "There are a number of ways to get the marginal distributions using the margin.table command. If you just give the command the table it calculates the total number of observations. You can also calculate the marginal distributions across the rows or columns based on the one optional argument:"
   ]
  },
  {
   "cell_type": "code",
   "execution_count": 5,
   "metadata": {},
   "outputs": [
    {
     "data": {
      "text/html": [
       "356"
      ],
      "text/latex": [
       "356"
      ],
      "text/markdown": [
       "356"
      ],
      "text/plain": [
       "[1] 356"
      ]
     },
     "metadata": {},
     "output_type": "display_data"
    },
    {
     "data": {
      "text/plain": [
       "current  former   never \n",
       "    116     141      99 "
      ]
     },
     "metadata": {},
     "output_type": "display_data"
    },
    {
     "data": {
      "text/plain": [
       "  High    Low Middle \n",
       "   211     93     52 "
      ]
     },
     "metadata": {},
     "output_type": "display_data"
    }
   ],
   "source": [
    "margin.table(smoke)\n",
    "margin.table(smoke,1)\n",
    "margin.table(smoke,2)"
   ]
  },
  {
   "cell_type": "markdown",
   "metadata": {},
   "source": [
    "Combining these commands you can get the proportions:"
   ]
  },
  {
   "cell_type": "code",
   "execution_count": 6,
   "metadata": {},
   "outputs": [
    {
     "data": {
      "text/plain": [
       "              High        Low     Middle\n",
       "current 0.14325843 0.12078652 0.06179775\n",
       "former  0.25842697 0.07865169 0.05898876\n",
       "never   0.19101124 0.06179775 0.02528090"
      ]
     },
     "metadata": {},
     "output_type": "display_data"
    }
   ],
   "source": [
    "smoke/margin.table(smoke)"
   ]
  },
  {
   "cell_type": "code",
   "execution_count": 7,
   "metadata": {},
   "outputs": [
    {
     "data": {
      "text/plain": [
       "  current    former     never \n",
       "0.3258427 0.3960674 0.2780899 "
      ]
     },
     "metadata": {},
     "output_type": "display_data"
    }
   ],
   "source": [
    "margin.table(smoke,1)/margin.table(smoke)"
   ]
  },
  {
   "cell_type": "code",
   "execution_count": 8,
   "metadata": {},
   "outputs": [
    {
     "data": {
      "text/plain": [
       "     High       Low    Middle \n",
       "0.5926966 0.2612360 0.1460674 "
      ]
     },
     "metadata": {},
     "output_type": "display_data"
    }
   ],
   "source": [
    "margin.table(smoke,2)/margin.table(smoke)"
   ]
  },
  {
   "cell_type": "markdown",
   "metadata": {},
   "source": [
    "That is a little obtuse, so fortunately, there is a better way to get the proportions using the prop.table command. You can specify the proportions with respect to the different marginal distributions using the optional argument:"
   ]
  },
  {
   "cell_type": "code",
   "execution_count": 9,
   "metadata": {},
   "outputs": [
    {
     "data": {
      "text/plain": [
       "              High        Low     Middle\n",
       "current 0.14325843 0.12078652 0.06179775\n",
       "former  0.25842697 0.07865169 0.05898876\n",
       "never   0.19101124 0.06179775 0.02528090"
      ]
     },
     "metadata": {},
     "output_type": "display_data"
    }
   ],
   "source": [
    "prop.table(smoke)"
   ]
  },
  {
   "cell_type": "code",
   "execution_count": 10,
   "metadata": {},
   "outputs": [
    {
     "data": {
      "text/plain": [
       "              High        Low     Middle\n",
       "current 0.43965517 0.37068966 0.18965517\n",
       "former  0.65248227 0.19858156 0.14893617\n",
       "never   0.68686869 0.22222222 0.09090909"
      ]
     },
     "metadata": {},
     "output_type": "display_data"
    }
   ],
   "source": [
    "prop.table(smoke,1)"
   ]
  },
  {
   "cell_type": "code",
   "execution_count": 11,
   "metadata": {},
   "outputs": [
    {
     "data": {
      "text/plain": [
       "             High       Low    Middle\n",
       "current 0.2417062 0.4623656 0.4230769\n",
       "former  0.4360190 0.3010753 0.4038462\n",
       "never   0.3222749 0.2365591 0.1730769"
      ]
     },
     "metadata": {},
     "output_type": "display_data"
    }
   ],
   "source": [
    "prop.table(smoke,2)"
   ]
  },
  {
   "cell_type": "markdown",
   "metadata": {},
   "source": [
    "If you want to do a chi-squared test to determine if the proportions are different, there is an easy way to do this. If we want to test at the 95% confidence level we need only look at a summary of the table:"
   ]
  },
  {
   "cell_type": "code",
   "execution_count": 12,
   "metadata": {},
   "outputs": [
    {
     "data": {
      "text/plain": [
       "Number of cases in table: 356 \n",
       "Number of factors: 2 \n",
       "Test for independence of all factors:\n",
       "\tChisq = 18.51, df = 4, p-value = 0.0009808"
      ]
     },
     "metadata": {},
     "output_type": "display_data"
    }
   ],
   "source": [
    "summary(smoke)"
   ]
  },
  {
   "cell_type": "markdown",
   "metadata": {},
   "source": [
    "Since the p-value is less that 5% we can reject the null hypothesis at the 95% confidence level and can say that the proportions vary.\n",
    "\n",
    "Of course, there is a hard way to do this. This is not for the faint of heart and involves some linear algebra which we will not describe. If you wish to calculate the table of expected values then you need to multiply the vectors of the margins and divide by the total number of observations:"
   ]
  },
  {
   "cell_type": "code",
   "execution_count": 13,
   "metadata": {},
   "outputs": [
    {
     "data": {
      "text/html": [
       "<table>\n",
       "<thead><tr><th></th><th scope=col>High</th><th scope=col>Low</th><th scope=col>Middle</th></tr></thead>\n",
       "<tbody>\n",
       "\t<tr><th scope=row>current</th><td>68.75281</td><td>30.30337</td><td>16.94382</td></tr>\n",
       "\t<tr><th scope=row>former</th><td>83.57022</td><td>36.83427</td><td>20.59551</td></tr>\n",
       "\t<tr><th scope=row>never</th><td>58.67697</td><td>25.86236</td><td>14.46067</td></tr>\n",
       "</tbody>\n",
       "</table>\n"
      ],
      "text/latex": [
       "\\begin{tabular}{r|lll}\n",
       "  & High & Low & Middle\\\\\n",
       "\\hline\n",
       "\tcurrent & 68.75281 & 30.30337 & 16.94382\\\\\n",
       "\tformer & 83.57022 & 36.83427 & 20.59551\\\\\n",
       "\tnever & 58.67697 & 25.86236 & 14.46067\\\\\n",
       "\\end{tabular}\n"
      ],
      "text/markdown": [
       "\n",
       "| <!--/--> | High | Low | Middle | \n",
       "|---|---|---|\n",
       "| current | 68.75281 | 30.30337 | 16.94382 | \n",
       "| former | 83.57022 | 36.83427 | 20.59551 | \n",
       "| never | 58.67697 | 25.86236 | 14.46067 | \n",
       "\n",
       "\n"
      ],
      "text/plain": [
       "        High     Low      Middle  \n",
       "current 68.75281 30.30337 16.94382\n",
       "former  83.57022 36.83427 20.59551\n",
       "never   58.67697 25.86236 14.46067"
      ]
     },
     "metadata": {},
     "output_type": "display_data"
    }
   ],
   "source": [
    "expected <- as.array(margin.table(smoke,1)) %*% t(as.array(margin.table(smoke,2))) / margin.table(smoke)\n",
    "expected"
   ]
  },
  {
   "cell_type": "markdown",
   "metadata": {},
   "source": [
    "(The “t” function takes the transpose of the array.)\n",
    "\n",
    "The result in this array and can be directly compared to the existing table. We need the square of the difference between the two tables divided by the expected values. The sum of all these values is the Chi-squared statistic:"
   ]
  },
  {
   "cell_type": "code",
   "execution_count": 14,
   "metadata": {},
   "outputs": [
    {
     "data": {
      "text/html": [
       "18.5097413612762"
      ],
      "text/latex": [
       "18.5097413612762"
      ],
      "text/markdown": [
       "18.5097413612762"
      ],
      "text/plain": [
       "[1] 18.50974"
      ]
     },
     "metadata": {},
     "output_type": "display_data"
    }
   ],
   "source": [
    "chi <- sum((expected - as.array(smoke))^2/expected)\n",
    "chi"
   ]
  },
  {
   "cell_type": "markdown",
   "metadata": {},
   "source": [
    "We can then get the p-value for this statistic:"
   ]
  },
  {
   "cell_type": "code",
   "execution_count": 15,
   "metadata": {},
   "outputs": [
    {
     "data": {
      "text/html": [
       "0.000980823630912231"
      ],
      "text/latex": [
       "0.000980823630912231"
      ],
      "text/markdown": [
       "0.000980823630912231"
      ],
      "text/plain": [
       "[1] 0.0009808236"
      ]
     },
     "metadata": {},
     "output_type": "display_data"
    }
   ],
   "source": [
    "1-pchisq(chi,df=4)"
   ]
  },
  {
   "cell_type": "markdown",
   "metadata": {},
   "source": [
    "## Graphical Views of Tables\n",
    "\n",
    "The plot command will automatically produce a mosaic plot if its primary argument is a table. Alternatively, you can call the mosaicplot command directly."
   ]
  },
  {
   "cell_type": "code",
   "execution_count": 16,
   "metadata": {},
   "outputs": [
    {
     "data": {
      "image/png": "[encoded data removed]",
      "text/plain": [
       "Plot with title “smoke”"
      ]
     },
     "metadata": {},
     "output_type": "display_data"
    }
   ],
   "source": [
    "smokerData <- read.csv(file='smoker.csv',sep=',',header=T)\n",
    "smoke <- table(smokerData$Smoke,smokerData$SES)\n",
    "mosaicplot(smoke)"
   ]
  },
  {
   "cell_type": "code",
   "execution_count": 17,
   "metadata": {},
   "outputs": [
    {
     "data": {
      "image/png": "[encoded data removed]",
      "text/plain": [
       "Plot with title “Smokers”"
      ]
     },
     "metadata": {},
     "output_type": "display_data"
    }
   ],
   "source": [
    "mosaicplot(smoke,main=\"Smokers\",xlab=\"Status\",ylab=\"Economic Class\")"
   ]
  },
  {
   "cell_type": "markdown",
   "metadata": {},
   "source": [
    "If you wish to switch which side (horizontal versus vertical) to determine the primary proportion then you can use the sort option. This can be used to switch whether the width or height is used for the first proportional length:"
   ]
  },
  {
   "cell_type": "code",
   "execution_count": 18,
   "metadata": {},
   "outputs": [
    {
     "data": {
      "image/png": "[encoded data removed]",
      "text/plain": [
       "Plot with title “Smokers”"
      ]
     },
     "metadata": {},
     "output_type": "display_data"
    },
    {
     "data": {
      "image/png": "[encoded data removed]",
      "text/plain": [
       "Plot with title “smoke”"
      ]
     },
     "metadata": {},
     "output_type": "display_data"
    }
   ],
   "source": [
    "mosaicplot(smoke,main=\"Smokers\",xlab=\"Status\",ylab=\"Economic Class\")\n",
    "mosaicplot(smoke,sort=c(2,1))"
   ]
  },
  {
   "cell_type": "markdown",
   "metadata": {},
   "source": [
    "Finally if you wish to switch which side is used for the vertical and horzintal axis you can use the dir option:"
   ]
  },
  {
   "cell_type": "code",
   "execution_count": 19,
   "metadata": {},
   "outputs": [
    {
     "data": {
      "image/png": "[encoded data removed]",
      "text/plain": [
       "Plot with title “Smokers”"
      ]
     },
     "metadata": {},
     "output_type": "display_data"
    },
    {
     "data": {
      "image/png": "[encoded data removed]",
      "text/plain": [
       "Plot with title “smoke”"
      ]
     },
     "metadata": {},
     "output_type": "display_data"
    }
   ],
   "source": [
    "mosaicplot(smoke,main=\"Smokers\",xlab=\"Status\",ylab=\"Economic Class\")\n",
    "mosaicplot(smoke,dir=c(\"v\",\"h\"))"
   ]
  },
  {
   "cell_type": "code",
   "execution_count": null,
   "metadata": {
    "collapsed": true
   },
   "outputs": [],
   "source": []
  }
 ],
 "metadata": {
  "kernelspec": {
   "display_name": "R",
   "language": "R",
   "name": "ir"
  },
  "language_info": {
   "codemirror_mode": "r",
   "file_extension": ".r",
   "mimetype": "text/x-r-source",
   "name": "R",
   "pygments_lexer": "r",
   "version": "3.4.1"
  }
 },
 "nbformat": 4,
 "nbformat_minor": 1
}
