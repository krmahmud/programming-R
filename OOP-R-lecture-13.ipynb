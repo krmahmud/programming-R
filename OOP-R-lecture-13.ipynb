{
 "cells": [
  {
   "cell_type": "markdown",
   "metadata": {},
   "source": [
    "# Object Oriented Programming\n",
    "Object oriented programming (OOP) is a popular programming\n",
    "paradigm.  Object oriented programming allows us to construct\n",
    "modular pieces of code which can be utilized as building blocks for\n",
    "large systems.\n",
    "\n",
    "R is a functional language, not particular object oriented, but\n",
    "support exists for programming in an object oriented style.\n",
    "\n",
    "R has two di erent OOP systems, known as S3 and S4.  These two\n",
    "systems are quite di erent, with S4 being more object oriented, but\n",
    "sometimes harder to work with.\n",
    "\n",
    "In both systems, the object oriented system is much more\n",
    "method-centric than languages like Java and Python.\n",
    "\n",
    "The main reason to use OOP is polymorphism (literally: many shapes). Polymorphism means that a developer can consider a function’s interface separately from its implementation, making it possible to use the same function form for different types of input. This is closely related to the idea of encapsulation: the user doesn’t need to worry about details of an object because they are encapsulated behind a standard interface.\n",
    "\n",
    "To be more precise, OO systems call the type of an object its class, and an implementation for a specific class is called a method. Roughly speaking, a class defines what an object is and methods describe what that object can do. The class defines the fields, the data possessed by every instance of that class. Classes are organised in a hierarchy so that if a method does not exist for one class, its parent’s method is used, and the child is said to inherit behaviour. For example, in R, an ordered factor inherits from a regular factor, and a generalised linear model inherits from a linear model. The process of finding the correct method given a class is called method dispatch.\n",
    "\n",
    "There are two main paradigms of object-oriented programming which differ in how methods and classes are related. And call these paradigms encapsulated and functional:\n",
    "\n",
    "In encapsulated OOP, methods belong to objects or classes, and method calls typically look like object.method(arg1, arg2). This is called encapsulated because the object encapsulates both data (with fields) and behaviour (with methods), and is the paradigm found in most popular languages.\n",
    "\n",
    "In functional OOP, methods belong to generic functions, and method calls look like ordinary function calls: generic(object, arg2, arg3). This is called functional because from the outside it looks like a regular function call, and internally the components are also functions.\n",
    "\n",
    "Base R provides three OOP systems: S3, S4, and reference classes (RC):\n",
    "\n",
    "S3 is R’s first OOP system, and is described in Statistical Models in S (Chambers and Hastie 1992). S3 is an informal implementation of functional OOP and relies on common conventions rather than ironclad guarantees. This makes it easy to get started with, providing a low cost way of solving many simple problems.\n",
    "\n",
    "S4 is a formal and rigorous rewrite of S3, and was introduced in Programming with Data (Chambers 1998). It requires more upfront work than S3, but in return provides more guarantees and greater encapsulation. S4 is implemented in the base methods package, which is always installed with R."
   ]
  },
  {
   "cell_type": "markdown",
   "metadata": {},
   "source": [
    "# S3 Classes"
   ]
  },
  {
   "cell_type": "markdown",
   "metadata": {},
   "source": [
    "## The Basic Idea"
   ]
  },
  {
   "cell_type": "markdown",
   "metadata": {},
   "source": [
    "First, everything in R is treated like as an object. We have seen this with functions. Many of the objects that are created within an R session have attributes associated with them. One common attribute associated with an object is its class.\n",
    "\n",
    "You can set the class attribute using the class command. One thing to notice is that the class is a vector which allows an object to inherit from multiple classes, and it allows you to specify the order of inheritance for complex classes. You can also use the class command to determine the classes associated with an object."
   ]
  },
  {
   "cell_type": "code",
   "execution_count": 1,
   "metadata": {},
   "outputs": [
    {
     "data": {
      "text/html": [
       "<ol class=list-inline>\n",
       "\t<li>1</li>\n",
       "\t<li>2</li>\n",
       "\t<li>3</li>\n",
       "</ol>\n"
      ],
      "text/latex": [
       "\\begin{enumerate*}\n",
       "\\item 1\n",
       "\\item 2\n",
       "\\item 3\n",
       "\\end{enumerate*}\n"
      ],
      "text/markdown": [
       "1. 1\n",
       "2. 2\n",
       "3. 3\n",
       "\n",
       "\n"
      ],
      "text/plain": [
       "[1] 1 2 3"
      ]
     },
     "metadata": {},
     "output_type": "display_data"
    }
   ],
   "source": [
    "bubba <- c(1,2,3)\n",
    "bubba"
   ]
  },
  {
   "cell_type": "code",
   "execution_count": 2,
   "metadata": {},
   "outputs": [
    {
     "data": {
      "text/html": [
       "'numeric'"
      ],
      "text/latex": [
       "'numeric'"
      ],
      "text/markdown": [
       "'numeric'"
      ],
      "text/plain": [
       "[1] \"numeric\""
      ]
     },
     "metadata": {},
     "output_type": "display_data"
    }
   ],
   "source": [
    "class(bubba)"
   ]
  },
  {
   "cell_type": "code",
   "execution_count": 3,
   "metadata": {
    "collapsed": true
   },
   "outputs": [],
   "source": [
    "class(bubba) <- append(class(bubba),\"Flamboyancy\")"
   ]
  },
  {
   "cell_type": "code",
   "execution_count": 4,
   "metadata": {},
   "outputs": [
    {
     "data": {
      "text/html": [
       "<ol class=list-inline>\n",
       "\t<li>'numeric'</li>\n",
       "\t<li>'Flamboyancy'</li>\n",
       "</ol>\n"
      ],
      "text/latex": [
       "\\begin{enumerate*}\n",
       "\\item 'numeric'\n",
       "\\item 'Flamboyancy'\n",
       "\\end{enumerate*}\n"
      ],
      "text/markdown": [
       "1. 'numeric'\n",
       "2. 'Flamboyancy'\n",
       "\n",
       "\n"
      ],
      "text/plain": [
       "[1] \"numeric\"     \"Flamboyancy\""
      ]
     },
     "metadata": {},
     "output_type": "display_data"
    }
   ],
   "source": [
    "class(bubba)"
   ]
  },
  {
   "cell_type": "markdown",
   "metadata": {},
   "source": [
    "A new command, append, is used here. The first argument is a vector, and the function adds the following arguments to the end of the vector."
   ]
  },
  {
   "cell_type": "markdown",
   "metadata": {},
   "source": [
    "One way to define a method for a class is to use the UseMethod command to define a hierarchy of functions that will react appropriately. The UseMethod command will tell R to look for a function whose prefix matches the current function, and it searches for a suffix in order from the vector of class names. In other words a set of functions can be defined, and the function that is actually called will be determined by the class name of the first object in the list of arguments.\n",
    "\n",
    "You first have to define a generic function to reserve the function name. The UseMethod command is then used to tell the R system to search for a different function. The search is based on the name of the function and the names of an object’s classes. The name of the functions have two parts separated by a ”.” where the prefix is the function name and the suffix is the name of a class.\n",
    "\n",
    "That is a lot of verbiage to describe a relatively simple idea. A very basic example is given below:"
   ]
  },
  {
   "cell_type": "code",
   "execution_count": 5,
   "metadata": {},
   "outputs": [
    {
     "data": {
      "text/html": [
       "<dl>\n",
       "\t<dt>$first</dt>\n",
       "\t\t<dd>'one'</dd>\n",
       "\t<dt>$second</dt>\n",
       "\t\t<dd>'two'</dd>\n",
       "\t<dt>$third</dt>\n",
       "\t\t<dd>'third'</dd>\n",
       "</dl>\n"
      ],
      "text/latex": [
       "\\begin{description}\n",
       "\\item[\\$first] 'one'\n",
       "\\item[\\$second] 'two'\n",
       "\\item[\\$third] 'third'\n",
       "\\end{description}\n"
      ],
      "text/markdown": [
       "$first\n",
       ":   'one'\n",
       "$second\n",
       ":   'two'\n",
       "$third\n",
       ":   'third'\n",
       "\n",
       "\n"
      ],
      "text/plain": [
       "$first\n",
       "[1] \"one\"\n",
       "\n",
       "$second\n",
       "[1] \"two\"\n",
       "\n",
       "$third\n",
       "[1] \"third\"\n",
       "\n",
       "attr(,\"class\")\n",
       "[1] \"list\"        \"Flamboyancy\""
      ]
     },
     "metadata": {},
     "output_type": "display_data"
    }
   ],
   "source": [
    "bubba <- list(first=\"one\", second=\"two\", third=\"third\")\n",
    "class(bubba) <- append(class(bubba),\"Flamboyancy\")\n",
    "\n",
    "bubba"
   ]
  },
  {
   "cell_type": "code",
   "execution_count": 8,
   "metadata": {},
   "outputs": [
    {
     "data": {
      "text/html": [
       "'one'"
      ],
      "text/latex": [
       "'one'"
      ],
      "text/markdown": [
       "'one'"
      ],
      "text/plain": [
       "[1] \"one\""
      ]
     },
     "metadata": {},
     "output_type": "display_data"
    }
   ],
   "source": [
    "GetFirst <- function(x)\n",
    "{\n",
    "    UseMethod(\"GetFirst\",x)\n",
    "}\n",
    "GetFirst.Flamboyancy <- function(x)\n",
    "{\n",
    "    return(x$first)\n",
    "}\n",
    "GetFirst(bubba)"
   ]
  },
  {
   "cell_type": "markdown",
   "metadata": {},
   "source": [
    "## Memory Management\n",
    "The plethora of object oriented approaches leads to a natural question. Which one should you use? With respect to S3 and S4 classes, the S3 class is more flexible, and the S4 class is a more structured approach. This is a nice way of saying that the S3 class approach is for unaware slobs and is a sloppy way to shoot yourself in the foot, while the S4 class is for uptight pedants.\n",
    "\n",
    "Our focus here is on S3 classes. Before we delve into the details of S3 classes we need to talk about memory environments. These can be used to great effect in S3 classes to make your codes totally incomprehensible. On the down side they help give S3 classes their flexibility.\n",
    "\n",
    "An environment can be thought of as a local scope. It has a set of variables associated with it. You can access those variables if you have the “ID’’ associated with the environment. There are a number of commands you can use to manipulate and obtain the pointers to your environments. You can also use the assign and get commands to set and get the values of variables within an environment.\n",
    "\n",
    "The environment command can be used to get the pointer to the current environment."
   ]
  },
  {
   "cell_type": "code",
   "execution_count": 9,
   "metadata": {},
   "outputs": [
    {
     "data": {
      "text/html": [
       "<ol class=list-inline>\n",
       "\t<li>'bubba'</li>\n",
       "\t<li>'GetFirst'</li>\n",
       "\t<li>'GetFirst.Flamboyancy'</li>\n",
       "</ol>\n"
      ],
      "text/latex": [
       "\\begin{enumerate*}\n",
       "\\item 'bubba'\n",
       "\\item 'GetFirst'\n",
       "\\item 'GetFirst.Flamboyancy'\n",
       "\\end{enumerate*}\n"
      ],
      "text/markdown": [
       "1. 'bubba'\n",
       "2. 'GetFirst'\n",
       "3. 'GetFirst.Flamboyancy'\n",
       "\n",
       "\n"
      ],
      "text/plain": [
       "[1] \"bubba\"                \"GetFirst\"             \"GetFirst.Flamboyancy\""
      ]
     },
     "metadata": {},
     "output_type": "display_data"
    }
   ],
   "source": [
    "ls()"
   ]
  },
  {
   "cell_type": "code",
   "execution_count": 10,
   "metadata": {},
   "outputs": [
    {
     "data": {
      "text/plain": [
       "<environment: R_GlobalEnv>"
      ]
     },
     "metadata": {},
     "output_type": "display_data"
    }
   ],
   "source": [
    "e <- environment()\n",
    "e"
   ]
  },
  {
   "cell_type": "code",
   "execution_count": 11,
   "metadata": {},
   "outputs": [
    {
     "data": {
      "text/html": [
       "<ol class=list-inline>\n",
       "\t<li>'bubba'</li>\n",
       "\t<li>'e'</li>\n",
       "\t<li>'GetFirst'</li>\n",
       "\t<li>'GetFirst.Flamboyancy'</li>\n",
       "</ol>\n"
      ],
      "text/latex": [
       "\\begin{enumerate*}\n",
       "\\item 'bubba'\n",
       "\\item 'e'\n",
       "\\item 'GetFirst'\n",
       "\\item 'GetFirst.Flamboyancy'\n",
       "\\end{enumerate*}\n"
      ],
      "text/markdown": [
       "1. 'bubba'\n",
       "2. 'e'\n",
       "3. 'GetFirst'\n",
       "4. 'GetFirst.Flamboyancy'\n",
       "\n",
       "\n"
      ],
      "text/plain": [
       "[1] \"bubba\"                \"e\"                    \"GetFirst\"            \n",
       "[4] \"GetFirst.Flamboyancy\""
      ]
     },
     "metadata": {},
     "output_type": "display_data"
    }
   ],
   "source": [
    "assign(\"bubba\",3,e)\n",
    "ls()"
   ]
  },
  {
   "cell_type": "code",
   "execution_count": 12,
   "metadata": {},
   "outputs": [
    {
     "data": {
      "text/html": [
       "3"
      ],
      "text/latex": [
       "3"
      ],
      "text/markdown": [
       "3"
      ],
      "text/plain": [
       "[1] 3"
      ]
     },
     "metadata": {},
     "output_type": "display_data"
    }
   ],
   "source": [
    "bubba"
   ]
  },
  {
   "cell_type": "code",
   "execution_count": 13,
   "metadata": {},
   "outputs": [
    {
     "data": {
      "text/html": [
       "3"
      ],
      "text/latex": [
       "3"
      ],
      "text/markdown": [
       "3"
      ],
      "text/plain": [
       "[1] 3"
      ]
     },
     "metadata": {},
     "output_type": "display_data"
    }
   ],
   "source": [
    "get(\"bubba\",e)"
   ]
  },
  {
   "cell_type": "markdown",
   "metadata": {},
   "source": [
    "Environments can be created and embedded within other environments and can be structured to form a hierarchy. There are a number of commands to help you move through different environments. You can find more details using the command help(environment), but we do not pursue more details because this is as much as we need for our purposes of using S3 classes."
   ]
  },
  {
   "cell_type": "markdown",
   "metadata": {},
   "source": [
    "## Creating an S3 Class\n",
    "The basic ideas associated with S3 classes is discussed in the first section (The Basic Idea). We now expand on that idea and demonstrate how to define a function that will create and return an object of a given class. The basic idea is that a list is created with the relevant members, the list’s class is set, and a copy of the list is returned.\n",
    "\n",
    "Here we examine two different ways to construct an S3 class. The first approach is more commonly used and is more straightforward. It makes use of basic list properties. The second approach makes use of the local environment within a function to define the variables tracked by the class. The advantage to the second approach is that it looks more like the object oriented approach that many are familiar with. The disadvantage is that it is more difficult to read the code, and it is more like working with pointers which is different from the way other objects work in R.\n",
    "### Straight Forward Approach\n",
    "\n",
    "The first approach is the more standard approach most often seen with S3 classes. It makes use of the methods defined outside of the class which is described below, Creating Methods. It also keeps track of the data maintained by the class using the standard practices associated with lists.\n",
    "\n",
    "The basic idea is that a function is defined which creates a list. The data entries tracked by the class are defined in the list. In the example below the defaults are specified in the argument list with default values assigned. A new class name is appended to the list’s classes, and the list is returned."
   ]
  },
  {
   "cell_type": "code",
   "execution_count": 14,
   "metadata": {
    "collapsed": true
   },
   "outputs": [],
   "source": [
    "NorthAmerican <- function(eatsBreakfast=TRUE,myFavorite=\"cereal\")\n",
    "{\n",
    "\n",
    "        me <- list(\n",
    "                hasBreakfast = eatsBreakfast,\n",
    "                favoriteBreakfast = myFavorite\n",
    "       )\n",
    "\n",
    "        ## Set the name for the class\n",
    "        class(me) <- append(class(me),\"NorthAmerican\")\n",
    "        return(me)\n",
    "}"
   ]
  },
  {
   "cell_type": "markdown",
   "metadata": {},
   "source": [
    "Once this definition is executed a new function is defined, called NorthAmerican. A new object of this class can be created by calling the function."
   ]
  },
  {
   "cell_type": "code",
   "execution_count": 15,
   "metadata": {},
   "outputs": [
    {
     "data": {
      "text/html": [
       "<dl>\n",
       "\t<dt>$hasBreakfast</dt>\n",
       "\t\t<dd>TRUE</dd>\n",
       "\t<dt>$favoriteBreakfast</dt>\n",
       "\t\t<dd>'cereal'</dd>\n",
       "</dl>\n"
      ],
      "text/latex": [
       "\\begin{description}\n",
       "\\item[\\$hasBreakfast] TRUE\n",
       "\\item[\\$favoriteBreakfast] 'cereal'\n",
       "\\end{description}\n"
      ],
      "text/markdown": [
       "$hasBreakfast\n",
       ":   TRUE\n",
       "$favoriteBreakfast\n",
       ":   'cereal'\n",
       "\n",
       "\n"
      ],
      "text/plain": [
       "$hasBreakfast\n",
       "[1] TRUE\n",
       "\n",
       "$favoriteBreakfast\n",
       "[1] \"cereal\"\n",
       "\n",
       "attr(,\"class\")\n",
       "[1] \"list\"          \"NorthAmerican\""
      ]
     },
     "metadata": {},
     "output_type": "display_data"
    }
   ],
   "source": [
    "bubba <- NorthAmerican()\n",
    "bubba"
   ]
  },
  {
   "cell_type": "code",
   "execution_count": 16,
   "metadata": {},
   "outputs": [
    {
     "data": {
      "text/html": [
       "TRUE"
      ],
      "text/latex": [
       "TRUE"
      ],
      "text/markdown": [
       "TRUE"
      ],
      "text/plain": [
       "[1] TRUE"
      ]
     },
     "metadata": {},
     "output_type": "display_data"
    }
   ],
   "source": [
    "bubba$hasBreakfast"
   ]
  },
  {
   "cell_type": "code",
   "execution_count": 17,
   "metadata": {},
   "outputs": [
    {
     "data": {
      "text/html": [
       "<dl>\n",
       "\t<dt>$hasBreakfast</dt>\n",
       "\t\t<dd>TRUE</dd>\n",
       "\t<dt>$favoriteBreakfast</dt>\n",
       "\t\t<dd>'fried eggs'</dd>\n",
       "</dl>\n"
      ],
      "text/latex": [
       "\\begin{description}\n",
       "\\item[\\$hasBreakfast] TRUE\n",
       "\\item[\\$favoriteBreakfast] 'fried eggs'\n",
       "\\end{description}\n"
      ],
      "text/markdown": [
       "$hasBreakfast\n",
       ":   TRUE\n",
       "$favoriteBreakfast\n",
       ":   'fried eggs'\n",
       "\n",
       "\n"
      ],
      "text/plain": [
       "$hasBreakfast\n",
       "[1] TRUE\n",
       "\n",
       "$favoriteBreakfast\n",
       "[1] \"fried eggs\"\n",
       "\n",
       "attr(,\"class\")\n",
       "[1] \"list\"          \"NorthAmerican\""
      ]
     },
     "metadata": {},
     "output_type": "display_data"
    }
   ],
   "source": [
    "louise <- NorthAmerican(eatsBreakfast=TRUE,myFavorite=\"fried eggs\")\n",
    "louise"
   ]
  },
  {
   "cell_type": "markdown",
   "metadata": {},
   "source": [
    "### Local Environment Approach\n",
    "\n",
    "Another approach can be employed that makes use of the local environment within a function to access the variables. When we define methods with this approach later, Local Environment Approach, the results will look more like object oriented approaches seen in other languages.\n",
    "\n",
    "The approach relies on the local scope created when a function is called. A new environment is created that can be identified using the environment command. The environment can be saved in the list created for the class, and the variables within this scope can then be accessed using the identification of the environment.\n",
    "\n",
    "In the example below this approach appears to require more overhead. When we examine how to add external methods to the class the advantage will be a little clearer."
   ]
  },
  {
   "cell_type": "code",
   "execution_count": 18,
   "metadata": {
    "collapsed": true
   },
   "outputs": [],
   "source": [
    "NordAmericain <- function(eatsBreakfast=TRUE,myFavorite=\"cereal\")\n",
    "{\n",
    "\n",
    "      ## Get the environment for this\n",
    "      ## instance of the function.\n",
    "      thisEnv <- environment()\n",
    "\n",
    "      hasBreakfast <- eatsBreakfast\n",
    "      favoriteBreakfast <- myFavorite\n",
    "\n",
    "      ## Create the list used to represent an\n",
    "      ## object for this class\n",
    "      me <- list(\n",
    "\n",
    "        ## Define the environment where this list is defined so\n",
    "        ## that I can refer to it later.\n",
    "        thisEnv = thisEnv,\n",
    "\n",
    "        ## The Methods for this class normally go here but are discussed\n",
    "        ## below. A simple placeholder is here to give you a teaser....\n",
    "        getEnv = function()\n",
    "        {\n",
    "              return(get(\"thisEnv\",thisEnv))\n",
    "        }\n",
    "\n",
    "        )\n",
    "\n",
    "      ## Define the value of the list within the current environment.\n",
    "      assign('this',me,envir=thisEnv)\n",
    "\n",
    "      ## Set the name for the class\n",
    "      class(me) <- append(class(me),\"NordAmericain\")\n",
    "      return(me)\n",
    "}"
   ]
  },
  {
   "cell_type": "markdown",
   "metadata": {},
   "source": [
    "Now that the class is defined, the environment used for a given object can be easily retrieved."
   ]
  },
  {
   "cell_type": "code",
   "execution_count": 19,
   "metadata": {},
   "outputs": [
    {
     "data": {
      "text/html": [
       "TRUE"
      ],
      "text/latex": [
       "TRUE"
      ],
      "text/markdown": [
       "TRUE"
      ],
      "text/plain": [
       "[1] TRUE"
      ]
     },
     "metadata": {},
     "output_type": "display_data"
    },
    {
     "data": {
      "text/html": [
       "'cereal'"
      ],
      "text/latex": [
       "'cereal'"
      ],
      "text/markdown": [
       "'cereal'"
      ],
      "text/plain": [
       "[1] \"cereal\""
      ]
     },
     "metadata": {},
     "output_type": "display_data"
    }
   ],
   "source": [
    "bubba <- NordAmericain()\n",
    "get(\"hasBreakfast\",bubba$getEnv())\n",
    "get(\"favoriteBreakfast\",bubba$getEnv())"
   ]
  },
  {
   "cell_type": "markdown",
   "metadata": {},
   "source": [
    "Note that there is an unfortunate side effect to this approach. By keeping track of the environment, it is similar to using a pointer to the variables rather than the variables themselves. This means when you make a copy, you are making a copy of the pointer to the environment."
   ]
  },
  {
   "cell_type": "code",
   "execution_count": 21,
   "metadata": {},
   "outputs": [
    {
     "data": {
      "text/html": [
       "'oatmeal'"
      ],
      "text/latex": [
       "'oatmeal'"
      ],
      "text/markdown": [
       "'oatmeal'"
      ],
      "text/plain": [
       "[1] \"oatmeal\""
      ]
     },
     "metadata": {},
     "output_type": "display_data"
    },
    {
     "data": {
      "text/html": [
       "'toast'"
      ],
      "text/latex": [
       "'toast'"
      ],
      "text/markdown": [
       "'toast'"
      ],
      "text/plain": [
       "[1] \"toast\""
      ]
     },
     "metadata": {},
     "output_type": "display_data"
    },
    {
     "data": {
      "text/html": [
       "'toast'"
      ],
      "text/latex": [
       "'toast'"
      ],
      "text/markdown": [
       "'toast'"
      ],
      "text/plain": [
       "[1] \"toast\""
      ]
     },
     "metadata": {},
     "output_type": "display_data"
    }
   ],
   "source": [
    "bubba <- NordAmericain(myFavorite=\"oatmeal\")\n",
    "get(\"favoriteBreakfast\",bubba$getEnv())\n",
    "louise <- bubba\n",
    "assign(\"favoriteBreakfast\",\"toast\",louise$getEnv())\n",
    "get(\"favoriteBreakfast\",louise$getEnv())\n",
    "\n",
    "get(\"favoriteBreakfast\",bubba$getEnv())"
   ]
  },
  {
   "cell_type": "markdown",
   "metadata": {},
   "source": [
    "This issue will be explored again in the subsection below detailing how to create methods for an S3 class. If you wish to be able to copy an object using this approach you need to create a new method to return a proper copy."
   ]
  },
  {
   "cell_type": "markdown",
   "metadata": {},
   "source": [
    "## Creating Methods\n",
    "\n",
    "We now explore how to create methods associated with a class. Again we break it up into two parts. The first approach is used for both approaches discussed in the previous section. If you make use of the local environment approach discussed above you will likely make use of both approaches discussed in this section. If you only make use of the more straight forward approach you only need to be aware of the first approach discussed here.\n",
    "### Straight Forward Approach\n",
    "\n",
    "The first approach is to define a function that exists outside of the class. The function is defined in a generic way, and then a function specific to a given class is defined. The R environment then decides which function to use based on the class names of an argument to the function, and the suffix used in the names of the associated functions.\n",
    "\n",
    "One thing to keep in mind is that for assignment R makes copies of objects. The implication is that if you change a part of an object you need to return an exact copy of the object. Otherwise your changes may be lost.\n",
    "\n",
    "In the examples below we define accessors for the variables in the class defined above. We assume that the class NorthAmerican is defined in the same way as the first example above, Straightforward Class. In the first example the goal is that we want to create a function that will set the value of hasBreakfast for a given object. The name of the function will be setHasBreakfast.\n",
    "\n",
    "The first step is to reserve the name of the function, and use the UseMethod command to tell R to search for the correct function. If we pass an object whose class includes the name NorthAmerican then the correct function to call should be called setHasBreakfast.NorthAmerican. Note that we will also create a function called setHasBreakfast.default. This function will be called if R cannot find another function of the correct class."
   ]
  },
  {
   "cell_type": "code",
   "execution_count": 22,
   "metadata": {
    "collapsed": true
   },
   "outputs": [],
   "source": [
    "setHasBreakfast <- function(elObjeto, newValue)\n",
    "        {\n",
    "                print(\"Calling the base setHasBreakfast function\")\n",
    "                UseMethod(\"setHasBreakfast\",elObjeto)\n",
    "                print(\"Note this is not executed!\")\n",
    "        }\n",
    "\n",
    "setHasBreakfast.default <- function(elObjeto, newValue)\n",
    "        {\n",
    "                print(\"You screwed up. I do not know how to handle this object.\")\n",
    "                return(elObjeto)\n",
    "        }\n",
    "\n",
    "\n",
    "setHasBreakfast.NorthAmerican <- function(elObjeto, newValue)\n",
    "        {\n",
    "                print(\"In setHasBreakfast.NorthAmerican and setting the value\")\n",
    "                elObjeto$hasBreakfast <- newValue\n",
    "                return(elObjeto)\n",
    "        }"
   ]
  },
  {
   "cell_type": "markdown",
   "metadata": {},
   "source": [
    "The first thing to note is that the function returns a copy of the object passed to it. R passes copies of objects to functions. If you change an object within a function it does not change the original object. You must pass back a copy of the updated object."
   ]
  },
  {
   "cell_type": "code",
   "execution_count": 23,
   "metadata": {},
   "outputs": [
    {
     "data": {
      "text/html": [
       "TRUE"
      ],
      "text/latex": [
       "TRUE"
      ],
      "text/markdown": [
       "TRUE"
      ],
      "text/plain": [
       "[1] TRUE"
      ]
     },
     "metadata": {},
     "output_type": "display_data"
    },
    {
     "name": "stdout",
     "output_type": "stream",
     "text": [
      "[1] \"Calling the base setHasBreakfast function\"\n",
      "[1] \"In setHasBreakfast.NorthAmerican and setting the value\"\n"
     ]
    },
    {
     "data": {
      "text/html": [
       "FALSE"
      ],
      "text/latex": [
       "FALSE"
      ],
      "text/markdown": [
       "FALSE"
      ],
      "text/plain": [
       "[1] FALSE"
      ]
     },
     "metadata": {},
     "output_type": "display_data"
    },
    {
     "name": "stdout",
     "output_type": "stream",
     "text": [
      "[1] \"Calling the base setHasBreakfast function\"\n",
      "[1] \"In setHasBreakfast.NorthAmerican and setting the value\"\n"
     ]
    },
    {
     "data": {
      "text/html": [
       "'No type checking sucker!'"
      ],
      "text/latex": [
       "'No type checking sucker!'"
      ],
      "text/markdown": [
       "'No type checking sucker!'"
      ],
      "text/plain": [
       "[1] \"No type checking sucker!\""
      ]
     },
     "metadata": {},
     "output_type": "display_data"
    }
   ],
   "source": [
    "bubba <- NorthAmerican()\n",
    "bubba$hasBreakfast\n",
    "\n",
    "bubba <- setHasBreakfast(bubba,FALSE)\n",
    "\n",
    "bubba$hasBreakfast\n",
    "\n",
    "bubba <- setHasBreakfast(bubba,\"No type checking sucker!\")\n",
    "\n",
    "bubba$hasBreakfast"
   ]
  },
  {
   "cell_type": "markdown",
   "metadata": {},
   "source": [
    "If the correct function cannot be found then the default version of the function is called."
   ]
  },
  {
   "cell_type": "code",
   "execution_count": 24,
   "metadata": {},
   "outputs": [
    {
     "data": {
      "text/html": [
       "<ol class=list-inline>\n",
       "\t<li>1</li>\n",
       "\t<li>2</li>\n",
       "\t<li>3</li>\n",
       "\t<li>4</li>\n",
       "</ol>\n"
      ],
      "text/latex": [
       "\\begin{enumerate*}\n",
       "\\item 1\n",
       "\\item 2\n",
       "\\item 3\n",
       "\\item 4\n",
       "\\end{enumerate*}\n"
      ],
      "text/markdown": [
       "1. 1\n",
       "2. 2\n",
       "3. 3\n",
       "4. 4\n",
       "\n",
       "\n"
      ],
      "text/plain": [
       "[1] 1 2 3 4"
      ]
     },
     "metadata": {},
     "output_type": "display_data"
    },
    {
     "name": "stdout",
     "output_type": "stream",
     "text": [
      "[1] \"Calling the base setHasBreakfast function\"\n",
      "[1] \"You screwed up. I do not know how to handle this object.\"\n"
     ]
    },
    {
     "data": {
      "text/html": [
       "<ol class=list-inline>\n",
       "\t<li>1</li>\n",
       "\t<li>2</li>\n",
       "\t<li>3</li>\n",
       "\t<li>4</li>\n",
       "</ol>\n"
      ],
      "text/latex": [
       "\\begin{enumerate*}\n",
       "\\item 1\n",
       "\\item 2\n",
       "\\item 3\n",
       "\\item 4\n",
       "\\end{enumerate*}\n"
      ],
      "text/markdown": [
       "1. 1\n",
       "2. 2\n",
       "3. 3\n",
       "4. 4\n",
       "\n",
       "\n"
      ],
      "text/plain": [
       "[1] 1 2 3 4"
      ]
     },
     "metadata": {},
     "output_type": "display_data"
    }
   ],
   "source": [
    "someNumbers <- 1:4\n",
    "someNumbers\n",
    "\n",
    "Numbers <- setHasBreakfast(someNumbers,\"what?\")\n",
    "\n",
    "someNumbers"
   ]
  },
  {
   "cell_type": "markdown",
   "metadata": {},
   "source": [
    "It is a good practice to only use predefined accessors to get and set values held by an object. As a matter of completeness we define methods to get the value of the hasBreakfast field."
   ]
  },
  {
   "cell_type": "code",
   "execution_count": 25,
   "metadata": {
    "collapsed": true
   },
   "outputs": [],
   "source": [
    "getHasBreakfast <- function(elObjeto)\n",
    "        {\n",
    "                print(\"Calling the base getHasBreakfast function\")\n",
    "                UseMethod(\"getHasBreakfast\",elObjeto)\n",
    "                print(\"Note this is not executed!\")\n",
    "        }\n",
    "\n",
    "getHasBreakfast.default <- function(elObjeto)\n",
    "        {\n",
    "                print(\"You screwed up. I do not know how to handle this object.\")\n",
    "                return(NULL)\n",
    "        }\n",
    "\n",
    "\n",
    "getHasBreakfast.NorthAmerican <- function(elObjeto)\n",
    "        {\n",
    "                print(\"In getHasBreakfast.NorthAmerican and returning the value\")\n",
    "                return(elObjeto$hasBreakfast)\n",
    "        }"
   ]
  },
  {
   "cell_type": "markdown",
   "metadata": {},
   "source": [
    "The functions to get the values are used in the same way."
   ]
  },
  {
   "cell_type": "code",
   "execution_count": 26,
   "metadata": {},
   "outputs": [
    {
     "name": "stdout",
     "output_type": "stream",
     "text": [
      "[1] \"Calling the base setHasBreakfast function\"\n",
      "[1] \"In setHasBreakfast.NorthAmerican and setting the value\"\n",
      "[1] \"Calling the base getHasBreakfast function\"\n",
      "[1] \"In getHasBreakfast.NorthAmerican and returning the value\"\n"
     ]
    },
    {
     "data": {
      "text/html": [
       "'No type checking sucker!'"
      ],
      "text/latex": [
       "'No type checking sucker!'"
      ],
      "text/markdown": [
       "'No type checking sucker!'"
      ],
      "text/plain": [
       "[1] \"No type checking sucker!\""
      ]
     },
     "metadata": {},
     "output_type": "display_data"
    }
   ],
   "source": [
    "bubba <- NorthAmerican()\n",
    "bubba <- setHasBreakfast(bubba,\"No type checking sucker!\")\n",
    "\n",
    "result <- getHasBreakfast(bubba)\n",
    "\n",
    "result"
   ]
  },
  {
   "cell_type": "markdown",
   "metadata": {},
   "source": [
    "## Local Environment Approach\n",
    "\n",
    "If the second method for defining an S3 class is used as seen above, Local Environment Class, then the approach for defining a method can include an additional way to define a method. In this approach functions can be defined within the list that defines the object."
   ]
  },
  {
   "cell_type": "code",
   "execution_count": 27,
   "metadata": {
    "collapsed": true
   },
   "outputs": [],
   "source": [
    "NordAmericain <- function(eatsBreakfast=TRUE,myFavorite=\"cereal\")\n",
    "{\n",
    "\n",
    "      ## Get the environment for this\n",
    "      ## instance of the function.\n",
    "      thisEnv <- environment()\n",
    "\n",
    "      hasBreakfast <- eatsBreakfast\n",
    "      favoriteBreakfast <- myFavorite\n",
    "\n",
    "      ## Create the list used to represent an\n",
    "      ## object for this class\n",
    "      me <- list(\n",
    "\n",
    "              ## Define the environment where this list is defined so\n",
    "              ## that I can refer to it later.\n",
    "              thisEnv = thisEnv,\n",
    "\n",
    "              ## Define the accessors for the data fields.\n",
    "              getEnv = function()\n",
    "              {\n",
    "                      return(get(\"thisEnv\",thisEnv))\n",
    "              },\n",
    "\n",
    "              getHasBreakfast = function()\n",
    "              {\n",
    "                      return(get(\"hasBreakfast\",thisEnv))\n",
    "              },\n",
    "\n",
    "              setHasBreakfast = function(value)\n",
    "              {\n",
    "                      return(assign(\"hasBreakfast\",value,thisEnv))\n",
    "              },\n",
    "\n",
    "\n",
    "              getFavoriteBreakfast = function()\n",
    "              {\n",
    "                      return(get(\"favoriteBreakfast\",thisEnv))\n",
    "              },\n",
    "\n",
    "              setFavoriteBreakfast = function(value)\n",
    "              {\n",
    "                      return(assign(\"favoriteBreakfast\",value,thisEnv))\n",
    "              }\n",
    "\n",
    "        )\n",
    "\n",
    "      ## Define the value of the list within the current environment.\n",
    "      assign('this',me,envir=thisEnv)\n",
    "\n",
    "      ## Set the name for the class\n",
    "      class(me) <- append(class(me),\"NordAmericain\")\n",
    "      return(me)\n",
    "}"
   ]
  },
  {
   "cell_type": "markdown",
   "metadata": {},
   "source": [
    "With this definition the methods can be called in a more direct manner."
   ]
  },
  {
   "cell_type": "code",
   "execution_count": 28,
   "metadata": {},
   "outputs": [
    {
     "data": {
      "text/html": [
       "'oatmeal'"
      ],
      "text/latex": [
       "'oatmeal'"
      ],
      "text/markdown": [
       "'oatmeal'"
      ],
      "text/plain": [
       "[1] \"oatmeal\""
      ]
     },
     "metadata": {},
     "output_type": "display_data"
    },
    {
     "data": {
      "text/html": [
       "'plain toast'"
      ],
      "text/latex": [
       "'plain toast'"
      ],
      "text/markdown": [
       "'plain toast'"
      ],
      "text/plain": [
       "[1] \"plain toast\""
      ]
     },
     "metadata": {},
     "output_type": "display_data"
    }
   ],
   "source": [
    "bubba <- NordAmericain(myFavorite=\"oatmeal\")\n",
    "bubba$getFavoriteBreakfast()\n",
    "\n",
    "bubba$setFavoriteBreakfast(\"plain toast\")\n",
    "bubba$getFavoriteBreakfast()"
   ]
  },
  {
   "cell_type": "markdown",
   "metadata": {},
   "source": [
    "As noted above, Local Environment Class, this approach can be problematic when making a copy of an object. If you need to make copies of your objects a function must be defined to explicitly make a copy."
   ]
  },
  {
   "cell_type": "code",
   "execution_count": 29,
   "metadata": {
    "collapsed": true
   },
   "outputs": [],
   "source": [
    "makeCopy <- function(elObjeto)\n",
    "        {\n",
    "                print(\"Calling the base makeCopy function\")\n",
    "                UseMethod(\"makeCopy\",elObjeto)\n",
    "                print(\"Note this is not executed!\")\n",
    "        }\n",
    "\n",
    "makeCopy.default <- function(elObjeto)\n",
    "        {\n",
    "                print(\"You screwed up. I do not know how to handle this object.\")\n",
    "                return(elObjeto)\n",
    "        }\n",
    "\n",
    "\n",
    "makeCopy.NordAmericain <- function(elObjeto)\n",
    "        {\n",
    "                print(\"In makeCopy.NordAmericain and making a copy\")\n",
    "                newObject <- NordAmericain(\n",
    "                        eatsBreakfast=elObjeto$getHasBreakfast(),\n",
    "                        myFavorite=elObjeto$getFavoriteBreakfast())\n",
    "                return(newObject)\n",
    "        }\n"
   ]
  },
  {
   "cell_type": "markdown",
   "metadata": {},
   "source": [
    "With this definition we can now make a proper copy of the object and get the expected results."
   ]
  },
  {
   "cell_type": "code",
   "execution_count": 30,
   "metadata": {},
   "outputs": [
    {
     "name": "stdout",
     "output_type": "stream",
     "text": [
      "[1] \"Calling the base makeCopy function\"\n",
      "[1] \"In makeCopy.NordAmericain and making a copy\"\n"
     ]
    },
    {
     "data": {
      "text/html": [
       "'oatmeal'"
      ],
      "text/latex": [
       "'oatmeal'"
      ],
      "text/markdown": [
       "'oatmeal'"
      ],
      "text/plain": [
       "[1] \"oatmeal\""
      ]
     },
     "metadata": {},
     "output_type": "display_data"
    },
    {
     "data": {
      "text/html": [
       "'eggs'"
      ],
      "text/latex": [
       "'eggs'"
      ],
      "text/markdown": [
       "'eggs'"
      ],
      "text/plain": [
       "[1] \"eggs\""
      ]
     },
     "metadata": {},
     "output_type": "display_data"
    },
    {
     "data": {
      "text/html": [
       "'oatmeal'"
      ],
      "text/latex": [
       "'oatmeal'"
      ],
      "text/markdown": [
       "'oatmeal'"
      ],
      "text/plain": [
       "[1] \"oatmeal\""
      ]
     },
     "metadata": {},
     "output_type": "display_data"
    }
   ],
   "source": [
    "bubba <- NordAmericain(eatsBreakfast=FALSE,myFavorite=\"oatmeal\")\n",
    "louise <- makeCopy(bubba)\n",
    "\n",
    "louise$getFavoriteBreakfast()\n",
    "\n",
    "louise$setFavoriteBreakfast(\"eggs\")\n",
    "louise$getFavoriteBreakfast()\n",
    "\n",
    "bubba$getFavoriteBreakfast()"
   ]
  },
  {
   "cell_type": "markdown",
   "metadata": {},
   "source": [
    "## Inheritance\n",
    "\n",
    "Inheritance is part of what makes it worthwhile to go to the effort of making up a proper class. The basic idea is that another class can be constructed that makes use of all the data and methods of a base class and builds on them by adding additional data and methods.\n",
    "\n",
    "The basic idea is that an object’s class is a vector that contains an ordered list of classes that an object is a member of. When a new object is created it can add its class name to that list. The methods associated with the class can use the NextMethod command to search for the function associated with the next class in the list.\n",
    "\n",
    "In the examples below we build on the example of the NorthAmerican class defined above. The examples below assume that the NorthAmerican class given above is defined, and the class hierarchy is shown in Figure 1.."
   ]
  },
  {
   "attachments": {
    "s3Classes.png": {
     "image/png": "[encoded data removed]"
    }
   },
   "cell_type": "markdown",
   "metadata": {},
   "source": [
    "![s3Classes.png](attachment:s3Classes.png)"
   ]
  },
  {
   "cell_type": "markdown",
   "metadata": {},
   "source": [
    "Diagram of the NorthAmerican derived classes."
   ]
  },
  {
   "cell_type": "markdown",
   "metadata": {},
   "source": [
    "A file with the full script is available at s3Inheritance.R . We do not provide the full code set here in order to keep the discussion somewhat under control. Our first step is to define the new classes."
   ]
  },
  {
   "cell_type": "code",
   "execution_count": 32,
   "metadata": {
    "collapsed": true
   },
   "outputs": [],
   "source": [
    "Mexican <- function(eatsBreakfast=TRUE,myFavorite=\"los huevos\")\n",
    "{\n",
    "\n",
    "        me <- NorthAmerican(eatsBreakfast,myFavorite)\n",
    "\n",
    "        ## Add the name for the class\n",
    "        class(me) <- append(class(me),\"Mexican\")\n",
    "        return(me)\n",
    "}\n",
    "\n",
    "\n",
    "USAsian <- function(eatsBreakfast=TRUE,myFavorite=\"pork belly\")\n",
    "{\n",
    "\n",
    "        me <- NorthAmerican(eatsBreakfast,myFavorite)\n",
    "\n",
    "        ## Add the name for the class\n",
    "        class(me) <- append(class(me),\"USAsian\")\n",
    "        return(me)\n",
    "}\n",
    "\n",
    "Canadian <- function(eatsBreakfast=TRUE,myFavorite=\"back bacon\")\n",
    "{\n",
    "\n",
    "        me <- NorthAmerican(eatsBreakfast,myFavorite)\n",
    "\n",
    "        ## Add the name for the class\n",
    "        class(me) <- append(class(me),\"Canadian\")\n",
    "        return(me)\n",
    "}\n",
    "\n",
    "Anglophone <- function(eatsBreakfast=TRUE,myFavorite=\"pancakes\")\n",
    "{\n",
    "\n",
    "        me <- Canadian(eatsBreakfast,myFavorite)\n",
    "\n",
    "        ## Add the name for the class\n",
    "        class(me) <- append(class(me),\"Anglophone\")\n",
    "        return(me)\n",
    "}\n",
    "\n",
    "Francophone <- function(eatsBreakfast=TRUE,myFavorite=\"crepes\")\n",
    "{\n",
    "\n",
    "        me <- Canadian(eatsBreakfast,myFavorite)\n",
    "\n",
    "        ## Add the name for the class\n",
    "        class(me) <- append(class(me),\"Francophone\")\n",
    "        return(me)\n",
    "}"
   ]
  },
  {
   "cell_type": "markdown",
   "metadata": {},
   "source": [
    "With these definitions we can define an object. In this case we create an object from the Francophone class."
   ]
  },
  {
   "cell_type": "code",
   "execution_count": 33,
   "metadata": {},
   "outputs": [
    {
     "data": {
      "text/html": [
       "<dl>\n",
       "\t<dt>$hasBreakfast</dt>\n",
       "\t\t<dd>TRUE</dd>\n",
       "\t<dt>$favoriteBreakfast</dt>\n",
       "\t\t<dd>'crepes'</dd>\n",
       "</dl>\n"
      ],
      "text/latex": [
       "\\begin{description}\n",
       "\\item[\\$hasBreakfast] TRUE\n",
       "\\item[\\$favoriteBreakfast] 'crepes'\n",
       "\\end{description}\n"
      ],
      "text/markdown": [
       "$hasBreakfast\n",
       ":   TRUE\n",
       "$favoriteBreakfast\n",
       ":   'crepes'\n",
       "\n",
       "\n"
      ],
      "text/plain": [
       "$hasBreakfast\n",
       "[1] TRUE\n",
       "\n",
       "$favoriteBreakfast\n",
       "[1] \"crepes\"\n",
       "\n",
       "attr(,\"class\")\n",
       "[1] \"list\"          \"NorthAmerican\" \"Canadian\"      \"Francophone\"  "
      ]
     },
     "metadata": {},
     "output_type": "display_data"
    }
   ],
   "source": [
    "francois <- Francophone()\n",
    "francois"
   ]
  },
  {
   "cell_type": "markdown",
   "metadata": {},
   "source": [
    "The thing to notice is that the class vector demonstrates the class inheritance structure. We can now define a method, makeBreakfast which will make use of the class structure."
   ]
  },
  {
   "cell_type": "code",
   "execution_count": 34,
   "metadata": {
    "collapsed": true
   },
   "outputs": [],
   "source": [
    "makeBreakfast <- function(theObject)\n",
    "        {\n",
    "                print(\"Calling the base makeBreakfast function\")\n",
    "                UseMethod(\"makeBreakfast\",theObject)\n",
    "        }\n",
    "\n",
    "makeBreakfast.default <- function(theObject)\n",
    "        {\n",
    "                print(noquote(paste(\"Well, this is awkward. Just make\",\n",
    "                                  getFavoriteBreakfast(theObject))))\n",
    "                return(theObject)\n",
    "        }\n",
    "\n",
    "makeBreakfast.Mexican <- function(theObject)\n",
    "        {\n",
    "                print(noquote(paste(\"Estoy cocinando\",\n",
    "                                       getFavoriteBreakfast(theObject))))\n",
    "                NextMethod(\"makeBreakfast\",theObject)\n",
    "                return(theObject)\n",
    "        }\n",
    "\n",
    "makeBreakfast.USAsian <- function(theObject)\n",
    "        {\n",
    "                print(noquote(paste(\"Leave me alone I am making\",\n",
    "                                               getFavoriteBreakfast(theObject))))\n",
    "                NextMethod(\"makeBreakfast\",theObject)\n",
    "                return(theObject)\n",
    "        }\n",
    "\n",
    "makeBreakfast.Canadian <- function(theObject)\n",
    "        {\n",
    "                print(noquote(paste(\"Good morning, how would you like\",\n",
    "                                       getFavoriteBreakfast(theObject))))\n",
    "                NextMethod(\"makeBreakfast\",theObject)\n",
    "                return(theObject)\n",
    "        }\n",
    "\n",
    "makeBreakfast.Anglophone <- function(theObject)\n",
    "        {\n",
    "                print(noquote(paste(\"I hope it is okay that I am making\",\n",
    "                                       getFavoriteBreakfast(theObject))))\n",
    "                NextMethod(\"makeBreakfast\",theObject)\n",
    "                return(theObject)\n",
    "        }\n",
    "\n",
    "makeBreakfast.Francophone <- function(theObject)\n",
    "        {\n",
    "                print(noquote(paste(\"Je cuisine\",\n",
    "                                       getFavoriteBreakfast(theObject))))\n",
    "                NextMethod(\"makeBreakfast\",theObject)\n",
    "                return(theObject)\n",
    "        }\n"
   ]
  },
  {
   "cell_type": "markdown",
   "metadata": {},
   "source": [
    "Note that the functions call the NextMethod function to call the next function in the list of classes."
   ]
  },
  {
   "cell_type": "code",
   "execution_count": 35,
   "metadata": {},
   "outputs": [
    {
     "name": "stdout",
     "output_type": "stream",
     "text": [
      "[1] \"Calling the base makeBreakfast function\"\n"
     ]
    },
    {
     "ename": "ERROR",
     "evalue": "Error in getFavoriteBreakfast(theObject): could not find function \"getFavoriteBreakfast\"\n",
     "output_type": "error",
     "traceback": [
      "Error in getFavoriteBreakfast(theObject): could not find function \"getFavoriteBreakfast\"\nTraceback:\n",
      "1. makeBreakfast(francois)",
      "2. makeBreakfast.Canadian(francois)   # at line 4 of file <text>",
      "3. print(noquote(paste(\"Good morning, how would you like\", getFavoriteBreakfast(theObject))))   # at line 32-33 of file <text>",
      "4. noquote(paste(\"Good morning, how would you like\", getFavoriteBreakfast(theObject)))",
      "5. paste(\"Good morning, how would you like\", getFavoriteBreakfast(theObject))"
     ]
    }
   ],
   "source": [
    "francois <- makeBreakfast(francois)"
   ]
  },
  {
   "cell_type": "markdown",
   "metadata": {},
   "source": [
    "It is important to note the order that the methods are called. They are called from left to right in the list of classes. Another thing to note is that when the methods run out of class names the default function is called."
   ]
  },
  {
   "cell_type": "code",
   "execution_count": null,
   "metadata": {
    "collapsed": true
   },
   "outputs": [],
   "source": []
  }
 ],
 "metadata": {
  "kernelspec": {
   "display_name": "R",
   "language": "R",
   "name": "ir"
  },
  "language_info": {
   "codemirror_mode": "r",
   "file_extension": ".r",
   "mimetype": "text/x-r-source",
   "name": "R",
   "pygments_lexer": "r",
   "version": "3.4.1"
  }
 },
 "nbformat": 4,
 "nbformat_minor": 1
}
