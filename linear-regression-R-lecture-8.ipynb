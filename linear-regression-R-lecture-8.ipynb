{
 "cells": [
  {
   "cell_type": "markdown",
   "metadata": {},
   "source": [
    "# Linear Least Squares Regression\n",
    "\n",
    "Here we look at the most basic linear least squares regression. The main purpose is to provide an example of the basic commands. It is assumed that you know how to enter data or read data files which is covered in the first chapter, and it is assumed that you are familiar with the different data types.\n",
    "\n",
    "We will examine the interest rate for four year car loans, and the data that we use comes from the U.S. Federal Reserve’s mean rates . We are looking at and plotting means. This, of course, is a very bad thing because it removes a lot of the variance and is misleading. The only reason that we are working with the data in this way is to provide an example of linear regression that does not use too many data points. Do not try this without a professional near you, and if a professional is not near you do not tell anybody you did this. They will laugh at you. People are mean, especially professionals.\n",
    "\n",
    "The first thing to do is to specify the data. Here there are only five pairs of numbers so we can enter them in manually. Each of the five pairs consists of a year and the mean interest rate:"
   ]
  },
  {
   "cell_type": "code",
   "execution_count": 1,
   "metadata": {
    "collapsed": true
   },
   "outputs": [],
   "source": [
    "year <- c(2000 ,   2001  ,  2002  ,  2003 ,   2004)\n",
    "rate <- c(9.34 ,   8.50  ,  7.62  ,  6.93  ,  6.60)"
   ]
  },
  {
   "cell_type": "markdown",
   "metadata": {},
   "source": [
    "The next thing we do is take a look at the data. We first plot the data using a scatter plot and notice that it looks linear. To confirm our suspicions we then find the correlation between the year and the mean interest rates:"
   ]
  },
  {
   "cell_type": "code",
   "execution_count": 2,
   "metadata": {},
   "outputs": [
    {
     "data": {
      "image/png": "[encoded data removed]",
      "text/plain": [
       "Plot with title “Commercial Banks Interest Rate for 4 Year Car Loan”"
      ]
     },
     "metadata": {},
     "output_type": "display_data"
    }
   ],
   "source": [
    "plot(year,rate,\n",
    "     main=\"Commercial Banks Interest Rate for 4 Year Car Loan\",\n",
    "     sub=\"http://www.federalreserve.gov/releases/g19/20050805/\")"
   ]
  },
  {
   "cell_type": "code",
   "execution_count": 3,
   "metadata": {},
   "outputs": [
    {
     "data": {
      "text/html": [
       "-0.988081315493202"
      ],
      "text/latex": [
       "-0.988081315493202"
      ],
      "text/markdown": [
       "-0.988081315493202"
      ],
      "text/plain": [
       "[1] -0.9880813"
      ]
     },
     "metadata": {},
     "output_type": "display_data"
    }
   ],
   "source": [
    "cor(year,rate)"
   ]
  },
  {
   "cell_type": "markdown",
   "metadata": {},
   "source": [
    "At this point we should be excited because associations that strong never happen in the real world unless you cook the books or work with averaged data. The next question is what straight line comes “closest” to the data? In this case we will use least squares regression as one way to determine the line.\n",
    "\n",
    "Before we can find the least square regression line we have to make some decisions. First we have to decide which is the explanatory and which is the response variable. Here, we arbitrarily pick the explanatory variable to be the year, and the response variable is the interest rate. This was chosen because it seems like the interest rate might change in time rather than time changing as the interest rate changes. (We could be wrong, finance is very confusing.)\n",
    "\n",
    "The command to perform the least square regression is the lm command. The command has many options, but we will keep it simple and not explore them here. If you are interested use the help(lm) command to learn more. Instead the only option we examine is the one necessary argument which specifies the relationship.\n",
    "\n",
    "Since we specified that the interest rate is the response variable and the year is the explanatory variable this means that the regression line can be written in slope-intercept form:\n",
    "\n",
    "    rate=(slope)year+(intercept)\n",
    "\n",
    "The way that this relationship is defined in the lm command is that you write the vector containing the response variable, a tilde (“~”), and a vector containing the explanatory variable:"
   ]
  },
  {
   "cell_type": "code",
   "execution_count": 4,
   "metadata": {},
   "outputs": [
    {
     "data": {
      "text/plain": [
       "\n",
       "Call:\n",
       "lm(formula = rate ~ year)\n",
       "\n",
       "Coefficients:\n",
       "(Intercept)         year  \n",
       "   1419.208       -0.705  \n"
      ]
     },
     "metadata": {},
     "output_type": "display_data"
    }
   ],
   "source": [
    "fit <- lm(rate ~ year)\n",
    "fit"
   ]
  },
  {
   "cell_type": "markdown",
   "metadata": {},
   "source": [
    "When you make the call to lm it returns a variable with a lot of information in it. If you are just learning about least squares regression you are probably only interested in two things at this point, the slope and the y-intercept. If you just type the name of the variable returned by lm it will print out this minimal information to the screen. (See above.)\n",
    "\n",
    "If you would like to know what else is stored in the variable you can use the attributes command:"
   ]
  },
  {
   "cell_type": "code",
   "execution_count": 5,
   "metadata": {},
   "outputs": [
    {
     "data": {
      "text/html": [
       "<dl>\n",
       "\t<dt>$names</dt>\n",
       "\t\t<dd><ol class=list-inline>\n",
       "\t<li>'coefficients'</li>\n",
       "\t<li>'residuals'</li>\n",
       "\t<li>'effects'</li>\n",
       "\t<li>'rank'</li>\n",
       "\t<li>'fitted.values'</li>\n",
       "\t<li>'assign'</li>\n",
       "\t<li>'qr'</li>\n",
       "\t<li>'df.residual'</li>\n",
       "\t<li>'xlevels'</li>\n",
       "\t<li>'call'</li>\n",
       "\t<li>'terms'</li>\n",
       "\t<li>'model'</li>\n",
       "</ol>\n",
       "</dd>\n",
       "\t<dt>$class</dt>\n",
       "\t\t<dd>'lm'</dd>\n",
       "</dl>\n"
      ],
      "text/latex": [
       "\\begin{description}\n",
       "\\item[\\$names] \\begin{enumerate*}\n",
       "\\item 'coefficients'\n",
       "\\item 'residuals'\n",
       "\\item 'effects'\n",
       "\\item 'rank'\n",
       "\\item 'fitted.values'\n",
       "\\item 'assign'\n",
       "\\item 'qr'\n",
       "\\item 'df.residual'\n",
       "\\item 'xlevels'\n",
       "\\item 'call'\n",
       "\\item 'terms'\n",
       "\\item 'model'\n",
       "\\end{enumerate*}\n",
       "\n",
       "\\item[\\$class] 'lm'\n",
       "\\end{description}\n"
      ],
      "text/markdown": [
       "$names\n",
       ":   1. 'coefficients'\n",
       "2. 'residuals'\n",
       "3. 'effects'\n",
       "4. 'rank'\n",
       "5. 'fitted.values'\n",
       "6. 'assign'\n",
       "7. 'qr'\n",
       "8. 'df.residual'\n",
       "9. 'xlevels'\n",
       "10. 'call'\n",
       "11. 'terms'\n",
       "12. 'model'\n",
       "\n",
       "\n",
       "\n",
       "$class\n",
       ":   'lm'\n",
       "\n",
       "\n"
      ],
      "text/plain": [
       "$names\n",
       " [1] \"coefficients\"  \"residuals\"     \"effects\"       \"rank\"         \n",
       " [5] \"fitted.values\" \"assign\"        \"qr\"            \"df.residual\"  \n",
       " [9] \"xlevels\"       \"call\"          \"terms\"         \"model\"        \n",
       "\n",
       "$class\n",
       "[1] \"lm\"\n"
      ]
     },
     "metadata": {},
     "output_type": "display_data"
    }
   ],
   "source": [
    "attributes(fit)"
   ]
  },
  {
   "cell_type": "markdown",
   "metadata": {},
   "source": [
    "One of the things you should notice is the coefficients variable within fit. You can print out the y-intercept and slope by accessing this part of the variable:"
   ]
  },
  {
   "cell_type": "code",
   "execution_count": 6,
   "metadata": {},
   "outputs": [
    {
     "data": {
      "text/html": [
       "<strong>(Intercept):</strong> 1419.20800000015"
      ],
      "text/latex": [
       "\\textbf{(Intercept):} 1419.20800000015"
      ],
      "text/markdown": [
       "**(Intercept):** 1419.20800000015"
      ],
      "text/plain": [
       "(Intercept) \n",
       "   1419.208 "
      ]
     },
     "metadata": {},
     "output_type": "display_data"
    }
   ],
   "source": [
    "fit$coefficients[1]"
   ]
  },
  {
   "cell_type": "code",
   "execution_count": 7,
   "metadata": {},
   "outputs": [
    {
     "data": {
      "text/html": [
       "1419.20800000015"
      ],
      "text/latex": [
       "1419.20800000015"
      ],
      "text/markdown": [
       "1419.20800000015"
      ],
      "text/plain": [
       "[1] 1419.208"
      ]
     },
     "metadata": {},
     "output_type": "display_data"
    }
   ],
   "source": [
    "fit$coefficients[[1]]"
   ]
  },
  {
   "cell_type": "code",
   "execution_count": 8,
   "metadata": {},
   "outputs": [
    {
     "data": {
      "text/html": [
       "<strong>year:</strong> -0.705000000000075"
      ],
      "text/latex": [
       "\\textbf{year:} -0.705000000000075"
      ],
      "text/markdown": [
       "**year:** -0.705000000000075"
      ],
      "text/plain": [
       "  year \n",
       "-0.705 "
      ]
     },
     "metadata": {},
     "output_type": "display_data"
    }
   ],
   "source": [
    "fit$coefficients[2]"
   ]
  },
  {
   "cell_type": "code",
   "execution_count": 9,
   "metadata": {},
   "outputs": [
    {
     "data": {
      "text/html": [
       "-0.705000000000075"
      ],
      "text/latex": [
       "-0.705000000000075"
      ],
      "text/markdown": [
       "-0.705000000000075"
      ],
      "text/plain": [
       "[1] -0.705"
      ]
     },
     "metadata": {},
     "output_type": "display_data"
    }
   ],
   "source": [
    "fit$coefficients[[2]]"
   ]
  },
  {
   "cell_type": "markdown",
   "metadata": {},
   "source": [
    "Note that if you just want to get the number you should use two square braces. So if you want to get an estimate of the interest rate in the year 2015 you can use the formula for a line:"
   ]
  },
  {
   "cell_type": "code",
   "execution_count": 10,
   "metadata": {},
   "outputs": [
    {
     "data": {
      "text/html": [
       "-1.36700000000064"
      ],
      "text/latex": [
       "-1.36700000000064"
      ],
      "text/markdown": [
       "-1.36700000000064"
      ],
      "text/plain": [
       "[1] -1.367"
      ]
     },
     "metadata": {},
     "output_type": "display_data"
    }
   ],
   "source": [
    "fit$coefficients[[2]]*2015+fit$coefficients[[1]]"
   ]
  },
  {
   "cell_type": "markdown",
   "metadata": {},
   "source": [
    "So if you just wait long enough, the banks will pay you to take a car!\n",
    "\n",
    "A better use for this formula would be to calculate the residuals and plot them:"
   ]
  },
  {
   "cell_type": "code",
   "execution_count": 11,
   "metadata": {},
   "outputs": [
    {
     "data": {
      "text/html": [
       "<ol class=list-inline>\n",
       "\t<li>0.131999999999689</li>\n",
       "\t<li>-0.00300000000038381</li>\n",
       "\t<li>-0.178000000000229</li>\n",
       "\t<li>-0.163000000000075</li>\n",
       "\t<li>0.211999999999852</li>\n",
       "</ol>\n"
      ],
      "text/latex": [
       "\\begin{enumerate*}\n",
       "\\item 0.131999999999689\n",
       "\\item -0.00300000000038381\n",
       "\\item -0.178000000000229\n",
       "\\item -0.163000000000075\n",
       "\\item 0.211999999999852\n",
       "\\end{enumerate*}\n"
      ],
      "text/markdown": [
       "1. 0.131999999999689\n",
       "2. -0.00300000000038381\n",
       "3. -0.178000000000229\n",
       "4. -0.163000000000075\n",
       "5. 0.211999999999852\n",
       "\n",
       "\n"
      ],
      "text/plain": [
       "[1]  0.132 -0.003 -0.178 -0.163  0.212"
      ]
     },
     "metadata": {},
     "output_type": "display_data"
    },
    {
     "data": {
      "image/png": "[encoded data removed]",
      "text/plain": [
       "plot without title"
      ]
     },
     "metadata": {},
     "output_type": "display_data"
    }
   ],
   "source": [
    "res <- rate - (fit$coefficients[[2]]*year+fit$coefficients[[1]])\n",
    "res\n",
    "plot(year,res)\n"
   ]
  },
  {
   "cell_type": "markdown",
   "metadata": {},
   "source": [
    "That is a bit messy, but fortunately there are easier ways to get the residuals. Two other ways are shown below:"
   ]
  },
  {
   "cell_type": "code",
   "execution_count": 12,
   "metadata": {},
   "outputs": [
    {
     "data": {
      "text/html": [
       "<dl class=dl-horizontal>\n",
       "\t<dt>1</dt>\n",
       "\t\t<dd>0.132000000000183</dd>\n",
       "\t<dt>2</dt>\n",
       "\t\t<dd>-0.00300000000015968</dd>\n",
       "\t<dt>3</dt>\n",
       "\t\t<dd>-0.178000000000083</dd>\n",
       "\t<dt>4</dt>\n",
       "\t\t<dd>-0.163000000000008</dd>\n",
       "\t<dt>5</dt>\n",
       "\t\t<dd>0.212000000000068</dd>\n",
       "</dl>\n"
      ],
      "text/latex": [
       "\\begin{description*}\n",
       "\\item[1] 0.132000000000183\n",
       "\\item[2] -0.00300000000015968\n",
       "\\item[3] -0.178000000000083\n",
       "\\item[4] -0.163000000000008\n",
       "\\item[5] 0.212000000000068\n",
       "\\end{description*}\n"
      ],
      "text/markdown": [
       "1\n",
       ":   0.1320000000001832\n",
       ":   -0.003000000000159683\n",
       ":   -0.1780000000000834\n",
       ":   -0.1630000000000085\n",
       ":   0.212000000000068\n",
       "\n"
      ],
      "text/plain": [
       "     1      2      3      4      5 \n",
       " 0.132 -0.003 -0.178 -0.163  0.212 "
      ]
     },
     "metadata": {},
     "output_type": "display_data"
    }
   ],
   "source": [
    "residuals(fit)"
   ]
  },
  {
   "cell_type": "code",
   "execution_count": 13,
   "metadata": {},
   "outputs": [
    {
     "data": {
      "text/html": [
       "<dl class=dl-horizontal>\n",
       "\t<dt>1</dt>\n",
       "\t\t<dd>0.132000000000183</dd>\n",
       "\t<dt>2</dt>\n",
       "\t\t<dd>-0.00300000000015968</dd>\n",
       "\t<dt>3</dt>\n",
       "\t\t<dd>-0.178000000000083</dd>\n",
       "\t<dt>4</dt>\n",
       "\t\t<dd>-0.163000000000008</dd>\n",
       "\t<dt>5</dt>\n",
       "\t\t<dd>0.212000000000068</dd>\n",
       "</dl>\n"
      ],
      "text/latex": [
       "\\begin{description*}\n",
       "\\item[1] 0.132000000000183\n",
       "\\item[2] -0.00300000000015968\n",
       "\\item[3] -0.178000000000083\n",
       "\\item[4] -0.163000000000008\n",
       "\\item[5] 0.212000000000068\n",
       "\\end{description*}\n"
      ],
      "text/markdown": [
       "1\n",
       ":   0.1320000000001832\n",
       ":   -0.003000000000159683\n",
       ":   -0.1780000000000834\n",
       ":   -0.1630000000000085\n",
       ":   0.212000000000068\n",
       "\n"
      ],
      "text/plain": [
       "     1      2      3      4      5 \n",
       " 0.132 -0.003 -0.178 -0.163  0.212 "
      ]
     },
     "metadata": {},
     "output_type": "display_data"
    }
   ],
   "source": [
    "fit$residuals"
   ]
  },
  {
   "cell_type": "code",
   "execution_count": 14,
   "metadata": {},
   "outputs": [
    {
     "data": {
      "image/png": "[encoded data removed]",
      "text/plain": [
       "plot without title"
      ]
     },
     "metadata": {},
     "output_type": "display_data"
    }
   ],
   "source": [
    "plot(year,fit$residuals)"
   ]
  },
  {
   "cell_type": "markdown",
   "metadata": {},
   "source": [
    "If you want to plot the regression line on the same plot as your scatter plot you can use the abline function along with your variable fit:"
   ]
  },
  {
   "cell_type": "code",
   "execution_count": 15,
   "metadata": {},
   "outputs": [
    {
     "data": {
      "image/png": "[encoded data removed]",
      "text/plain": [
       "Plot with title “Commercial Banks Interest Rate for 4 Year Car Loan”"
      ]
     },
     "metadata": {},
     "output_type": "display_data"
    }
   ],
   "source": [
    "plot(year,rate,\n",
    "     main=\"Commercial Banks Interest Rate for 4 Year Car Loan\",\n",
    "     sub=\"http://www.federalreserve.gov/releases/g19/20050805/\")\n",
    "abline(fit)"
   ]
  },
  {
   "cell_type": "markdown",
   "metadata": {},
   "source": [
    "Finally, as a teaser for the kinds of analyses you might see later, you can get the results of an F-test by asking R for a summary of the fit variable:"
   ]
  },
  {
   "cell_type": "code",
   "execution_count": 16,
   "metadata": {},
   "outputs": [
    {
     "data": {
      "text/plain": [
       "\n",
       "Call:\n",
       "lm(formula = rate ~ year)\n",
       "\n",
       "Residuals:\n",
       "     1      2      3      4      5 \n",
       " 0.132 -0.003 -0.178 -0.163  0.212 \n",
       "\n",
       "Coefficients:\n",
       "              Estimate Std. Error t value Pr(>|t|)   \n",
       "(Intercept) 1419.20800  126.94957   11.18  0.00153 **\n",
       "year          -0.70500    0.06341  -11.12  0.00156 **\n",
       "---\n",
       "Signif. codes:  0 ‘***’ 0.001 ‘**’ 0.01 ‘*’ 0.05 ‘.’ 0.1 ‘ ’ 1\n",
       "\n",
       "Residual standard error: 0.2005 on 3 degrees of freedom\n",
       "Multiple R-squared:  0.9763,\tAdjusted R-squared:  0.9684 \n",
       "F-statistic: 123.6 on 1 and 3 DF,  p-value: 0.001559\n"
      ]
     },
     "metadata": {},
     "output_type": "display_data"
    }
   ],
   "source": [
    "summary(fit)"
   ]
  },
  {
   "cell_type": "code",
   "execution_count": null,
   "metadata": {
    "collapsed": true
   },
   "outputs": [],
   "source": []
  }
 ],
 "metadata": {
  "kernelspec": {
   "display_name": "R",
   "language": "R",
   "name": "ir"
  },
  "language_info": {
   "codemirror_mode": "r",
   "file_extension": ".r",
   "mimetype": "text/x-r-source",
   "name": "R",
   "pygments_lexer": "r",
   "version": "3.4.1"
  }
 },
 "nbformat": 4,
 "nbformat_minor": 1
}
