{
 "cells": [
  {
   "cell_type": "markdown",
   "metadata": {},
   "source": [
    "# S4 Classes"
   ]
  },
  {
   "cell_type": "markdown",
   "metadata": {},
   "source": [
    "## The Basic Idea\n",
    "\n",
    "The S4 approach differs from the S3 approach to creating a class in that it is a more rigid definition. The idea is that an object is created using the setClass command. The command takes a number of options. Many of the options are not required, but we make use of several of the optional arguments because they represent good practices with respect to object oriented programming.\n",
    "\n",
    "We first construct a trivial, contrived class simply to demonstrate the basic idea. Next we demonstrate how to create a method for an S4 class. This example is a little more involved than what we saw in the section on S3 classes.\n",
    "\n",
    "In this example, the name of the class is FirstQuadrant, and the class is used to keep track of an (x,y) coordinate pair in the first quadrant. There is a restriction that both values must be greater than or equal to zero. There are two data elements, called slots, and they are called x and y. The default values for the coordinate is the origin, x=0 and y=0."
   ]
  },
  {
   "cell_type": "code",
   "execution_count": 1,
   "metadata": {
    "collapsed": true
   },
   "outputs": [],
   "source": [
    "######################################################################\n",
    "# Create the first quadrant class\n",
    "#\n",
    "# This is used to represent a coordinate in the first quadrant.\n",
    "FirstQuadrant <- setClass(\n",
    "        # Set the name for the class\n",
    "        \"FirstQuadrant\",\n",
    "\n",
    "        # Define the slots\n",
    "        slots = c(\n",
    "                x = \"numeric\",\n",
    "                y = \"numeric\"\n",
    "                ),\n",
    "\n",
    "        # Set the default values for the slots. (optional)\n",
    "        prototype=list(\n",
    "                x = 0.0,\n",
    "                y = 0.0\n",
    "                ),\n",
    "\n",
    "        # Make a function that can test to see if the data is consistent.\n",
    "        # This is not called if you have an initialize function defined!\n",
    "        validity=function(object)\n",
    "        {\n",
    "                if((object@x < 0) || (object@y < 0)) {\n",
    "                        return(\"A negative number for one of the coordinates was given.\")\n",
    "                }\n",
    "                return(TRUE)\n",
    "        }\n",
    "        )"
   ]
  },
  {
   "cell_type": "markdown",
   "metadata": {},
   "source": [
    "Note that the way to access one of the data elements is to use the “@” symbol. An example if given below. In the example three elements of the class defined above are created. The first uses the default values for the slots, the second overrides the defaults, and finally an attempt is made to create a coordinate in the second quadrant."
   ]
  },
  {
   "cell_type": "code",
   "execution_count": 2,
   "metadata": {},
   "outputs": [
    {
     "data": {
      "text/plain": [
       "An object of class \"FirstQuadrant\"\n",
       "Slot \"x\":\n",
       "[1] 0\n",
       "\n",
       "Slot \"y\":\n",
       "[1] 0\n"
      ]
     },
     "metadata": {},
     "output_type": "display_data"
    }
   ],
   "source": [
    "x <- FirstQuadrant()\n",
    "x"
   ]
  },
  {
   "cell_type": "code",
   "execution_count": 3,
   "metadata": {},
   "outputs": [
    {
     "data": {
      "text/plain": [
       "An object of class \"FirstQuadrant\"\n",
       "Slot \"x\":\n",
       "[1] 5\n",
       "\n",
       "Slot \"y\":\n",
       "[1] 7\n"
      ]
     },
     "metadata": {},
     "output_type": "display_data"
    }
   ],
   "source": [
    "y <- FirstQuadrant(x=5,y=7)\n",
    "y"
   ]
  },
  {
   "cell_type": "code",
   "execution_count": 4,
   "metadata": {},
   "outputs": [
    {
     "data": {
      "text/html": [
       "5"
      ],
      "text/latex": [
       "5"
      ],
      "text/markdown": [
       "5"
      ],
      "text/plain": [
       "[1] 5"
      ]
     },
     "metadata": {},
     "output_type": "display_data"
    }
   ],
   "source": [
    "y@x"
   ]
  },
  {
   "cell_type": "code",
   "execution_count": 5,
   "metadata": {},
   "outputs": [
    {
     "data": {
      "text/html": [
       "7"
      ],
      "text/latex": [
       "7"
      ],
      "text/markdown": [
       "7"
      ],
      "text/plain": [
       "[1] 7"
      ]
     },
     "metadata": {},
     "output_type": "display_data"
    }
   ],
   "source": [
    "y@y"
   ]
  },
  {
   "cell_type": "code",
   "execution_count": 6,
   "metadata": {},
   "outputs": [
    {
     "ename": "ERROR",
     "evalue": "Error in validObject(.Object): invalid class “FirstQuadrant” object: A negative number for one of the coordinates was given.\n",
     "output_type": "error",
     "traceback": [
      "Error in validObject(.Object): invalid class “FirstQuadrant” object: A negative number for one of the coordinates was given.\nTraceback:\n",
      "1. FirstQuadrant(x = 3, y = -2)",
      "2. new(structure(\"FirstQuadrant\", package = \".GlobalEnv\"), ...)",
      "3. initialize(value, ...)",
      "4. initialize(value, ...)",
      "5. validObject(.Object)",
      "6. stop(msg, \": \", errors, domain = NA)"
     ]
    }
   ],
   "source": [
    "z <- FirstQuadrant(x=3,y=-2)\n",
    "z"
   ]
  },
  {
   "cell_type": "markdown",
   "metadata": {},
   "source": [
    "In the next example we create a method that is associated with the class. The method is used to set the values of a coordinate. The first step is to reserve the name using the setGeneric command, and then the setMethod command is used to define the function to be called when the first argument is an object from the FirstQuadrant class."
   ]
  },
  {
   "cell_type": "code",
   "execution_count": 7,
   "metadata": {},
   "outputs": [
    {
     "data": {
      "text/html": [
       "'setCoordinate'"
      ],
      "text/latex": [
       "'setCoordinate'"
      ],
      "text/markdown": [
       "'setCoordinate'"
      ],
      "text/plain": [
       "[1] \"setCoordinate\""
      ]
     },
     "metadata": {},
     "output_type": "display_data"
    },
    {
     "data": {
      "text/html": [
       "'setCoordinate'"
      ],
      "text/latex": [
       "'setCoordinate'"
      ],
      "text/markdown": [
       "'setCoordinate'"
      ],
      "text/plain": [
       "[1] \"setCoordinate\""
      ]
     },
     "metadata": {},
     "output_type": "display_data"
    }
   ],
   "source": [
    "# create a method to assign the value of a coordinate\n",
    "setGeneric(name=\"setCoordinate\",\n",
    "                       def=function(theObject,xVal,yVal)\n",
    "                       {\n",
    "                               standardGeneric(\"setCoordinate\")\n",
    "                       }\n",
    "                       )\n",
    "\n",
    "setMethod(f=\"setCoordinate\",\n",
    "                      signature=\"FirstQuadrant\",\n",
    "                      definition=function(theObject,xVal,yVal)\n",
    "                      {\n",
    "                              theObject@x <- xVal\n",
    "                              theObject@y <- yVal\n",
    "                              return(theObject)\n",
    "                      }\n",
    "                      )\n"
   ]
  },
  {
   "cell_type": "markdown",
   "metadata": {},
   "source": [
    "It is important to note that R generally passes objects as values. For this reason the methods defined above return the updated object. When the method is called, it is used to replace the former object with the updated object."
   ]
  },
  {
   "cell_type": "code",
   "execution_count": 8,
   "metadata": {},
   "outputs": [
    {
     "data": {
      "text/plain": [
       "An object of class \"FirstQuadrant\"\n",
       "Slot \"x\":\n",
       "[1] 2.5\n",
       "\n",
       "Slot \"y\":\n",
       "[1] 10\n"
      ]
     },
     "metadata": {},
     "output_type": "display_data"
    }
   ],
   "source": [
    "z <- FirstQuadrant(x=2.5,y=10)\n",
    "z"
   ]
  },
  {
   "cell_type": "code",
   "execution_count": 9,
   "metadata": {},
   "outputs": [
    {
     "data": {
      "text/plain": [
       "An object of class \"FirstQuadrant\"\n",
       "Slot \"x\":\n",
       "[1] -3\n",
       "\n",
       "Slot \"y\":\n",
       "[1] -5\n"
      ]
     },
     "metadata": {},
     "output_type": "display_data"
    }
   ],
   "source": [
    "z <- setCoordinate(z,-3.0,-5.0)\n",
    "z"
   ]
  },
  {
   "cell_type": "markdown",
   "metadata": {},
   "source": [
    "Note that the validity function given in the original class definition is not called. It is called when an object is first defined. It can be called later, but only when an explicit request is made using the validObject command."
   ]
  },
  {
   "cell_type": "markdown",
   "metadata": {},
   "source": [
    "## Creating an S4 Class\n",
    "\n",
    "An S4 class is created using the setClass() command. At a minimum the name of the class is specified and the names of the data elements (slots) is specified. There are a number of other options, and just as a matter of good practice we also specify a function to verify that the data is consistent (validation), and we specify the default values (the prototype). In the last section of this page, S4 inheritance, we include an additional parameter used to specify a class hierarchy.\n",
    "\n",
    "In this section we look at another example, and we examine some of the functions associated with S4 classes. The example we define will be used to motivate the use of methods associated with a class, and it will be used to demonstrate inheritance later. The idea is that we want to create a program to simulate a cellular automata model of a predator-prey system.\n",
    "\n",
    "We do not develop the whole code here but concentrate on the data structures. In particular we will create a base class for the agents. In the next section we will create the basic methods for the class. In the inheritance section we will discuss how to build on the class to create different predators and different prey species. The basic structure of the class is shown in Figure 1."
   ]
  },
  {
   "attachments": {
    "s4AgentClass.png": {
     "image/png": "[encoded data removed]"
    }
   },
   "cell_type": "markdown",
   "metadata": {},
   "source": [
    "![s4AgentClass.png](attachment:s4AgentClass.png)"
   ]
  },
  {
   "cell_type": "markdown",
   "metadata": {},
   "source": [
    "Diagram of the base class, Agent, used for the agents in a simulation."
   ]
  },
  {
   "cell_type": "markdown",
   "metadata": {},
   "source": [
    "The methods for this class are defined in the following section. Here we define the class and its slots, and the code to define the class is given below:\n",
    "\n"
   ]
  },
  {
   "cell_type": "code",
   "execution_count": 10,
   "metadata": {
    "collapsed": true
   },
   "outputs": [],
   "source": [
    "######################################################################\n",
    "# Create the base Agent class\n",
    "#\n",
    "# This is used to represent the most basic agent in a simulation.\n",
    "Agent <- setClass(\n",
    "        # Set the name for the class\n",
    "        \"Agent\",\n",
    "\n",
    "        # Define the slots\n",
    "        slots = c(\n",
    "                location = \"numeric\",\n",
    "                velocity   = \"numeric\",\n",
    "                active   = \"logical\"\n",
    "                ),\n",
    "\n",
    "        # Set the default values for the slots. (optional)\n",
    "        prototype=list(\n",
    "                location = c(0.0,0.0),\n",
    "                active   = TRUE,\n",
    "                velocity = c(0.0,0.0)\n",
    "                ),\n",
    "\n",
    "        # Make a function that can test to see if the data is consistent.\n",
    "        # This is not called if you have an initialize function defined!\n",
    "        validity=function(object)\n",
    "        {\n",
    "                if(sum(object@velocity^2)>100.0) {\n",
    "                        return(\"The velocity level is out of bounds.\")\n",
    "                }\n",
    "                return(TRUE)\n",
    "        }\n",
    "        )\n"
   ]
  },
  {
   "cell_type": "markdown",
   "metadata": {},
   "source": [
    "Now that the code to define the class is given we can create an object whose class is Agent."
   ]
  },
  {
   "cell_type": "code",
   "execution_count": 11,
   "metadata": {},
   "outputs": [
    {
     "data": {
      "text/plain": [
       "An object of class \"Agent\"\n",
       "Slot \"location\":\n",
       "[1] 0 0\n",
       "\n",
       "Slot \"velocity\":\n",
       "[1] 0 0\n",
       "\n",
       "Slot \"active\":\n",
       "[1] TRUE\n"
      ]
     },
     "metadata": {},
     "output_type": "display_data"
    }
   ],
   "source": [
    "a <- Agent()\n",
    "a"
   ]
  },
  {
   "cell_type": "markdown",
   "metadata": {},
   "source": [
    "Before we define the methods for the class a number of additional commands are explored. The first set of functions explored are the is.object and the isS4 commands. The is.object command determines whether or not a variable refers to an object. The isS4 command determines whether or not the variable is an S4 object. The reason both are required is that the isS4 command alone cannot determine if a variable is an S3 object. You need to determine if the variable is an object and then decide if it is S4 or not."
   ]
  },
  {
   "cell_type": "code",
   "execution_count": 12,
   "metadata": {},
   "outputs": [
    {
     "data": {
      "text/html": [
       "TRUE"
      ],
      "text/latex": [
       "TRUE"
      ],
      "text/markdown": [
       "TRUE"
      ],
      "text/plain": [
       "[1] TRUE"
      ]
     },
     "metadata": {},
     "output_type": "display_data"
    },
    {
     "data": {
      "text/html": [
       "TRUE"
      ],
      "text/latex": [
       "TRUE"
      ],
      "text/markdown": [
       "TRUE"
      ],
      "text/plain": [
       "[1] TRUE"
      ]
     },
     "metadata": {},
     "output_type": "display_data"
    }
   ],
   "source": [
    "is.object(a)\n",
    "\n",
    "isS4(a)"
   ]
  },
  {
   "cell_type": "markdown",
   "metadata": {},
   "source": [
    "The next set of commands are used to get information about the data elements, or slots, within an object. The first is the slotNames command. This command can take either an object or the name of a class. It returns the names of the slots associated with the class as strings."
   ]
  },
  {
   "cell_type": "code",
   "execution_count": 13,
   "metadata": {},
   "outputs": [
    {
     "data": {
      "text/html": [
       "<ol class=list-inline>\n",
       "\t<li>'location'</li>\n",
       "\t<li>'velocity'</li>\n",
       "\t<li>'active'</li>\n",
       "</ol>\n"
      ],
      "text/latex": [
       "\\begin{enumerate*}\n",
       "\\item 'location'\n",
       "\\item 'velocity'\n",
       "\\item 'active'\n",
       "\\end{enumerate*}\n"
      ],
      "text/markdown": [
       "1. 'location'\n",
       "2. 'velocity'\n",
       "3. 'active'\n",
       "\n",
       "\n"
      ],
      "text/plain": [
       "[1] \"location\" \"velocity\" \"active\"  "
      ]
     },
     "metadata": {},
     "output_type": "display_data"
    }
   ],
   "source": [
    "slotNames(a)"
   ]
  },
  {
   "cell_type": "code",
   "execution_count": 14,
   "metadata": {},
   "outputs": [
    {
     "data": {
      "text/html": [
       "<ol class=list-inline>\n",
       "\t<li>'location'</li>\n",
       "\t<li>'velocity'</li>\n",
       "\t<li>'active'</li>\n",
       "</ol>\n"
      ],
      "text/latex": [
       "\\begin{enumerate*}\n",
       "\\item 'location'\n",
       "\\item 'velocity'\n",
       "\\item 'active'\n",
       "\\end{enumerate*}\n"
      ],
      "text/markdown": [
       "1. 'location'\n",
       "2. 'velocity'\n",
       "3. 'active'\n",
       "\n",
       "\n"
      ],
      "text/plain": [
       "[1] \"location\" \"velocity\" \"active\"  "
      ]
     },
     "metadata": {},
     "output_type": "display_data"
    }
   ],
   "source": [
    "slotNames(\"Agent\")"
   ]
  },
  {
   "cell_type": "markdown",
   "metadata": {},
   "source": [
    "The getSlots command is similar to the slotNames command. It takes the name of a class as a string. It returns a vector whose entries are the types associated with the slots, and the names of the entries are the names of the slots."
   ]
  },
  {
   "cell_type": "code",
   "execution_count": 15,
   "metadata": {},
   "outputs": [
    {
     "data": {
      "text/html": [
       "<dl class=dl-horizontal>\n",
       "\t<dt>location</dt>\n",
       "\t\t<dd>'numeric'</dd>\n",
       "\t<dt>velocity</dt>\n",
       "\t\t<dd>'numeric'</dd>\n",
       "\t<dt>active</dt>\n",
       "\t\t<dd>'logical'</dd>\n",
       "</dl>\n"
      ],
      "text/latex": [
       "\\begin{description*}\n",
       "\\item[location] 'numeric'\n",
       "\\item[velocity] 'numeric'\n",
       "\\item[active] 'logical'\n",
       "\\end{description*}\n"
      ],
      "text/markdown": [
       "location\n",
       ":   'numeric'velocity\n",
       ":   'numeric'active\n",
       ":   'logical'\n",
       "\n"
      ],
      "text/plain": [
       " location  velocity    active \n",
       "\"numeric\" \"numeric\" \"logical\" "
      ]
     },
     "metadata": {},
     "output_type": "display_data"
    },
    {
     "data": {
      "text/html": [
       "<strong>location:</strong> 'numeric'"
      ],
      "text/latex": [
       "\\textbf{location:} 'numeric'"
      ],
      "text/markdown": [
       "**location:** 'numeric'"
      ],
      "text/plain": [
       " location \n",
       "\"numeric\" "
      ]
     },
     "metadata": {},
     "output_type": "display_data"
    },
    {
     "data": {
      "text/html": [
       "'numeric'"
      ],
      "text/latex": [
       "'numeric'"
      ],
      "text/markdown": [
       "'numeric'"
      ],
      "text/plain": [
       "[1] \"numeric\""
      ]
     },
     "metadata": {},
     "output_type": "display_data"
    },
    {
     "data": {
      "text/html": [
       "<ol class=list-inline>\n",
       "\t<li>'location'</li>\n",
       "\t<li>'velocity'</li>\n",
       "\t<li>'active'</li>\n",
       "</ol>\n"
      ],
      "text/latex": [
       "\\begin{enumerate*}\n",
       "\\item 'location'\n",
       "\\item 'velocity'\n",
       "\\item 'active'\n",
       "\\end{enumerate*}\n"
      ],
      "text/markdown": [
       "1. 'location'\n",
       "2. 'velocity'\n",
       "3. 'active'\n",
       "\n",
       "\n"
      ],
      "text/plain": [
       "[1] \"location\" \"velocity\" \"active\"  "
      ]
     },
     "metadata": {},
     "output_type": "display_data"
    }
   ],
   "source": [
    "getSlots(\"Agent\")\n",
    "s <- getSlots(\"Agent\")\n",
    "s[1]\n",
    "s[[1]]\n",
    "names(s)"
   ]
  },
  {
   "cell_type": "markdown",
   "metadata": {},
   "source": [
    "The next command examined is the getClass command. It has two forms. If you give it a variable that is an S4 class it returns a list of slots for the class associated with the variable. If you give it a character string with the name of a class it gives the slots and their data types.\n",
    "\n"
   ]
  },
  {
   "cell_type": "code",
   "execution_count": 16,
   "metadata": {},
   "outputs": [
    {
     "data": {
      "text/plain": [
       "An object of class \"Agent\"\n",
       "Slot \"location\":\n",
       "[1] 0 0\n",
       "\n",
       "Slot \"velocity\":\n",
       "[1] 0 0\n",
       "\n",
       "Slot \"active\":\n",
       "[1] TRUE\n"
      ]
     },
     "metadata": {},
     "output_type": "display_data"
    }
   ],
   "source": [
    "getClass(a)"
   ]
  },
  {
   "cell_type": "code",
   "execution_count": 17,
   "metadata": {},
   "outputs": [
    {
     "data": {
      "text/plain": [
       "Class \"Agent\" [in \".GlobalEnv\"]\n",
       "\n",
       "Slots:\n",
       "                                 \n",
       "Name:  location velocity   active\n",
       "Class:  numeric  numeric  logical"
      ]
     },
     "metadata": {},
     "output_type": "display_data"
    }
   ],
   "source": [
    "getClass(\"Agent\")"
   ]
  },
  {
   "cell_type": "markdown",
   "metadata": {},
   "source": [
    "The final command examined is the slot command. It can be used to get or set the value of a slot in an object. It can be used in place of the “@” operator."
   ]
  },
  {
   "cell_type": "code",
   "execution_count": 18,
   "metadata": {},
   "outputs": [
    {
     "data": {
      "text/html": [
       "<ol class=list-inline>\n",
       "\t<li>0</li>\n",
       "\t<li>0</li>\n",
       "</ol>\n"
      ],
      "text/latex": [
       "\\begin{enumerate*}\n",
       "\\item 0\n",
       "\\item 0\n",
       "\\end{enumerate*}\n"
      ],
      "text/markdown": [
       "1. 0\n",
       "2. 0\n",
       "\n",
       "\n"
      ],
      "text/plain": [
       "[1] 0 0"
      ]
     },
     "metadata": {},
     "output_type": "display_data"
    }
   ],
   "source": [
    "slot(a,\"location\")"
   ]
  },
  {
   "cell_type": "code",
   "execution_count": 19,
   "metadata": {},
   "outputs": [
    {
     "data": {
      "text/plain": [
       "An object of class \"Agent\"\n",
       "Slot \"location\":\n",
       "[1] 1 5\n",
       "\n",
       "Slot \"velocity\":\n",
       "[1] 0 0\n",
       "\n",
       "Slot \"active\":\n",
       "[1] TRUE\n"
      ]
     },
     "metadata": {},
     "output_type": "display_data"
    }
   ],
   "source": [
    "slot(a,\"location\") <- c(1,5)\n",
    "a"
   ]
  },
  {
   "cell_type": "markdown",
   "metadata": {},
   "source": [
    "## Creating Methods\n",
    "\n",
    "We now build on the Agent class defined above. Once the class and its data elements are defined we can define the methods associated with the class. The basic idea is that if the name of a function has not been defined, the name must first be reserved using the setGeneric function. The setMethod can then be used to define which function is called based on the class names of the objects sent to it.\n",
    "\n",
    "We define the methods associated with the Agent method given in the previous section. Note that the validity function for an object is only called when it is first created and when an explicit call to the validObject function is made. We make use of the validObject command in the methods below that are used to change the value of a data element within an object."
   ]
  },
  {
   "cell_type": "code",
   "execution_count": 20,
   "metadata": {},
   "outputs": [
    {
     "data": {
      "text/html": [
       "'setLocation'"
      ],
      "text/latex": [
       "'setLocation'"
      ],
      "text/markdown": [
       "'setLocation'"
      ],
      "text/plain": [
       "[1] \"setLocation\""
      ]
     },
     "metadata": {},
     "output_type": "display_data"
    },
    {
     "data": {
      "text/html": [
       "'setLocation'"
      ],
      "text/latex": [
       "'setLocation'"
      ],
      "text/markdown": [
       "'setLocation'"
      ],
      "text/plain": [
       "[1] \"setLocation\""
      ]
     },
     "metadata": {},
     "output_type": "display_data"
    },
    {
     "data": {
      "text/html": [
       "'getLocation'"
      ],
      "text/latex": [
       "'getLocation'"
      ],
      "text/markdown": [
       "'getLocation'"
      ],
      "text/plain": [
       "[1] \"getLocation\""
      ]
     },
     "metadata": {},
     "output_type": "display_data"
    },
    {
     "data": {
      "text/html": [
       "'getLocation'"
      ],
      "text/latex": [
       "'getLocation'"
      ],
      "text/markdown": [
       "'getLocation'"
      ],
      "text/plain": [
       "[1] \"getLocation\""
      ]
     },
     "metadata": {},
     "output_type": "display_data"
    },
    {
     "data": {
      "text/html": [
       "'setActive'"
      ],
      "text/latex": [
       "'setActive'"
      ],
      "text/markdown": [
       "'setActive'"
      ],
      "text/plain": [
       "[1] \"setActive\""
      ]
     },
     "metadata": {},
     "output_type": "display_data"
    },
    {
     "data": {
      "text/html": [
       "'setActive'"
      ],
      "text/latex": [
       "'setActive'"
      ],
      "text/markdown": [
       "'setActive'"
      ],
      "text/plain": [
       "[1] \"setActive\""
      ]
     },
     "metadata": {},
     "output_type": "display_data"
    },
    {
     "data": {
      "text/html": [
       "'getActive'"
      ],
      "text/latex": [
       "'getActive'"
      ],
      "text/markdown": [
       "'getActive'"
      ],
      "text/plain": [
       "[1] \"getActive\""
      ]
     },
     "metadata": {},
     "output_type": "display_data"
    },
    {
     "data": {
      "text/html": [
       "'getActive'"
      ],
      "text/latex": [
       "'getActive'"
      ],
      "text/markdown": [
       "'getActive'"
      ],
      "text/plain": [
       "[1] \"getActive\""
      ]
     },
     "metadata": {},
     "output_type": "display_data"
    },
    {
     "data": {
      "text/html": [
       "'setVelocity'"
      ],
      "text/latex": [
       "'setVelocity'"
      ],
      "text/markdown": [
       "'setVelocity'"
      ],
      "text/plain": [
       "[1] \"setVelocity\""
      ]
     },
     "metadata": {},
     "output_type": "display_data"
    },
    {
     "data": {
      "text/html": [
       "'setVelocity'"
      ],
      "text/latex": [
       "'setVelocity'"
      ],
      "text/markdown": [
       "'setVelocity'"
      ],
      "text/plain": [
       "[1] \"setVelocity\""
      ]
     },
     "metadata": {},
     "output_type": "display_data"
    },
    {
     "data": {
      "text/html": [
       "'getVelocity'"
      ],
      "text/latex": [
       "'getVelocity'"
      ],
      "text/markdown": [
       "'getVelocity'"
      ],
      "text/plain": [
       "[1] \"getVelocity\""
      ]
     },
     "metadata": {},
     "output_type": "display_data"
    },
    {
     "data": {
      "text/html": [
       "'getVelocity'"
      ],
      "text/latex": [
       "'getVelocity'"
      ],
      "text/markdown": [
       "'getVelocity'"
      ],
      "text/plain": [
       "[1] \"getVelocity\""
      ]
     },
     "metadata": {},
     "output_type": "display_data"
    }
   ],
   "source": [
    "# create a method to assign the value of the location\n",
    "setGeneric(name=\"setLocation\",\n",
    "                       def=function(theObject,position)\n",
    "                       {\n",
    "                               standardGeneric(\"setLocation\")\n",
    "                       }\n",
    "                       )\n",
    "\n",
    "setMethod(f=\"setLocation\",\n",
    "                      signature=\"Agent\",\n",
    "                      definition=function(theObject,position)\n",
    "                      {\n",
    "                              theObject@location <- position\n",
    "                              validObject(theObject)\n",
    "                              return(theObject)\n",
    "                      }\n",
    "                      )\n",
    "\n",
    "# create a method to get the value of the location\n",
    "setGeneric(name=\"getLocation\",\n",
    "                       def=function(theObject)\n",
    "                       {\n",
    "                               standardGeneric(\"getLocation\")\n",
    "                       }\n",
    "                       )\n",
    "\n",
    "setMethod(f=\"getLocation\",\n",
    "                      signature=\"Agent\",\n",
    "                      definition=function(theObject)\n",
    "                      {\n",
    "                              return(theObject@location)\n",
    "                      }\n",
    "                      )\n",
    "\n",
    "\n",
    "# create a method to assign the value of active\n",
    "setGeneric(name=\"setActive\",\n",
    "                       def=function(theObject,active)\n",
    "                       {\n",
    "                               standardGeneric(\"setActive\")\n",
    "                       }\n",
    "                       )\n",
    "\n",
    "setMethod(f=\"setActive\",\n",
    "                      signature=\"Agent\",\n",
    "                      definition=function(theObject,active)\n",
    "                      {\n",
    "                              theObject@active <- active\n",
    "                              validObject(theObject)\n",
    "                              return(theObject)\n",
    "                      }\n",
    "                      )\n",
    "\n",
    "# create a method to get the value of active\n",
    "setGeneric(name=\"getActive\",\n",
    "                       def=function(theObject)\n",
    "                       {\n",
    "                               standardGeneric(\"getActive\")\n",
    "                       }\n",
    "                       )\n",
    "\n",
    "setMethod(f=\"getActive\",\n",
    "                      signature=\"Agent\",\n",
    "                      definition=function(theObject)\n",
    "                      {\n",
    "                              return(theObject@active)\n",
    "                      }\n",
    "                      )\n",
    "\n",
    "\n",
    "# create a method to assign the value of velocity\n",
    "setGeneric(name=\"setVelocity\",\n",
    "                       def=function(theObject,velocity)\n",
    "                       {\n",
    "                               standardGeneric(\"setVelocity\")\n",
    "                       }\n",
    "                       )\n",
    "\n",
    "setMethod(f=\"setVelocity\",\n",
    "                      signature=\"Agent\",\n",
    "                      definition=function(theObject,velocity)\n",
    "                      {\n",
    "                              theObject@velocity <- velocity\n",
    "                              validObject(theObject)\n",
    "                              return(theObject)\n",
    "                      }\n",
    "                      )\n",
    "\n",
    "# create a method to get the value of the velocity\n",
    "setGeneric(name=\"getVelocity\",\n",
    "                       def=function(theObject)\n",
    "                       {\n",
    "                               standardGeneric(\"getVelocity\")\n",
    "                       }\n",
    "                       )\n",
    "\n",
    "setMethod(f=\"getVelocity\",\n",
    "                      signature=\"Agent\",\n",
    "                      definition=function(theObject)\n",
    "                      {\n",
    "                              return(theObject@velocity)\n",
    "                      }\n",
    "                      )"
   ]
  },
  {
   "cell_type": "markdown",
   "metadata": {},
   "source": [
    "With these definitions the data elements are encapsulated and can be accessed and set using the methods given above. It is generally good practice in object oriented programming to keep your data private and not show them to everybody willy nilly."
   ]
  },
  {
   "cell_type": "code",
   "execution_count": 21,
   "metadata": {},
   "outputs": [
    {
     "data": {
      "text/html": [
       "<ol class=list-inline>\n",
       "\t<li>0</li>\n",
       "\t<li>0</li>\n",
       "</ol>\n"
      ],
      "text/latex": [
       "\\begin{enumerate*}\n",
       "\\item 0\n",
       "\\item 0\n",
       "\\end{enumerate*}\n"
      ],
      "text/markdown": [
       "1. 0\n",
       "2. 0\n",
       "\n",
       "\n"
      ],
      "text/plain": [
       "[1] 0 0"
      ]
     },
     "metadata": {},
     "output_type": "display_data"
    },
    {
     "data": {
      "text/html": [
       "<ol class=list-inline>\n",
       "\t<li>1</li>\n",
       "\t<li>2</li>\n",
       "</ol>\n"
      ],
      "text/latex": [
       "\\begin{enumerate*}\n",
       "\\item 1\n",
       "\\item 2\n",
       "\\end{enumerate*}\n"
      ],
      "text/markdown": [
       "1. 1\n",
       "2. 2\n",
       "\n",
       "\n"
      ],
      "text/plain": [
       "[1] 1 2"
      ]
     },
     "metadata": {},
     "output_type": "display_data"
    }
   ],
   "source": [
    "a <- Agent()\n",
    "getVelocity(a)\n",
    "\n",
    "a <- setVelocity(a,c(1.0,2.0))\n",
    "getVelocity(a)"
   ]
  },
  {
   "cell_type": "markdown",
   "metadata": {},
   "source": [
    "The last topic examined is the idea of overloading functions. In the examples above the signature is set to a single element. The signature is a vector of characters and specifies the data types of the argument list for the method to be defined. Here we create two new methods. The name of the method is resetActivity, and there are two versions.\n",
    "\n",
    "The first version accepts two arguments whose types are Agent and logical. This version of the method will set the activity slot to a given value. The second version accepts two arguments whose types are Agent and numeric. This version will set the activity to TRUE and then set the energy level to the value passed to it. Note that the names of the variables in the argument list must be exactly the same."
   ]
  },
  {
   "cell_type": "code",
   "execution_count": 22,
   "metadata": {},
   "outputs": [
    {
     "data": {
      "text/html": [
       "'resetActivity'"
      ],
      "text/latex": [
       "'resetActivity'"
      ],
      "text/markdown": [
       "'resetActivity'"
      ],
      "text/plain": [
       "[1] \"resetActivity\""
      ]
     },
     "metadata": {},
     "output_type": "display_data"
    },
    {
     "data": {
      "text/html": [
       "'resetActivity'"
      ],
      "text/latex": [
       "'resetActivity'"
      ],
      "text/markdown": [
       "'resetActivity'"
      ],
      "text/plain": [
       "[1] \"resetActivity\""
      ]
     },
     "metadata": {},
     "output_type": "display_data"
    },
    {
     "data": {
      "text/html": [
       "'resetActivity'"
      ],
      "text/latex": [
       "'resetActivity'"
      ],
      "text/markdown": [
       "'resetActivity'"
      ],
      "text/plain": [
       "[1] \"resetActivity\""
      ]
     },
     "metadata": {},
     "output_type": "display_data"
    }
   ],
   "source": [
    "# create a method to reset the velocity and the activity\n",
    "setGeneric(name=\"resetActivity\",\n",
    "                       def=function(theObject,value)\n",
    "                       {\n",
    "                               standardGeneric(\"resetActivity\")\n",
    "                       }\n",
    "                       )\n",
    "\n",
    "setMethod(f=\"resetActivity\",\n",
    "                      signature=c(\"Agent\",\"logical\"),\n",
    "                      definition=function(theObject,value)\n",
    "                      {\n",
    "                              theObject <- setActive(theObject,value)\n",
    "                              theObject <- setVelocity(theObject,c(0.0,0.0))\n",
    "                              return(theObject)\n",
    "                      }\n",
    "                      )\n",
    "\n",
    "setMethod(f=\"resetActivity\",\n",
    "                      signature=c(\"Agent\",\"numeric\"),\n",
    "                      definition=function(theObject,value)\n",
    "                      {\n",
    "                              theObject <- setActive(theObject,TRUE)\n",
    "                              theObject <- setVelocity(theObject,value)\n",
    "                              return(theObject)\n",
    "                      }\n",
    "                      )"
   ]
  },
  {
   "cell_type": "markdown",
   "metadata": {},
   "source": [
    "This definition of the function yields two options for the resetActivity function. The decision to determine which function to call depends on two arguments and their type. For example, if the first argument is from the Agent class and the second is a value of TRUE or FALSE, then the first version of the function is called. Otherwise, if the second argument is a number the second version of the function is called."
   ]
  },
  {
   "cell_type": "code",
   "execution_count": 23,
   "metadata": {},
   "outputs": [
    {
     "data": {
      "text/plain": [
       "An object of class \"Agent\"\n",
       "Slot \"location\":\n",
       "[1] 0 0\n",
       "\n",
       "Slot \"velocity\":\n",
       "[1] 0 0\n",
       "\n",
       "Slot \"active\":\n",
       "[1] TRUE\n"
      ]
     },
     "metadata": {},
     "output_type": "display_data"
    }
   ],
   "source": [
    "a <- Agent()\n",
    "a"
   ]
  },
  {
   "cell_type": "code",
   "execution_count": 24,
   "metadata": {},
   "outputs": [
    {
     "data": {
      "text/html": [
       "FALSE"
      ],
      "text/latex": [
       "FALSE"
      ],
      "text/markdown": [
       "FALSE"
      ],
      "text/plain": [
       "[1] FALSE"
      ]
     },
     "metadata": {},
     "output_type": "display_data"
    }
   ],
   "source": [
    "a <- resetActivity(a,FALSE)\n",
    "getActive(a)"
   ]
  },
  {
   "cell_type": "code",
   "execution_count": 25,
   "metadata": {},
   "outputs": [
    {
     "data": {
      "text/html": [
       "<ol class=list-inline>\n",
       "\t<li>1</li>\n",
       "\t<li>3</li>\n",
       "</ol>\n"
      ],
      "text/latex": [
       "\\begin{enumerate*}\n",
       "\\item 1\n",
       "\\item 3\n",
       "\\end{enumerate*}\n"
      ],
      "text/markdown": [
       "1. 1\n",
       "2. 3\n",
       "\n",
       "\n"
      ],
      "text/plain": [
       "[1] 1 3"
      ]
     },
     "metadata": {},
     "output_type": "display_data"
    }
   ],
   "source": [
    "a <- resetActivity(a,c(1,3))\n",
    "getVelocity(a)"
   ]
  },
  {
   "cell_type": "markdown",
   "metadata": {},
   "source": [
    "## Inheritance\n",
    "\n",
    "A class’ inheritance hiearchy can be specified when the class is defined using the contains option. The contains option is a vector that lists the classes the new class inherits from. In the following example we build on the Agent class defined in the previous section. The idea is that we need agents that represent a predator and two prey. We will focus on two predators for this example.\n",
    "\n",
    "The hierarchy for the classes is shown in Figure 2.. In this example we have one Prey class that is derived from the Agent class. There are two predator classes, Bobcat and Lynx. The Bobcat class is derived from the Agent class, and the Lynx class is derived from the Bobcat class. We will keep this very simple, and the only methods associated with the new classes is a move method. For our purposes it will only print out a message and set the values of the position and velocity to demonstrate the order of execution of the methods associated with the classes."
   ]
  },
  {
   "attachments": {
    "s4AgentPredPrey.png": {
     "image/png": "[encoded data removed]"
    }
   },
   "cell_type": "markdown",
   "metadata": {},
   "source": [
    "![s4AgentPredPrey.png](attachment:s4AgentPredPrey.png)"
   ]
  },
  {
   "cell_type": "markdown",
   "metadata": {},
   "source": [
    "Figure 2. Diagram of the predator and prey classes derived from the Agent class."
   ]
  },
  {
   "cell_type": "markdown",
   "metadata": {},
   "source": [
    "The first step is to create the three new classes."
   ]
  },
  {
   "cell_type": "code",
   "execution_count": 26,
   "metadata": {
    "collapsed": true
   },
   "outputs": [],
   "source": [
    "######################################################################\n",
    "# Create the Prey class\n",
    "#\n",
    "# This is used to represent a prey animal\n",
    "Prey <- setClass(\n",
    "        # Set the name for the class\n",
    "        \"Prey\",\n",
    "\n",
    "        # Define the slots - in this case it is empty...\n",
    "        slots = character(0),\n",
    "\n",
    "        # Set the default values for the slots. (optional)\n",
    "        prototype=list(),\n",
    "\n",
    "        # Make a function that can test to see if the data is consistent.\n",
    "        # This is not called if you have an initialize function defined!\n",
    "        validity=function(object)\n",
    "        {\n",
    "                if(sum(object@velocity^2)>70.0) {\n",
    "                        return(\"The velocity level is out of bounds.\")\n",
    "                }\n",
    "                return(TRUE)\n",
    "        },\n",
    "\n",
    "        # Set the inheritance for this class\n",
    "        contains = \"Agent\"\n",
    "        )\n",
    "\n",
    "\n",
    "\n",
    "######################################################################\n",
    "# Create the Bobcat class\n",
    "#\n",
    "# This is used to represent a smaller predator\n",
    "Bobcat <- setClass(\n",
    "        # Set the name for the class\n",
    "        \"Bobcat\",\n",
    "\n",
    "        # Define the slots - in this case it is empty...\n",
    "        slots = character(0),\n",
    "\n",
    "        # Set the default values for the slots. (optional)\n",
    "        prototype=list(),\n",
    "\n",
    "        # Make a function that can test to see if the data is consistent.\n",
    "        # This is not called if you have an initialize function defined!\n",
    "        validity=function(object)\n",
    "        {\n",
    "                if(sum(object@velocity^2)>85.0) {\n",
    "                        return(\"The velocity level is out of bounds.\")\n",
    "                }\n",
    "                return(TRUE)\n",
    "        },\n",
    "\n",
    "        # Set the inheritance for this class\n",
    "        contains = \"Agent\"\n",
    "        )\n",
    "\n",
    "######################################################################\n",
    "# Create the Lynx class\n",
    "#\n",
    "# This is used to represent a larger predator\n",
    "Lynx <- setClass(\n",
    "        # Set the name for the class\n",
    "        \"Lynx\",\n",
    "\n",
    "        # Define the slots - in this case it is empty...\n",
    "        slots = character(0),\n",
    "\n",
    "        # Set the default values for the slots. (optional)\n",
    "        prototype=list(),\n",
    "\n",
    "        # Make a function that can test to see if the data is consistent.\n",
    "        # This is not called if you have an initialize function defined!\n",
    "        validity=function(object)\n",
    "        {\n",
    "                if(sum(object@velocity^2)>95.0) {\n",
    "                        return(\"The velocity level is out of bounds.\")\n",
    "                }\n",
    "                return(TRUE)\n",
    "        },\n",
    "\n",
    "        # Set the inheritance for this class\n",
    "        contains = \"Bobcat\"\n",
    "        )"
   ]
  },
  {
   "cell_type": "markdown",
   "metadata": {},
   "source": [
    "The inheritance is specified using the contains option in the setClass command. Note that this can be a vector allowing for multiple inheritance. We choose not to use that to keep things simpler. If you are feeling like you need more self-loathing in your life you should try it out and experiment.\n",
    "\n",
    "Next we define a method, move, for the new classes. We will include methods for the Agent, Prey, Bobcat, and Lynx classes. The methods do not really do anything but are used to demonstrate the idea of how methods are executed."
   ]
  },
  {
   "cell_type": "code",
   "execution_count": 27,
   "metadata": {},
   "outputs": [
    {
     "data": {
      "text/html": [
       "'move'"
      ],
      "text/latex": [
       "'move'"
      ],
      "text/markdown": [
       "'move'"
      ],
      "text/plain": [
       "[1] \"move\""
      ]
     },
     "metadata": {},
     "output_type": "display_data"
    },
    {
     "data": {
      "text/html": [
       "'move'"
      ],
      "text/latex": [
       "'move'"
      ],
      "text/markdown": [
       "'move'"
      ],
      "text/plain": [
       "[1] \"move\""
      ]
     },
     "metadata": {},
     "output_type": "display_data"
    },
    {
     "data": {
      "text/html": [
       "'move'"
      ],
      "text/latex": [
       "'move'"
      ],
      "text/markdown": [
       "'move'"
      ],
      "text/plain": [
       "[1] \"move\""
      ]
     },
     "metadata": {},
     "output_type": "display_data"
    },
    {
     "data": {
      "text/html": [
       "'move'"
      ],
      "text/latex": [
       "'move'"
      ],
      "text/markdown": [
       "'move'"
      ],
      "text/plain": [
       "[1] \"move\""
      ]
     },
     "metadata": {},
     "output_type": "display_data"
    },
    {
     "data": {
      "text/html": [
       "'move'"
      ],
      "text/latex": [
       "'move'"
      ],
      "text/markdown": [
       "'move'"
      ],
      "text/plain": [
       "[1] \"move\""
      ]
     },
     "metadata": {},
     "output_type": "display_data"
    }
   ],
   "source": [
    "# create a method to move the agent.\n",
    "setGeneric(name=\"move\",\n",
    "                       def=function(theObject)\n",
    "                       {\n",
    "                               standardGeneric(\"move\")\n",
    "                       }\n",
    "                       )\n",
    "\n",
    "setMethod(f=\"move\",\n",
    "                      signature=\"Agent\",\n",
    "                      definition=function(theObject)\n",
    "                      {\n",
    "                              print(\"Move this Agent dude\")\n",
    "                              theObject <- setVelocity(theObject,c(1,2))\n",
    "                              validObject(theObject)\n",
    "                              return(theObject)\n",
    "                      }\n",
    "                      )\n",
    "\n",
    "setMethod(f=\"move\",\n",
    "                      signature=\"Prey\",\n",
    "                      definition=function(theObject)\n",
    "                      {\n",
    "                              print(\"Check this Prey before moving this dude\")\n",
    "                              theObject <- callNextMethod(theObject)\n",
    "                              print(\"Move this Prey dude\")\n",
    "                              validObject(theObject)\n",
    "                              return(theObject)\n",
    "                      }\n",
    "                      )\n",
    "\n",
    "setMethod(f=\"move\",\n",
    "                      signature=\"Bobcat\",\n",
    "                      definition=function(theObject)\n",
    "                      {\n",
    "                              print(\"Check this Bobcat before moving this dude\")\n",
    "                              theObject <- setLocation(theObject,c(2,3))\n",
    "                              theObject <- callNextMethod(theObject)\n",
    "                              print(\"Move this Bobcat dude\")\n",
    "                              validObject(theObject)\n",
    "                              return(theObject)\n",
    "                      }\n",
    "                      )\n",
    "\n",
    "setMethod(f=\"move\",\n",
    "                      signature=\"Lynx\",\n",
    "                      definition=function(theObject)\n",
    "                      {\n",
    "                              print(\"Check this Lynx before moving this dude\")\n",
    "                              theObject <- setActive(theObject,FALSE)\n",
    "                              theObject <- callNextMethod(theObject)\n",
    "                              print(\"Move this Lynx dude\")\n",
    "                              validObject(theObject)\n",
    "                              return(theObject)\n",
    "                      }\n",
    "                      )\n"
   ]
  },
  {
   "cell_type": "markdown",
   "metadata": {},
   "source": [
    "There are a number of things to note. First each method calls the callNextMethod command. This command will execute the next version of the same method for the previous class in the hierarchy. Note that I have included the arguments (in the same order) as those called by the original function. Also note that the function returns a copy of the object and is used to update the object passed to the original function.\n",
    "\n",
    "Another thing to note is that the methods associated with the Lync, Bobcat, and Agent classes arbitrarily change the values of the position, velocity, and activity for the given object. This is done to demonstrate the changes that take place and reinforce the necessity for using the callNextMethod function the way it is used here.\n",
    "\n",
    "Finally, it should be noted that the validObject command is called in every method. You should try adding a print statement in the validity function. You might find that the order is a bit odd. You should experiment with this and play with it. There are times you do not get the expected results so be careful!\n",
    "\n",
    "We now give a brief example to demonstrate the order that the functions are called. In the example we create a Bobcat object and then call the move method. We next create a Lynx object and do the same. We print out the slots for both agents just to demonstrate the values that are changed."
   ]
  },
  {
   "cell_type": "code",
   "execution_count": 28,
   "metadata": {},
   "outputs": [
    {
     "data": {
      "text/plain": [
       "An object of class \"Bobcat\"\n",
       "Slot \"location\":\n",
       "[1] 0 0\n",
       "\n",
       "Slot \"velocity\":\n",
       "[1] 0 0\n",
       "\n",
       "Slot \"active\":\n",
       "[1] TRUE\n"
      ]
     },
     "metadata": {},
     "output_type": "display_data"
    }
   ],
   "source": [
    "robert <- Bobcat()\n",
    "robert"
   ]
  },
  {
   "cell_type": "code",
   "execution_count": 29,
   "metadata": {},
   "outputs": [
    {
     "name": "stdout",
     "output_type": "stream",
     "text": [
      "[1] \"Check this Bobcat before moving this dude\"\n",
      "[1] \"Move this Agent dude\"\n",
      "[1] \"Move this Bobcat dude\"\n"
     ]
    }
   ],
   "source": [
    "robert <- move(robert)"
   ]
  },
  {
   "cell_type": "code",
   "execution_count": 30,
   "metadata": {},
   "outputs": [
    {
     "data": {
      "text/plain": [
       "An object of class \"Bobcat\"\n",
       "Slot \"location\":\n",
       "[1] 2 3\n",
       "\n",
       "Slot \"velocity\":\n",
       "[1] 1 2\n",
       "\n",
       "Slot \"active\":\n",
       "[1] TRUE\n"
      ]
     },
     "metadata": {},
     "output_type": "display_data"
    }
   ],
   "source": [
    "robert"
   ]
  },
  {
   "cell_type": "code",
   "execution_count": 31,
   "metadata": {},
   "outputs": [
    {
     "data": {
      "text/plain": [
       "An object of class \"Lynx\"\n",
       "Slot \"location\":\n",
       "[1] 0 0\n",
       "\n",
       "Slot \"velocity\":\n",
       "[1] 0 0\n",
       "\n",
       "Slot \"active\":\n",
       "[1] TRUE\n"
      ]
     },
     "metadata": {},
     "output_type": "display_data"
    }
   ],
   "source": [
    "lionel <- Lynx()\n",
    "lionel"
   ]
  },
  {
   "cell_type": "code",
   "execution_count": 32,
   "metadata": {},
   "outputs": [
    {
     "name": "stdout",
     "output_type": "stream",
     "text": [
      "[1] \"Check this Lynx before moving this dude\"\n",
      "[1] \"Check this Bobcat before moving this dude\"\n",
      "[1] \"Move this Agent dude\"\n",
      "[1] \"Move this Bobcat dude\"\n",
      "[1] \"Move this Lynx dude\"\n"
     ]
    }
   ],
   "source": [
    "lionel <- move(lionel)"
   ]
  },
  {
   "cell_type": "code",
   "execution_count": 33,
   "metadata": {},
   "outputs": [
    {
     "data": {
      "text/plain": [
       "An object of class \"Lynx\"\n",
       "Slot \"location\":\n",
       "[1] 2 3\n",
       "\n",
       "Slot \"velocity\":\n",
       "[1] 1 2\n",
       "\n",
       "Slot \"active\":\n",
       "[1] FALSE\n"
      ]
     },
     "metadata": {},
     "output_type": "display_data"
    }
   ],
   "source": [
    "lionel"
   ]
  },
  {
   "cell_type": "code",
   "execution_count": null,
   "metadata": {
    "collapsed": true
   },
   "outputs": [],
   "source": []
  }
 ],
 "metadata": {
  "kernelspec": {
   "display_name": "R",
   "language": "R",
   "name": "ir"
  },
  "language_info": {
   "codemirror_mode": "r",
   "file_extension": ".r",
   "mimetype": "text/x-r-source",
   "name": "R",
   "pygments_lexer": "r",
   "version": "3.4.1"
  }
 },
 "nbformat": 4,
 "nbformat_minor": 1
}
