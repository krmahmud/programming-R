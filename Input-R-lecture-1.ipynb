{
 "cells": [
  {
   "cell_type": "markdown",
   "metadata": {},
   "source": [
    "# Input"
   ]
  },
  {
   "cell_type": "markdown",
   "metadata": {},
   "source": [
    "## Assignment"
   ]
  },
  {
   "cell_type": "markdown",
   "metadata": {},
   "source": [
    "To store a list of numbers is through an assignment, the c command is used. (c stands for “combine.”) A list of numbers is stored under a given name, and the name is used to refer to the data. A list is specified with the c command, and assignment is specified with the “<-” symbols. Another term used to describe the list of numbers is to call it a “vector.”"
   ]
  },
  {
   "cell_type": "code",
   "execution_count": 1,
   "metadata": {
    "collapsed": true
   },
   "outputs": [],
   "source": [
    "bubba <- c(3,5,7,9)"
   ]
  },
  {
   "cell_type": "markdown",
   "metadata": {},
   "source": [
    "When you enter this command you should not see any output except a new command line. The command creates a list of numbers called “bubba.” To see what numbers is included in bubba type “bubba” and press the enter key:"
   ]
  },
  {
   "cell_type": "code",
   "execution_count": 2,
   "metadata": {},
   "outputs": [
    {
     "data": {
      "text/html": [
       "<ol class=list-inline>\n",
       "\t<li>3</li>\n",
       "\t<li>5</li>\n",
       "\t<li>7</li>\n",
       "\t<li>9</li>\n",
       "</ol>\n"
      ],
      "text/latex": [
       "\\begin{enumerate*}\n",
       "\\item 3\n",
       "\\item 5\n",
       "\\item 7\n",
       "\\item 9\n",
       "\\end{enumerate*}\n"
      ],
      "text/markdown": [
       "1. 3\n",
       "2. 5\n",
       "3. 7\n",
       "4. 9\n",
       "\n",
       "\n"
      ],
      "text/plain": [
       "[1] 3 5 7 9"
      ]
     },
     "metadata": {},
     "output_type": "display_data"
    }
   ],
   "source": [
    "bubba"
   ]
  },
  {
   "cell_type": "markdown",
   "metadata": {},
   "source": [
    "If you wish to work with one of the numbers you can get access to it using the variable and then square brackets indicating which number:"
   ]
  },
  {
   "cell_type": "code",
   "execution_count": 7,
   "metadata": {},
   "outputs": [
    {
     "data": {
      "text/html": [
       "3"
      ],
      "text/latex": [
       "3"
      ],
      "text/markdown": [
       "3"
      ],
      "text/plain": [
       "[1] 3"
      ]
     },
     "metadata": {},
     "output_type": "display_data"
    },
    {
     "data": {
      "text/html": [
       "5"
      ],
      "text/latex": [
       "5"
      ],
      "text/markdown": [
       "5"
      ],
      "text/plain": [
       "[1] 5"
      ]
     },
     "metadata": {},
     "output_type": "display_data"
    },
    {
     "data": {
      "text/html": [
       "7"
      ],
      "text/latex": [
       "7"
      ],
      "text/markdown": [
       "7"
      ],
      "text/plain": [
       "[1] 7"
      ]
     },
     "metadata": {},
     "output_type": "display_data"
    },
    {
     "data": {
      "text/html": [],
      "text/latex": [],
      "text/markdown": [],
      "text/plain": [
       "numeric(0)"
      ]
     },
     "metadata": {},
     "output_type": "display_data"
    }
   ],
   "source": [
    "bubba[1]\n",
    "bubba[2]\n",
    "bubba[3]\n",
    "bubba[0]"
   ]
  },
  {
   "cell_type": "markdown",
   "metadata": {},
   "source": [
    "Notice that the first entry is referred to as the number 1 entry, and the zero entry can be used to indicate how the computer will treat the data."
   ]
  },
  {
   "cell_type": "markdown",
   "metadata": {},
   "source": [
    "## Reading a CSV file"
   ]
  },
  {
   "cell_type": "markdown",
   "metadata": {},
   "source": [
    "we will examine how to read a data set from a file using the read.csv function but first discuss the format of a data file.\n",
    "\n",
    "We assume that the data file is in the format called “comma separated values” (csv). That is, each line contains a row of values which can be numbers or letters, and each value is separated by a comma. We also assume that the very first row contains a list of labels. The idea is that the labels in the top row are used to refer to the different columns of values.\n",
    "\n",
    "First we read a very short, somewhat silly, data file. The data file is called \"simple.csv\" and has three columns of data and six rows. The three columns are labeled “trial,” “mass,” and “velocity.” We can pretend that each row comes from an observation during one of two trials labeled “A” and “B.”\n",
    "\n",
    "The command to read the data file is read.csv. We have to give the command at least one arguments, but we will give three different arguments to indicate how the command can be used in different situations. The first argument is the name of file. The second argument indicates whether or not the first row is a set of labels. The third argument indicates that there is a comma between each number of each line. The following command will read in the data and assign it to a variable called “heisenberg:”"
   ]
  },
  {
   "cell_type": "code",
   "execution_count": 9,
   "metadata": {},
   "outputs": [
    {
     "data": {
      "text/html": [
       "<table>\n",
       "<thead><tr><th scope=col>trial</th><th scope=col>mass</th><th scope=col>velocity</th></tr></thead>\n",
       "<tbody>\n",
       "\t<tr><td>A   </td><td>10.0</td><td>12  </td></tr>\n",
       "\t<tr><td>A   </td><td>11.0</td><td>14  </td></tr>\n",
       "\t<tr><td>B   </td><td> 5.0</td><td> 8  </td></tr>\n",
       "\t<tr><td>B   </td><td> 6.0</td><td>10  </td></tr>\n",
       "\t<tr><td>A   </td><td>10.5</td><td>13  </td></tr>\n",
       "\t<tr><td>B   </td><td> 7.0</td><td>11  </td></tr>\n",
       "</tbody>\n",
       "</table>\n"
      ],
      "text/latex": [
       "\\begin{tabular}{r|lll}\n",
       " trial & mass & velocity\\\\\n",
       "\\hline\n",
       "\t A    & 10.0 & 12  \\\\\n",
       "\t A    & 11.0 & 14  \\\\\n",
       "\t B    &  5.0 &  8  \\\\\n",
       "\t B    &  6.0 & 10  \\\\\n",
       "\t A    & 10.5 & 13  \\\\\n",
       "\t B    &  7.0 & 11  \\\\\n",
       "\\end{tabular}\n"
      ],
      "text/markdown": [
       "\n",
       "trial | mass | velocity | \n",
       "|---|---|---|---|---|---|\n",
       "| A    | 10.0 | 12   | \n",
       "| A    | 11.0 | 14   | \n",
       "| B    |  5.0 |  8   | \n",
       "| B    |  6.0 | 10   | \n",
       "| A    | 10.5 | 13   | \n",
       "| B    |  7.0 | 11   | \n",
       "\n",
       "\n"
      ],
      "text/plain": [
       "  trial mass velocity\n",
       "1 A     10.0 12      \n",
       "2 A     11.0 14      \n",
       "3 B      5.0  8      \n",
       "4 B      6.0 10      \n",
       "5 A     10.5 13      \n",
       "6 B      7.0 11      "
      ]
     },
     "metadata": {},
     "output_type": "display_data"
    }
   ],
   "source": [
    "heisenberg <- read.csv(file=\"simple.csv\",head=TRUE,sep=\",\")\n",
    "heisenberg"
   ]
  },
  {
   "cell_type": "code",
   "execution_count": 10,
   "metadata": {},
   "outputs": [
    {
     "data": {
      "text/plain": [
       " trial      mass          velocity    \n",
       " A:3   Min.   : 5.00   Min.   : 8.00  \n",
       " B:3   1st Qu.: 6.25   1st Qu.:10.25  \n",
       "       Median : 8.50   Median :11.50  \n",
       "       Mean   : 8.25   Mean   :11.33  \n",
       "       3rd Qu.:10.38   3rd Qu.:12.75  \n",
       "       Max.   :11.00   Max.   :14.00  "
      ]
     },
     "metadata": {},
     "output_type": "display_data"
    }
   ],
   "source": [
    "summary(heisenberg)"
   ]
  },
  {
   "cell_type": "code",
   "execution_count": 11,
   "metadata": {
    "collapsed": true
   },
   "outputs": [],
   "source": [
    "help(read.csv)"
   ]
  },
  {
   "cell_type": "markdown",
   "metadata": {},
   "source": [
    "If you are not sure what files are in the current working directory you can use the dir() command to list the files and the getwd() command to determine the current working directory:"
   ]
  },
  {
   "cell_type": "code",
   "execution_count": 12,
   "metadata": {},
   "outputs": [
    {
     "data": {
      "text/html": [
       "<ol class=list-inline>\n",
       "\t<li>'anaconda-install-ubuntu-14.04-R.txt'</li>\n",
       "\t<li>'cities.txt'</li>\n",
       "\t<li>'clone_your_repository.txt'</li>\n",
       "\t<li>'example1.txt'</li>\n",
       "\t<li>'Input-R-lecture-1.ipynb'</li>\n",
       "\t<li>'numberlist.txt'</li>\n",
       "\t<li>'Python_Lecture_1_PYTHON_BASICS.ipynb'</li>\n",
       "\t<li>'Python_Lecture_2_PYTHON_FUNCTIONS.ipynb'</li>\n",
       "\t<li>'Python_Lecture_3_PYTHON_STRINGS_LISTS.ipynb'</li>\n",
       "\t<li>'Python_Lecture_4_PYTHON_DICTIONARIES_TUPLES.ipynb'</li>\n",
       "\t<li>'Python_Lecture_5_PYTHON_FOR_LOOP_IF_STRUCTURE_WHILE_STRUCTURE.ipynb'</li>\n",
       "\t<li>'Python_Lecture_6_PYTHON_INPUT.ipynb'</li>\n",
       "\t<li>'simple.csv'</li>\n",
       "</ol>\n"
      ],
      "text/latex": [
       "\\begin{enumerate*}\n",
       "\\item 'anaconda-install-ubuntu-14.04-R.txt'\n",
       "\\item 'cities.txt'\n",
       "\\item 'clone\\_your\\_repository.txt'\n",
       "\\item 'example1.txt'\n",
       "\\item 'Input-R-lecture-1.ipynb'\n",
       "\\item 'numberlist.txt'\n",
       "\\item 'Python\\_Lecture\\_1\\_PYTHON\\_BASICS.ipynb'\n",
       "\\item 'Python\\_Lecture\\_2\\_PYTHON\\_FUNCTIONS.ipynb'\n",
       "\\item 'Python\\_Lecture\\_3\\_PYTHON\\_STRINGS\\_LISTS.ipynb'\n",
       "\\item 'Python\\_Lecture\\_4\\_PYTHON\\_DICTIONARIES\\_TUPLES.ipynb'\n",
       "\\item 'Python\\_Lecture\\_5\\_PYTHON\\_FOR\\_LOOP\\_IF\\_STRUCTURE\\_WHILE\\_STRUCTURE.ipynb'\n",
       "\\item 'Python\\_Lecture\\_6\\_PYTHON\\_INPUT.ipynb'\n",
       "\\item 'simple.csv'\n",
       "\\end{enumerate*}\n"
      ],
      "text/markdown": [
       "1. 'anaconda-install-ubuntu-14.04-R.txt'\n",
       "2. 'cities.txt'\n",
       "3. 'clone_your_repository.txt'\n",
       "4. 'example1.txt'\n",
       "5. 'Input-R-lecture-1.ipynb'\n",
       "6. 'numberlist.txt'\n",
       "7. 'Python_Lecture_1_PYTHON_BASICS.ipynb'\n",
       "8. 'Python_Lecture_2_PYTHON_FUNCTIONS.ipynb'\n",
       "9. 'Python_Lecture_3_PYTHON_STRINGS_LISTS.ipynb'\n",
       "10. 'Python_Lecture_4_PYTHON_DICTIONARIES_TUPLES.ipynb'\n",
       "11. 'Python_Lecture_5_PYTHON_FOR_LOOP_IF_STRUCTURE_WHILE_STRUCTURE.ipynb'\n",
       "12. 'Python_Lecture_6_PYTHON_INPUT.ipynb'\n",
       "13. 'simple.csv'\n",
       "\n",
       "\n"
      ],
      "text/plain": [
       " [1] \"anaconda-install-ubuntu-14.04-R.txt\"                                \n",
       " [2] \"cities.txt\"                                                         \n",
       " [3] \"clone_your_repository.txt\"                                          \n",
       " [4] \"example1.txt\"                                                       \n",
       " [5] \"Input-R-lecture-1.ipynb\"                                            \n",
       " [6] \"numberlist.txt\"                                                     \n",
       " [7] \"Python_Lecture_1_PYTHON_BASICS.ipynb\"                               \n",
       " [8] \"Python_Lecture_2_PYTHON_FUNCTIONS.ipynb\"                            \n",
       " [9] \"Python_Lecture_3_PYTHON_STRINGS_LISTS.ipynb\"                        \n",
       "[10] \"Python_Lecture_4_PYTHON_DICTIONARIES_TUPLES.ipynb\"                  \n",
       "[11] \"Python_Lecture_5_PYTHON_FOR_LOOP_IF_STRUCTURE_WHILE_STRUCTURE.ipynb\"\n",
       "[12] \"Python_Lecture_6_PYTHON_INPUT.ipynb\"                                \n",
       "[13] \"simple.csv\"                                                         "
      ]
     },
     "metadata": {},
     "output_type": "display_data"
    }
   ],
   "source": [
    "dir()"
   ]
  },
  {
   "cell_type": "code",
   "execution_count": 13,
   "metadata": {},
   "outputs": [
    {
     "data": {
      "text/html": [
       "'/home/cse/Python_Lectures'"
      ],
      "text/latex": [
       "'/home/cse/Python\\_Lectures'"
      ],
      "text/markdown": [
       "'/home/cse/Python_Lectures'"
      ],
      "text/plain": [
       "[1] \"/home/cse/Python_Lectures\""
      ]
     },
     "metadata": {},
     "output_type": "display_data"
    }
   ],
   "source": [
    "getwd()"
   ]
  },
  {
   "cell_type": "markdown",
   "metadata": {},
   "source": [
    "The variable “heisenberg” contains the three columns of data. Each column is assigned a name based on the header (the first line in the file). You can now access each individual column using a “$” to separate the two names:"
   ]
  },
  {
   "cell_type": "code",
   "execution_count": 14,
   "metadata": {},
   "outputs": [
    {
     "data": {
      "text/html": [
       "<ol class=list-inline>\n",
       "\t<li>A</li>\n",
       "\t<li>A</li>\n",
       "\t<li>B</li>\n",
       "\t<li>B</li>\n",
       "\t<li>A</li>\n",
       "\t<li>B</li>\n",
       "</ol>\n"
      ],
      "text/latex": [
       "\\begin{enumerate*}\n",
       "\\item A\n",
       "\\item A\n",
       "\\item B\n",
       "\\item B\n",
       "\\item A\n",
       "\\item B\n",
       "\\end{enumerate*}\n"
      ],
      "text/markdown": [
       "1. A\n",
       "2. A\n",
       "3. B\n",
       "4. B\n",
       "5. A\n",
       "6. B\n",
       "\n",
       "\n"
      ],
      "text/plain": [
       "[1] A A B B A B\n",
       "Levels: A B"
      ]
     },
     "metadata": {},
     "output_type": "display_data"
    }
   ],
   "source": [
    "heisenberg$trial"
   ]
  },
  {
   "cell_type": "code",
   "execution_count": 15,
   "metadata": {},
   "outputs": [
    {
     "data": {
      "text/html": [
       "<ol class=list-inline>\n",
       "\t<li>10</li>\n",
       "\t<li>11</li>\n",
       "\t<li>5</li>\n",
       "\t<li>6</li>\n",
       "\t<li>10.5</li>\n",
       "\t<li>7</li>\n",
       "</ol>\n"
      ],
      "text/latex": [
       "\\begin{enumerate*}\n",
       "\\item 10\n",
       "\\item 11\n",
       "\\item 5\n",
       "\\item 6\n",
       "\\item 10.5\n",
       "\\item 7\n",
       "\\end{enumerate*}\n"
      ],
      "text/markdown": [
       "1. 10\n",
       "2. 11\n",
       "3. 5\n",
       "4. 6\n",
       "5. 10.5\n",
       "6. 7\n",
       "\n",
       "\n"
      ],
      "text/plain": [
       "[1] 10.0 11.0  5.0  6.0 10.5  7.0"
      ]
     },
     "metadata": {},
     "output_type": "display_data"
    }
   ],
   "source": [
    "heisenberg$mass"
   ]
  },
  {
   "cell_type": "code",
   "execution_count": 16,
   "metadata": {},
   "outputs": [
    {
     "data": {
      "text/html": [
       "<ol class=list-inline>\n",
       "\t<li>12</li>\n",
       "\t<li>14</li>\n",
       "\t<li>8</li>\n",
       "\t<li>10</li>\n",
       "\t<li>13</li>\n",
       "\t<li>11</li>\n",
       "</ol>\n"
      ],
      "text/latex": [
       "\\begin{enumerate*}\n",
       "\\item 12\n",
       "\\item 14\n",
       "\\item 8\n",
       "\\item 10\n",
       "\\item 13\n",
       "\\item 11\n",
       "\\end{enumerate*}\n"
      ],
      "text/markdown": [
       "1. 12\n",
       "2. 14\n",
       "3. 8\n",
       "4. 10\n",
       "5. 13\n",
       "6. 11\n",
       "\n",
       "\n"
      ],
      "text/plain": [
       "[1] 12 14  8 10 13 11"
      ]
     },
     "metadata": {},
     "output_type": "display_data"
    }
   ],
   "source": [
    "heisenberg$velocity"
   ]
  },
  {
   "cell_type": "markdown",
   "metadata": {},
   "source": [
    "If you are not sure what columns are contained in the variable you can use the names command:"
   ]
  },
  {
   "cell_type": "code",
   "execution_count": 17,
   "metadata": {},
   "outputs": [
    {
     "data": {
      "text/html": [
       "<ol class=list-inline>\n",
       "\t<li>'trial'</li>\n",
       "\t<li>'mass'</li>\n",
       "\t<li>'velocity'</li>\n",
       "</ol>\n"
      ],
      "text/latex": [
       "\\begin{enumerate*}\n",
       "\\item 'trial'\n",
       "\\item 'mass'\n",
       "\\item 'velocity'\n",
       "\\end{enumerate*}\n"
      ],
      "text/markdown": [
       "1. 'trial'\n",
       "2. 'mass'\n",
       "3. 'velocity'\n",
       "\n",
       "\n"
      ],
      "text/plain": [
       "[1] \"trial\"    \"mass\"     \"velocity\""
      ]
     },
     "metadata": {},
     "output_type": "display_data"
    }
   ],
   "source": [
    "names(heisenberg)"
   ]
  },
  {
   "cell_type": "code",
   "execution_count": 18,
   "metadata": {
    "collapsed": true
   },
   "outputs": [],
   "source": [
    "tree <- read.csv(file=\"trees91.csv\",header=TRUE,sep=\",\")"
   ]
  },
  {
   "cell_type": "code",
   "execution_count": 19,
   "metadata": {},
   "outputs": [
    {
     "data": {
      "text/html": [
       "<table>\n",
       "<thead><tr><th scope=col>C</th><th scope=col>N</th><th scope=col>CHBR</th><th scope=col>REP</th><th scope=col>LFBM</th><th scope=col>STBM</th><th scope=col>RTBM</th><th scope=col>LFNCC</th><th scope=col>STNCC</th><th scope=col>RTNCC</th><th scope=col>⋯</th><th scope=col>RTKCC</th><th scope=col>LFMGCC</th><th scope=col>STMGCC</th><th scope=col>RTMGCC</th><th scope=col>LFPCC</th><th scope=col>STPCC</th><th scope=col>RTPCC</th><th scope=col>LFSCC</th><th scope=col>STSCC</th><th scope=col>RTSCC</th></tr></thead>\n",
       "<tbody>\n",
       "\t<tr><td>1    </td><td>1    </td><td>CL6  </td><td> 1   </td><td>0.430</td><td>0.13 </td><td>0.290</td><td>1.84 </td><td>0.40 </td><td>0.96 </td><td>⋯    </td><td>0.62 </td><td>0.11 </td><td>0.13 </td><td>0.06 </td><td>0.23 </td><td>0.31 </td><td>0.17 </td><td>0.13 </td><td>0.17 </td><td>0.14 </td></tr>\n",
       "\t<tr><td>1    </td><td>1    </td><td>CL7  </td><td> 1   </td><td>0.400</td><td>0.15 </td><td>0.250</td><td>1.82 </td><td>0.37 </td><td>0.95 </td><td>⋯    </td><td>0.49 </td><td>0.10 </td><td>0.18 </td><td>0.06 </td><td>0.22 </td><td>0.22 </td><td>0.13 </td><td>0.22 </td><td>0.28 </td><td>0.13 </td></tr>\n",
       "\t<tr><td>1    </td><td>2    </td><td>A1   </td><td> 9   </td><td>0.450</td><td>0.20 </td><td>0.210</td><td>1.54 </td><td>0.96 </td><td>0.69 </td><td>⋯    </td><td>0.64 </td><td>0.12 </td><td>0.16 </td><td>0.08 </td><td>0.30 </td><td>0.35 </td><td>0.21 </td><td>0.15 </td><td>0.19 </td><td>0.15 </td></tr>\n",
       "\t<tr><td>1    </td><td>2    </td><td>A1   </td><td>14   </td><td>0.820</td><td>0.26 </td><td>0.290</td><td>1.75 </td><td>0.97 </td><td>0.83 </td><td>⋯    </td><td>0.64 </td><td>0.12 </td><td>0.16 </td><td>0.08 </td><td>0.30 </td><td>0.35 </td><td>0.21 </td><td>0.15 </td><td>0.19 </td><td>0.15 </td></tr>\n",
       "\t<tr><td>1    </td><td>2    </td><td>A1   </td><td>20   </td><td>0.520</td><td>0.19 </td><td>0.250</td><td>2.01 </td><td>1.29 </td><td>0.80 </td><td>⋯    </td><td>0.64 </td><td>0.12 </td><td>0.16 </td><td>0.08 </td><td>0.30 </td><td>0.35 </td><td>0.21 </td><td>0.15 </td><td>0.19 </td><td>0.15 </td></tr>\n",
       "\t<tr><td>1    </td><td>2    </td><td>A7   </td><td>NA   </td><td>1.320</td><td>0.46 </td><td>0.480</td><td>1.45 </td><td>0.92 </td><td>0.72 </td><td>⋯    </td><td>0.42 </td><td>0.13 </td><td>0.14 </td><td>0.07 </td><td>0.23 </td><td>0.25 </td><td>0.15 </td><td>0.15 </td><td>0.16 </td><td>0.13 </td></tr>\n",
       "\t<tr><td>1    </td><td>3    </td><td>A3   </td><td>NA   </td><td>0.900</td><td>0.42 </td><td>0.470</td><td>1.80 </td><td>1.19 </td><td>0.84 </td><td>⋯    </td><td>0.53 </td><td>0.13 </td><td>0.19 </td><td>0.09 </td><td>0.25 </td><td>0.35 </td><td>0.19 </td><td>0.16 </td><td>0.17 </td><td>0.15 </td></tr>\n",
       "\t<tr><td>1    </td><td>3    </td><td>D5   </td><td>NA   </td><td>1.180</td><td>0.53 </td><td>0.780</td><td>1.53 </td><td>0.84 </td><td>0.77 </td><td>⋯    </td><td>0.45 </td><td>0.12 </td><td>0.17 </td><td>0.06 </td><td>0.21 </td><td>0.27 </td><td>0.12 </td><td>0.12 </td><td>0.18 </td><td>0.11 </td></tr>\n",
       "\t<tr><td>2    </td><td>1    </td><td>A4   </td><td> 9   </td><td>0.480</td><td>0.20 </td><td>0.280</td><td>1.58 </td><td>0.89 </td><td>0.98 </td><td>⋯    </td><td>0.38 </td><td>0.12 </td><td>0.15 </td><td>0.08 </td><td>0.24 </td><td>0.32 </td><td>0.17 </td><td>0.22 </td><td>0.20 </td><td>0.13 </td></tr>\n",
       "\t<tr><td>2    </td><td>1    </td><td>A4   </td><td>14   </td><td>0.210</td><td>0.07 </td><td>0.220</td><td>1.26 </td><td>0.66 </td><td>0.77 </td><td>⋯    </td><td>0.38 </td><td>0.12 </td><td>0.15 </td><td>0.08 </td><td>0.24 </td><td>0.32 </td><td>0.17 </td><td>0.22 </td><td>0.20 </td><td>0.13 </td></tr>\n",
       "\t<tr><td>2    </td><td>1    </td><td>A4   </td><td>20   </td><td>0.270</td><td>0.13 </td><td>0.240</td><td>1.88 </td><td>1.28 </td><td>1.19 </td><td>⋯    </td><td>0.38 </td><td>0.12 </td><td>0.15 </td><td>0.08 </td><td>0.24 </td><td>0.32 </td><td>0.17 </td><td>0.22 </td><td>0.20 </td><td>0.13 </td></tr>\n",
       "\t<tr><td>2    </td><td>1    </td><td>B3   </td><td> 9   </td><td>0.310</td><td>0.14 </td><td>0.210</td><td>2.76 </td><td>0.64 </td><td>0.84 </td><td>⋯    </td><td>0.49 </td><td>0.13 </td><td>0.12 </td><td>0.07 </td><td>0.27 </td><td>0.25 </td><td>0.16 </td><td>0.26 </td><td>0.21 </td><td>0.15 </td></tr>\n",
       "\t<tr><td>2    </td><td>1    </td><td>B3   </td><td>14   </td><td>0.650</td><td>0.18 </td><td>0.300</td><td>1.49 </td><td>0.64 </td><td>0.78 </td><td>⋯    </td><td>0.49 </td><td>0.13 </td><td>0.12 </td><td>0.07 </td><td>0.27 </td><td>0.25 </td><td>0.16 </td><td>0.26 </td><td>0.21 </td><td>0.15 </td></tr>\n",
       "\t<tr><td>2    </td><td>1    </td><td>B3   </td><td>20   </td><td>0.180</td><td>0.10 </td><td>0.120</td><td>1.38 </td><td>0.64 </td><td>0.91 </td><td>⋯    </td><td>0.49 </td><td>0.13 </td><td>0.12 </td><td>0.07 </td><td>0.27 </td><td>0.25 </td><td>0.16 </td><td>0.26 </td><td>0.21 </td><td>0.15 </td></tr>\n",
       "\t<tr><td>2    </td><td>1    </td><td>B6   </td><td> 9   </td><td>0.520</td><td>0.18 </td><td>0.380</td><td>1.30 </td><td>0.79 </td><td>0.78 </td><td>⋯    </td><td>0.52 </td><td>0.10 </td><td>0.17 </td><td>0.06 </td><td>0.27 </td><td>0.41 </td><td>0.16 </td><td>0.12 </td><td>0.20 </td><td>0.12 </td></tr>\n",
       "\t<tr><td>2    </td><td>1    </td><td>B6   </td><td>14   </td><td>0.300</td><td>0.14 </td><td>0.240</td><td>1.69 </td><td>0.79 </td><td>0.78 </td><td>⋯    </td><td>0.52 </td><td>0.10 </td><td>0.17 </td><td>0.06 </td><td>0.27 </td><td>0.41 </td><td>0.16 </td><td>0.12 </td><td>0.20 </td><td>0.12 </td></tr>\n",
       "\t<tr><td>2    </td><td>1    </td><td>B6   </td><td>20   </td><td>0.580</td><td>0.19 </td><td>0.310</td><td>2.12 </td><td>0.79 </td><td>0.78 </td><td>⋯    </td><td>0.52 </td><td>0.10 </td><td>0.17 </td><td>0.06 </td><td>0.27 </td><td>0.41 </td><td>0.16 </td><td>0.12 </td><td>0.20 </td><td>0.12 </td></tr>\n",
       "\t<tr><td>2    </td><td>2    </td><td>A5   </td><td>NA   </td><td>0.480</td><td>0.20 </td><td>0.290</td><td>1.82 </td><td>0.95 </td><td>0.80 </td><td>⋯    </td><td>0.46 </td><td>0.13 </td><td>0.12 </td><td>0.06 </td><td>0.31 </td><td>0.30 </td><td>0.15 </td><td>0.16 </td><td>0.15 </td><td>0.10 </td></tr>\n",
       "\t<tr><td>2    </td><td>2    </td><td>B4   </td><td> 9   </td><td>0.580</td><td>0.20 </td><td>0.780</td><td>1.39 </td><td>0.98 </td><td>0.60 </td><td>⋯    </td><td>0.45 </td><td>0.13 </td><td>0.14 </td><td>0.07 </td><td>0.27 </td><td>0.29 </td><td>0.16 </td><td>0.18 </td><td>0.17 </td><td>0.13 </td></tr>\n",
       "\t<tr><td>2    </td><td>2    </td><td>B4   </td><td>14   </td><td>0.580</td><td>0.20 </td><td>0.780</td><td>1.32 </td><td>0.98 </td><td>0.60 </td><td>⋯    </td><td>0.45 </td><td>0.13 </td><td>0.14 </td><td>0.07 </td><td>0.27 </td><td>0.29 </td><td>0.16 </td><td>0.18 </td><td>0.17 </td><td>0.13 </td></tr>\n",
       "\t<tr><td>2    </td><td>2    </td><td>B4   </td><td>20   </td><td>0.410</td><td>0.10 </td><td>0.520</td><td>2.02 </td><td>0.98 </td><td>0.60 </td><td>⋯    </td><td>0.45 </td><td>0.13 </td><td>0.14 </td><td>0.07 </td><td>0.27 </td><td>0.29 </td><td>0.16 </td><td>0.18 </td><td>0.17 </td><td>0.13 </td></tr>\n",
       "\t<tr><td>2    </td><td>2    </td><td>B7   </td><td> 9   </td><td>0.480</td><td>0.16 </td><td>0.290</td><td>1.68 </td><td>0.96 </td><td>0.81 </td><td>⋯    </td><td>0.49 </td><td>0.14 </td><td>0.15 </td><td>0.07 </td><td>0.30 </td><td>0.32 </td><td>0.14 </td><td>0.25 </td><td>0.22 </td><td>0.13 </td></tr>\n",
       "\t<tr><td>2    </td><td>2    </td><td>B7   </td><td>14   </td><td>1.760</td><td>0.53 </td><td>0.350</td><td>1.91 </td><td>0.96 </td><td>0.81 </td><td>⋯    </td><td>0.49 </td><td>0.14 </td><td>0.15 </td><td>0.07 </td><td>0.30 </td><td>0.32 </td><td>0.14 </td><td>0.25 </td><td>0.22 </td><td>0.13 </td></tr>\n",
       "\t<tr><td>2    </td><td>2    </td><td>B7   </td><td>20   </td><td>1.210</td><td>0.27 </td><td>0.280</td><td>2.07 </td><td>0.96 </td><td>0.81 </td><td>⋯    </td><td>0.49 </td><td>0.14 </td><td>0.15 </td><td>0.07 </td><td>0.30 </td><td>0.32 </td><td>0.14 </td><td>0.25 </td><td>0.22 </td><td>0.13 </td></tr>\n",
       "\t<tr><td>2    </td><td>3    </td><td>A2   </td><td> 1   </td><td>1.180</td><td>0.48 </td><td>0.550</td><td>1.73 </td><td>0.75 </td><td>0.71 </td><td>⋯    </td><td>0.59 </td><td>0.12 </td><td>0.14 </td><td>0.08 </td><td>0.28 </td><td>0.31 </td><td>0.18 </td><td>0.12 </td><td>0.15 </td><td>0.15 </td></tr>\n",
       "\t<tr><td>2    </td><td>3    </td><td>A6   </td><td> 9   </td><td>0.830</td><td>0.30 </td><td>0.450</td><td>1.23 </td><td>0.86 </td><td>0.74 </td><td>⋯    </td><td>0.40 </td><td>0.13 </td><td>0.11 </td><td>0.07 </td><td>0.25 </td><td>0.21 </td><td>0.14 </td><td>0.19 </td><td>0.16 </td><td>0.12 </td></tr>\n",
       "\t<tr><td>2    </td><td>3    </td><td>A6   </td><td>14   </td><td>1.220</td><td>0.55 </td><td>0.500</td><td>1.61 </td><td>0.94 </td><td>0.47 </td><td>⋯    </td><td>0.40 </td><td>0.13 </td><td>0.11 </td><td>0.07 </td><td>0.25 </td><td>0.21 </td><td>0.14 </td><td>0.19 </td><td>0.16 </td><td>0.12 </td></tr>\n",
       "\t<tr><td>2    </td><td>3    </td><td>A6   </td><td>20   </td><td>0.770</td><td>0.27 </td><td>0.340</td><td>1.35 </td><td>0.89 </td><td>0.83 </td><td>⋯    </td><td>0.40 </td><td>0.13 </td><td>0.11 </td><td>0.07 </td><td>0.25 </td><td>0.21 </td><td>0.14 </td><td>0.19 </td><td>0.16 </td><td>0.12 </td></tr>\n",
       "\t<tr><td>2    </td><td>3    </td><td>B5   </td><td> 9   </td><td>1.020</td><td>0.47 </td><td>1.510</td><td>1.53 </td><td>0.92 </td><td>0.58 </td><td>⋯    </td><td>0.56 </td><td>0.11 </td><td>0.11 </td><td>0.07 </td><td>0.28 </td><td>0.28 </td><td>0.16 </td><td>0.15 </td><td>0.16 </td><td>0.17 </td></tr>\n",
       "\t<tr><td>2    </td><td>3    </td><td>B5   </td><td>14   </td><td>0.130</td><td>0.03 </td><td>0.150</td><td>1.80 </td><td>0.92 </td><td>0.58 </td><td>⋯    </td><td>0.56 </td><td>0.11 </td><td>0.11 </td><td>0.07 </td><td>0.28 </td><td>0.28 </td><td>0.16 </td><td>0.15 </td><td>0.16 </td><td>0.17 </td></tr>\n",
       "\t<tr><td>2    </td><td>3    </td><td>B5   </td><td>20   </td><td>0.680</td><td>0.27 </td><td>0.950</td><td>2.09 </td><td>0.92 </td><td>0.58 </td><td>⋯    </td><td>0.56 </td><td>0.11 </td><td>0.11 </td><td>0.07 </td><td>0.28 </td><td>0.28 </td><td>0.16 </td><td>0.15 </td><td>0.16 </td><td>0.17 </td></tr>\n",
       "\t<tr><td>3    </td><td>1    </td><td>B1   </td><td>20   </td><td>0.610</td><td>0.22 </td><td>0.280</td><td>1.68 </td><td>1.05 </td><td>0.62 </td><td>⋯    </td><td>0.49 </td><td>0.10 </td><td>0.15 </td><td>0.07 </td><td>0.20 </td><td>0.32 </td><td>0.16 </td><td>0.16 </td><td>0.21 </td><td>0.12 </td></tr>\n",
       "\t<tr><td>3    </td><td>1    </td><td>B2   </td><td> 9   </td><td>0.700</td><td>0.24 </td><td>0.380</td><td>1.14 </td><td>0.63 </td><td>0.51 </td><td>⋯    </td><td>0.59 </td><td>0.10 </td><td>0.18 </td><td>0.07 </td><td>0.20 </td><td>0.30 </td><td>0.18 </td><td>0.16 </td><td>0.20 </td><td>0.17 </td></tr>\n",
       "\t<tr><td>3    </td><td>1    </td><td>B2   </td><td>14   </td><td>0.820</td><td>0.33 </td><td>0.670</td><td>1.56 </td><td>0.63 </td><td>0.51 </td><td>⋯    </td><td>0.59 </td><td>0.10 </td><td>0.18 </td><td>0.07 </td><td>0.20 </td><td>0.30 </td><td>0.18 </td><td>0.16 </td><td>0.20 </td><td>0.17 </td></tr>\n",
       "\t<tr><td>3    </td><td>1    </td><td>B2   </td><td>20   </td><td>0.760</td><td>0.37 </td><td>0.470</td><td>1.80 </td><td>0.63 </td><td>0.51 </td><td>⋯    </td><td>0.59 </td><td>0.10 </td><td>0.18 </td><td>0.07 </td><td>0.20 </td><td>0.30 </td><td>0.18 </td><td>0.16 </td><td>0.20 </td><td>0.17 </td></tr>\n",
       "\t<tr><td>3    </td><td>1    </td><td>D2   </td><td>20   </td><td>0.770</td><td>0.32 </td><td>0.460</td><td>1.62 </td><td>0.71 </td><td>0.76 </td><td>⋯    </td><td>0.45 </td><td>0.10 </td><td>0.12 </td><td>0.06 </td><td>0.21 </td><td>0.24 </td><td>0.14 </td><td>0.14 </td><td>0.17 </td><td>0.11 </td></tr>\n",
       "\t<tr><td>3    </td><td>3    </td><td>C1   </td><td>NA   </td><td>1.690</td><td>0.72 </td><td>0.960</td><td>1.67 </td><td>0.87 </td><td>0.79 </td><td>⋯    </td><td>0.45 </td><td>0.11 </td><td>0.12 </td><td>0.06 </td><td>0.15 </td><td>0.17 </td><td>0.10 </td><td>0.14 </td><td>0.17 </td><td>0.12 </td></tr>\n",
       "\t<tr><td>3    </td><td>3    </td><td>C2   </td><td> 9   </td><td>1.480</td><td>0.60 </td><td>0.540</td><td>1.58 </td><td>0.78 </td><td>0.62 </td><td>⋯    </td><td>0.40 </td><td>0.12 </td><td>0.10 </td><td>0.07 </td><td>0.19 </td><td>0.15 </td><td>0.10 </td><td>0.16 </td><td>0.14 </td><td>0.12 </td></tr>\n",
       "\t<tr><td>3    </td><td>3    </td><td>C2   </td><td>14   </td><td>0.740</td><td>0.20 </td><td>0.500</td><td>1.43 </td><td>0.78 </td><td>0.75 </td><td>⋯    </td><td>0.40 </td><td>0.12 </td><td>0.10 </td><td>0.07 </td><td>0.19 </td><td>0.15 </td><td>0.10 </td><td>0.16 </td><td>0.14 </td><td>0.12 </td></tr>\n",
       "\t<tr><td>3    </td><td>3    </td><td>C2   </td><td>20   </td><td>1.240</td><td>0.50 </td><td>0.720</td><td>1.67 </td><td>0.78 </td><td>0.75 </td><td>⋯    </td><td>0.40 </td><td>0.12 </td><td>0.10 </td><td>0.07 </td><td>0.19 </td><td>0.15 </td><td>0.10 </td><td>0.16 </td><td>0.14 </td><td>0.12 </td></tr>\n",
       "\t<tr><td>3    </td><td>3    </td><td>D1   </td><td>NA   </td><td>1.120</td><td>0.38 </td><td>0.480</td><td>1.39 </td><td>0.63 </td><td>0.84 </td><td>⋯    </td><td>0.40 </td><td>0.13 </td><td>0.11 </td><td>0.06 </td><td>0.24 </td><td>0.20 </td><td>0.12 </td><td>0.15 </td><td>0.16 </td><td>0.11 </td></tr>\n",
       "\t<tr><td>4    </td><td>1    </td><td>C4   </td><td> 9   </td><td>0.750</td><td>0.40 </td><td>0.520</td><td>1.09 </td><td>0.67 </td><td>0.66 </td><td>⋯    </td><td>0.51 </td><td>0.07 </td><td>0.11 </td><td>0.06 </td><td>0.17 </td><td>0.22 </td><td>0.13 </td><td>0.13 </td><td>0.18 </td><td>0.14 </td></tr>\n",
       "\t<tr><td>4    </td><td>1    </td><td>C4   </td><td>14   </td><td>0.390</td><td>0.16 </td><td>0.270</td><td>1.38 </td><td>0.67 </td><td>0.62 </td><td>⋯    </td><td>0.51 </td><td>0.07 </td><td>0.11 </td><td>0.06 </td><td>0.17 </td><td>0.22 </td><td>0.13 </td><td>0.13 </td><td>0.18 </td><td>0.14 </td></tr>\n",
       "\t<tr><td>4    </td><td>1    </td><td>C4   </td><td>20   </td><td>0.870</td><td>0.25 </td><td>0.350</td><td>1.69 </td><td>0.67 </td><td>0.59 </td><td>⋯    </td><td>0.51 </td><td>0.07 </td><td>0.11 </td><td>0.06 </td><td>0.17 </td><td>0.22 </td><td>0.13 </td><td>0.13 </td><td>0.18 </td><td>0.14 </td></tr>\n",
       "\t<tr><td>4    </td><td>1    </td><td>C7   </td><td>NA   </td><td>0.410</td><td>0.21 </td><td>0.250</td><td>1.06 </td><td>0.56 </td><td>0.71 </td><td>⋯    </td><td>0.34 </td><td>0.09 </td><td>0.14 </td><td>0.06 </td><td>0.16 </td><td>0.22 </td><td>0.12 </td><td>0.09 </td><td>0.15 </td><td>0.11 </td></tr>\n",
       "\t<tr><td>4    </td><td>1    </td><td>D6   </td><td>NA   </td><td>0.560</td><td>0.23 </td><td>0.440</td><td>1.30 </td><td>0.82 </td><td>0.85 </td><td>⋯    </td><td>0.44 </td><td>0.10 </td><td>0.11 </td><td>0.05 </td><td>0.27 </td><td>0.28 </td><td>0.12 </td><td>0.17 </td><td>0.18 </td><td>0.09 </td></tr>\n",
       "\t<tr><td>4    </td><td>2    </td><td>C5   </td><td> 1   </td><td>0.550</td><td>0.22 </td><td>0.330</td><td>1.06 </td><td>0.62 </td><td>0.58 </td><td>⋯    </td><td>0.37 </td><td>0.10 </td><td>0.13 </td><td>0.07 </td><td>0.23 </td><td>0.25 </td><td>0.12 </td><td>0.11 </td><td>0.16 </td><td>0.11 </td></tr>\n",
       "\t<tr><td>4    </td><td>2    </td><td>D3   </td><td> 9   </td><td>0.670</td><td>0.22 </td><td>0.560</td><td>1.15 </td><td>0.45 </td><td>0.47 </td><td>⋯    </td><td>0.33 </td><td>0.07 </td><td>0.11 </td><td>0.04 </td><td>0.18 </td><td>0.21 </td><td>0.10 </td><td>0.17 </td><td>0.19 </td><td>0.09 </td></tr>\n",
       "\t<tr><td>4    </td><td>2    </td><td>D3   </td><td>14   </td><td>1.260</td><td>0.38 </td><td>0.730</td><td>0.88 </td><td>0.45 </td><td>0.63 </td><td>⋯    </td><td>0.33 </td><td>0.07 </td><td>0.11 </td><td>0.04 </td><td>0.18 </td><td>0.21 </td><td>0.10 </td><td>0.17 </td><td>0.19 </td><td>0.09 </td></tr>\n",
       "\t<tr><td>4    </td><td>2    </td><td>D3   </td><td>20   </td><td>0.965</td><td>0.30 </td><td>0.645</td><td>1.31 </td><td>0.45 </td><td>1.55 </td><td>⋯    </td><td>0.33 </td><td>0.07 </td><td>0.11 </td><td>0.04 </td><td>0.18 </td><td>0.21 </td><td>0.10 </td><td>0.17 </td><td>0.19 </td><td>0.09 </td></tr>\n",
       "\t<tr><td>4    </td><td>2    </td><td>D7   </td><td> 1   </td><td>0.840</td><td>0.35 </td><td>0.550</td><td>1.46 </td><td>0.76 </td><td>0.94 </td><td>⋯    </td><td>0.51 </td><td>0.10 </td><td>0.11 </td><td>0.06 </td><td>0.22 </td><td>0.24 </td><td>0.13 </td><td>0.10 </td><td>0.16 </td><td>0.13 </td></tr>\n",
       "\t<tr><td>4    </td><td>3    </td><td>C3   </td><td>NA   </td><td>0.970</td><td>0.49 </td><td>0.530</td><td>1.26 </td><td>0.72 </td><td>0.58 </td><td>⋯    </td><td>0.40 </td><td>0.12 </td><td>0.11 </td><td>0.06 </td><td>0.23 </td><td>0.20 </td><td>0.11 </td><td>0.19 </td><td>0.18 </td><td>0.12 </td></tr>\n",
       "\t<tr><td>4    </td><td>3    </td><td>C6   </td><td>NA   </td><td>1.070</td><td>0.45 </td><td>0.590</td><td>1.15 </td><td>0.61 </td><td>0.69 </td><td>⋯    </td><td>0.39 </td><td>0.09 </td><td>0.17 </td><td>0.07 </td><td>0.24 </td><td>0.31 </td><td>0.13 </td><td>0.11 </td><td>0.18 </td><td>0.11 </td></tr>\n",
       "\t<tr><td>4    </td><td>3    </td><td>D4   </td><td>NA   </td><td>1.220</td><td>0.33 </td><td>0.890</td><td>1.15 </td><td>0.54 </td><td>0.51 </td><td>⋯    </td><td>0.46 </td><td>0.09 </td><td>0.12 </td><td>0.06 </td><td>0.22 </td><td>0.25 </td><td>0.14 </td><td>0.13 </td><td>0.17 </td><td>0.11 </td></tr>\n",
       "</tbody>\n",
       "</table>\n"
      ],
      "text/latex": [
       "\\begin{tabular}{r|llllllllllllllllllllllllllll}\n",
       " C & N & CHBR & REP & LFBM & STBM & RTBM & LFNCC & STNCC & RTNCC & ⋯ & RTKCC & LFMGCC & STMGCC & RTMGCC & LFPCC & STPCC & RTPCC & LFSCC & STSCC & RTSCC\\\\\n",
       "\\hline\n",
       "\t 1     & 1     & CL6   &  1    & 0.430 & 0.13  & 0.290 & 1.84  & 0.40  & 0.96  & ⋯     & 0.62  & 0.11  & 0.13  & 0.06  & 0.23  & 0.31  & 0.17  & 0.13  & 0.17  & 0.14 \\\\\n",
       "\t 1     & 1     & CL7   &  1    & 0.400 & 0.15  & 0.250 & 1.82  & 0.37  & 0.95  & ⋯     & 0.49  & 0.10  & 0.18  & 0.06  & 0.22  & 0.22  & 0.13  & 0.22  & 0.28  & 0.13 \\\\\n",
       "\t 1     & 2     & A1    &  9    & 0.450 & 0.20  & 0.210 & 1.54  & 0.96  & 0.69  & ⋯     & 0.64  & 0.12  & 0.16  & 0.08  & 0.30  & 0.35  & 0.21  & 0.15  & 0.19  & 0.15 \\\\\n",
       "\t 1     & 2     & A1    & 14    & 0.820 & 0.26  & 0.290 & 1.75  & 0.97  & 0.83  & ⋯     & 0.64  & 0.12  & 0.16  & 0.08  & 0.30  & 0.35  & 0.21  & 0.15  & 0.19  & 0.15 \\\\\n",
       "\t 1     & 2     & A1    & 20    & 0.520 & 0.19  & 0.250 & 2.01  & 1.29  & 0.80  & ⋯     & 0.64  & 0.12  & 0.16  & 0.08  & 0.30  & 0.35  & 0.21  & 0.15  & 0.19  & 0.15 \\\\\n",
       "\t 1     & 2     & A7    & NA    & 1.320 & 0.46  & 0.480 & 1.45  & 0.92  & 0.72  & ⋯     & 0.42  & 0.13  & 0.14  & 0.07  & 0.23  & 0.25  & 0.15  & 0.15  & 0.16  & 0.13 \\\\\n",
       "\t 1     & 3     & A3    & NA    & 0.900 & 0.42  & 0.470 & 1.80  & 1.19  & 0.84  & ⋯     & 0.53  & 0.13  & 0.19  & 0.09  & 0.25  & 0.35  & 0.19  & 0.16  & 0.17  & 0.15 \\\\\n",
       "\t 1     & 3     & D5    & NA    & 1.180 & 0.53  & 0.780 & 1.53  & 0.84  & 0.77  & ⋯     & 0.45  & 0.12  & 0.17  & 0.06  & 0.21  & 0.27  & 0.12  & 0.12  & 0.18  & 0.11 \\\\\n",
       "\t 2     & 1     & A4    &  9    & 0.480 & 0.20  & 0.280 & 1.58  & 0.89  & 0.98  & ⋯     & 0.38  & 0.12  & 0.15  & 0.08  & 0.24  & 0.32  & 0.17  & 0.22  & 0.20  & 0.13 \\\\\n",
       "\t 2     & 1     & A4    & 14    & 0.210 & 0.07  & 0.220 & 1.26  & 0.66  & 0.77  & ⋯     & 0.38  & 0.12  & 0.15  & 0.08  & 0.24  & 0.32  & 0.17  & 0.22  & 0.20  & 0.13 \\\\\n",
       "\t 2     & 1     & A4    & 20    & 0.270 & 0.13  & 0.240 & 1.88  & 1.28  & 1.19  & ⋯     & 0.38  & 0.12  & 0.15  & 0.08  & 0.24  & 0.32  & 0.17  & 0.22  & 0.20  & 0.13 \\\\\n",
       "\t 2     & 1     & B3    &  9    & 0.310 & 0.14  & 0.210 & 2.76  & 0.64  & 0.84  & ⋯     & 0.49  & 0.13  & 0.12  & 0.07  & 0.27  & 0.25  & 0.16  & 0.26  & 0.21  & 0.15 \\\\\n",
       "\t 2     & 1     & B3    & 14    & 0.650 & 0.18  & 0.300 & 1.49  & 0.64  & 0.78  & ⋯     & 0.49  & 0.13  & 0.12  & 0.07  & 0.27  & 0.25  & 0.16  & 0.26  & 0.21  & 0.15 \\\\\n",
       "\t 2     & 1     & B3    & 20    & 0.180 & 0.10  & 0.120 & 1.38  & 0.64  & 0.91  & ⋯     & 0.49  & 0.13  & 0.12  & 0.07  & 0.27  & 0.25  & 0.16  & 0.26  & 0.21  & 0.15 \\\\\n",
       "\t 2     & 1     & B6    &  9    & 0.520 & 0.18  & 0.380 & 1.30  & 0.79  & 0.78  & ⋯     & 0.52  & 0.10  & 0.17  & 0.06  & 0.27  & 0.41  & 0.16  & 0.12  & 0.20  & 0.12 \\\\\n",
       "\t 2     & 1     & B6    & 14    & 0.300 & 0.14  & 0.240 & 1.69  & 0.79  & 0.78  & ⋯     & 0.52  & 0.10  & 0.17  & 0.06  & 0.27  & 0.41  & 0.16  & 0.12  & 0.20  & 0.12 \\\\\n",
       "\t 2     & 1     & B6    & 20    & 0.580 & 0.19  & 0.310 & 2.12  & 0.79  & 0.78  & ⋯     & 0.52  & 0.10  & 0.17  & 0.06  & 0.27  & 0.41  & 0.16  & 0.12  & 0.20  & 0.12 \\\\\n",
       "\t 2     & 2     & A5    & NA    & 0.480 & 0.20  & 0.290 & 1.82  & 0.95  & 0.80  & ⋯     & 0.46  & 0.13  & 0.12  & 0.06  & 0.31  & 0.30  & 0.15  & 0.16  & 0.15  & 0.10 \\\\\n",
       "\t 2     & 2     & B4    &  9    & 0.580 & 0.20  & 0.780 & 1.39  & 0.98  & 0.60  & ⋯     & 0.45  & 0.13  & 0.14  & 0.07  & 0.27  & 0.29  & 0.16  & 0.18  & 0.17  & 0.13 \\\\\n",
       "\t 2     & 2     & B4    & 14    & 0.580 & 0.20  & 0.780 & 1.32  & 0.98  & 0.60  & ⋯     & 0.45  & 0.13  & 0.14  & 0.07  & 0.27  & 0.29  & 0.16  & 0.18  & 0.17  & 0.13 \\\\\n",
       "\t 2     & 2     & B4    & 20    & 0.410 & 0.10  & 0.520 & 2.02  & 0.98  & 0.60  & ⋯     & 0.45  & 0.13  & 0.14  & 0.07  & 0.27  & 0.29  & 0.16  & 0.18  & 0.17  & 0.13 \\\\\n",
       "\t 2     & 2     & B7    &  9    & 0.480 & 0.16  & 0.290 & 1.68  & 0.96  & 0.81  & ⋯     & 0.49  & 0.14  & 0.15  & 0.07  & 0.30  & 0.32  & 0.14  & 0.25  & 0.22  & 0.13 \\\\\n",
       "\t 2     & 2     & B7    & 14    & 1.760 & 0.53  & 0.350 & 1.91  & 0.96  & 0.81  & ⋯     & 0.49  & 0.14  & 0.15  & 0.07  & 0.30  & 0.32  & 0.14  & 0.25  & 0.22  & 0.13 \\\\\n",
       "\t 2     & 2     & B7    & 20    & 1.210 & 0.27  & 0.280 & 2.07  & 0.96  & 0.81  & ⋯     & 0.49  & 0.14  & 0.15  & 0.07  & 0.30  & 0.32  & 0.14  & 0.25  & 0.22  & 0.13 \\\\\n",
       "\t 2     & 3     & A2    &  1    & 1.180 & 0.48  & 0.550 & 1.73  & 0.75  & 0.71  & ⋯     & 0.59  & 0.12  & 0.14  & 0.08  & 0.28  & 0.31  & 0.18  & 0.12  & 0.15  & 0.15 \\\\\n",
       "\t 2     & 3     & A6    &  9    & 0.830 & 0.30  & 0.450 & 1.23  & 0.86  & 0.74  & ⋯     & 0.40  & 0.13  & 0.11  & 0.07  & 0.25  & 0.21  & 0.14  & 0.19  & 0.16  & 0.12 \\\\\n",
       "\t 2     & 3     & A6    & 14    & 1.220 & 0.55  & 0.500 & 1.61  & 0.94  & 0.47  & ⋯     & 0.40  & 0.13  & 0.11  & 0.07  & 0.25  & 0.21  & 0.14  & 0.19  & 0.16  & 0.12 \\\\\n",
       "\t 2     & 3     & A6    & 20    & 0.770 & 0.27  & 0.340 & 1.35  & 0.89  & 0.83  & ⋯     & 0.40  & 0.13  & 0.11  & 0.07  & 0.25  & 0.21  & 0.14  & 0.19  & 0.16  & 0.12 \\\\\n",
       "\t 2     & 3     & B5    &  9    & 1.020 & 0.47  & 1.510 & 1.53  & 0.92  & 0.58  & ⋯     & 0.56  & 0.11  & 0.11  & 0.07  & 0.28  & 0.28  & 0.16  & 0.15  & 0.16  & 0.17 \\\\\n",
       "\t 2     & 3     & B5    & 14    & 0.130 & 0.03  & 0.150 & 1.80  & 0.92  & 0.58  & ⋯     & 0.56  & 0.11  & 0.11  & 0.07  & 0.28  & 0.28  & 0.16  & 0.15  & 0.16  & 0.17 \\\\\n",
       "\t 2     & 3     & B5    & 20    & 0.680 & 0.27  & 0.950 & 2.09  & 0.92  & 0.58  & ⋯     & 0.56  & 0.11  & 0.11  & 0.07  & 0.28  & 0.28  & 0.16  & 0.15  & 0.16  & 0.17 \\\\\n",
       "\t 3     & 1     & B1    & 20    & 0.610 & 0.22  & 0.280 & 1.68  & 1.05  & 0.62  & ⋯     & 0.49  & 0.10  & 0.15  & 0.07  & 0.20  & 0.32  & 0.16  & 0.16  & 0.21  & 0.12 \\\\\n",
       "\t 3     & 1     & B2    &  9    & 0.700 & 0.24  & 0.380 & 1.14  & 0.63  & 0.51  & ⋯     & 0.59  & 0.10  & 0.18  & 0.07  & 0.20  & 0.30  & 0.18  & 0.16  & 0.20  & 0.17 \\\\\n",
       "\t 3     & 1     & B2    & 14    & 0.820 & 0.33  & 0.670 & 1.56  & 0.63  & 0.51  & ⋯     & 0.59  & 0.10  & 0.18  & 0.07  & 0.20  & 0.30  & 0.18  & 0.16  & 0.20  & 0.17 \\\\\n",
       "\t 3     & 1     & B2    & 20    & 0.760 & 0.37  & 0.470 & 1.80  & 0.63  & 0.51  & ⋯     & 0.59  & 0.10  & 0.18  & 0.07  & 0.20  & 0.30  & 0.18  & 0.16  & 0.20  & 0.17 \\\\\n",
       "\t 3     & 1     & D2    & 20    & 0.770 & 0.32  & 0.460 & 1.62  & 0.71  & 0.76  & ⋯     & 0.45  & 0.10  & 0.12  & 0.06  & 0.21  & 0.24  & 0.14  & 0.14  & 0.17  & 0.11 \\\\\n",
       "\t 3     & 3     & C1    & NA    & 1.690 & 0.72  & 0.960 & 1.67  & 0.87  & 0.79  & ⋯     & 0.45  & 0.11  & 0.12  & 0.06  & 0.15  & 0.17  & 0.10  & 0.14  & 0.17  & 0.12 \\\\\n",
       "\t 3     & 3     & C2    &  9    & 1.480 & 0.60  & 0.540 & 1.58  & 0.78  & 0.62  & ⋯     & 0.40  & 0.12  & 0.10  & 0.07  & 0.19  & 0.15  & 0.10  & 0.16  & 0.14  & 0.12 \\\\\n",
       "\t 3     & 3     & C2    & 14    & 0.740 & 0.20  & 0.500 & 1.43  & 0.78  & 0.75  & ⋯     & 0.40  & 0.12  & 0.10  & 0.07  & 0.19  & 0.15  & 0.10  & 0.16  & 0.14  & 0.12 \\\\\n",
       "\t 3     & 3     & C2    & 20    & 1.240 & 0.50  & 0.720 & 1.67  & 0.78  & 0.75  & ⋯     & 0.40  & 0.12  & 0.10  & 0.07  & 0.19  & 0.15  & 0.10  & 0.16  & 0.14  & 0.12 \\\\\n",
       "\t 3     & 3     & D1    & NA    & 1.120 & 0.38  & 0.480 & 1.39  & 0.63  & 0.84  & ⋯     & 0.40  & 0.13  & 0.11  & 0.06  & 0.24  & 0.20  & 0.12  & 0.15  & 0.16  & 0.11 \\\\\n",
       "\t 4     & 1     & C4    &  9    & 0.750 & 0.40  & 0.520 & 1.09  & 0.67  & 0.66  & ⋯     & 0.51  & 0.07  & 0.11  & 0.06  & 0.17  & 0.22  & 0.13  & 0.13  & 0.18  & 0.14 \\\\\n",
       "\t 4     & 1     & C4    & 14    & 0.390 & 0.16  & 0.270 & 1.38  & 0.67  & 0.62  & ⋯     & 0.51  & 0.07  & 0.11  & 0.06  & 0.17  & 0.22  & 0.13  & 0.13  & 0.18  & 0.14 \\\\\n",
       "\t 4     & 1     & C4    & 20    & 0.870 & 0.25  & 0.350 & 1.69  & 0.67  & 0.59  & ⋯     & 0.51  & 0.07  & 0.11  & 0.06  & 0.17  & 0.22  & 0.13  & 0.13  & 0.18  & 0.14 \\\\\n",
       "\t 4     & 1     & C7    & NA    & 0.410 & 0.21  & 0.250 & 1.06  & 0.56  & 0.71  & ⋯     & 0.34  & 0.09  & 0.14  & 0.06  & 0.16  & 0.22  & 0.12  & 0.09  & 0.15  & 0.11 \\\\\n",
       "\t 4     & 1     & D6    & NA    & 0.560 & 0.23  & 0.440 & 1.30  & 0.82  & 0.85  & ⋯     & 0.44  & 0.10  & 0.11  & 0.05  & 0.27  & 0.28  & 0.12  & 0.17  & 0.18  & 0.09 \\\\\n",
       "\t 4     & 2     & C5    &  1    & 0.550 & 0.22  & 0.330 & 1.06  & 0.62  & 0.58  & ⋯     & 0.37  & 0.10  & 0.13  & 0.07  & 0.23  & 0.25  & 0.12  & 0.11  & 0.16  & 0.11 \\\\\n",
       "\t 4     & 2     & D3    &  9    & 0.670 & 0.22  & 0.560 & 1.15  & 0.45  & 0.47  & ⋯     & 0.33  & 0.07  & 0.11  & 0.04  & 0.18  & 0.21  & 0.10  & 0.17  & 0.19  & 0.09 \\\\\n",
       "\t 4     & 2     & D3    & 14    & 1.260 & 0.38  & 0.730 & 0.88  & 0.45  & 0.63  & ⋯     & 0.33  & 0.07  & 0.11  & 0.04  & 0.18  & 0.21  & 0.10  & 0.17  & 0.19  & 0.09 \\\\\n",
       "\t 4     & 2     & D3    & 20    & 0.965 & 0.30  & 0.645 & 1.31  & 0.45  & 1.55  & ⋯     & 0.33  & 0.07  & 0.11  & 0.04  & 0.18  & 0.21  & 0.10  & 0.17  & 0.19  & 0.09 \\\\\n",
       "\t 4     & 2     & D7    &  1    & 0.840 & 0.35  & 0.550 & 1.46  & 0.76  & 0.94  & ⋯     & 0.51  & 0.10  & 0.11  & 0.06  & 0.22  & 0.24  & 0.13  & 0.10  & 0.16  & 0.13 \\\\\n",
       "\t 4     & 3     & C3    & NA    & 0.970 & 0.49  & 0.530 & 1.26  & 0.72  & 0.58  & ⋯     & 0.40  & 0.12  & 0.11  & 0.06  & 0.23  & 0.20  & 0.11  & 0.19  & 0.18  & 0.12 \\\\\n",
       "\t 4     & 3     & C6    & NA    & 1.070 & 0.45  & 0.590 & 1.15  & 0.61  & 0.69  & ⋯     & 0.39  & 0.09  & 0.17  & 0.07  & 0.24  & 0.31  & 0.13  & 0.11  & 0.18  & 0.11 \\\\\n",
       "\t 4     & 3     & D4    & NA    & 1.220 & 0.33  & 0.890 & 1.15  & 0.54  & 0.51  & ⋯     & 0.46  & 0.09  & 0.12  & 0.06  & 0.22  & 0.25  & 0.14  & 0.13  & 0.17  & 0.11 \\\\\n",
       "\\end{tabular}\n"
      ],
      "text/markdown": [
       "\n",
       "C | N | CHBR | REP | LFBM | STBM | RTBM | LFNCC | STNCC | RTNCC | ⋯ | RTKCC | LFMGCC | STMGCC | RTMGCC | LFPCC | STPCC | RTPCC | LFSCC | STSCC | RTSCC | \n",
       "|---|---|---|---|---|---|---|---|---|---|---|---|---|---|---|---|---|---|---|---|---|---|---|---|---|---|---|---|---|---|---|---|---|---|---|---|---|---|---|---|---|---|---|---|---|---|---|---|---|---|---|---|---|---|\n",
       "| 1     | 1     | CL6   |  1    | 0.430 | 0.13  | 0.290 | 1.84  | 0.40  | 0.96  | ⋯     | 0.62  | 0.11  | 0.13  | 0.06  | 0.23  | 0.31  | 0.17  | 0.13  | 0.17  | 0.14  | \n",
       "| 1     | 1     | CL7   |  1    | 0.400 | 0.15  | 0.250 | 1.82  | 0.37  | 0.95  | ⋯     | 0.49  | 0.10  | 0.18  | 0.06  | 0.22  | 0.22  | 0.13  | 0.22  | 0.28  | 0.13  | \n",
       "| 1     | 2     | A1    |  9    | 0.450 | 0.20  | 0.210 | 1.54  | 0.96  | 0.69  | ⋯     | 0.64  | 0.12  | 0.16  | 0.08  | 0.30  | 0.35  | 0.21  | 0.15  | 0.19  | 0.15  | \n",
       "| 1     | 2     | A1    | 14    | 0.820 | 0.26  | 0.290 | 1.75  | 0.97  | 0.83  | ⋯     | 0.64  | 0.12  | 0.16  | 0.08  | 0.30  | 0.35  | 0.21  | 0.15  | 0.19  | 0.15  | \n",
       "| 1     | 2     | A1    | 20    | 0.520 | 0.19  | 0.250 | 2.01  | 1.29  | 0.80  | ⋯     | 0.64  | 0.12  | 0.16  | 0.08  | 0.30  | 0.35  | 0.21  | 0.15  | 0.19  | 0.15  | \n",
       "| 1     | 2     | A7    | NA    | 1.320 | 0.46  | 0.480 | 1.45  | 0.92  | 0.72  | ⋯     | 0.42  | 0.13  | 0.14  | 0.07  | 0.23  | 0.25  | 0.15  | 0.15  | 0.16  | 0.13  | \n",
       "| 1     | 3     | A3    | NA    | 0.900 | 0.42  | 0.470 | 1.80  | 1.19  | 0.84  | ⋯     | 0.53  | 0.13  | 0.19  | 0.09  | 0.25  | 0.35  | 0.19  | 0.16  | 0.17  | 0.15  | \n",
       "| 1     | 3     | D5    | NA    | 1.180 | 0.53  | 0.780 | 1.53  | 0.84  | 0.77  | ⋯     | 0.45  | 0.12  | 0.17  | 0.06  | 0.21  | 0.27  | 0.12  | 0.12  | 0.18  | 0.11  | \n",
       "| 2     | 1     | A4    |  9    | 0.480 | 0.20  | 0.280 | 1.58  | 0.89  | 0.98  | ⋯     | 0.38  | 0.12  | 0.15  | 0.08  | 0.24  | 0.32  | 0.17  | 0.22  | 0.20  | 0.13  | \n",
       "| 2     | 1     | A4    | 14    | 0.210 | 0.07  | 0.220 | 1.26  | 0.66  | 0.77  | ⋯     | 0.38  | 0.12  | 0.15  | 0.08  | 0.24  | 0.32  | 0.17  | 0.22  | 0.20  | 0.13  | \n",
       "| 2     | 1     | A4    | 20    | 0.270 | 0.13  | 0.240 | 1.88  | 1.28  | 1.19  | ⋯     | 0.38  | 0.12  | 0.15  | 0.08  | 0.24  | 0.32  | 0.17  | 0.22  | 0.20  | 0.13  | \n",
       "| 2     | 1     | B3    |  9    | 0.310 | 0.14  | 0.210 | 2.76  | 0.64  | 0.84  | ⋯     | 0.49  | 0.13  | 0.12  | 0.07  | 0.27  | 0.25  | 0.16  | 0.26  | 0.21  | 0.15  | \n",
       "| 2     | 1     | B3    | 14    | 0.650 | 0.18  | 0.300 | 1.49  | 0.64  | 0.78  | ⋯     | 0.49  | 0.13  | 0.12  | 0.07  | 0.27  | 0.25  | 0.16  | 0.26  | 0.21  | 0.15  | \n",
       "| 2     | 1     | B3    | 20    | 0.180 | 0.10  | 0.120 | 1.38  | 0.64  | 0.91  | ⋯     | 0.49  | 0.13  | 0.12  | 0.07  | 0.27  | 0.25  | 0.16  | 0.26  | 0.21  | 0.15  | \n",
       "| 2     | 1     | B6    |  9    | 0.520 | 0.18  | 0.380 | 1.30  | 0.79  | 0.78  | ⋯     | 0.52  | 0.10  | 0.17  | 0.06  | 0.27  | 0.41  | 0.16  | 0.12  | 0.20  | 0.12  | \n",
       "| 2     | 1     | B6    | 14    | 0.300 | 0.14  | 0.240 | 1.69  | 0.79  | 0.78  | ⋯     | 0.52  | 0.10  | 0.17  | 0.06  | 0.27  | 0.41  | 0.16  | 0.12  | 0.20  | 0.12  | \n",
       "| 2     | 1     | B6    | 20    | 0.580 | 0.19  | 0.310 | 2.12  | 0.79  | 0.78  | ⋯     | 0.52  | 0.10  | 0.17  | 0.06  | 0.27  | 0.41  | 0.16  | 0.12  | 0.20  | 0.12  | \n",
       "| 2     | 2     | A5    | NA    | 0.480 | 0.20  | 0.290 | 1.82  | 0.95  | 0.80  | ⋯     | 0.46  | 0.13  | 0.12  | 0.06  | 0.31  | 0.30  | 0.15  | 0.16  | 0.15  | 0.10  | \n",
       "| 2     | 2     | B4    |  9    | 0.580 | 0.20  | 0.780 | 1.39  | 0.98  | 0.60  | ⋯     | 0.45  | 0.13  | 0.14  | 0.07  | 0.27  | 0.29  | 0.16  | 0.18  | 0.17  | 0.13  | \n",
       "| 2     | 2     | B4    | 14    | 0.580 | 0.20  | 0.780 | 1.32  | 0.98  | 0.60  | ⋯     | 0.45  | 0.13  | 0.14  | 0.07  | 0.27  | 0.29  | 0.16  | 0.18  | 0.17  | 0.13  | \n",
       "| 2     | 2     | B4    | 20    | 0.410 | 0.10  | 0.520 | 2.02  | 0.98  | 0.60  | ⋯     | 0.45  | 0.13  | 0.14  | 0.07  | 0.27  | 0.29  | 0.16  | 0.18  | 0.17  | 0.13  | \n",
       "| 2     | 2     | B7    |  9    | 0.480 | 0.16  | 0.290 | 1.68  | 0.96  | 0.81  | ⋯     | 0.49  | 0.14  | 0.15  | 0.07  | 0.30  | 0.32  | 0.14  | 0.25  | 0.22  | 0.13  | \n",
       "| 2     | 2     | B7    | 14    | 1.760 | 0.53  | 0.350 | 1.91  | 0.96  | 0.81  | ⋯     | 0.49  | 0.14  | 0.15  | 0.07  | 0.30  | 0.32  | 0.14  | 0.25  | 0.22  | 0.13  | \n",
       "| 2     | 2     | B7    | 20    | 1.210 | 0.27  | 0.280 | 2.07  | 0.96  | 0.81  | ⋯     | 0.49  | 0.14  | 0.15  | 0.07  | 0.30  | 0.32  | 0.14  | 0.25  | 0.22  | 0.13  | \n",
       "| 2     | 3     | A2    |  1    | 1.180 | 0.48  | 0.550 | 1.73  | 0.75  | 0.71  | ⋯     | 0.59  | 0.12  | 0.14  | 0.08  | 0.28  | 0.31  | 0.18  | 0.12  | 0.15  | 0.15  | \n",
       "| 2     | 3     | A6    |  9    | 0.830 | 0.30  | 0.450 | 1.23  | 0.86  | 0.74  | ⋯     | 0.40  | 0.13  | 0.11  | 0.07  | 0.25  | 0.21  | 0.14  | 0.19  | 0.16  | 0.12  | \n",
       "| 2     | 3     | A6    | 14    | 1.220 | 0.55  | 0.500 | 1.61  | 0.94  | 0.47  | ⋯     | 0.40  | 0.13  | 0.11  | 0.07  | 0.25  | 0.21  | 0.14  | 0.19  | 0.16  | 0.12  | \n",
       "| 2     | 3     | A6    | 20    | 0.770 | 0.27  | 0.340 | 1.35  | 0.89  | 0.83  | ⋯     | 0.40  | 0.13  | 0.11  | 0.07  | 0.25  | 0.21  | 0.14  | 0.19  | 0.16  | 0.12  | \n",
       "| 2     | 3     | B5    |  9    | 1.020 | 0.47  | 1.510 | 1.53  | 0.92  | 0.58  | ⋯     | 0.56  | 0.11  | 0.11  | 0.07  | 0.28  | 0.28  | 0.16  | 0.15  | 0.16  | 0.17  | \n",
       "| 2     | 3     | B5    | 14    | 0.130 | 0.03  | 0.150 | 1.80  | 0.92  | 0.58  | ⋯     | 0.56  | 0.11  | 0.11  | 0.07  | 0.28  | 0.28  | 0.16  | 0.15  | 0.16  | 0.17  | \n",
       "| 2     | 3     | B5    | 20    | 0.680 | 0.27  | 0.950 | 2.09  | 0.92  | 0.58  | ⋯     | 0.56  | 0.11  | 0.11  | 0.07  | 0.28  | 0.28  | 0.16  | 0.15  | 0.16  | 0.17  | \n",
       "| 3     | 1     | B1    | 20    | 0.610 | 0.22  | 0.280 | 1.68  | 1.05  | 0.62  | ⋯     | 0.49  | 0.10  | 0.15  | 0.07  | 0.20  | 0.32  | 0.16  | 0.16  | 0.21  | 0.12  | \n",
       "| 3     | 1     | B2    |  9    | 0.700 | 0.24  | 0.380 | 1.14  | 0.63  | 0.51  | ⋯     | 0.59  | 0.10  | 0.18  | 0.07  | 0.20  | 0.30  | 0.18  | 0.16  | 0.20  | 0.17  | \n",
       "| 3     | 1     | B2    | 14    | 0.820 | 0.33  | 0.670 | 1.56  | 0.63  | 0.51  | ⋯     | 0.59  | 0.10  | 0.18  | 0.07  | 0.20  | 0.30  | 0.18  | 0.16  | 0.20  | 0.17  | \n",
       "| 3     | 1     | B2    | 20    | 0.760 | 0.37  | 0.470 | 1.80  | 0.63  | 0.51  | ⋯     | 0.59  | 0.10  | 0.18  | 0.07  | 0.20  | 0.30  | 0.18  | 0.16  | 0.20  | 0.17  | \n",
       "| 3     | 1     | D2    | 20    | 0.770 | 0.32  | 0.460 | 1.62  | 0.71  | 0.76  | ⋯     | 0.45  | 0.10  | 0.12  | 0.06  | 0.21  | 0.24  | 0.14  | 0.14  | 0.17  | 0.11  | \n",
       "| 3     | 3     | C1    | NA    | 1.690 | 0.72  | 0.960 | 1.67  | 0.87  | 0.79  | ⋯     | 0.45  | 0.11  | 0.12  | 0.06  | 0.15  | 0.17  | 0.10  | 0.14  | 0.17  | 0.12  | \n",
       "| 3     | 3     | C2    |  9    | 1.480 | 0.60  | 0.540 | 1.58  | 0.78  | 0.62  | ⋯     | 0.40  | 0.12  | 0.10  | 0.07  | 0.19  | 0.15  | 0.10  | 0.16  | 0.14  | 0.12  | \n",
       "| 3     | 3     | C2    | 14    | 0.740 | 0.20  | 0.500 | 1.43  | 0.78  | 0.75  | ⋯     | 0.40  | 0.12  | 0.10  | 0.07  | 0.19  | 0.15  | 0.10  | 0.16  | 0.14  | 0.12  | \n",
       "| 3     | 3     | C2    | 20    | 1.240 | 0.50  | 0.720 | 1.67  | 0.78  | 0.75  | ⋯     | 0.40  | 0.12  | 0.10  | 0.07  | 0.19  | 0.15  | 0.10  | 0.16  | 0.14  | 0.12  | \n",
       "| 3     | 3     | D1    | NA    | 1.120 | 0.38  | 0.480 | 1.39  | 0.63  | 0.84  | ⋯     | 0.40  | 0.13  | 0.11  | 0.06  | 0.24  | 0.20  | 0.12  | 0.15  | 0.16  | 0.11  | \n",
       "| 4     | 1     | C4    |  9    | 0.750 | 0.40  | 0.520 | 1.09  | 0.67  | 0.66  | ⋯     | 0.51  | 0.07  | 0.11  | 0.06  | 0.17  | 0.22  | 0.13  | 0.13  | 0.18  | 0.14  | \n",
       "| 4     | 1     | C4    | 14    | 0.390 | 0.16  | 0.270 | 1.38  | 0.67  | 0.62  | ⋯     | 0.51  | 0.07  | 0.11  | 0.06  | 0.17  | 0.22  | 0.13  | 0.13  | 0.18  | 0.14  | \n",
       "| 4     | 1     | C4    | 20    | 0.870 | 0.25  | 0.350 | 1.69  | 0.67  | 0.59  | ⋯     | 0.51  | 0.07  | 0.11  | 0.06  | 0.17  | 0.22  | 0.13  | 0.13  | 0.18  | 0.14  | \n",
       "| 4     | 1     | C7    | NA    | 0.410 | 0.21  | 0.250 | 1.06  | 0.56  | 0.71  | ⋯     | 0.34  | 0.09  | 0.14  | 0.06  | 0.16  | 0.22  | 0.12  | 0.09  | 0.15  | 0.11  | \n",
       "| 4     | 1     | D6    | NA    | 0.560 | 0.23  | 0.440 | 1.30  | 0.82  | 0.85  | ⋯     | 0.44  | 0.10  | 0.11  | 0.05  | 0.27  | 0.28  | 0.12  | 0.17  | 0.18  | 0.09  | \n",
       "| 4     | 2     | C5    |  1    | 0.550 | 0.22  | 0.330 | 1.06  | 0.62  | 0.58  | ⋯     | 0.37  | 0.10  | 0.13  | 0.07  | 0.23  | 0.25  | 0.12  | 0.11  | 0.16  | 0.11  | \n",
       "| 4     | 2     | D3    |  9    | 0.670 | 0.22  | 0.560 | 1.15  | 0.45  | 0.47  | ⋯     | 0.33  | 0.07  | 0.11  | 0.04  | 0.18  | 0.21  | 0.10  | 0.17  | 0.19  | 0.09  | \n",
       "| 4     | 2     | D3    | 14    | 1.260 | 0.38  | 0.730 | 0.88  | 0.45  | 0.63  | ⋯     | 0.33  | 0.07  | 0.11  | 0.04  | 0.18  | 0.21  | 0.10  | 0.17  | 0.19  | 0.09  | \n",
       "| 4     | 2     | D3    | 20    | 0.965 | 0.30  | 0.645 | 1.31  | 0.45  | 1.55  | ⋯     | 0.33  | 0.07  | 0.11  | 0.04  | 0.18  | 0.21  | 0.10  | 0.17  | 0.19  | 0.09  | \n",
       "| 4     | 2     | D7    |  1    | 0.840 | 0.35  | 0.550 | 1.46  | 0.76  | 0.94  | ⋯     | 0.51  | 0.10  | 0.11  | 0.06  | 0.22  | 0.24  | 0.13  | 0.10  | 0.16  | 0.13  | \n",
       "| 4     | 3     | C3    | NA    | 0.970 | 0.49  | 0.530 | 1.26  | 0.72  | 0.58  | ⋯     | 0.40  | 0.12  | 0.11  | 0.06  | 0.23  | 0.20  | 0.11  | 0.19  | 0.18  | 0.12  | \n",
       "| 4     | 3     | C6    | NA    | 1.070 | 0.45  | 0.590 | 1.15  | 0.61  | 0.69  | ⋯     | 0.39  | 0.09  | 0.17  | 0.07  | 0.24  | 0.31  | 0.13  | 0.11  | 0.18  | 0.11  | \n",
       "| 4     | 3     | D4    | NA    | 1.220 | 0.33  | 0.890 | 1.15  | 0.54  | 0.51  | ⋯     | 0.46  | 0.09  | 0.12  | 0.06  | 0.22  | 0.25  | 0.14  | 0.13  | 0.17  | 0.11  | \n",
       "\n",
       "\n"
      ],
      "text/plain": [
       "   C N CHBR REP LFBM  STBM RTBM  LFNCC STNCC RTNCC ⋯ RTKCC LFMGCC STMGCC RTMGCC\n",
       "1  1 1 CL6   1  0.430 0.13 0.290 1.84  0.40  0.96  ⋯ 0.62  0.11   0.13   0.06  \n",
       "2  1 1 CL7   1  0.400 0.15 0.250 1.82  0.37  0.95  ⋯ 0.49  0.10   0.18   0.06  \n",
       "3  1 2 A1    9  0.450 0.20 0.210 1.54  0.96  0.69  ⋯ 0.64  0.12   0.16   0.08  \n",
       "4  1 2 A1   14  0.820 0.26 0.290 1.75  0.97  0.83  ⋯ 0.64  0.12   0.16   0.08  \n",
       "5  1 2 A1   20  0.520 0.19 0.250 2.01  1.29  0.80  ⋯ 0.64  0.12   0.16   0.08  \n",
       "6  1 2 A7   NA  1.320 0.46 0.480 1.45  0.92  0.72  ⋯ 0.42  0.13   0.14   0.07  \n",
       "7  1 3 A3   NA  0.900 0.42 0.470 1.80  1.19  0.84  ⋯ 0.53  0.13   0.19   0.09  \n",
       "8  1 3 D5   NA  1.180 0.53 0.780 1.53  0.84  0.77  ⋯ 0.45  0.12   0.17   0.06  \n",
       "9  2 1 A4    9  0.480 0.20 0.280 1.58  0.89  0.98  ⋯ 0.38  0.12   0.15   0.08  \n",
       "10 2 1 A4   14  0.210 0.07 0.220 1.26  0.66  0.77  ⋯ 0.38  0.12   0.15   0.08  \n",
       "11 2 1 A4   20  0.270 0.13 0.240 1.88  1.28  1.19  ⋯ 0.38  0.12   0.15   0.08  \n",
       "12 2 1 B3    9  0.310 0.14 0.210 2.76  0.64  0.84  ⋯ 0.49  0.13   0.12   0.07  \n",
       "13 2 1 B3   14  0.650 0.18 0.300 1.49  0.64  0.78  ⋯ 0.49  0.13   0.12   0.07  \n",
       "14 2 1 B3   20  0.180 0.10 0.120 1.38  0.64  0.91  ⋯ 0.49  0.13   0.12   0.07  \n",
       "15 2 1 B6    9  0.520 0.18 0.380 1.30  0.79  0.78  ⋯ 0.52  0.10   0.17   0.06  \n",
       "16 2 1 B6   14  0.300 0.14 0.240 1.69  0.79  0.78  ⋯ 0.52  0.10   0.17   0.06  \n",
       "17 2 1 B6   20  0.580 0.19 0.310 2.12  0.79  0.78  ⋯ 0.52  0.10   0.17   0.06  \n",
       "18 2 2 A5   NA  0.480 0.20 0.290 1.82  0.95  0.80  ⋯ 0.46  0.13   0.12   0.06  \n",
       "19 2 2 B4    9  0.580 0.20 0.780 1.39  0.98  0.60  ⋯ 0.45  0.13   0.14   0.07  \n",
       "20 2 2 B4   14  0.580 0.20 0.780 1.32  0.98  0.60  ⋯ 0.45  0.13   0.14   0.07  \n",
       "21 2 2 B4   20  0.410 0.10 0.520 2.02  0.98  0.60  ⋯ 0.45  0.13   0.14   0.07  \n",
       "22 2 2 B7    9  0.480 0.16 0.290 1.68  0.96  0.81  ⋯ 0.49  0.14   0.15   0.07  \n",
       "23 2 2 B7   14  1.760 0.53 0.350 1.91  0.96  0.81  ⋯ 0.49  0.14   0.15   0.07  \n",
       "24 2 2 B7   20  1.210 0.27 0.280 2.07  0.96  0.81  ⋯ 0.49  0.14   0.15   0.07  \n",
       "25 2 3 A2    1  1.180 0.48 0.550 1.73  0.75  0.71  ⋯ 0.59  0.12   0.14   0.08  \n",
       "26 2 3 A6    9  0.830 0.30 0.450 1.23  0.86  0.74  ⋯ 0.40  0.13   0.11   0.07  \n",
       "27 2 3 A6   14  1.220 0.55 0.500 1.61  0.94  0.47  ⋯ 0.40  0.13   0.11   0.07  \n",
       "28 2 3 A6   20  0.770 0.27 0.340 1.35  0.89  0.83  ⋯ 0.40  0.13   0.11   0.07  \n",
       "29 2 3 B5    9  1.020 0.47 1.510 1.53  0.92  0.58  ⋯ 0.56  0.11   0.11   0.07  \n",
       "30 2 3 B5   14  0.130 0.03 0.150 1.80  0.92  0.58  ⋯ 0.56  0.11   0.11   0.07  \n",
       "31 2 3 B5   20  0.680 0.27 0.950 2.09  0.92  0.58  ⋯ 0.56  0.11   0.11   0.07  \n",
       "32 3 1 B1   20  0.610 0.22 0.280 1.68  1.05  0.62  ⋯ 0.49  0.10   0.15   0.07  \n",
       "33 3 1 B2    9  0.700 0.24 0.380 1.14  0.63  0.51  ⋯ 0.59  0.10   0.18   0.07  \n",
       "34 3 1 B2   14  0.820 0.33 0.670 1.56  0.63  0.51  ⋯ 0.59  0.10   0.18   0.07  \n",
       "35 3 1 B2   20  0.760 0.37 0.470 1.80  0.63  0.51  ⋯ 0.59  0.10   0.18   0.07  \n",
       "36 3 1 D2   20  0.770 0.32 0.460 1.62  0.71  0.76  ⋯ 0.45  0.10   0.12   0.06  \n",
       "37 3 3 C1   NA  1.690 0.72 0.960 1.67  0.87  0.79  ⋯ 0.45  0.11   0.12   0.06  \n",
       "38 3 3 C2    9  1.480 0.60 0.540 1.58  0.78  0.62  ⋯ 0.40  0.12   0.10   0.07  \n",
       "39 3 3 C2   14  0.740 0.20 0.500 1.43  0.78  0.75  ⋯ 0.40  0.12   0.10   0.07  \n",
       "40 3 3 C2   20  1.240 0.50 0.720 1.67  0.78  0.75  ⋯ 0.40  0.12   0.10   0.07  \n",
       "41 3 3 D1   NA  1.120 0.38 0.480 1.39  0.63  0.84  ⋯ 0.40  0.13   0.11   0.06  \n",
       "42 4 1 C4    9  0.750 0.40 0.520 1.09  0.67  0.66  ⋯ 0.51  0.07   0.11   0.06  \n",
       "43 4 1 C4   14  0.390 0.16 0.270 1.38  0.67  0.62  ⋯ 0.51  0.07   0.11   0.06  \n",
       "44 4 1 C4   20  0.870 0.25 0.350 1.69  0.67  0.59  ⋯ 0.51  0.07   0.11   0.06  \n",
       "45 4 1 C7   NA  0.410 0.21 0.250 1.06  0.56  0.71  ⋯ 0.34  0.09   0.14   0.06  \n",
       "46 4 1 D6   NA  0.560 0.23 0.440 1.30  0.82  0.85  ⋯ 0.44  0.10   0.11   0.05  \n",
       "47 4 2 C5    1  0.550 0.22 0.330 1.06  0.62  0.58  ⋯ 0.37  0.10   0.13   0.07  \n",
       "48 4 2 D3    9  0.670 0.22 0.560 1.15  0.45  0.47  ⋯ 0.33  0.07   0.11   0.04  \n",
       "49 4 2 D3   14  1.260 0.38 0.730 0.88  0.45  0.63  ⋯ 0.33  0.07   0.11   0.04  \n",
       "50 4 2 D3   20  0.965 0.30 0.645 1.31  0.45  1.55  ⋯ 0.33  0.07   0.11   0.04  \n",
       "51 4 2 D7    1  0.840 0.35 0.550 1.46  0.76  0.94  ⋯ 0.51  0.10   0.11   0.06  \n",
       "52 4 3 C3   NA  0.970 0.49 0.530 1.26  0.72  0.58  ⋯ 0.40  0.12   0.11   0.06  \n",
       "53 4 3 C6   NA  1.070 0.45 0.590 1.15  0.61  0.69  ⋯ 0.39  0.09   0.17   0.07  \n",
       "54 4 3 D4   NA  1.220 0.33 0.890 1.15  0.54  0.51  ⋯ 0.46  0.09   0.12   0.06  \n",
       "   LFPCC STPCC RTPCC LFSCC STSCC RTSCC\n",
       "1  0.23  0.31  0.17  0.13  0.17  0.14 \n",
       "2  0.22  0.22  0.13  0.22  0.28  0.13 \n",
       "3  0.30  0.35  0.21  0.15  0.19  0.15 \n",
       "4  0.30  0.35  0.21  0.15  0.19  0.15 \n",
       "5  0.30  0.35  0.21  0.15  0.19  0.15 \n",
       "6  0.23  0.25  0.15  0.15  0.16  0.13 \n",
       "7  0.25  0.35  0.19  0.16  0.17  0.15 \n",
       "8  0.21  0.27  0.12  0.12  0.18  0.11 \n",
       "9  0.24  0.32  0.17  0.22  0.20  0.13 \n",
       "10 0.24  0.32  0.17  0.22  0.20  0.13 \n",
       "11 0.24  0.32  0.17  0.22  0.20  0.13 \n",
       "12 0.27  0.25  0.16  0.26  0.21  0.15 \n",
       "13 0.27  0.25  0.16  0.26  0.21  0.15 \n",
       "14 0.27  0.25  0.16  0.26  0.21  0.15 \n",
       "15 0.27  0.41  0.16  0.12  0.20  0.12 \n",
       "16 0.27  0.41  0.16  0.12  0.20  0.12 \n",
       "17 0.27  0.41  0.16  0.12  0.20  0.12 \n",
       "18 0.31  0.30  0.15  0.16  0.15  0.10 \n",
       "19 0.27  0.29  0.16  0.18  0.17  0.13 \n",
       "20 0.27  0.29  0.16  0.18  0.17  0.13 \n",
       "21 0.27  0.29  0.16  0.18  0.17  0.13 \n",
       "22 0.30  0.32  0.14  0.25  0.22  0.13 \n",
       "23 0.30  0.32  0.14  0.25  0.22  0.13 \n",
       "24 0.30  0.32  0.14  0.25  0.22  0.13 \n",
       "25 0.28  0.31  0.18  0.12  0.15  0.15 \n",
       "26 0.25  0.21  0.14  0.19  0.16  0.12 \n",
       "27 0.25  0.21  0.14  0.19  0.16  0.12 \n",
       "28 0.25  0.21  0.14  0.19  0.16  0.12 \n",
       "29 0.28  0.28  0.16  0.15  0.16  0.17 \n",
       "30 0.28  0.28  0.16  0.15  0.16  0.17 \n",
       "31 0.28  0.28  0.16  0.15  0.16  0.17 \n",
       "32 0.20  0.32  0.16  0.16  0.21  0.12 \n",
       "33 0.20  0.30  0.18  0.16  0.20  0.17 \n",
       "34 0.20  0.30  0.18  0.16  0.20  0.17 \n",
       "35 0.20  0.30  0.18  0.16  0.20  0.17 \n",
       "36 0.21  0.24  0.14  0.14  0.17  0.11 \n",
       "37 0.15  0.17  0.10  0.14  0.17  0.12 \n",
       "38 0.19  0.15  0.10  0.16  0.14  0.12 \n",
       "39 0.19  0.15  0.10  0.16  0.14  0.12 \n",
       "40 0.19  0.15  0.10  0.16  0.14  0.12 \n",
       "41 0.24  0.20  0.12  0.15  0.16  0.11 \n",
       "42 0.17  0.22  0.13  0.13  0.18  0.14 \n",
       "43 0.17  0.22  0.13  0.13  0.18  0.14 \n",
       "44 0.17  0.22  0.13  0.13  0.18  0.14 \n",
       "45 0.16  0.22  0.12  0.09  0.15  0.11 \n",
       "46 0.27  0.28  0.12  0.17  0.18  0.09 \n",
       "47 0.23  0.25  0.12  0.11  0.16  0.11 \n",
       "48 0.18  0.21  0.10  0.17  0.19  0.09 \n",
       "49 0.18  0.21  0.10  0.17  0.19  0.09 \n",
       "50 0.18  0.21  0.10  0.17  0.19  0.09 \n",
       "51 0.22  0.24  0.13  0.10  0.16  0.13 \n",
       "52 0.23  0.20  0.11  0.19  0.18  0.12 \n",
       "53 0.24  0.31  0.13  0.11  0.18  0.11 \n",
       "54 0.22  0.25  0.14  0.13  0.17  0.11 "
      ]
     },
     "metadata": {},
     "output_type": "display_data"
    }
   ],
   "source": [
    "tree"
   ]
  },
  {
   "cell_type": "code",
   "execution_count": 20,
   "metadata": {},
   "outputs": [
    {
     "data": {
      "text/plain": [
       "       C               N              CHBR         REP             LFBM       \n",
       " Min.   :1.000   Min.   :1.000   A1     : 3   Min.   : 1.00   Min.   :0.1300  \n",
       " 1st Qu.:2.000   1st Qu.:1.000   A4     : 3   1st Qu.: 9.00   1st Qu.:0.4800  \n",
       " Median :2.000   Median :2.000   A6     : 3   Median :14.00   Median :0.7200  \n",
       " Mean   :2.519   Mean   :1.926   B2     : 3   Mean   :13.05   Mean   :0.7649  \n",
       " 3rd Qu.:3.000   3rd Qu.:3.000   B3     : 3   3rd Qu.:20.00   3rd Qu.:1.0075  \n",
       " Max.   :4.000   Max.   :3.000   B4     : 3   Max.   :20.00   Max.   :1.7600  \n",
       "                                 (Other):36   NA's   :11                      \n",
       "      STBM             RTBM            LFNCC           STNCC       \n",
       " Min.   :0.0300   Min.   :0.1200   Min.   :0.880   Min.   :0.3700  \n",
       " 1st Qu.:0.1900   1st Qu.:0.2825   1st Qu.:1.312   1st Qu.:0.6400  \n",
       " Median :0.2450   Median :0.4450   Median :1.550   Median :0.7850  \n",
       " Mean   :0.2883   Mean   :0.4662   Mean   :1.560   Mean   :0.7872  \n",
       " 3rd Qu.:0.3800   3rd Qu.:0.5500   3rd Qu.:1.788   3rd Qu.:0.9350  \n",
       " Max.   :0.7200   Max.   :1.5100   Max.   :2.760   Max.   :1.2900  \n",
       "                                                                   \n",
       "     RTNCC            LFBCC           STBCC          RTBCC      \n",
       " Min.   :0.4700   Min.   :25.00   Min.   :14.0   Min.   :15.00  \n",
       " 1st Qu.:0.6000   1st Qu.:34.00   1st Qu.:17.0   1st Qu.:19.00  \n",
       " Median :0.7500   Median :37.00   Median :18.0   Median :20.00  \n",
       " Mean   :0.7394   Mean   :36.96   Mean   :18.8   Mean   :21.43  \n",
       " 3rd Qu.:0.8100   3rd Qu.:41.00   3rd Qu.:20.0   3rd Qu.:23.00  \n",
       " Max.   :1.5500   Max.   :48.00   Max.   :27.0   Max.   :41.00  \n",
       "                                                                \n",
       "     LFCACC           STCACC           RTCACC           LFKCC       \n",
       " Min.   :0.2100   Min.   :0.1300   Min.   :0.1100   Min.   :0.6500  \n",
       " 1st Qu.:0.2600   1st Qu.:0.1600   1st Qu.:0.1600   1st Qu.:0.8100  \n",
       " Median :0.2900   Median :0.1700   Median :0.1650   Median :0.9000  \n",
       " Mean   :0.2869   Mean   :0.1774   Mean   :0.1654   Mean   :0.9053  \n",
       " 3rd Qu.:0.3100   3rd Qu.:0.1875   3rd Qu.:0.1700   3rd Qu.:0.9900  \n",
       " Max.   :0.3600   Max.   :0.2400   Max.   :0.2400   Max.   :1.1800  \n",
       "                                                    NA's   :1       \n",
       "     STKCC           RTKCC           LFMGCC           STMGCC     \n",
       " Min.   :0.870   Min.   :0.330   Min.   :0.0700   Min.   :0.100  \n",
       " 1st Qu.:0.940   1st Qu.:0.400   1st Qu.:0.1000   1st Qu.:0.110  \n",
       " Median :1.055   Median :0.475   Median :0.1200   Median :0.130  \n",
       " Mean   :1.105   Mean   :0.473   Mean   :0.1109   Mean   :0.135  \n",
       " 3rd Qu.:1.210   3rd Qu.:0.520   3rd Qu.:0.1300   3rd Qu.:0.150  \n",
       " Max.   :1.520   Max.   :0.640   Max.   :0.1400   Max.   :0.190  \n",
       "                                                                 \n",
       "     RTMGCC            LFPCC            STPCC            RTPCC       \n",
       " Min.   :0.04000   Min.   :0.1500   Min.   :0.1500   Min.   :0.1000  \n",
       " 1st Qu.:0.06000   1st Qu.:0.2000   1st Qu.:0.2200   1st Qu.:0.1300  \n",
       " Median :0.07000   Median :0.2400   Median :0.2800   Median :0.1450  \n",
       " Mean   :0.06648   Mean   :0.2381   Mean   :0.2707   Mean   :0.1465  \n",
       " 3rd Qu.:0.07000   3rd Qu.:0.2700   3rd Qu.:0.3175   3rd Qu.:0.1600  \n",
       " Max.   :0.09000   Max.   :0.3100   Max.   :0.4100   Max.   :0.2100  \n",
       "                                                                     \n",
       "     LFSCC            STSCC            RTSCC       \n",
       " Min.   :0.0900   Min.   :0.1400   Min.   :0.0900  \n",
       " 1st Qu.:0.1325   1st Qu.:0.1600   1st Qu.:0.1200  \n",
       " Median :0.1600   Median :0.1800   Median :0.1300  \n",
       " Mean   :0.1661   Mean   :0.1817   Mean   :0.1298  \n",
       " 3rd Qu.:0.1875   3rd Qu.:0.2000   3rd Qu.:0.1475  \n",
       " Max.   :0.2600   Max.   :0.2800   Max.   :0.1700  \n",
       "                                                   "
      ]
     },
     "metadata": {},
     "output_type": "display_data"
    }
   ],
   "source": [
    "summary(tree)"
   ]
  },
  {
   "cell_type": "code",
   "execution_count": 21,
   "metadata": {},
   "outputs": [
    {
     "data": {
      "text/html": [
       "<ol class=list-inline>\n",
       "\t<li>'C'</li>\n",
       "\t<li>'N'</li>\n",
       "\t<li>'CHBR'</li>\n",
       "\t<li>'REP'</li>\n",
       "\t<li>'LFBM'</li>\n",
       "\t<li>'STBM'</li>\n",
       "\t<li>'RTBM'</li>\n",
       "\t<li>'LFNCC'</li>\n",
       "\t<li>'STNCC'</li>\n",
       "\t<li>'RTNCC'</li>\n",
       "\t<li>'LFBCC'</li>\n",
       "\t<li>'STBCC'</li>\n",
       "\t<li>'RTBCC'</li>\n",
       "\t<li>'LFCACC'</li>\n",
       "\t<li>'STCACC'</li>\n",
       "\t<li>'RTCACC'</li>\n",
       "\t<li>'LFKCC'</li>\n",
       "\t<li>'STKCC'</li>\n",
       "\t<li>'RTKCC'</li>\n",
       "\t<li>'LFMGCC'</li>\n",
       "\t<li>'STMGCC'</li>\n",
       "\t<li>'RTMGCC'</li>\n",
       "\t<li>'LFPCC'</li>\n",
       "\t<li>'STPCC'</li>\n",
       "\t<li>'RTPCC'</li>\n",
       "\t<li>'LFSCC'</li>\n",
       "\t<li>'STSCC'</li>\n",
       "\t<li>'RTSCC'</li>\n",
       "</ol>\n"
      ],
      "text/latex": [
       "\\begin{enumerate*}\n",
       "\\item 'C'\n",
       "\\item 'N'\n",
       "\\item 'CHBR'\n",
       "\\item 'REP'\n",
       "\\item 'LFBM'\n",
       "\\item 'STBM'\n",
       "\\item 'RTBM'\n",
       "\\item 'LFNCC'\n",
       "\\item 'STNCC'\n",
       "\\item 'RTNCC'\n",
       "\\item 'LFBCC'\n",
       "\\item 'STBCC'\n",
       "\\item 'RTBCC'\n",
       "\\item 'LFCACC'\n",
       "\\item 'STCACC'\n",
       "\\item 'RTCACC'\n",
       "\\item 'LFKCC'\n",
       "\\item 'STKCC'\n",
       "\\item 'RTKCC'\n",
       "\\item 'LFMGCC'\n",
       "\\item 'STMGCC'\n",
       "\\item 'RTMGCC'\n",
       "\\item 'LFPCC'\n",
       "\\item 'STPCC'\n",
       "\\item 'RTPCC'\n",
       "\\item 'LFSCC'\n",
       "\\item 'STSCC'\n",
       "\\item 'RTSCC'\n",
       "\\end{enumerate*}\n"
      ],
      "text/markdown": [
       "1. 'C'\n",
       "2. 'N'\n",
       "3. 'CHBR'\n",
       "4. 'REP'\n",
       "5. 'LFBM'\n",
       "6. 'STBM'\n",
       "7. 'RTBM'\n",
       "8. 'LFNCC'\n",
       "9. 'STNCC'\n",
       "10. 'RTNCC'\n",
       "11. 'LFBCC'\n",
       "12. 'STBCC'\n",
       "13. 'RTBCC'\n",
       "14. 'LFCACC'\n",
       "15. 'STCACC'\n",
       "16. 'RTCACC'\n",
       "17. 'LFKCC'\n",
       "18. 'STKCC'\n",
       "19. 'RTKCC'\n",
       "20. 'LFMGCC'\n",
       "21. 'STMGCC'\n",
       "22. 'RTMGCC'\n",
       "23. 'LFPCC'\n",
       "24. 'STPCC'\n",
       "25. 'RTPCC'\n",
       "26. 'LFSCC'\n",
       "27. 'STSCC'\n",
       "28. 'RTSCC'\n",
       "\n",
       "\n"
      ],
      "text/plain": [
       " [1] \"C\"      \"N\"      \"CHBR\"   \"REP\"    \"LFBM\"   \"STBM\"   \"RTBM\"   \"LFNCC\" \n",
       " [9] \"STNCC\"  \"RTNCC\"  \"LFBCC\"  \"STBCC\"  \"RTBCC\"  \"LFCACC\" \"STCACC\" \"RTCACC\"\n",
       "[17] \"LFKCC\"  \"STKCC\"  \"RTKCC\"  \"LFMGCC\" \"STMGCC\" \"RTMGCC\" \"LFPCC\"  \"STPCC\" \n",
       "[25] \"RTPCC\"  \"LFSCC\"  \"STSCC\"  \"RTSCC\" "
      ]
     },
     "metadata": {},
     "output_type": "display_data"
    }
   ],
   "source": [
    "names(tree)"
   ]
  },
  {
   "cell_type": "code",
   "execution_count": 22,
   "metadata": {},
   "outputs": [
    {
     "data": {
      "text/html": [
       "<ol class=list-inline>\n",
       "\t<li>1</li>\n",
       "\t<li>1</li>\n",
       "\t<li>1</li>\n",
       "\t<li>1</li>\n",
       "\t<li>1</li>\n",
       "\t<li>1</li>\n",
       "\t<li>1</li>\n",
       "\t<li>1</li>\n",
       "\t<li>2</li>\n",
       "\t<li>2</li>\n",
       "\t<li>2</li>\n",
       "\t<li>2</li>\n",
       "\t<li>2</li>\n",
       "\t<li>2</li>\n",
       "\t<li>2</li>\n",
       "\t<li>2</li>\n",
       "\t<li>2</li>\n",
       "\t<li>2</li>\n",
       "\t<li>2</li>\n",
       "\t<li>2</li>\n",
       "\t<li>2</li>\n",
       "\t<li>2</li>\n",
       "\t<li>2</li>\n",
       "\t<li>2</li>\n",
       "\t<li>2</li>\n",
       "\t<li>2</li>\n",
       "\t<li>2</li>\n",
       "\t<li>2</li>\n",
       "\t<li>2</li>\n",
       "\t<li>2</li>\n",
       "\t<li>2</li>\n",
       "\t<li>3</li>\n",
       "\t<li>3</li>\n",
       "\t<li>3</li>\n",
       "\t<li>3</li>\n",
       "\t<li>3</li>\n",
       "\t<li>3</li>\n",
       "\t<li>3</li>\n",
       "\t<li>3</li>\n",
       "\t<li>3</li>\n",
       "\t<li>3</li>\n",
       "\t<li>4</li>\n",
       "\t<li>4</li>\n",
       "\t<li>4</li>\n",
       "\t<li>4</li>\n",
       "\t<li>4</li>\n",
       "\t<li>4</li>\n",
       "\t<li>4</li>\n",
       "\t<li>4</li>\n",
       "\t<li>4</li>\n",
       "\t<li>4</li>\n",
       "\t<li>4</li>\n",
       "\t<li>4</li>\n",
       "\t<li>4</li>\n",
       "</ol>\n"
      ],
      "text/latex": [
       "\\begin{enumerate*}\n",
       "\\item 1\n",
       "\\item 1\n",
       "\\item 1\n",
       "\\item 1\n",
       "\\item 1\n",
       "\\item 1\n",
       "\\item 1\n",
       "\\item 1\n",
       "\\item 2\n",
       "\\item 2\n",
       "\\item 2\n",
       "\\item 2\n",
       "\\item 2\n",
       "\\item 2\n",
       "\\item 2\n",
       "\\item 2\n",
       "\\item 2\n",
       "\\item 2\n",
       "\\item 2\n",
       "\\item 2\n",
       "\\item 2\n",
       "\\item 2\n",
       "\\item 2\n",
       "\\item 2\n",
       "\\item 2\n",
       "\\item 2\n",
       "\\item 2\n",
       "\\item 2\n",
       "\\item 2\n",
       "\\item 2\n",
       "\\item 2\n",
       "\\item 3\n",
       "\\item 3\n",
       "\\item 3\n",
       "\\item 3\n",
       "\\item 3\n",
       "\\item 3\n",
       "\\item 3\n",
       "\\item 3\n",
       "\\item 3\n",
       "\\item 3\n",
       "\\item 4\n",
       "\\item 4\n",
       "\\item 4\n",
       "\\item 4\n",
       "\\item 4\n",
       "\\item 4\n",
       "\\item 4\n",
       "\\item 4\n",
       "\\item 4\n",
       "\\item 4\n",
       "\\item 4\n",
       "\\item 4\n",
       "\\item 4\n",
       "\\end{enumerate*}\n"
      ],
      "text/markdown": [
       "1. 1\n",
       "2. 1\n",
       "3. 1\n",
       "4. 1\n",
       "5. 1\n",
       "6. 1\n",
       "7. 1\n",
       "8. 1\n",
       "9. 2\n",
       "10. 2\n",
       "11. 2\n",
       "12. 2\n",
       "13. 2\n",
       "14. 2\n",
       "15. 2\n",
       "16. 2\n",
       "17. 2\n",
       "18. 2\n",
       "19. 2\n",
       "20. 2\n",
       "21. 2\n",
       "22. 2\n",
       "23. 2\n",
       "24. 2\n",
       "25. 2\n",
       "26. 2\n",
       "27. 2\n",
       "28. 2\n",
       "29. 2\n",
       "30. 2\n",
       "31. 2\n",
       "32. 3\n",
       "33. 3\n",
       "34. 3\n",
       "35. 3\n",
       "36. 3\n",
       "37. 3\n",
       "38. 3\n",
       "39. 3\n",
       "40. 3\n",
       "41. 3\n",
       "42. 4\n",
       "43. 4\n",
       "44. 4\n",
       "45. 4\n",
       "46. 4\n",
       "47. 4\n",
       "48. 4\n",
       "49. 4\n",
       "50. 4\n",
       "51. 4\n",
       "52. 4\n",
       "53. 4\n",
       "54. 4\n",
       "\n",
       "\n"
      ],
      "text/plain": [
       " [1] 1 1 1 1 1 1 1 1 2 2 2 2 2 2 2 2 2 2 2 2 2 2 2 2 2 2 2 2 2 2 2 3 3 3 3 3 3 3\n",
       "[39] 3 3 3 4 4 4 4 4 4 4 4 4 4 4 4 4"
      ]
     },
     "metadata": {},
     "output_type": "display_data"
    }
   ],
   "source": [
    "tree$C"
   ]
  },
  {
   "cell_type": "code",
   "execution_count": 23,
   "metadata": {},
   "outputs": [
    {
     "data": {
      "text/html": [
       "<ol class=list-inline>\n",
       "\t<li>1</li>\n",
       "\t<li>1</li>\n",
       "\t<li>2</li>\n",
       "\t<li>2</li>\n",
       "\t<li>2</li>\n",
       "\t<li>2</li>\n",
       "\t<li>3</li>\n",
       "\t<li>3</li>\n",
       "\t<li>1</li>\n",
       "\t<li>1</li>\n",
       "\t<li>1</li>\n",
       "\t<li>1</li>\n",
       "\t<li>1</li>\n",
       "\t<li>1</li>\n",
       "\t<li>1</li>\n",
       "\t<li>1</li>\n",
       "\t<li>1</li>\n",
       "\t<li>2</li>\n",
       "\t<li>2</li>\n",
       "\t<li>2</li>\n",
       "\t<li>2</li>\n",
       "\t<li>2</li>\n",
       "\t<li>2</li>\n",
       "\t<li>2</li>\n",
       "\t<li>3</li>\n",
       "\t<li>3</li>\n",
       "\t<li>3</li>\n",
       "\t<li>3</li>\n",
       "\t<li>3</li>\n",
       "\t<li>3</li>\n",
       "\t<li>3</li>\n",
       "\t<li>1</li>\n",
       "\t<li>1</li>\n",
       "\t<li>1</li>\n",
       "\t<li>1</li>\n",
       "\t<li>1</li>\n",
       "\t<li>3</li>\n",
       "\t<li>3</li>\n",
       "\t<li>3</li>\n",
       "\t<li>3</li>\n",
       "\t<li>3</li>\n",
       "\t<li>1</li>\n",
       "\t<li>1</li>\n",
       "\t<li>1</li>\n",
       "\t<li>1</li>\n",
       "\t<li>1</li>\n",
       "\t<li>2</li>\n",
       "\t<li>2</li>\n",
       "\t<li>2</li>\n",
       "\t<li>2</li>\n",
       "\t<li>2</li>\n",
       "\t<li>3</li>\n",
       "\t<li>3</li>\n",
       "\t<li>3</li>\n",
       "</ol>\n"
      ],
      "text/latex": [
       "\\begin{enumerate*}\n",
       "\\item 1\n",
       "\\item 1\n",
       "\\item 2\n",
       "\\item 2\n",
       "\\item 2\n",
       "\\item 2\n",
       "\\item 3\n",
       "\\item 3\n",
       "\\item 1\n",
       "\\item 1\n",
       "\\item 1\n",
       "\\item 1\n",
       "\\item 1\n",
       "\\item 1\n",
       "\\item 1\n",
       "\\item 1\n",
       "\\item 1\n",
       "\\item 2\n",
       "\\item 2\n",
       "\\item 2\n",
       "\\item 2\n",
       "\\item 2\n",
       "\\item 2\n",
       "\\item 2\n",
       "\\item 3\n",
       "\\item 3\n",
       "\\item 3\n",
       "\\item 3\n",
       "\\item 3\n",
       "\\item 3\n",
       "\\item 3\n",
       "\\item 1\n",
       "\\item 1\n",
       "\\item 1\n",
       "\\item 1\n",
       "\\item 1\n",
       "\\item 3\n",
       "\\item 3\n",
       "\\item 3\n",
       "\\item 3\n",
       "\\item 3\n",
       "\\item 1\n",
       "\\item 1\n",
       "\\item 1\n",
       "\\item 1\n",
       "\\item 1\n",
       "\\item 2\n",
       "\\item 2\n",
       "\\item 2\n",
       "\\item 2\n",
       "\\item 2\n",
       "\\item 3\n",
       "\\item 3\n",
       "\\item 3\n",
       "\\end{enumerate*}\n"
      ],
      "text/markdown": [
       "1. 1\n",
       "2. 1\n",
       "3. 2\n",
       "4. 2\n",
       "5. 2\n",
       "6. 2\n",
       "7. 3\n",
       "8. 3\n",
       "9. 1\n",
       "10. 1\n",
       "11. 1\n",
       "12. 1\n",
       "13. 1\n",
       "14. 1\n",
       "15. 1\n",
       "16. 1\n",
       "17. 1\n",
       "18. 2\n",
       "19. 2\n",
       "20. 2\n",
       "21. 2\n",
       "22. 2\n",
       "23. 2\n",
       "24. 2\n",
       "25. 3\n",
       "26. 3\n",
       "27. 3\n",
       "28. 3\n",
       "29. 3\n",
       "30. 3\n",
       "31. 3\n",
       "32. 1\n",
       "33. 1\n",
       "34. 1\n",
       "35. 1\n",
       "36. 1\n",
       "37. 3\n",
       "38. 3\n",
       "39. 3\n",
       "40. 3\n",
       "41. 3\n",
       "42. 1\n",
       "43. 1\n",
       "44. 1\n",
       "45. 1\n",
       "46. 1\n",
       "47. 2\n",
       "48. 2\n",
       "49. 2\n",
       "50. 2\n",
       "51. 2\n",
       "52. 3\n",
       "53. 3\n",
       "54. 3\n",
       "\n",
       "\n"
      ],
      "text/plain": [
       " [1] 1 1 2 2 2 2 3 3 1 1 1 1 1 1 1 1 1 2 2 2 2 2 2 2 3 3 3 3 3 3 3 1 1 1 1 1 3 3\n",
       "[39] 3 3 3 1 1 1 1 1 2 2 2 2 2 3 3 3"
      ]
     },
     "metadata": {},
     "output_type": "display_data"
    }
   ],
   "source": [
    "tree$N"
   ]
  },
  {
   "cell_type": "markdown",
   "metadata": {},
   "source": [
    "There are many different ways to keep track of data in R. When you use the read.csv command R uses a specific kind of variable called a “data frame.” All of the data are stored within the data frame as separate columns. If you are not sure what kind of variable you have then you can use the attributes command. This will list all of the things that R uses to describe the variable:"
   ]
  },
  {
   "cell_type": "code",
   "execution_count": 24,
   "metadata": {},
   "outputs": [
    {
     "data": {
      "text/html": [
       "<dl>\n",
       "\t<dt>$names</dt>\n",
       "\t\t<dd><ol class=list-inline>\n",
       "\t<li>'C'</li>\n",
       "\t<li>'N'</li>\n",
       "\t<li>'CHBR'</li>\n",
       "\t<li>'REP'</li>\n",
       "\t<li>'LFBM'</li>\n",
       "\t<li>'STBM'</li>\n",
       "\t<li>'RTBM'</li>\n",
       "\t<li>'LFNCC'</li>\n",
       "\t<li>'STNCC'</li>\n",
       "\t<li>'RTNCC'</li>\n",
       "\t<li>'LFBCC'</li>\n",
       "\t<li>'STBCC'</li>\n",
       "\t<li>'RTBCC'</li>\n",
       "\t<li>'LFCACC'</li>\n",
       "\t<li>'STCACC'</li>\n",
       "\t<li>'RTCACC'</li>\n",
       "\t<li>'LFKCC'</li>\n",
       "\t<li>'STKCC'</li>\n",
       "\t<li>'RTKCC'</li>\n",
       "\t<li>'LFMGCC'</li>\n",
       "\t<li>'STMGCC'</li>\n",
       "\t<li>'RTMGCC'</li>\n",
       "\t<li>'LFPCC'</li>\n",
       "\t<li>'STPCC'</li>\n",
       "\t<li>'RTPCC'</li>\n",
       "\t<li>'LFSCC'</li>\n",
       "\t<li>'STSCC'</li>\n",
       "\t<li>'RTSCC'</li>\n",
       "</ol>\n",
       "</dd>\n",
       "\t<dt>$class</dt>\n",
       "\t\t<dd>'data.frame'</dd>\n",
       "\t<dt>$row.names</dt>\n",
       "\t\t<dd><ol class=list-inline>\n",
       "\t<li>1</li>\n",
       "\t<li>2</li>\n",
       "\t<li>3</li>\n",
       "\t<li>4</li>\n",
       "\t<li>5</li>\n",
       "\t<li>6</li>\n",
       "\t<li>7</li>\n",
       "\t<li>8</li>\n",
       "\t<li>9</li>\n",
       "\t<li>10</li>\n",
       "\t<li>11</li>\n",
       "\t<li>12</li>\n",
       "\t<li>13</li>\n",
       "\t<li>14</li>\n",
       "\t<li>15</li>\n",
       "\t<li>16</li>\n",
       "\t<li>17</li>\n",
       "\t<li>18</li>\n",
       "\t<li>19</li>\n",
       "\t<li>20</li>\n",
       "\t<li>21</li>\n",
       "\t<li>22</li>\n",
       "\t<li>23</li>\n",
       "\t<li>24</li>\n",
       "\t<li>25</li>\n",
       "\t<li>26</li>\n",
       "\t<li>27</li>\n",
       "\t<li>28</li>\n",
       "\t<li>29</li>\n",
       "\t<li>30</li>\n",
       "\t<li>31</li>\n",
       "\t<li>32</li>\n",
       "\t<li>33</li>\n",
       "\t<li>34</li>\n",
       "\t<li>35</li>\n",
       "\t<li>36</li>\n",
       "\t<li>37</li>\n",
       "\t<li>38</li>\n",
       "\t<li>39</li>\n",
       "\t<li>40</li>\n",
       "\t<li>41</li>\n",
       "\t<li>42</li>\n",
       "\t<li>43</li>\n",
       "\t<li>44</li>\n",
       "\t<li>45</li>\n",
       "\t<li>46</li>\n",
       "\t<li>47</li>\n",
       "\t<li>48</li>\n",
       "\t<li>49</li>\n",
       "\t<li>50</li>\n",
       "\t<li>51</li>\n",
       "\t<li>52</li>\n",
       "\t<li>53</li>\n",
       "\t<li>54</li>\n",
       "</ol>\n",
       "</dd>\n",
       "</dl>\n"
      ],
      "text/latex": [
       "\\begin{description}\n",
       "\\item[\\$names] \\begin{enumerate*}\n",
       "\\item 'C'\n",
       "\\item 'N'\n",
       "\\item 'CHBR'\n",
       "\\item 'REP'\n",
       "\\item 'LFBM'\n",
       "\\item 'STBM'\n",
       "\\item 'RTBM'\n",
       "\\item 'LFNCC'\n",
       "\\item 'STNCC'\n",
       "\\item 'RTNCC'\n",
       "\\item 'LFBCC'\n",
       "\\item 'STBCC'\n",
       "\\item 'RTBCC'\n",
       "\\item 'LFCACC'\n",
       "\\item 'STCACC'\n",
       "\\item 'RTCACC'\n",
       "\\item 'LFKCC'\n",
       "\\item 'STKCC'\n",
       "\\item 'RTKCC'\n",
       "\\item 'LFMGCC'\n",
       "\\item 'STMGCC'\n",
       "\\item 'RTMGCC'\n",
       "\\item 'LFPCC'\n",
       "\\item 'STPCC'\n",
       "\\item 'RTPCC'\n",
       "\\item 'LFSCC'\n",
       "\\item 'STSCC'\n",
       "\\item 'RTSCC'\n",
       "\\end{enumerate*}\n",
       "\n",
       "\\item[\\$class] 'data.frame'\n",
       "\\item[\\$row.names] \\begin{enumerate*}\n",
       "\\item 1\n",
       "\\item 2\n",
       "\\item 3\n",
       "\\item 4\n",
       "\\item 5\n",
       "\\item 6\n",
       "\\item 7\n",
       "\\item 8\n",
       "\\item 9\n",
       "\\item 10\n",
       "\\item 11\n",
       "\\item 12\n",
       "\\item 13\n",
       "\\item 14\n",
       "\\item 15\n",
       "\\item 16\n",
       "\\item 17\n",
       "\\item 18\n",
       "\\item 19\n",
       "\\item 20\n",
       "\\item 21\n",
       "\\item 22\n",
       "\\item 23\n",
       "\\item 24\n",
       "\\item 25\n",
       "\\item 26\n",
       "\\item 27\n",
       "\\item 28\n",
       "\\item 29\n",
       "\\item 30\n",
       "\\item 31\n",
       "\\item 32\n",
       "\\item 33\n",
       "\\item 34\n",
       "\\item 35\n",
       "\\item 36\n",
       "\\item 37\n",
       "\\item 38\n",
       "\\item 39\n",
       "\\item 40\n",
       "\\item 41\n",
       "\\item 42\n",
       "\\item 43\n",
       "\\item 44\n",
       "\\item 45\n",
       "\\item 46\n",
       "\\item 47\n",
       "\\item 48\n",
       "\\item 49\n",
       "\\item 50\n",
       "\\item 51\n",
       "\\item 52\n",
       "\\item 53\n",
       "\\item 54\n",
       "\\end{enumerate*}\n",
       "\n",
       "\\end{description}\n"
      ],
      "text/markdown": [
       "$names\n",
       ":   1. 'C'\n",
       "2. 'N'\n",
       "3. 'CHBR'\n",
       "4. 'REP'\n",
       "5. 'LFBM'\n",
       "6. 'STBM'\n",
       "7. 'RTBM'\n",
       "8. 'LFNCC'\n",
       "9. 'STNCC'\n",
       "10. 'RTNCC'\n",
       "11. 'LFBCC'\n",
       "12. 'STBCC'\n",
       "13. 'RTBCC'\n",
       "14. 'LFCACC'\n",
       "15. 'STCACC'\n",
       "16. 'RTCACC'\n",
       "17. 'LFKCC'\n",
       "18. 'STKCC'\n",
       "19. 'RTKCC'\n",
       "20. 'LFMGCC'\n",
       "21. 'STMGCC'\n",
       "22. 'RTMGCC'\n",
       "23. 'LFPCC'\n",
       "24. 'STPCC'\n",
       "25. 'RTPCC'\n",
       "26. 'LFSCC'\n",
       "27. 'STSCC'\n",
       "28. 'RTSCC'\n",
       "\n",
       "\n",
       "\n",
       "$class\n",
       ":   'data.frame'\n",
       "$row.names\n",
       ":   1. 1\n",
       "2. 2\n",
       "3. 3\n",
       "4. 4\n",
       "5. 5\n",
       "6. 6\n",
       "7. 7\n",
       "8. 8\n",
       "9. 9\n",
       "10. 10\n",
       "11. 11\n",
       "12. 12\n",
       "13. 13\n",
       "14. 14\n",
       "15. 15\n",
       "16. 16\n",
       "17. 17\n",
       "18. 18\n",
       "19. 19\n",
       "20. 20\n",
       "21. 21\n",
       "22. 22\n",
       "23. 23\n",
       "24. 24\n",
       "25. 25\n",
       "26. 26\n",
       "27. 27\n",
       "28. 28\n",
       "29. 29\n",
       "30. 30\n",
       "31. 31\n",
       "32. 32\n",
       "33. 33\n",
       "34. 34\n",
       "35. 35\n",
       "36. 36\n",
       "37. 37\n",
       "38. 38\n",
       "39. 39\n",
       "40. 40\n",
       "41. 41\n",
       "42. 42\n",
       "43. 43\n",
       "44. 44\n",
       "45. 45\n",
       "46. 46\n",
       "47. 47\n",
       "48. 48\n",
       "49. 49\n",
       "50. 50\n",
       "51. 51\n",
       "52. 52\n",
       "53. 53\n",
       "54. 54\n",
       "\n",
       "\n",
       "\n",
       "\n",
       "\n"
      ],
      "text/plain": [
       "$names\n",
       " [1] \"C\"      \"N\"      \"CHBR\"   \"REP\"    \"LFBM\"   \"STBM\"   \"RTBM\"   \"LFNCC\" \n",
       " [9] \"STNCC\"  \"RTNCC\"  \"LFBCC\"  \"STBCC\"  \"RTBCC\"  \"LFCACC\" \"STCACC\" \"RTCACC\"\n",
       "[17] \"LFKCC\"  \"STKCC\"  \"RTKCC\"  \"LFMGCC\" \"STMGCC\" \"RTMGCC\" \"LFPCC\"  \"STPCC\" \n",
       "[25] \"RTPCC\"  \"LFSCC\"  \"STSCC\"  \"RTSCC\" \n",
       "\n",
       "$class\n",
       "[1] \"data.frame\"\n",
       "\n",
       "$row.names\n",
       " [1]  1  2  3  4  5  6  7  8  9 10 11 12 13 14 15 16 17 18 19 20 21 22 23 24 25\n",
       "[26] 26 27 28 29 30 31 32 33 34 35 36 37 38 39 40 41 42 43 44 45 46 47 48 49 50\n",
       "[51] 51 52 53 54\n"
      ]
     },
     "metadata": {},
     "output_type": "display_data"
    }
   ],
   "source": [
    "attributes(tree)"
   ]
  },
  {
   "cell_type": "markdown",
   "metadata": {},
   "source": [
    "The first thing that R stores is a list of names which refer to each column of the data. For example, the first column is called “C”, the second column is called “N.” Tree is of type data.frame. Finally, the rows are numbered consecutively from 1 to 54. Each column has 54 numbers in it.\n",
    "\n",
    "If you know that a variable is a data frame but are not sure what labels are used to refer to the different columns you can use the names command:"
   ]
  },
  {
   "cell_type": "code",
   "execution_count": 26,
   "metadata": {},
   "outputs": [
    {
     "data": {
      "text/html": [
       "<ol class=list-inline>\n",
       "\t<li>'C'</li>\n",
       "\t<li>'N'</li>\n",
       "\t<li>'CHBR'</li>\n",
       "\t<li>'REP'</li>\n",
       "\t<li>'LFBM'</li>\n",
       "\t<li>'STBM'</li>\n",
       "\t<li>'RTBM'</li>\n",
       "\t<li>'LFNCC'</li>\n",
       "\t<li>'STNCC'</li>\n",
       "\t<li>'RTNCC'</li>\n",
       "\t<li>'LFBCC'</li>\n",
       "\t<li>'STBCC'</li>\n",
       "\t<li>'RTBCC'</li>\n",
       "\t<li>'LFCACC'</li>\n",
       "\t<li>'STCACC'</li>\n",
       "\t<li>'RTCACC'</li>\n",
       "\t<li>'LFKCC'</li>\n",
       "\t<li>'STKCC'</li>\n",
       "\t<li>'RTKCC'</li>\n",
       "\t<li>'LFMGCC'</li>\n",
       "\t<li>'STMGCC'</li>\n",
       "\t<li>'RTMGCC'</li>\n",
       "\t<li>'LFPCC'</li>\n",
       "\t<li>'STPCC'</li>\n",
       "\t<li>'RTPCC'</li>\n",
       "\t<li>'LFSCC'</li>\n",
       "\t<li>'STSCC'</li>\n",
       "\t<li>'RTSCC'</li>\n",
       "</ol>\n"
      ],
      "text/latex": [
       "\\begin{enumerate*}\n",
       "\\item 'C'\n",
       "\\item 'N'\n",
       "\\item 'CHBR'\n",
       "\\item 'REP'\n",
       "\\item 'LFBM'\n",
       "\\item 'STBM'\n",
       "\\item 'RTBM'\n",
       "\\item 'LFNCC'\n",
       "\\item 'STNCC'\n",
       "\\item 'RTNCC'\n",
       "\\item 'LFBCC'\n",
       "\\item 'STBCC'\n",
       "\\item 'RTBCC'\n",
       "\\item 'LFCACC'\n",
       "\\item 'STCACC'\n",
       "\\item 'RTCACC'\n",
       "\\item 'LFKCC'\n",
       "\\item 'STKCC'\n",
       "\\item 'RTKCC'\n",
       "\\item 'LFMGCC'\n",
       "\\item 'STMGCC'\n",
       "\\item 'RTMGCC'\n",
       "\\item 'LFPCC'\n",
       "\\item 'STPCC'\n",
       "\\item 'RTPCC'\n",
       "\\item 'LFSCC'\n",
       "\\item 'STSCC'\n",
       "\\item 'RTSCC'\n",
       "\\end{enumerate*}\n"
      ],
      "text/markdown": [
       "1. 'C'\n",
       "2. 'N'\n",
       "3. 'CHBR'\n",
       "4. 'REP'\n",
       "5. 'LFBM'\n",
       "6. 'STBM'\n",
       "7. 'RTBM'\n",
       "8. 'LFNCC'\n",
       "9. 'STNCC'\n",
       "10. 'RTNCC'\n",
       "11. 'LFBCC'\n",
       "12. 'STBCC'\n",
       "13. 'RTBCC'\n",
       "14. 'LFCACC'\n",
       "15. 'STCACC'\n",
       "16. 'RTCACC'\n",
       "17. 'LFKCC'\n",
       "18. 'STKCC'\n",
       "19. 'RTKCC'\n",
       "20. 'LFMGCC'\n",
       "21. 'STMGCC'\n",
       "22. 'RTMGCC'\n",
       "23. 'LFPCC'\n",
       "24. 'STPCC'\n",
       "25. 'RTPCC'\n",
       "26. 'LFSCC'\n",
       "27. 'STSCC'\n",
       "28. 'RTSCC'\n",
       "\n",
       "\n"
      ],
      "text/plain": [
       " [1] \"C\"      \"N\"      \"CHBR\"   \"REP\"    \"LFBM\"   \"STBM\"   \"RTBM\"   \"LFNCC\" \n",
       " [9] \"STNCC\"  \"RTNCC\"  \"LFBCC\"  \"STBCC\"  \"RTBCC\"  \"LFCACC\" \"STCACC\" \"RTCACC\"\n",
       "[17] \"LFKCC\"  \"STKCC\"  \"RTKCC\"  \"LFMGCC\" \"STMGCC\" \"RTMGCC\" \"LFPCC\"  \"STPCC\" \n",
       "[25] \"RTPCC\"  \"LFSCC\"  \"STSCC\"  \"RTSCC\" "
      ]
     },
     "metadata": {},
     "output_type": "display_data"
    }
   ],
   "source": [
    "names(tree)"
   ]
  },
  {
   "cell_type": "markdown",
   "metadata": {},
   "source": [
    "If you want to work with the data in one of the columns you give the name of the data frame, a “\\$” sign, and the label assigned to the column. For example, the first column in tree can be called using “tree$C:”"
   ]
  },
  {
   "cell_type": "code",
   "execution_count": 27,
   "metadata": {},
   "outputs": [
    {
     "data": {
      "text/html": [
       "<ol class=list-inline>\n",
       "\t<li>1</li>\n",
       "\t<li>1</li>\n",
       "\t<li>1</li>\n",
       "\t<li>1</li>\n",
       "\t<li>1</li>\n",
       "\t<li>1</li>\n",
       "\t<li>1</li>\n",
       "\t<li>1</li>\n",
       "\t<li>2</li>\n",
       "\t<li>2</li>\n",
       "\t<li>2</li>\n",
       "\t<li>2</li>\n",
       "\t<li>2</li>\n",
       "\t<li>2</li>\n",
       "\t<li>2</li>\n",
       "\t<li>2</li>\n",
       "\t<li>2</li>\n",
       "\t<li>2</li>\n",
       "\t<li>2</li>\n",
       "\t<li>2</li>\n",
       "\t<li>2</li>\n",
       "\t<li>2</li>\n",
       "\t<li>2</li>\n",
       "\t<li>2</li>\n",
       "\t<li>2</li>\n",
       "\t<li>2</li>\n",
       "\t<li>2</li>\n",
       "\t<li>2</li>\n",
       "\t<li>2</li>\n",
       "\t<li>2</li>\n",
       "\t<li>2</li>\n",
       "\t<li>3</li>\n",
       "\t<li>3</li>\n",
       "\t<li>3</li>\n",
       "\t<li>3</li>\n",
       "\t<li>3</li>\n",
       "\t<li>3</li>\n",
       "\t<li>3</li>\n",
       "\t<li>3</li>\n",
       "\t<li>3</li>\n",
       "\t<li>3</li>\n",
       "\t<li>4</li>\n",
       "\t<li>4</li>\n",
       "\t<li>4</li>\n",
       "\t<li>4</li>\n",
       "\t<li>4</li>\n",
       "\t<li>4</li>\n",
       "\t<li>4</li>\n",
       "\t<li>4</li>\n",
       "\t<li>4</li>\n",
       "\t<li>4</li>\n",
       "\t<li>4</li>\n",
       "\t<li>4</li>\n",
       "\t<li>4</li>\n",
       "</ol>\n"
      ],
      "text/latex": [
       "\\begin{enumerate*}\n",
       "\\item 1\n",
       "\\item 1\n",
       "\\item 1\n",
       "\\item 1\n",
       "\\item 1\n",
       "\\item 1\n",
       "\\item 1\n",
       "\\item 1\n",
       "\\item 2\n",
       "\\item 2\n",
       "\\item 2\n",
       "\\item 2\n",
       "\\item 2\n",
       "\\item 2\n",
       "\\item 2\n",
       "\\item 2\n",
       "\\item 2\n",
       "\\item 2\n",
       "\\item 2\n",
       "\\item 2\n",
       "\\item 2\n",
       "\\item 2\n",
       "\\item 2\n",
       "\\item 2\n",
       "\\item 2\n",
       "\\item 2\n",
       "\\item 2\n",
       "\\item 2\n",
       "\\item 2\n",
       "\\item 2\n",
       "\\item 2\n",
       "\\item 3\n",
       "\\item 3\n",
       "\\item 3\n",
       "\\item 3\n",
       "\\item 3\n",
       "\\item 3\n",
       "\\item 3\n",
       "\\item 3\n",
       "\\item 3\n",
       "\\item 3\n",
       "\\item 4\n",
       "\\item 4\n",
       "\\item 4\n",
       "\\item 4\n",
       "\\item 4\n",
       "\\item 4\n",
       "\\item 4\n",
       "\\item 4\n",
       "\\item 4\n",
       "\\item 4\n",
       "\\item 4\n",
       "\\item 4\n",
       "\\item 4\n",
       "\\end{enumerate*}\n"
      ],
      "text/markdown": [
       "1. 1\n",
       "2. 1\n",
       "3. 1\n",
       "4. 1\n",
       "5. 1\n",
       "6. 1\n",
       "7. 1\n",
       "8. 1\n",
       "9. 2\n",
       "10. 2\n",
       "11. 2\n",
       "12. 2\n",
       "13. 2\n",
       "14. 2\n",
       "15. 2\n",
       "16. 2\n",
       "17. 2\n",
       "18. 2\n",
       "19. 2\n",
       "20. 2\n",
       "21. 2\n",
       "22. 2\n",
       "23. 2\n",
       "24. 2\n",
       "25. 2\n",
       "26. 2\n",
       "27. 2\n",
       "28. 2\n",
       "29. 2\n",
       "30. 2\n",
       "31. 2\n",
       "32. 3\n",
       "33. 3\n",
       "34. 3\n",
       "35. 3\n",
       "36. 3\n",
       "37. 3\n",
       "38. 3\n",
       "39. 3\n",
       "40. 3\n",
       "41. 3\n",
       "42. 4\n",
       "43. 4\n",
       "44. 4\n",
       "45. 4\n",
       "46. 4\n",
       "47. 4\n",
       "48. 4\n",
       "49. 4\n",
       "50. 4\n",
       "51. 4\n",
       "52. 4\n",
       "53. 4\n",
       "54. 4\n",
       "\n",
       "\n"
      ],
      "text/plain": [
       " [1] 1 1 1 1 1 1 1 1 2 2 2 2 2 2 2 2 2 2 2 2 2 2 2 2 2 2 2 2 2 2 2 3 3 3 3 3 3 3\n",
       "[39] 3 3 3 4 4 4 4 4 4 4 4 4 4 4 4 4"
      ]
     },
     "metadata": {},
     "output_type": "display_data"
    }
   ],
   "source": [
    "tree$C"
   ]
  },
  {
   "cell_type": "code",
   "execution_count": 25,
   "metadata": {},
   "outputs": [
    {
     "data": {
      "text/html": [
       "<dl>\n",
       "\t<dt>$names</dt>\n",
       "\t\t<dd><ol class=list-inline>\n",
       "\t<li>'trial'</li>\n",
       "\t<li>'mass'</li>\n",
       "\t<li>'velocity'</li>\n",
       "</ol>\n",
       "</dd>\n",
       "\t<dt>$class</dt>\n",
       "\t\t<dd>'data.frame'</dd>\n",
       "\t<dt>$row.names</dt>\n",
       "\t\t<dd><ol class=list-inline>\n",
       "\t<li>1</li>\n",
       "\t<li>2</li>\n",
       "\t<li>3</li>\n",
       "\t<li>4</li>\n",
       "\t<li>5</li>\n",
       "\t<li>6</li>\n",
       "</ol>\n",
       "</dd>\n",
       "</dl>\n"
      ],
      "text/latex": [
       "\\begin{description}\n",
       "\\item[\\$names] \\begin{enumerate*}\n",
       "\\item 'trial'\n",
       "\\item 'mass'\n",
       "\\item 'velocity'\n",
       "\\end{enumerate*}\n",
       "\n",
       "\\item[\\$class] 'data.frame'\n",
       "\\item[\\$row.names] \\begin{enumerate*}\n",
       "\\item 1\n",
       "\\item 2\n",
       "\\item 3\n",
       "\\item 4\n",
       "\\item 5\n",
       "\\item 6\n",
       "\\end{enumerate*}\n",
       "\n",
       "\\end{description}\n"
      ],
      "text/markdown": [
       "$names\n",
       ":   1. 'trial'\n",
       "2. 'mass'\n",
       "3. 'velocity'\n",
       "\n",
       "\n",
       "\n",
       "$class\n",
       ":   'data.frame'\n",
       "$row.names\n",
       ":   1. 1\n",
       "2. 2\n",
       "3. 3\n",
       "4. 4\n",
       "5. 5\n",
       "6. 6\n",
       "\n",
       "\n",
       "\n",
       "\n",
       "\n"
      ],
      "text/plain": [
       "$names\n",
       "[1] \"trial\"    \"mass\"     \"velocity\"\n",
       "\n",
       "$class\n",
       "[1] \"data.frame\"\n",
       "\n",
       "$row.names\n",
       "[1] 1 2 3 4 5 6\n"
      ]
     },
     "metadata": {},
     "output_type": "display_data"
    }
   ],
   "source": [
    "attributes(heisenberg)"
   ]
  },
  {
   "cell_type": "markdown",
   "metadata": {},
   "source": [
    "## Note on Fixed Width Files"
   ]
  },
  {
   "cell_type": "markdown",
   "metadata": {},
   "source": [
    "There are many ways to read data using R. We only give two examples, direct assignment and reading csv files. However, another way deserves a brief mention. It is common to come across data that is organized in flat files and delimited at preset locations on each line. This is often called a “fixed width file.”\n",
    "\n",
    "The command to deal with these kind of files is read.fwf.\n",
    "\n",
    "The read.fwf command requires at least two options. The first is the name of the file and the second is a list of numbers that gives the length of each column in the data file. A negative number in the list indicates that the column should be skipped. Here we give the command to read the data file fixedWidth.dat . In this data file there are three columns. The first colum is 17 characters wide, the second column is 15 characters wide, and the last column is 7 characters wide. In the example below we use the optional col.names option to specify the names of the columns:"
   ]
  },
  {
   "cell_type": "code",
   "execution_count": 29,
   "metadata": {
    "collapsed": true
   },
   "outputs": [],
   "source": [
    "a = read.fwf('fixedWidth.dat',widths=c(-17,15,7),col.names=c('temp','offices'))"
   ]
  },
  {
   "cell_type": "code",
   "execution_count": 30,
   "metadata": {},
   "outputs": [
    {
     "data": {
      "text/html": [
       "<table>\n",
       "<thead><tr><th scope=col>temp</th><th scope=col>offices</th></tr></thead>\n",
       "<tbody>\n",
       "\t<tr><td>17.0</td><td> 35 </td></tr>\n",
       "\t<tr><td>18.0</td><td>117 </td></tr>\n",
       "\t<tr><td>17.5</td><td> 19 </td></tr>\n",
       "\t<tr><td>17.5</td><td> 28 </td></tr>\n",
       "</tbody>\n",
       "</table>\n"
      ],
      "text/latex": [
       "\\begin{tabular}{r|ll}\n",
       " temp & offices\\\\\n",
       "\\hline\n",
       "\t 17.0 &  35 \\\\\n",
       "\t 18.0 & 117 \\\\\n",
       "\t 17.5 &  19 \\\\\n",
       "\t 17.5 &  28 \\\\\n",
       "\\end{tabular}\n"
      ],
      "text/markdown": [
       "\n",
       "temp | offices | \n",
       "|---|---|---|---|\n",
       "| 17.0 |  35  | \n",
       "| 18.0 | 117  | \n",
       "| 17.5 |  19  | \n",
       "| 17.5 |  28  | \n",
       "\n",
       "\n"
      ],
      "text/plain": [
       "  temp offices\n",
       "1 17.0  35    \n",
       "2 18.0 117    \n",
       "3 17.5  19    \n",
       "4 17.5  28    "
      ]
     },
     "metadata": {},
     "output_type": "display_data"
    }
   ],
   "source": [
    "a"
   ]
  }
 ],
 "metadata": {
  "kernelspec": {
   "display_name": "R",
   "language": "R",
   "name": "ir"
  },
  "language_info": {
   "codemirror_mode": "r",
   "file_extension": ".r",
   "mimetype": "text/x-r-source",
   "name": "R",
   "pygments_lexer": "r",
   "version": "3.4.1"
  }
 },
 "nbformat": 4,
 "nbformat_minor": 1
}
