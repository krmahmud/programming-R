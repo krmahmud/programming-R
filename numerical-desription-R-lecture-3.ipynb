{
 "cells": [
  {
   "cell_type": "markdown",
   "metadata": {},
   "source": [
    "# Basic Operations and Numerical Descriptions"
   ]
  },
  {
   "cell_type": "markdown",
   "metadata": {},
   "source": [
    "## Basic Operations"
   ]
  },
  {
   "cell_type": "markdown",
   "metadata": {},
   "source": [
    "Once you have a vector (or a list of numbers) in memory most basic operations are available. Most of the basic operations will act on a whole vector and can be used to quickly perform a large number of calculations with a single command. There is one thing to note, if you perform an operation on more than one vector it is often necessary that the vectors all contain the same number of entries."
   ]
  },
  {
   "cell_type": "code",
   "execution_count": 1,
   "metadata": {},
   "outputs": [
    {
     "data": {
      "text/html": [
       "<ol class=list-inline>\n",
       "\t<li>1</li>\n",
       "\t<li>2</li>\n",
       "\t<li>3</li>\n",
       "\t<li>4</li>\n",
       "</ol>\n"
      ],
      "text/latex": [
       "\\begin{enumerate*}\n",
       "\\item 1\n",
       "\\item 2\n",
       "\\item 3\n",
       "\\item 4\n",
       "\\end{enumerate*}\n"
      ],
      "text/markdown": [
       "1. 1\n",
       "2. 2\n",
       "3. 3\n",
       "4. 4\n",
       "\n",
       "\n"
      ],
      "text/plain": [
       "[1] 1 2 3 4"
      ]
     },
     "metadata": {},
     "output_type": "display_data"
    },
    {
     "data": {
      "text/html": [
       "<ol class=list-inline>\n",
       "\t<li>6</li>\n",
       "\t<li>7</li>\n",
       "\t<li>8</li>\n",
       "\t<li>9</li>\n",
       "</ol>\n"
      ],
      "text/latex": [
       "\\begin{enumerate*}\n",
       "\\item 6\n",
       "\\item 7\n",
       "\\item 8\n",
       "\\item 9\n",
       "\\end{enumerate*}\n"
      ],
      "text/markdown": [
       "1. 6\n",
       "2. 7\n",
       "3. 8\n",
       "4. 9\n",
       "\n",
       "\n"
      ],
      "text/plain": [
       "[1] 6 7 8 9"
      ]
     },
     "metadata": {},
     "output_type": "display_data"
    },
    {
     "data": {
      "text/html": [
       "<ol class=list-inline>\n",
       "\t<li>-9</li>\n",
       "\t<li>-8</li>\n",
       "\t<li>-7</li>\n",
       "\t<li>-6</li>\n",
       "</ol>\n"
      ],
      "text/latex": [
       "\\begin{enumerate*}\n",
       "\\item -9\n",
       "\\item -8\n",
       "\\item -7\n",
       "\\item -6\n",
       "\\end{enumerate*}\n"
      ],
      "text/markdown": [
       "1. -9\n",
       "2. -8\n",
       "3. -7\n",
       "4. -6\n",
       "\n",
       "\n"
      ],
      "text/plain": [
       "[1] -9 -8 -7 -6"
      ]
     },
     "metadata": {},
     "output_type": "display_data"
    },
    {
     "data": {
      "text/html": [
       "<ol class=list-inline>\n",
       "\t<li>4</li>\n",
       "\t<li>8</li>\n",
       "\t<li>12</li>\n",
       "\t<li>16</li>\n",
       "</ol>\n"
      ],
      "text/latex": [
       "\\begin{enumerate*}\n",
       "\\item 4\n",
       "\\item 8\n",
       "\\item 12\n",
       "\\item 16\n",
       "\\end{enumerate*}\n"
      ],
      "text/markdown": [
       "1. 4\n",
       "2. 8\n",
       "3. 12\n",
       "4. 16\n",
       "\n",
       "\n"
      ],
      "text/plain": [
       "[1]  4  8 12 16"
      ]
     },
     "metadata": {},
     "output_type": "display_data"
    },
    {
     "data": {
      "text/html": [
       "<ol class=list-inline>\n",
       "\t<li>0.2</li>\n",
       "\t<li>0.4</li>\n",
       "\t<li>0.6</li>\n",
       "\t<li>0.8</li>\n",
       "</ol>\n"
      ],
      "text/latex": [
       "\\begin{enumerate*}\n",
       "\\item 0.2\n",
       "\\item 0.4\n",
       "\\item 0.6\n",
       "\\item 0.8\n",
       "\\end{enumerate*}\n"
      ],
      "text/markdown": [
       "1. 0.2\n",
       "2. 0.4\n",
       "3. 0.6\n",
       "4. 0.8\n",
       "\n",
       "\n"
      ],
      "text/plain": [
       "[1] 0.2 0.4 0.6 0.8"
      ]
     },
     "metadata": {},
     "output_type": "display_data"
    }
   ],
   "source": [
    "a <- c(1,2,3,4)\n",
    "a\n",
    "a + 5\n",
    "a - 10\n",
    "a*4\n",
    "a/5"
   ]
  },
  {
   "cell_type": "markdown",
   "metadata": {},
   "source": [
    "We can save the results in another vector called b:"
   ]
  },
  {
   "cell_type": "code",
   "execution_count": 2,
   "metadata": {},
   "outputs": [
    {
     "data": {
      "text/html": [
       "<ol class=list-inline>\n",
       "\t<li>-9</li>\n",
       "\t<li>-8</li>\n",
       "\t<li>-7</li>\n",
       "\t<li>-6</li>\n",
       "</ol>\n"
      ],
      "text/latex": [
       "\\begin{enumerate*}\n",
       "\\item -9\n",
       "\\item -8\n",
       "\\item -7\n",
       "\\item -6\n",
       "\\end{enumerate*}\n"
      ],
      "text/markdown": [
       "1. -9\n",
       "2. -8\n",
       "3. -7\n",
       "4. -6\n",
       "\n",
       "\n"
      ],
      "text/plain": [
       "[1] -9 -8 -7 -6"
      ]
     },
     "metadata": {},
     "output_type": "display_data"
    }
   ],
   "source": [
    "b <- a - 10\n",
    "b"
   ]
  },
  {
   "cell_type": "markdown",
   "metadata": {},
   "source": [
    "If you want to take the square root, find e raised to each number, the logarithm, etc., then the usual commands can be used:"
   ]
  },
  {
   "cell_type": "code",
   "execution_count": 3,
   "metadata": {},
   "outputs": [
    {
     "data": {
      "text/html": [
       "<ol class=list-inline>\n",
       "\t<li>1</li>\n",
       "\t<li>1.4142135623731</li>\n",
       "\t<li>1.73205080756888</li>\n",
       "\t<li>2</li>\n",
       "</ol>\n"
      ],
      "text/latex": [
       "\\begin{enumerate*}\n",
       "\\item 1\n",
       "\\item 1.4142135623731\n",
       "\\item 1.73205080756888\n",
       "\\item 2\n",
       "\\end{enumerate*}\n"
      ],
      "text/markdown": [
       "1. 1\n",
       "2. 1.4142135623731\n",
       "3. 1.73205080756888\n",
       "4. 2\n",
       "\n",
       "\n"
      ],
      "text/plain": [
       "[1] 1.000000 1.414214 1.732051 2.000000"
      ]
     },
     "metadata": {},
     "output_type": "display_data"
    },
    {
     "data": {
      "text/html": [
       "<ol class=list-inline>\n",
       "\t<li>2.71828182845905</li>\n",
       "\t<li>7.38905609893065</li>\n",
       "\t<li>20.0855369231877</li>\n",
       "\t<li>54.5981500331442</li>\n",
       "</ol>\n"
      ],
      "text/latex": [
       "\\begin{enumerate*}\n",
       "\\item 2.71828182845905\n",
       "\\item 7.38905609893065\n",
       "\\item 20.0855369231877\n",
       "\\item 54.5981500331442\n",
       "\\end{enumerate*}\n"
      ],
      "text/markdown": [
       "1. 2.71828182845905\n",
       "2. 7.38905609893065\n",
       "3. 20.0855369231877\n",
       "4. 54.5981500331442\n",
       "\n",
       "\n"
      ],
      "text/plain": [
       "[1]  2.718282  7.389056 20.085537 54.598150"
      ]
     },
     "metadata": {},
     "output_type": "display_data"
    },
    {
     "data": {
      "text/html": [
       "<ol class=list-inline>\n",
       "\t<li>0</li>\n",
       "\t<li>0.693147180559945</li>\n",
       "\t<li>1.09861228866811</li>\n",
       "\t<li>1.38629436111989</li>\n",
       "</ol>\n"
      ],
      "text/latex": [
       "\\begin{enumerate*}\n",
       "\\item 0\n",
       "\\item 0.693147180559945\n",
       "\\item 1.09861228866811\n",
       "\\item 1.38629436111989\n",
       "\\end{enumerate*}\n"
      ],
      "text/markdown": [
       "1. 0\n",
       "2. 0.693147180559945\n",
       "3. 1.09861228866811\n",
       "4. 1.38629436111989\n",
       "\n",
       "\n"
      ],
      "text/plain": [
       "[1] 0.0000000 0.6931472 1.0986123 1.3862944"
      ]
     },
     "metadata": {},
     "output_type": "display_data"
    },
    {
     "data": {
      "text/html": [
       "<ol class=list-inline>\n",
       "\t<li>1</li>\n",
       "\t<li>2</li>\n",
       "\t<li>3</li>\n",
       "\t<li>4</li>\n",
       "</ol>\n"
      ],
      "text/latex": [
       "\\begin{enumerate*}\n",
       "\\item 1\n",
       "\\item 2\n",
       "\\item 3\n",
       "\\item 4\n",
       "\\end{enumerate*}\n"
      ],
      "text/markdown": [
       "1. 1\n",
       "2. 2\n",
       "3. 3\n",
       "4. 4\n",
       "\n",
       "\n"
      ],
      "text/plain": [
       "[1] 1 2 3 4"
      ]
     },
     "metadata": {},
     "output_type": "display_data"
    }
   ],
   "source": [
    "sqrt(a)\n",
    "exp(a)\n",
    "log(a)\n",
    "exp(log(a))"
   ]
  },
  {
   "cell_type": "code",
   "execution_count": 4,
   "metadata": {},
   "outputs": [
    {
     "data": {
      "text/html": [
       "<ol class=list-inline>\n",
       "\t<li>0.238405844044235</li>\n",
       "\t<li>0.406984233042416</li>\n",
       "\t<li>0.564074283419331</li>\n",
       "\t<li>0.715217532132705</li>\n",
       "</ol>\n"
      ],
      "text/latex": [
       "\\begin{enumerate*}\n",
       "\\item 0.238405844044235\n",
       "\\item 0.406984233042416\n",
       "\\item 0.564074283419331\n",
       "\\item 0.715217532132705\n",
       "\\end{enumerate*}\n"
      ],
      "text/markdown": [
       "1. 0.238405844044235\n",
       "2. 0.406984233042416\n",
       "3. 0.564074283419331\n",
       "4. 0.715217532132705\n",
       "\n",
       "\n"
      ],
      "text/plain": [
       "[1] 0.2384058 0.4069842 0.5640743 0.7152175"
      ]
     },
     "metadata": {},
     "output_type": "display_data"
    }
   ],
   "source": [
    "c <- (a + sqrt(a))/(exp(2)+1)\n",
    "c"
   ]
  },
  {
   "cell_type": "markdown",
   "metadata": {},
   "source": [
    "The operation is performed on an element by element basis. Note this is true for almost all of the basic functions. So you can bring together all kinds of complicated expressions:"
   ]
  },
  {
   "cell_type": "code",
   "execution_count": 5,
   "metadata": {},
   "outputs": [
    {
     "data": {
      "text/html": [
       "<ol class=list-inline>\n",
       "\t<li>-8</li>\n",
       "\t<li>-6</li>\n",
       "\t<li>-4</li>\n",
       "\t<li>-2</li>\n",
       "</ol>\n"
      ],
      "text/latex": [
       "\\begin{enumerate*}\n",
       "\\item -8\n",
       "\\item -6\n",
       "\\item -4\n",
       "\\item -2\n",
       "\\end{enumerate*}\n"
      ],
      "text/markdown": [
       "1. -8\n",
       "2. -6\n",
       "3. -4\n",
       "4. -2\n",
       "\n",
       "\n"
      ],
      "text/plain": [
       "[1] -8 -6 -4 -2"
      ]
     },
     "metadata": {},
     "output_type": "display_data"
    },
    {
     "data": {
      "text/html": [
       "<ol class=list-inline>\n",
       "\t<li>-9</li>\n",
       "\t<li>-16</li>\n",
       "\t<li>-21</li>\n",
       "\t<li>-24</li>\n",
       "</ol>\n"
      ],
      "text/latex": [
       "\\begin{enumerate*}\n",
       "\\item -9\n",
       "\\item -16\n",
       "\\item -21\n",
       "\\item -24\n",
       "\\end{enumerate*}\n"
      ],
      "text/markdown": [
       "1. -9\n",
       "2. -16\n",
       "3. -21\n",
       "4. -24\n",
       "\n",
       "\n"
      ],
      "text/plain": [
       "[1]  -9 -16 -21 -24"
      ]
     },
     "metadata": {},
     "output_type": "display_data"
    },
    {
     "data": {
      "text/html": [
       "<ol class=list-inline>\n",
       "\t<li>-0.111111111111111</li>\n",
       "\t<li>-0.25</li>\n",
       "\t<li>-0.428571428571429</li>\n",
       "\t<li>-0.666666666666667</li>\n",
       "</ol>\n"
      ],
      "text/latex": [
       "\\begin{enumerate*}\n",
       "\\item -0.111111111111111\n",
       "\\item -0.25\n",
       "\\item -0.428571428571429\n",
       "\\item -0.666666666666667\n",
       "\\end{enumerate*}\n"
      ],
      "text/markdown": [
       "1. -0.111111111111111\n",
       "2. -0.25\n",
       "3. -0.428571428571429\n",
       "4. -0.666666666666667\n",
       "\n",
       "\n"
      ],
      "text/plain": [
       "[1] -0.1111111 -0.2500000 -0.4285714 -0.6666667"
      ]
     },
     "metadata": {},
     "output_type": "display_data"
    },
    {
     "data": {
      "text/html": [
       "<ol class=list-inline>\n",
       "\t<li>0.751236443111462</li>\n",
       "\t<li>1</li>\n",
       "\t<li>1.28842340312756</li>\n",
       "\t<li>1.6311303094409</li>\n",
       "</ol>\n"
      ],
      "text/latex": [
       "\\begin{enumerate*}\n",
       "\\item 0.751236443111462\n",
       "\\item 1\n",
       "\\item 1.28842340312756\n",
       "\\item 1.6311303094409\n",
       "\\end{enumerate*}\n"
      ],
      "text/markdown": [
       "1. 0.751236443111462\n",
       "2. 1\n",
       "3. 1.28842340312756\n",
       "4. 1.6311303094409\n",
       "\n",
       "\n"
      ],
      "text/plain": [
       "[1] 0.7512364 1.0000000 1.2884234 1.6311303"
      ]
     },
     "metadata": {},
     "output_type": "display_data"
    }
   ],
   "source": [
    "a + b\n",
    "a*b\n",
    "a/b\n",
    "(a+3)/(sqrt(1-b)*2-1)"
   ]
  },
  {
   "cell_type": "markdown",
   "metadata": {},
   "source": [
    "You need to be careful of one thing. When you do operations on vectors they are performed on an element by element basis. One ramification of this is that all of the vectors in an expression must be the same length. If the lengths of the vectors differ then you may get an error message, or worse, a warning message and unpredictable results:"
   ]
  },
  {
   "cell_type": "code",
   "execution_count": 6,
   "metadata": {},
   "outputs": [
    {
     "name": "stderr",
     "output_type": "stream",
     "text": [
      "Warning message in a + b:\n",
      "“longer object length is not a multiple of shorter object length”"
     ]
    },
    {
     "data": {
      "text/html": [
       "<ol class=list-inline>\n",
       "\t<li>11</li>\n",
       "\t<li>13</li>\n",
       "\t<li>15</li>\n",
       "\t<li>14</li>\n",
       "</ol>\n"
      ],
      "text/latex": [
       "\\begin{enumerate*}\n",
       "\\item 11\n",
       "\\item 13\n",
       "\\item 15\n",
       "\\item 14\n",
       "\\end{enumerate*}\n"
      ],
      "text/markdown": [
       "1. 11\n",
       "2. 13\n",
       "3. 15\n",
       "4. 14\n",
       "\n",
       "\n"
      ],
      "text/plain": [
       "[1] 11 13 15 14"
      ]
     },
     "metadata": {},
     "output_type": "display_data"
    }
   ],
   "source": [
    "a <- c(1,2,3)\n",
    "b <- c(10,11,12,13)\n",
    "a+b"
   ]
  },
  {
   "cell_type": "code",
   "execution_count": 7,
   "metadata": {},
   "outputs": [
    {
     "data": {
      "text/html": [
       "<ol class=list-inline>\n",
       "\t<li>'a'</li>\n",
       "\t<li>'b'</li>\n",
       "\t<li>'c'</li>\n",
       "</ol>\n"
      ],
      "text/latex": [
       "\\begin{enumerate*}\n",
       "\\item 'a'\n",
       "\\item 'b'\n",
       "\\item 'c'\n",
       "\\end{enumerate*}\n"
      ],
      "text/markdown": [
       "1. 'a'\n",
       "2. 'b'\n",
       "3. 'c'\n",
       "\n",
       "\n"
      ],
      "text/plain": [
       "[1] \"a\" \"b\" \"c\""
      ]
     },
     "metadata": {},
     "output_type": "display_data"
    }
   ],
   "source": [
    "ls()"
   ]
  },
  {
   "cell_type": "markdown",
   "metadata": {},
   "source": [
    "If you look at the minimum of two vectors using the min command you will get the minimum of all of the numbers. There is a special command, called pmin, that may be the command you want in some circumstances:"
   ]
  },
  {
   "cell_type": "code",
   "execution_count": 8,
   "metadata": {},
   "outputs": [
    {
     "data": {
      "text/html": [
       "-4"
      ],
      "text/latex": [
       "-4"
      ],
      "text/markdown": [
       "-4"
      ],
      "text/plain": [
       "[1] -4"
      ]
     },
     "metadata": {},
     "output_type": "display_data"
    },
    {
     "data": {
      "text/html": [
       "<ol class=list-inline>\n",
       "\t<li>-1</li>\n",
       "\t<li>-2</li>\n",
       "\t<li>-3</li>\n",
       "\t<li>-4</li>\n",
       "</ol>\n"
      ],
      "text/latex": [
       "\\begin{enumerate*}\n",
       "\\item -1\n",
       "\\item -2\n",
       "\\item -3\n",
       "\\item -4\n",
       "\\end{enumerate*}\n"
      ],
      "text/markdown": [
       "1. -1\n",
       "2. -2\n",
       "3. -3\n",
       "4. -4\n",
       "\n",
       "\n"
      ],
      "text/plain": [
       "[1] -1 -2 -3 -4"
      ]
     },
     "metadata": {},
     "output_type": "display_data"
    }
   ],
   "source": [
    "a <- c(1,-2,3,-4)\n",
    "b <- c(-1,2,-3,4)\n",
    "min(a,b)\n",
    "pmin(a,b)"
   ]
  },
  {
   "cell_type": "markdown",
   "metadata": {},
   "source": [
    "## Basic Numerical Descriptions"
   ]
  },
  {
   "cell_type": "code",
   "execution_count": 9,
   "metadata": {},
   "outputs": [
    {
     "data": {
      "text/html": [
       "<ol class=list-inline>\n",
       "\t<li>'C'</li>\n",
       "\t<li>'N'</li>\n",
       "\t<li>'CHBR'</li>\n",
       "\t<li>'REP'</li>\n",
       "\t<li>'LFBM'</li>\n",
       "\t<li>'STBM'</li>\n",
       "\t<li>'RTBM'</li>\n",
       "\t<li>'LFNCC'</li>\n",
       "\t<li>'STNCC'</li>\n",
       "\t<li>'RTNCC'</li>\n",
       "\t<li>'LFBCC'</li>\n",
       "\t<li>'STBCC'</li>\n",
       "\t<li>'RTBCC'</li>\n",
       "\t<li>'LFCACC'</li>\n",
       "\t<li>'STCACC'</li>\n",
       "\t<li>'RTCACC'</li>\n",
       "\t<li>'LFKCC'</li>\n",
       "\t<li>'STKCC'</li>\n",
       "\t<li>'RTKCC'</li>\n",
       "\t<li>'LFMGCC'</li>\n",
       "\t<li>'STMGCC'</li>\n",
       "\t<li>'RTMGCC'</li>\n",
       "\t<li>'LFPCC'</li>\n",
       "\t<li>'STPCC'</li>\n",
       "\t<li>'RTPCC'</li>\n",
       "\t<li>'LFSCC'</li>\n",
       "\t<li>'STSCC'</li>\n",
       "\t<li>'RTSCC'</li>\n",
       "</ol>\n"
      ],
      "text/latex": [
       "\\begin{enumerate*}\n",
       "\\item 'C'\n",
       "\\item 'N'\n",
       "\\item 'CHBR'\n",
       "\\item 'REP'\n",
       "\\item 'LFBM'\n",
       "\\item 'STBM'\n",
       "\\item 'RTBM'\n",
       "\\item 'LFNCC'\n",
       "\\item 'STNCC'\n",
       "\\item 'RTNCC'\n",
       "\\item 'LFBCC'\n",
       "\\item 'STBCC'\n",
       "\\item 'RTBCC'\n",
       "\\item 'LFCACC'\n",
       "\\item 'STCACC'\n",
       "\\item 'RTCACC'\n",
       "\\item 'LFKCC'\n",
       "\\item 'STKCC'\n",
       "\\item 'RTKCC'\n",
       "\\item 'LFMGCC'\n",
       "\\item 'STMGCC'\n",
       "\\item 'RTMGCC'\n",
       "\\item 'LFPCC'\n",
       "\\item 'STPCC'\n",
       "\\item 'RTPCC'\n",
       "\\item 'LFSCC'\n",
       "\\item 'STSCC'\n",
       "\\item 'RTSCC'\n",
       "\\end{enumerate*}\n"
      ],
      "text/markdown": [
       "1. 'C'\n",
       "2. 'N'\n",
       "3. 'CHBR'\n",
       "4. 'REP'\n",
       "5. 'LFBM'\n",
       "6. 'STBM'\n",
       "7. 'RTBM'\n",
       "8. 'LFNCC'\n",
       "9. 'STNCC'\n",
       "10. 'RTNCC'\n",
       "11. 'LFBCC'\n",
       "12. 'STBCC'\n",
       "13. 'RTBCC'\n",
       "14. 'LFCACC'\n",
       "15. 'STCACC'\n",
       "16. 'RTCACC'\n",
       "17. 'LFKCC'\n",
       "18. 'STKCC'\n",
       "19. 'RTKCC'\n",
       "20. 'LFMGCC'\n",
       "21. 'STMGCC'\n",
       "22. 'RTMGCC'\n",
       "23. 'LFPCC'\n",
       "24. 'STPCC'\n",
       "25. 'RTPCC'\n",
       "26. 'LFSCC'\n",
       "27. 'STSCC'\n",
       "28. 'RTSCC'\n",
       "\n",
       "\n"
      ],
      "text/plain": [
       " [1] \"C\"      \"N\"      \"CHBR\"   \"REP\"    \"LFBM\"   \"STBM\"   \"RTBM\"   \"LFNCC\" \n",
       " [9] \"STNCC\"  \"RTNCC\"  \"LFBCC\"  \"STBCC\"  \"RTBCC\"  \"LFCACC\" \"STCACC\" \"RTCACC\"\n",
       "[17] \"LFKCC\"  \"STKCC\"  \"RTKCC\"  \"LFMGCC\" \"STMGCC\" \"RTMGCC\" \"LFPCC\"  \"STPCC\" \n",
       "[25] \"RTPCC\"  \"LFSCC\"  \"STSCC\"  \"RTSCC\" "
      ]
     },
     "metadata": {},
     "output_type": "display_data"
    }
   ],
   "source": [
    "tree <- read.csv(file=\"trees91.csv\",header=TRUE,sep=\",\");\n",
    "names(tree)"
   ]
  },
  {
   "cell_type": "markdown",
   "metadata": {},
   "source": [
    "Each column in the data frame can be accessed as a vector. For example the numbers associated with the leaf biomass (LFBM) can be found using tree$LFBM:"
   ]
  },
  {
   "cell_type": "code",
   "execution_count": 10,
   "metadata": {},
   "outputs": [
    {
     "data": {
      "text/html": [
       "<ol class=list-inline>\n",
       "\t<li>0.43</li>\n",
       "\t<li>0.4</li>\n",
       "\t<li>0.45</li>\n",
       "\t<li>0.82</li>\n",
       "\t<li>0.52</li>\n",
       "\t<li>1.32</li>\n",
       "\t<li>0.9</li>\n",
       "\t<li>1.18</li>\n",
       "\t<li>0.48</li>\n",
       "\t<li>0.21</li>\n",
       "\t<li>0.27</li>\n",
       "\t<li>0.31</li>\n",
       "\t<li>0.65</li>\n",
       "\t<li>0.18</li>\n",
       "\t<li>0.52</li>\n",
       "\t<li>0.3</li>\n",
       "\t<li>0.58</li>\n",
       "\t<li>0.48</li>\n",
       "\t<li>0.58</li>\n",
       "\t<li>0.58</li>\n",
       "\t<li>0.41</li>\n",
       "\t<li>0.48</li>\n",
       "\t<li>1.76</li>\n",
       "\t<li>1.21</li>\n",
       "\t<li>1.18</li>\n",
       "\t<li>0.83</li>\n",
       "\t<li>1.22</li>\n",
       "\t<li>0.77</li>\n",
       "\t<li>1.02</li>\n",
       "\t<li>0.13</li>\n",
       "\t<li>0.68</li>\n",
       "\t<li>0.61</li>\n",
       "\t<li>0.7</li>\n",
       "\t<li>0.82</li>\n",
       "\t<li>0.76</li>\n",
       "\t<li>0.77</li>\n",
       "\t<li>1.69</li>\n",
       "\t<li>1.48</li>\n",
       "\t<li>0.74</li>\n",
       "\t<li>1.24</li>\n",
       "\t<li>1.12</li>\n",
       "\t<li>0.75</li>\n",
       "\t<li>0.39</li>\n",
       "\t<li>0.87</li>\n",
       "\t<li>0.41</li>\n",
       "\t<li>0.56</li>\n",
       "\t<li>0.55</li>\n",
       "\t<li>0.67</li>\n",
       "\t<li>1.26</li>\n",
       "\t<li>0.965</li>\n",
       "\t<li>0.84</li>\n",
       "\t<li>0.97</li>\n",
       "\t<li>1.07</li>\n",
       "\t<li>1.22</li>\n",
       "</ol>\n"
      ],
      "text/latex": [
       "\\begin{enumerate*}\n",
       "\\item 0.43\n",
       "\\item 0.4\n",
       "\\item 0.45\n",
       "\\item 0.82\n",
       "\\item 0.52\n",
       "\\item 1.32\n",
       "\\item 0.9\n",
       "\\item 1.18\n",
       "\\item 0.48\n",
       "\\item 0.21\n",
       "\\item 0.27\n",
       "\\item 0.31\n",
       "\\item 0.65\n",
       "\\item 0.18\n",
       "\\item 0.52\n",
       "\\item 0.3\n",
       "\\item 0.58\n",
       "\\item 0.48\n",
       "\\item 0.58\n",
       "\\item 0.58\n",
       "\\item 0.41\n",
       "\\item 0.48\n",
       "\\item 1.76\n",
       "\\item 1.21\n",
       "\\item 1.18\n",
       "\\item 0.83\n",
       "\\item 1.22\n",
       "\\item 0.77\n",
       "\\item 1.02\n",
       "\\item 0.13\n",
       "\\item 0.68\n",
       "\\item 0.61\n",
       "\\item 0.7\n",
       "\\item 0.82\n",
       "\\item 0.76\n",
       "\\item 0.77\n",
       "\\item 1.69\n",
       "\\item 1.48\n",
       "\\item 0.74\n",
       "\\item 1.24\n",
       "\\item 1.12\n",
       "\\item 0.75\n",
       "\\item 0.39\n",
       "\\item 0.87\n",
       "\\item 0.41\n",
       "\\item 0.56\n",
       "\\item 0.55\n",
       "\\item 0.67\n",
       "\\item 1.26\n",
       "\\item 0.965\n",
       "\\item 0.84\n",
       "\\item 0.97\n",
       "\\item 1.07\n",
       "\\item 1.22\n",
       "\\end{enumerate*}\n"
      ],
      "text/markdown": [
       "1. 0.43\n",
       "2. 0.4\n",
       "3. 0.45\n",
       "4. 0.82\n",
       "5. 0.52\n",
       "6. 1.32\n",
       "7. 0.9\n",
       "8. 1.18\n",
       "9. 0.48\n",
       "10. 0.21\n",
       "11. 0.27\n",
       "12. 0.31\n",
       "13. 0.65\n",
       "14. 0.18\n",
       "15. 0.52\n",
       "16. 0.3\n",
       "17. 0.58\n",
       "18. 0.48\n",
       "19. 0.58\n",
       "20. 0.58\n",
       "21. 0.41\n",
       "22. 0.48\n",
       "23. 1.76\n",
       "24. 1.21\n",
       "25. 1.18\n",
       "26. 0.83\n",
       "27. 1.22\n",
       "28. 0.77\n",
       "29. 1.02\n",
       "30. 0.13\n",
       "31. 0.68\n",
       "32. 0.61\n",
       "33. 0.7\n",
       "34. 0.82\n",
       "35. 0.76\n",
       "36. 0.77\n",
       "37. 1.69\n",
       "38. 1.48\n",
       "39. 0.74\n",
       "40. 1.24\n",
       "41. 1.12\n",
       "42. 0.75\n",
       "43. 0.39\n",
       "44. 0.87\n",
       "45. 0.41\n",
       "46. 0.56\n",
       "47. 0.55\n",
       "48. 0.67\n",
       "49. 1.26\n",
       "50. 0.965\n",
       "51. 0.84\n",
       "52. 0.97\n",
       "53. 1.07\n",
       "54. 1.22\n",
       "\n",
       "\n"
      ],
      "text/plain": [
       " [1] 0.430 0.400 0.450 0.820 0.520 1.320 0.900 1.180 0.480 0.210 0.270 0.310\n",
       "[13] 0.650 0.180 0.520 0.300 0.580 0.480 0.580 0.580 0.410 0.480 1.760 1.210\n",
       "[25] 1.180 0.830 1.220 0.770 1.020 0.130 0.680 0.610 0.700 0.820 0.760 0.770\n",
       "[37] 1.690 1.480 0.740 1.240 1.120 0.750 0.390 0.870 0.410 0.560 0.550 0.670\n",
       "[49] 1.260 0.965 0.840 0.970 1.070 1.220"
      ]
     },
     "metadata": {},
     "output_type": "display_data"
    }
   ],
   "source": [
    "tree$LFBM"
   ]
  },
  {
   "cell_type": "markdown",
   "metadata": {},
   "source": [
    "The following commands can be used to get the mean, median, quantiles, minimum, maximum, variance, and standard deviation of a set of numbers:"
   ]
  },
  {
   "cell_type": "code",
   "execution_count": 11,
   "metadata": {},
   "outputs": [
    {
     "data": {
      "text/html": [
       "0.764907407407407"
      ],
      "text/latex": [
       "0.764907407407407"
      ],
      "text/markdown": [
       "0.764907407407407"
      ],
      "text/plain": [
       "[1] 0.7649074"
      ]
     },
     "metadata": {},
     "output_type": "display_data"
    }
   ],
   "source": [
    "mean(tree$LFBM)"
   ]
  },
  {
   "cell_type": "code",
   "execution_count": 12,
   "metadata": {},
   "outputs": [
    {
     "data": {
      "text/html": [
       "0.72"
      ],
      "text/latex": [
       "0.72"
      ],
      "text/markdown": [
       "0.72"
      ],
      "text/plain": [
       "[1] 0.72"
      ]
     },
     "metadata": {},
     "output_type": "display_data"
    }
   ],
   "source": [
    "median(tree$LFBM)"
   ]
  },
  {
   "cell_type": "code",
   "execution_count": 13,
   "metadata": {},
   "outputs": [
    {
     "data": {
      "text/html": [
       "<dl class=dl-horizontal>\n",
       "\t<dt>0%</dt>\n",
       "\t\t<dd>0.13</dd>\n",
       "\t<dt>25%</dt>\n",
       "\t\t<dd>0.48</dd>\n",
       "\t<dt>50%</dt>\n",
       "\t\t<dd>0.72</dd>\n",
       "\t<dt>75%</dt>\n",
       "\t\t<dd>1.0075</dd>\n",
       "\t<dt>100%</dt>\n",
       "\t\t<dd>1.76</dd>\n",
       "</dl>\n"
      ],
      "text/latex": [
       "\\begin{description*}\n",
       "\\item[0\\textbackslash{}\\%] 0.13\n",
       "\\item[25\\textbackslash{}\\%] 0.48\n",
       "\\item[50\\textbackslash{}\\%] 0.72\n",
       "\\item[75\\textbackslash{}\\%] 1.0075\n",
       "\\item[100\\textbackslash{}\\%] 1.76\n",
       "\\end{description*}\n"
      ],
      "text/markdown": [
       "0%\n",
       ":   0.1325%\n",
       ":   0.4850%\n",
       ":   0.7275%\n",
       ":   1.0075100%\n",
       ":   1.76\n",
       "\n"
      ],
      "text/plain": [
       "    0%    25%    50%    75%   100% \n",
       "0.1300 0.4800 0.7200 1.0075 1.7600 "
      ]
     },
     "metadata": {},
     "output_type": "display_data"
    }
   ],
   "source": [
    "quantile(tree$LFBM)"
   ]
  },
  {
   "cell_type": "code",
   "execution_count": 14,
   "metadata": {},
   "outputs": [
    {
     "data": {
      "text/html": [
       "0.13"
      ],
      "text/latex": [
       "0.13"
      ],
      "text/markdown": [
       "0.13"
      ],
      "text/plain": [
       "[1] 0.13"
      ]
     },
     "metadata": {},
     "output_type": "display_data"
    }
   ],
   "source": [
    "min(tree$LFBM)"
   ]
  },
  {
   "cell_type": "code",
   "execution_count": 15,
   "metadata": {},
   "outputs": [
    {
     "data": {
      "text/html": [
       "1.76"
      ],
      "text/latex": [
       "1.76"
      ],
      "text/markdown": [
       "1.76"
      ],
      "text/plain": [
       "[1] 1.76"
      ]
     },
     "metadata": {},
     "output_type": "display_data"
    }
   ],
   "source": [
    "max(tree$LFBM)"
   ]
  },
  {
   "cell_type": "code",
   "execution_count": 16,
   "metadata": {},
   "outputs": [
    {
     "data": {
      "text/html": [
       "0.14293819881202"
      ],
      "text/latex": [
       "0.14293819881202"
      ],
      "text/markdown": [
       "0.14293819881202"
      ],
      "text/plain": [
       "[1] 0.1429382"
      ]
     },
     "metadata": {},
     "output_type": "display_data"
    }
   ],
   "source": [
    "var(tree$LFBM)"
   ]
  },
  {
   "cell_type": "code",
   "execution_count": 17,
   "metadata": {},
   "outputs": [
    {
     "data": {
      "text/html": [
       "0.378071684753063"
      ],
      "text/latex": [
       "0.378071684753063"
      ],
      "text/markdown": [
       "0.378071684753063"
      ],
      "text/plain": [
       "[1] 0.3780717"
      ]
     },
     "metadata": {},
     "output_type": "display_data"
    }
   ],
   "source": [
    "sd(tree$LFBM)"
   ]
  },
  {
   "cell_type": "markdown",
   "metadata": {},
   "source": [
    "Finally, the summary command will print out the min, max, mean, median, and quantiles:"
   ]
  },
  {
   "cell_type": "code",
   "execution_count": 18,
   "metadata": {},
   "outputs": [
    {
     "data": {
      "text/plain": [
       "   Min. 1st Qu.  Median    Mean 3rd Qu.    Max. \n",
       " 0.1300  0.4800  0.7200  0.7649  1.0075  1.7600 "
      ]
     },
     "metadata": {},
     "output_type": "display_data"
    }
   ],
   "source": [
    "summary(tree$LFBM)"
   ]
  },
  {
   "cell_type": "markdown",
   "metadata": {},
   "source": [
    "The summary command is especially nice because if you give it a data frame it will print out the summary for every vector in the data frame:"
   ]
  },
  {
   "cell_type": "code",
   "execution_count": 19,
   "metadata": {},
   "outputs": [
    {
     "data": {
      "text/plain": [
       "       C               N              CHBR         REP             LFBM       \n",
       " Min.   :1.000   Min.   :1.000   A1     : 3   Min.   : 1.00   Min.   :0.1300  \n",
       " 1st Qu.:2.000   1st Qu.:1.000   A4     : 3   1st Qu.: 9.00   1st Qu.:0.4800  \n",
       " Median :2.000   Median :2.000   A6     : 3   Median :14.00   Median :0.7200  \n",
       " Mean   :2.519   Mean   :1.926   B2     : 3   Mean   :13.05   Mean   :0.7649  \n",
       " 3rd Qu.:3.000   3rd Qu.:3.000   B3     : 3   3rd Qu.:20.00   3rd Qu.:1.0075  \n",
       " Max.   :4.000   Max.   :3.000   B4     : 3   Max.   :20.00   Max.   :1.7600  \n",
       "                                 (Other):36   NA's   :11                      \n",
       "      STBM             RTBM            LFNCC           STNCC       \n",
       " Min.   :0.0300   Min.   :0.1200   Min.   :0.880   Min.   :0.3700  \n",
       " 1st Qu.:0.1900   1st Qu.:0.2825   1st Qu.:1.312   1st Qu.:0.6400  \n",
       " Median :0.2450   Median :0.4450   Median :1.550   Median :0.7850  \n",
       " Mean   :0.2883   Mean   :0.4662   Mean   :1.560   Mean   :0.7872  \n",
       " 3rd Qu.:0.3800   3rd Qu.:0.5500   3rd Qu.:1.788   3rd Qu.:0.9350  \n",
       " Max.   :0.7200   Max.   :1.5100   Max.   :2.760   Max.   :1.2900  \n",
       "                                                                   \n",
       "     RTNCC            LFBCC           STBCC          RTBCC      \n",
       " Min.   :0.4700   Min.   :25.00   Min.   :14.0   Min.   :15.00  \n",
       " 1st Qu.:0.6000   1st Qu.:34.00   1st Qu.:17.0   1st Qu.:19.00  \n",
       " Median :0.7500   Median :37.00   Median :18.0   Median :20.00  \n",
       " Mean   :0.7394   Mean   :36.96   Mean   :18.8   Mean   :21.43  \n",
       " 3rd Qu.:0.8100   3rd Qu.:41.00   3rd Qu.:20.0   3rd Qu.:23.00  \n",
       " Max.   :1.5500   Max.   :48.00   Max.   :27.0   Max.   :41.00  \n",
       "                                                                \n",
       "     LFCACC           STCACC           RTCACC           LFKCC       \n",
       " Min.   :0.2100   Min.   :0.1300   Min.   :0.1100   Min.   :0.6500  \n",
       " 1st Qu.:0.2600   1st Qu.:0.1600   1st Qu.:0.1600   1st Qu.:0.8100  \n",
       " Median :0.2900   Median :0.1700   Median :0.1650   Median :0.9000  \n",
       " Mean   :0.2869   Mean   :0.1774   Mean   :0.1654   Mean   :0.9053  \n",
       " 3rd Qu.:0.3100   3rd Qu.:0.1875   3rd Qu.:0.1700   3rd Qu.:0.9900  \n",
       " Max.   :0.3600   Max.   :0.2400   Max.   :0.2400   Max.   :1.1800  \n",
       "                                                    NA's   :1       \n",
       "     STKCC           RTKCC           LFMGCC           STMGCC     \n",
       " Min.   :0.870   Min.   :0.330   Min.   :0.0700   Min.   :0.100  \n",
       " 1st Qu.:0.940   1st Qu.:0.400   1st Qu.:0.1000   1st Qu.:0.110  \n",
       " Median :1.055   Median :0.475   Median :0.1200   Median :0.130  \n",
       " Mean   :1.105   Mean   :0.473   Mean   :0.1109   Mean   :0.135  \n",
       " 3rd Qu.:1.210   3rd Qu.:0.520   3rd Qu.:0.1300   3rd Qu.:0.150  \n",
       " Max.   :1.520   Max.   :0.640   Max.   :0.1400   Max.   :0.190  \n",
       "                                                                 \n",
       "     RTMGCC            LFPCC            STPCC            RTPCC       \n",
       " Min.   :0.04000   Min.   :0.1500   Min.   :0.1500   Min.   :0.1000  \n",
       " 1st Qu.:0.06000   1st Qu.:0.2000   1st Qu.:0.2200   1st Qu.:0.1300  \n",
       " Median :0.07000   Median :0.2400   Median :0.2800   Median :0.1450  \n",
       " Mean   :0.06648   Mean   :0.2381   Mean   :0.2707   Mean   :0.1465  \n",
       " 3rd Qu.:0.07000   3rd Qu.:0.2700   3rd Qu.:0.3175   3rd Qu.:0.1600  \n",
       " Max.   :0.09000   Max.   :0.3100   Max.   :0.4100   Max.   :0.2100  \n",
       "                                                                     \n",
       "     LFSCC            STSCC            RTSCC       \n",
       " Min.   :0.0900   Min.   :0.1400   Min.   :0.0900  \n",
       " 1st Qu.:0.1325   1st Qu.:0.1600   1st Qu.:0.1200  \n",
       " Median :0.1600   Median :0.1800   Median :0.1300  \n",
       " Mean   :0.1661   Mean   :0.1817   Mean   :0.1298  \n",
       " 3rd Qu.:0.1875   3rd Qu.:0.2000   3rd Qu.:0.1475  \n",
       " Max.   :0.2600   Max.   :0.2800   Max.   :0.1700  \n",
       "                                                   "
      ]
     },
     "metadata": {},
     "output_type": "display_data"
    }
   ],
   "source": [
    "summary(tree)"
   ]
  },
  {
   "cell_type": "markdown",
   "metadata": {},
   "source": [
    "## Quantile\n",
    "In statistics and probability quantiles are cut points dividing the range of a probability distribution into continuous intervals with equal probabilities, or dividing the observations in a sample in the same way. There is one less quantile than the number of groups created. Thus quartiles are the three cut points that will divide a dataset into four equal-sized groups.\n",
    "\n",
    "A quartile is a type of quantile. The first quartile (Q1) is defined as the middle number between the smallest number and the median of the data set. The second quartile (Q2) is the median of the data. The third quartile (Q3) is the middle value between the median and the highest value of the data set. \n",
    "\n",
    "How to Find Quantiles?\n",
    "\n",
    "Sample question: Find the number in the following set of data where 20 percent of values fall below it, and 80 percent fall above:\n",
    "1 3 5 6 9 11 12 13 19 21 22 32 35 36 45 44 55 68 79 80 81 88 90 91 92 100 112 113 114 120 121 132 145 146 149 150 155 180 189 190\n",
    "\n",
    "Step 1: Order the data from smallest to largest. The data in the question is already in ascending order.\n",
    "\n",
    "Step 2: Count how many observations you have in your data set. this particular data set has 40 items.\n",
    "\n",
    "Step 3: Convert any percentage to a decimal for “q”. We are looking for the number where 20 percent of the values fall below it, so convert that to .2.\n",
    "\n",
    "Step 4: Insert your values into the formula:\n",
    "ith observation = q (n + 1)\n",
    "ith observation = .2 (40 + 1) = 8.2\n",
    "\n",
    "Answer: The ith observation is at 8.2, so we round down to 8 (remembering that this formula is an estimate). The 8th number in the set is 13, which is the number where 20 percent of the values fall below it.\n",
    "\n",
    "\n",
    "The output of the summary() function shows you for every variable a set of descriptive statistics, depending on the type of the variable:\n",
    "\n",
    "Numerical variables: summary() gives you the range, quartiles, median, and mean.\n",
    "\n",
    "Factor variables: summary() gives you a table with frequencies.\n",
    "\n",
    "Numerical and factor variables: summary() gives you the number of missing values, if there are any.\n",
    "\n",
    "Character variables: summary() doesn’t give you any information at all apart from the length and the class (which is ‘character’).\n"
   ]
  },
  {
   "cell_type": "markdown",
   "metadata": {},
   "source": [
    "## Operations on Vectors\n",
    "Here we look at some commonly used commands that perform operations on lists. The commands include the sort, min, max, and sum commands."
   ]
  },
  {
   "cell_type": "code",
   "execution_count": 20,
   "metadata": {},
   "outputs": [
    {
     "data": {
      "text/html": [
       "<ol class=list-inline>\n",
       "\t<li>2</li>\n",
       "\t<li>4</li>\n",
       "\t<li>6</li>\n",
       "\t<li>3</li>\n",
       "\t<li>1</li>\n",
       "\t<li>5</li>\n",
       "</ol>\n"
      ],
      "text/latex": [
       "\\begin{enumerate*}\n",
       "\\item 2\n",
       "\\item 4\n",
       "\\item 6\n",
       "\\item 3\n",
       "\\item 1\n",
       "\\item 5\n",
       "\\end{enumerate*}\n"
      ],
      "text/markdown": [
       "1. 2\n",
       "2. 4\n",
       "3. 6\n",
       "4. 3\n",
       "5. 1\n",
       "6. 5\n",
       "\n",
       "\n"
      ],
      "text/plain": [
       "[1] 2 4 6 3 1 5"
      ]
     },
     "metadata": {},
     "output_type": "display_data"
    },
    {
     "data": {
      "text/html": [
       "<ol class=list-inline>\n",
       "\t<li>1</li>\n",
       "\t<li>2</li>\n",
       "\t<li>3</li>\n",
       "\t<li>4</li>\n",
       "\t<li>5</li>\n",
       "\t<li>6</li>\n",
       "</ol>\n"
      ],
      "text/latex": [
       "\\begin{enumerate*}\n",
       "\\item 1\n",
       "\\item 2\n",
       "\\item 3\n",
       "\\item 4\n",
       "\\item 5\n",
       "\\item 6\n",
       "\\end{enumerate*}\n"
      ],
      "text/markdown": [
       "1. 1\n",
       "2. 2\n",
       "3. 3\n",
       "4. 4\n",
       "5. 5\n",
       "6. 6\n",
       "\n",
       "\n"
      ],
      "text/plain": [
       "[1] 1 2 3 4 5 6"
      ]
     },
     "metadata": {},
     "output_type": "display_data"
    },
    {
     "data": {
      "text/html": [
       "<ol class=list-inline>\n",
       "\t<li>6</li>\n",
       "\t<li>5</li>\n",
       "\t<li>4</li>\n",
       "\t<li>3</li>\n",
       "\t<li>2</li>\n",
       "\t<li>1</li>\n",
       "</ol>\n"
      ],
      "text/latex": [
       "\\begin{enumerate*}\n",
       "\\item 6\n",
       "\\item 5\n",
       "\\item 4\n",
       "\\item 3\n",
       "\\item 2\n",
       "\\item 1\n",
       "\\end{enumerate*}\n"
      ],
      "text/markdown": [
       "1. 6\n",
       "2. 5\n",
       "3. 4\n",
       "4. 3\n",
       "5. 2\n",
       "6. 1\n",
       "\n",
       "\n"
      ],
      "text/plain": [
       "[1] 6 5 4 3 2 1"
      ]
     },
     "metadata": {},
     "output_type": "display_data"
    }
   ],
   "source": [
    "a = c(2,4,6,3,1,5)\n",
    "b = sort(a)\n",
    "c = sort(a,decreasing = TRUE)\n",
    "a\n",
    "b\n",
    "c"
   ]
  },
  {
   "cell_type": "code",
   "execution_count": 21,
   "metadata": {},
   "outputs": [
    {
     "data": {
      "text/html": [
       "1"
      ],
      "text/latex": [
       "1"
      ],
      "text/markdown": [
       "1"
      ],
      "text/plain": [
       "[1] 1"
      ]
     },
     "metadata": {},
     "output_type": "display_data"
    },
    {
     "data": {
      "text/html": [
       "6"
      ],
      "text/latex": [
       "6"
      ],
      "text/markdown": [
       "6"
      ],
      "text/plain": [
       "[1] 6"
      ]
     },
     "metadata": {},
     "output_type": "display_data"
    },
    {
     "data": {
      "text/html": [
       "21"
      ],
      "text/latex": [
       "21"
      ],
      "text/markdown": [
       "21"
      ],
      "text/plain": [
       "[1] 21"
      ]
     },
     "metadata": {},
     "output_type": "display_data"
    }
   ],
   "source": [
    " min(a)\n",
    " max(a)\n",
    "sum(a)"
   ]
  },
  {
   "cell_type": "code",
   "execution_count": null,
   "metadata": {
    "collapsed": true
   },
   "outputs": [],
   "source": []
  }
 ],
 "metadata": {
  "kernelspec": {
   "display_name": "R",
   "language": "R",
   "name": "ir"
  },
  "language_info": {
   "codemirror_mode": "r",
   "file_extension": ".r",
   "mimetype": "text/x-r-source",
   "name": "R",
   "pygments_lexer": "r",
   "version": "3.4.1"
  }
 },
 "nbformat": 4,
 "nbformat_minor": 1
}
